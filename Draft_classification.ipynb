{
 "cells": [
  {
   "cell_type": "code",
   "execution_count": 1,
   "metadata": {},
   "outputs": [],
   "source": [
    "import pandas as pd\n",
    "import scipy as sc\n",
    "import time\n",
    "import numpy as np\n",
    "import matplotlib.pyplot as plt\n",
    "from sklearn.model_selection import train_test_split\n",
    "from sklearn.linear_model import LogisticRegression"
   ]
  },
  {
   "cell_type": "code",
   "execution_count": 2,
   "metadata": {},
   "outputs": [],
   "source": [
    "data_cleaned = pd.read_csv(\"data/data_cleaned.csv\")\n",
    "label = data_cleaned[\"Categorie1\"].values"
   ]
  },
  {
   "cell_type": "code",
   "execution_count": 3,
   "metadata": {},
   "outputs": [
    {
     "data": {
      "text/html": [
       "<div>\n",
       "<style scoped>\n",
       "    .dataframe tbody tr th:only-of-type {\n",
       "        vertical-align: middle;\n",
       "    }\n",
       "\n",
       "    .dataframe tbody tr th {\n",
       "        vertical-align: top;\n",
       "    }\n",
       "\n",
       "    .dataframe thead th {\n",
       "        text-align: right;\n",
       "    }\n",
       "</style>\n",
       "<table border=\"1\" class=\"dataframe\">\n",
       "  <thead>\n",
       "    <tr style=\"text-align: right;\">\n",
       "      <th></th>\n",
       "      <th>Categorie1</th>\n",
       "      <th>Description</th>\n",
       "    </tr>\n",
       "  </thead>\n",
       "  <tbody>\n",
       "    <tr>\n",
       "      <th>0</th>\n",
       "      <td>INFORMATIQUE</td>\n",
       "      <td>batter acer aspir one ion mah noir compatibl b...</td>\n",
       "    </tr>\n",
       "    <tr>\n",
       "      <th>1</th>\n",
       "      <td>TELEPHONIE - GPS</td>\n",
       "      <td>coqu rigid bleu lagon alcatel motif drapeau li...</td>\n",
       "    </tr>\n",
       "    <tr>\n",
       "      <th>2</th>\n",
       "      <td>TELEPHONIE - GPS</td>\n",
       "      <td>facad coqu cellular lin shckgal minip marqu ag...</td>\n",
       "    </tr>\n",
       "    <tr>\n",
       "      <th>3</th>\n",
       "      <td>TELEPHONIE - GPS</td>\n",
       "      <td>coqu meteor tpu nexus</td>\n",
       "    </tr>\n",
       "    <tr>\n",
       "      <th>4</th>\n",
       "      <td>TELEPHONIE - GPS</td>\n",
       "      <td>coqu soupl transparent flex motif keep calm an...</td>\n",
       "    </tr>\n",
       "  </tbody>\n",
       "</table>\n",
       "</div>"
      ],
      "text/plain": [
       "         Categorie1                                        Description\n",
       "0      INFORMATIQUE  batter acer aspir one ion mah noir compatibl b...\n",
       "1  TELEPHONIE - GPS  coqu rigid bleu lagon alcatel motif drapeau li...\n",
       "2  TELEPHONIE - GPS  facad coqu cellular lin shckgal minip marqu ag...\n",
       "3  TELEPHONIE - GPS                             coqu meteor tpu nexus \n",
       "4  TELEPHONIE - GPS  coqu soupl transparent flex motif keep calm an..."
      ]
     },
     "execution_count": 3,
     "metadata": {},
     "output_type": "execute_result"
    }
   ],
   "source": [
    "data_cleaned.head()"
   ]
  },
  {
   "cell_type": "code",
   "execution_count": 4,
   "metadata": {},
   "outputs": [],
   "source": [
    "features = sc.sparse.load_npz(\"data/feature_sparse.npz\")"
   ]
  },
  {
   "cell_type": "code",
   "execution_count": 5,
   "metadata": {},
   "outputs": [
    {
     "data": {
      "text/plain": [
       "array([  314,  3258,  4798, 11521, 27233, 32322, 37207, 38199],\n",
       "      dtype=int32)"
      ]
     },
     "execution_count": 5,
     "metadata": {},
     "output_type": "execute_result"
    }
   ],
   "source": [
    "features.getrow(0).indices"
   ]
  },
  {
   "cell_type": "markdown",
   "metadata": {},
   "source": [
    "\n",
    "## Train test split "
   ]
  },
  {
   "cell_type": "code",
   "execution_count": 6,
   "metadata": {},
   "outputs": [],
   "source": [
    "# X:descriptions, Y:categories\n",
    "X_train, X_test, y_train, y_test = train_test_split(features, label, test_size=0.1, random_state=42)"
   ]
  },
  {
   "cell_type": "code",
   "execution_count": 7,
   "metadata": {},
   "outputs": [
    {
     "data": {
      "text/plain": [
       "<90000x57925 sparse matrix of type '<class 'numpy.int64'>'\n",
       "\twith 955069 stored elements in Compressed Sparse Row format>"
      ]
     },
     "execution_count": 7,
     "metadata": {},
     "output_type": "execute_result"
    }
   ],
   "source": [
    "X_train"
   ]
  },
  {
   "cell_type": "code",
   "execution_count": 8,
   "metadata": {},
   "outputs": [
    {
     "data": {
      "text/plain": [
       "<10000x57925 sparse matrix of type '<class 'numpy.int64'>'\n",
       "\twith 106031 stored elements in Compressed Sparse Row format>"
      ]
     },
     "execution_count": 8,
     "metadata": {},
     "output_type": "execute_result"
    }
   ],
   "source": [
    "X_test"
   ]
  },
  {
   "cell_type": "code",
   "execution_count": 9,
   "metadata": {},
   "outputs": [
    {
     "data": {
      "text/plain": [
       "array(['BIJOUX -  LUNETTES - MONTRES', 'MEUBLE ', 'ELECTROMENAGER', ...,\n",
       "       'INFORMATIQUE', 'TELEPHONIE - GPS', 'INFORMATIQUE'], dtype=object)"
      ]
     },
     "execution_count": 9,
     "metadata": {},
     "output_type": "execute_result"
    }
   ],
   "source": [
    "y_train"
   ]
  },
  {
   "cell_type": "code",
   "execution_count": 10,
   "metadata": {},
   "outputs": [
    {
     "data": {
      "text/plain": [
       "array(['JOUET (NEW)', 'TELEPHONIE - GPS', 'TELEPHONIE - GPS', ...,\n",
       "       'TV - VIDEO - SON', 'ADULTE - EROTIQUE ', 'TELEPHONIE - GPS'],\n",
       "      dtype=object)"
      ]
     },
     "execution_count": 10,
     "metadata": {},
     "output_type": "execute_result"
    }
   ],
   "source": [
    "y_test"
   ]
  },
  {
   "cell_type": "markdown",
   "metadata": {},
   "source": [
    "## Regression Logistique"
   ]
  },
  {
   "cell_type": "code",
   "execution_count": 46,
   "metadata": {},
   "outputs": [],
   "source": [
    "lr = LogisticRegression()"
   ]
  },
  {
   "cell_type": "code",
   "execution_count": 47,
   "metadata": {},
   "outputs": [
    {
     "name": "stdout",
     "output_type": "stream",
     "text": [
      "50.36349892616272\n"
     ]
    },
    {
     "name": "stderr",
     "output_type": "stream",
     "text": [
      "/Users/cecile/opt/anaconda3/envs/Projet4A/lib/python3.8/site-packages/sklearn/linear_model/_logistic.py:938: ConvergenceWarning: lbfgs failed to converge (status=1):\n",
      "STOP: TOTAL NO. of ITERATIONS REACHED LIMIT.\n",
      "\n",
      "Increase the number of iterations (max_iter) or scale the data as shown in:\n",
      "    https://scikit-learn.org/stable/modules/preprocessing.html\n",
      "Please also refer to the documentation for alternative solver options:\n",
      "    https://scikit-learn.org/stable/modules/linear_model.html#logistic-regression\n",
      "  n_iter_i = _check_optimize_result(\n"
     ]
    }
   ],
   "source": [
    "ts = time.time()\n",
    "lr.fit(X_train, y_train)\n",
    "te = time.time()\n",
    "print(te-ts)"
   ]
  },
  {
   "cell_type": "code",
   "execution_count": 48,
   "metadata": {},
   "outputs": [
    {
     "data": {
      "text/plain": [
       "0.9879555555555556"
      ]
     },
     "execution_count": 48,
     "metadata": {},
     "output_type": "execute_result"
    }
   ],
   "source": [
    "Y_train_predict = lr.predict(X_train)\n",
    "lr.score(X_train,y_train)"
   ]
  },
  {
   "cell_type": "markdown",
   "metadata": {},
   "source": [
    "# Explications"
   ]
  },
  {
   "cell_type": "markdown",
   "metadata": {},
   "source": [
    "Y_train predict contient les prédictions description par description\n",
    "ici on voit les prédictions des 3 premiers fichiers."
   ]
  },
  {
   "cell_type": "code",
   "execution_count": 14,
   "metadata": {},
   "outputs": [
    {
     "data": {
      "text/plain": [
       "array(['BIJOUX -  LUNETTES - MONTRES', 'MEUBLE ', 'ELECTROMENAGER'],\n",
       "      dtype=object)"
      ]
     },
     "execution_count": 14,
     "metadata": {},
     "output_type": "execute_result"
    }
   ],
   "source": [
    "Y_train_predict[:3]"
   ]
  },
  {
   "cell_type": "markdown",
   "metadata": {},
   "source": [
    "Vous pouvez retrouver le score a partir de cette prédiction en faisant:\n",
    "Nombre de descriptions dont la prédiction est juste/Nombre de descriptions total.\n",
    "\n",
    "Vous voyez que le score est identique à celui calculé par lr.score (qui fait la même chose)."
   ]
  },
  {
   "cell_type": "code",
   "execution_count": 15,
   "metadata": {},
   "outputs": [
    {
     "name": "stdout",
     "output_type": "stream",
     "text": [
      "0.9869777777777777\n"
     ]
    }
   ],
   "source": [
    "nb_good_prediction = sum(Y_train_predict == y_train)\n",
    "n_total = len(y_train)\n",
    "score = nb_good_prediction/n_total\n",
    "print(score)"
   ]
  },
  {
   "cell_type": "markdown",
   "metadata": {},
   "source": [
    "Vous pouvez maintenant faire la même chose mais par catégorie seulement. \n",
    "Pour cela on se ramène a une prédiction de une catégorie par exemple pour cette catégorie:"
   ]
  },
  {
   "cell_type": "code",
   "execution_count": 16,
   "metadata": {},
   "outputs": [],
   "source": [
    "#Liste de catégorie unique\n",
    "unique_catégorie = list(set(y_train))"
   ]
  },
  {
   "cell_type": "code",
   "execution_count": 17,
   "metadata": {},
   "outputs": [
    {
     "name": "stdout",
     "output_type": "stream",
     "text": [
      "0.9994222222222222\n"
     ]
    }
   ],
   "source": [
    "cat_name = 'JARDIN - PISCINE'\n",
    "Y_train_predict_cat = Y_train_predict==cat_name #P\n",
    "y_train_cat = y_train==cat_name\n",
    "\n",
    "nb_good_prediction = sum(Y_train_predict_cat == y_train_cat)\n",
    "n_total = len(y_train_cat)\n",
    "score = nb_good_prediction/n_total\n",
    "print(score)"
   ]
  },
  {
   "cell_type": "markdown",
   "metadata": {},
   "source": [
    "Le score (accuracy) est très bon mais il est trompeur. Car finalement nous avons beaucoup d'éléments qui ne sont PAS de cette catégorie. \n",
    "Il faut donc regarder un peu plus en détails d'autre score à partir de la table des éléments croisé.s\n",
    "\n",
    "Vous pouvez voir qu'il y a énormément de VRAI NEGATIF (element prédit faux qui sont effectivement faux) c'est ce qui permet d'avoir un bon score."
   ]
  },
  {
   "cell_type": "code",
   "execution_count": 18,
   "metadata": {},
   "outputs": [],
   "source": [
    "A=pd.crosstab(y_train_cat, Y_train_predict_cat, rownames=[\"Ground True\"], colnames=[\"Prediction\"])"
   ]
  },
  {
   "cell_type": "markdown",
   "metadata": {},
   "source": [
    "Pour avoir une meilleur idée on peut combiner ces quatres score:\n",
    "* TRUE NEGATIVE : élément faux prédit faux / tout les élement faux\n",
    "* TRUE POSITIVE : élément vrai prédit vrai / tout les élement vrai\n",
    "* FALSE NEGATIVE : élément vrai prédit faux / tout les élement vrai\n",
    "* FALSE POSITIVE :  élément faux prédit vrai/ tout les élement faux\n",
    "\n",
    "(https://en.wikipedia.org/wiki/F1_score#diagnostic_testing (Partie diagnostic testing)\n",
    "\n",
    "Le code en bas permet de les calculer (je vous laisse regarder ça)"
   ]
  },
  {
   "cell_type": "code",
   "execution_count": 19,
   "metadata": {},
   "outputs": [
    {
     "data": {
      "text/html": [
       "<div>\n",
       "<style scoped>\n",
       "    .dataframe tbody tr th:only-of-type {\n",
       "        vertical-align: middle;\n",
       "    }\n",
       "\n",
       "    .dataframe tbody tr th {\n",
       "        vertical-align: top;\n",
       "    }\n",
       "\n",
       "    .dataframe thead th {\n",
       "        text-align: right;\n",
       "    }\n",
       "</style>\n",
       "<table border=\"1\" class=\"dataframe\">\n",
       "  <thead>\n",
       "    <tr style=\"text-align: right;\">\n",
       "      <th>Prediction</th>\n",
       "      <th>False</th>\n",
       "      <th>True</th>\n",
       "    </tr>\n",
       "    <tr>\n",
       "      <th>Ground True</th>\n",
       "      <th></th>\n",
       "      <th></th>\n",
       "    </tr>\n",
       "  </thead>\n",
       "  <tbody>\n",
       "    <tr>\n",
       "      <th>False</th>\n",
       "      <td>88771</td>\n",
       "      <td>6</td>\n",
       "    </tr>\n",
       "    <tr>\n",
       "      <th>True</th>\n",
       "      <td>46</td>\n",
       "      <td>1177</td>\n",
       "    </tr>\n",
       "  </tbody>\n",
       "</table>\n",
       "</div>"
      ],
      "text/plain": [
       "Prediction   False  True \n",
       "Ground True              \n",
       "False        88771      6\n",
       "True            46   1177"
      ]
     },
     "execution_count": 19,
     "metadata": {},
     "output_type": "execute_result"
    }
   ],
   "source": [
    "A"
   ]
  },
  {
   "cell_type": "code",
   "execution_count": 20,
   "metadata": {},
   "outputs": [
    {
     "data": {
      "text/html": [
       "<div>\n",
       "<style scoped>\n",
       "    .dataframe tbody tr th:only-of-type {\n",
       "        vertical-align: middle;\n",
       "    }\n",
       "\n",
       "    .dataframe tbody tr th {\n",
       "        vertical-align: top;\n",
       "    }\n",
       "\n",
       "    .dataframe thead th {\n",
       "        text-align: right;\n",
       "    }\n",
       "</style>\n",
       "<table border=\"1\" class=\"dataframe\">\n",
       "  <thead>\n",
       "    <tr style=\"text-align: right;\">\n",
       "      <th>Prediction</th>\n",
       "      <th>False</th>\n",
       "      <th>True</th>\n",
       "    </tr>\n",
       "    <tr>\n",
       "      <th>Ground True</th>\n",
       "      <th></th>\n",
       "      <th></th>\n",
       "    </tr>\n",
       "  </thead>\n",
       "  <tbody>\n",
       "    <tr>\n",
       "      <th>False</th>\n",
       "      <td>99.993241</td>\n",
       "      <td>0.006759</td>\n",
       "    </tr>\n",
       "    <tr>\n",
       "      <th>True</th>\n",
       "      <td>3.761243</td>\n",
       "      <td>96.238757</td>\n",
       "    </tr>\n",
       "  </tbody>\n",
       "</table>\n",
       "</div>"
      ],
      "text/plain": [
       "Prediction       False      True \n",
       "Ground True                      \n",
       "False        99.993241   0.006759\n",
       "True          3.761243  96.238757"
      ]
     },
     "execution_count": 20,
     "metadata": {},
     "output_type": "execute_result"
    }
   ],
   "source": [
    "A.divide(A.sum(axis=1),axis=0)*100"
   ]
  },
  {
   "cell_type": "code",
   "execution_count": 21,
   "metadata": {},
   "outputs": [
    {
     "data": {
      "text/plain": [
       "Ground True\n",
       "False    88777\n",
       "True      1223\n",
       "dtype: int64"
      ]
     },
     "execution_count": 21,
     "metadata": {},
     "output_type": "execute_result"
    }
   ],
   "source": [
    "A.sum(axis=1)"
   ]
  },
  {
   "cell_type": "code",
   "execution_count": 22,
   "metadata": {},
   "outputs": [
    {
     "name": "stdout",
     "output_type": "stream",
     "text": [
      "Taux de classification :  0.9994222222222222\n",
      "Taux de classification :  0.9994222222222222\n"
     ]
    }
   ],
   "source": [
    "print('Taux de classification : ', (88771+1177)/(88771+1177+6+46)) \n",
    "print('Taux de classification : ', sum(np.diag(A))/sum(A.sum()))\n",
    "#idem que score"
   ]
  },
  {
   "cell_type": "markdown",
   "metadata": {},
   "source": [
    "### Comment :\n",
    "\n",
    "* On se rend compte que l'algo a un taux de classification à 99,94%. \n",
    "* Lorsqu'il s'agit de dire que l'élément n'appartient pas à la catégorie Jardin-Piscine, l'algo a 99,99% de chance de ne pas se tromper.\n",
    "* En revanche, l'algo a 3.76% de chance de dire que la description n'appartient pas à la catégorie Jardin-Piscine alors que si elle était dans cette catégorie."
   ]
  },
  {
   "cell_type": "markdown",
   "metadata": {},
   "source": [
    "## Score par catégorie"
   ]
  },
  {
   "cell_type": "code",
   "execution_count": 23,
   "metadata": {},
   "outputs": [
    {
     "name": "stdout",
     "output_type": "stream",
     "text": [
      "TATOUAGE - PIERCING      135 data\n",
      "Score :  1.0 \n",
      "\n",
      "Prediction   False  True \n",
      "Ground True              \n",
      "False        100.0    0.0\n",
      "True           0.0  100.0 \n",
      " \n",
      " \n",
      "\n",
      "SPORT (NEW)      2302 data\n",
      "Score :  0.9991111111111111 \n",
      "\n",
      "Prediction       False      True \n",
      "Ground True                      \n",
      "False        99.979475   0.020525\n",
      "True          2.693310  97.306690 \n",
      " \n",
      " \n",
      "\n",
      "TV - VIDEO - SON      854 data\n",
      "Score :  0.9989888888888889 \n",
      "\n",
      "Prediction       False      True \n",
      "Ground True                      \n",
      "False        99.974200   0.025800\n",
      "True          7.962529  92.037471 \n",
      " \n",
      " \n",
      "\n",
      "INSTRUMENTS DE MUSIQUE      331 data\n",
      "Score :  0.9999 \n",
      "\n",
      "Prediction        False      True \n",
      "Ground True                       \n",
      "False        100.000000   0.000000\n",
      "True           2.719033  97.280967 \n",
      " \n",
      " \n",
      "\n",
      "AUTO - MOTO (NEW)      4282 data\n",
      "Score :  0.9992666666666666 \n",
      "\n",
      "Prediction       False      True \n",
      "Ground True                      \n",
      "False        99.981334   0.018666\n",
      "True          1.167679  98.832321 \n",
      " \n",
      " \n",
      "\n",
      "BATEAU MOTEUR - VOILIER      59 data\n",
      "Score :  1.0 \n",
      "\n",
      "Prediction   False  True \n",
      "Ground True              \n",
      "False        100.0    0.0\n",
      "True           0.0  100.0 \n",
      " \n",
      " \n",
      "\n",
      "LOISIRS CREATIFS - BEAUX ARTS - PAPETERIE      862 data\n",
      "Score :  0.9996333333333334 \n",
      "\n",
      "Prediction       False      True \n",
      "Ground True                      \n",
      "False        99.994391   0.005609\n",
      "True          3.248260  96.751740 \n",
      " \n",
      " \n",
      "\n",
      "HYGIENE - BEAUTE - PARFUM      1221 data\n",
      "Score :  0.9997111111111111 \n",
      "\n",
      "Prediction       False      True \n",
      "Ground True                      \n",
      "False        99.994368   0.005632\n",
      "True          1.719902  98.280098 \n",
      " \n",
      " \n",
      "\n",
      "ART DE LA TABLE - ARTICLES CULINAIRES      1004 data\n",
      "Score :  0.9996777777777778 \n",
      "\n",
      "Prediction       False      True \n",
      "Ground True                      \n",
      "False        99.992134   0.007866\n",
      "True          2.191235  97.808765 \n",
      " \n",
      " \n",
      "\n",
      "PARAPHARMACIE      257 data\n",
      "Score :  0.9999444444444444 \n",
      "\n",
      "Prediction        False      True \n",
      "Ground True                       \n",
      "False        100.000000   0.000000\n",
      "True           1.945525  98.054475 \n",
      " \n",
      " \n",
      "\n",
      "LITERIE      370 data\n",
      "Score :  0.9999222222222223 \n",
      "\n",
      "Prediction       False      True \n",
      "Ground True                      \n",
      "False        99.998884   0.001116\n",
      "True          1.621622  98.378378 \n",
      " \n",
      " \n",
      "\n",
      "TENUE PROFESSIONNELLE      21 data\n",
      "Score :  0.9999888888888889 \n",
      "\n",
      "Prediction        False      True \n",
      "Ground True                       \n",
      "False        100.000000   0.000000\n",
      "True           4.761905  95.238095 \n",
      " \n",
      " \n",
      "\n",
      "JARDIN - PISCINE      1223 data\n",
      "Score :  0.9994222222222222 \n",
      "\n",
      "Prediction       False      True \n",
      "Ground True                      \n",
      "False        99.993241   0.006759\n",
      "True          3.761243  96.238757 \n",
      " \n",
      " \n",
      "\n",
      "DECO - LINGE - LUMINAIRE      5272 data\n",
      "Score :  0.9985222222222222 \n",
      "\n",
      "Prediction       False      True \n",
      "Ground True                      \n",
      "False        99.956331   0.043669\n",
      "True          1.820941  98.179059 \n",
      " \n",
      " \n",
      "\n",
      "MATERIEL DE BUREAU      77 data\n",
      "Score :  0.9999888888888889 \n",
      "\n",
      "Prediction        False      True \n",
      "Ground True                       \n",
      "False        100.000000   0.000000\n",
      "True           1.298701  98.701299 \n",
      " \n",
      " \n",
      "\n",
      "ARTICLES POUR FUMEUR      351 data\n",
      "Score :  0.9999333333333333 \n",
      "\n",
      "Prediction        False      True \n",
      "Ground True                       \n",
      "False        100.000000   0.000000\n",
      "True           1.709402  98.290598 \n",
      " \n",
      " \n",
      "\n",
      "VIN - ALCOOL - LIQUIDES      180 data\n",
      "Score :  0.9999666666666667 \n",
      "\n",
      "Prediction        False      True \n",
      "Ground True                       \n",
      "False        100.000000   0.000000\n",
      "True           1.666667  98.333333 \n",
      " \n",
      " \n",
      "\n",
      "ANIMALERIE - NEW      562 data\n",
      "Score :  0.9995555555555555 \n",
      "\n",
      "Prediction       False      True \n",
      "Ground True                      \n",
      "False        99.993291   0.006709\n",
      "True          6.049822  93.950178 \n",
      " \n",
      " \n",
      "\n",
      "CONDITIONNEMENT      23 data\n",
      "Score :  1.0 \n",
      "\n",
      "Prediction   False  True \n",
      "Ground True              \n",
      "False        100.0    0.0\n",
      "True           0.0  100.0 \n",
      " \n",
      " \n",
      "\n",
      "LIBRAIRIE      10897 data\n",
      "Score :  0.9947333333333334 \n",
      "\n",
      "Prediction       False       True \n",
      "Ground True                       \n",
      "False        99.400781    0.599219\n",
      "True          0.000000  100.000000 \n",
      " \n",
      " \n",
      "\n",
      "CHAUSSURES - ACCESSOIRES      1247 data\n",
      "Score :  0.9998888888888889 \n",
      "\n",
      "Prediction       False      True \n",
      "Ground True                      \n",
      "False        99.996620   0.003380\n",
      "True          0.561347  99.438653 \n",
      " \n",
      " \n",
      "\n",
      "JOUET (NEW)      1826 data\n",
      "Score :  0.9992333333333333 \n",
      "\n",
      "Prediction       False      True \n",
      "Ground True                      \n",
      "False        99.982988   0.017012\n",
      "True          2.957284  97.042716 \n",
      " \n",
      " \n",
      "\n",
      "MANUTENTION      10 data\n",
      "Score :  1.0 \n",
      "\n",
      "Prediction   False  True \n",
      "Ground True              \n",
      "False        100.0    0.0\n",
      "True           0.0  100.0 \n",
      " \n",
      " \n",
      "\n",
      "MEUBLE       1234 data\n",
      "Score :  0.9998666666666667 \n",
      "\n",
      "Prediction       False      True \n",
      "Ground True                      \n",
      "False        99.994367   0.005633\n",
      "True          0.567261  99.432739 \n",
      " \n",
      " \n",
      "\n",
      "ARME DE COMBAT - ARME DE SPORT      71 data\n",
      "Score :  0.9999444444444444 \n",
      "\n",
      "Prediction        False      True \n",
      "Ground True                       \n",
      "False        100.000000   0.000000\n",
      "True           7.042254  92.957746 \n",
      " \n",
      " \n",
      "\n",
      "BRICOLAGE - OUTILLAGE - QUINCAILLERIE      2850 data\n",
      "Score :  0.9986666666666667 \n",
      "\n",
      "Prediction       False      True \n",
      "Ground True                      \n",
      "False        99.932301   0.067699\n",
      "True          2.140351  97.859649 \n",
      " \n",
      " \n",
      "\n",
      "MATERIEL MEDICAL      36 data\n",
      "Score :  0.9999666666666667 \n",
      "\n",
      "Prediction        False      True \n",
      "Ground True                       \n",
      "False        100.000000   0.000000\n",
      "True           8.333333  91.666667 \n",
      " \n",
      " \n",
      "\n",
      "PHOTO - OPTIQUE      1408 data\n",
      "Score :  0.9991333333333333 \n",
      "\n",
      "Prediction       False      True \n",
      "Ground True                      \n",
      "False        99.969523   0.030477\n",
      "True          3.622159  96.377841 \n",
      " \n",
      " \n",
      "\n",
      "ADULTE - EROTIQUE       798 data\n",
      "Score :  0.9993444444444445 \n",
      "\n",
      "Prediction       False      True \n",
      "Ground True                      \n",
      "False        99.987668   0.012332\n",
      "True          6.015038  93.984962 \n",
      " \n",
      " \n",
      "\n",
      "SONO - DJ      144 data\n",
      "Score :  0.9999444444444444 \n",
      "\n",
      "Prediction        False      True \n",
      "Ground True                       \n",
      "False        100.000000   0.000000\n",
      "True           3.472222  96.527778 \n",
      " \n",
      " \n",
      "\n",
      "DROGUERIE (NEW)      152 data\n",
      "Score :  0.9999555555555556 \n",
      "\n",
      "Prediction        False      True \n",
      "Ground True                       \n",
      "False        100.000000   0.000000\n",
      "True           2.631579  97.368421 \n",
      " \n",
      " \n",
      "\n",
      "EPICERIE      235 data\n",
      "Score :  0.9999111111111111 \n",
      "\n",
      "Prediction       False      True \n",
      "Ground True                      \n",
      "False        99.998886   0.001114\n",
      "True          2.978723  97.021277 \n",
      " \n",
      " \n",
      "\n",
      "VETEMENTS - LINGERIE       5399 data\n",
      "Score :  0.9989666666666667 \n",
      "\n",
      "Prediction       False      True \n",
      "Ground True                      \n",
      "False        99.936171   0.063829\n",
      "True          0.722356  99.277644 \n",
      " \n",
      " \n",
      "\n",
      "POINT DE VENTE - COMMERCE - ADMINISTRATION      164 data\n",
      "Score :  0.9996333333333334 \n",
      "\n",
      "Prediction       False      True \n",
      "Ground True                      \n",
      "False        99.984416   0.015584\n",
      "True         11.585366  88.414634 \n",
      " \n",
      " \n",
      "\n",
      "PUERICULTURE      490 data\n",
      "Score :  0.9999 \n",
      "\n",
      "Prediction       False      True \n",
      "Ground True                      \n",
      "False        99.997766   0.002234\n",
      "True          1.428571  98.571429 \n",
      " \n",
      " \n",
      "\n",
      "MERCERIE      289 data\n",
      "Score :  0.9998888888888889 \n",
      "\n",
      "Prediction       False      True \n",
      "Ground True                      \n",
      "False        99.997771   0.002229\n",
      "True          2.768166  97.231834 \n",
      " \n",
      " \n",
      "\n",
      "BAGAGERIE      1732 data\n",
      "Score :  0.9997888888888888 \n",
      "\n",
      "Prediction       False      True \n",
      "Ground True                      \n",
      "False        99.989804   0.010196\n",
      "True          0.577367  99.422633 \n",
      " \n",
      " \n",
      "\n",
      "TELEPHONIE - GPS      19173 data\n",
      "Score :  0.9967333333333334 \n",
      "\n",
      "Prediction       False      True \n",
      "Ground True                      \n",
      "False        99.717622   0.282378\n",
      "True          0.490273  99.509727 \n",
      " \n",
      " \n",
      "\n",
      "CULTURE / JEUX      1647 data\n",
      "Score :  0.9988111111111111 \n",
      "\n",
      "Prediction       False      True \n",
      "Ground True                      \n",
      "False        99.990945   0.009055\n",
      "True          6.010929  93.989071 \n",
      " \n",
      " \n",
      "\n",
      "INFORMATIQUE      13184 data\n",
      "Score :  0.9967222222222222 \n",
      "\n",
      "Prediction       False      True \n",
      "Ground True                      \n",
      "False        99.822954   0.177046\n",
      "True          1.206007  98.793993 \n",
      " \n",
      " \n",
      "\n",
      "PRODUITS FRAIS      4 data\n",
      "Score :  0.9999888888888889 \n",
      "\n",
      "Prediction   False  True \n",
      "Ground True              \n",
      "False        100.0    0.0\n",
      "True          25.0   75.0 \n",
      " \n",
      " \n",
      "\n"
     ]
    },
    {
     "name": "stdout",
     "output_type": "stream",
     "text": [
      "ELECTROMENAGER      1919 data\n",
      "Score :  0.9997333333333334 \n",
      "\n",
      "Prediction       False      True \n",
      "Ground True                      \n",
      "False        99.989782   0.010218\n",
      "True          0.781657  99.218343 \n",
      " \n",
      " \n",
      "\n",
      "BIJOUX -  LUNETTES - MONTRES      5414 data\n",
      "Score :  0.9996888888888888 \n",
      "\n",
      "Prediction       False      True \n",
      "Ground True                      \n",
      "False        99.977538   0.022462\n",
      "True          0.166236  99.833764 \n",
      " \n",
      " \n",
      "\n",
      "ELECTRONIQUE      291 data\n",
      "Score :  0.9999777777777777 \n",
      "\n",
      "Prediction        False      True \n",
      "Ground True                       \n",
      "False        100.000000   0.000000\n",
      "True           0.687285  99.312715 \n",
      " \n",
      " \n",
      "\n"
     ]
    }
   ],
   "source": [
    "cat = list(set(y_train)) #recup toutes les categories\n",
    "\n",
    "for i in cat :\n",
    "    cat_name = str(i)\n",
    "    Y_train_predict_cat = Y_train_predict==cat_name\n",
    "    y_train_cat = y_train==cat_name\n",
    "    nb_good_prediction = sum(Y_train_predict_cat == y_train_cat)\n",
    "    n_data = 0\n",
    "    for k in y_train_cat:\n",
    "        if k== True:\n",
    "            n_data +=1\n",
    "    n_total = len(y_train_cat)\n",
    "    score = nb_good_prediction/n_total\n",
    "    print(cat_name, \"    \", n_data, \"data\") \n",
    "    print(\"Score : \", score, \"\\n\") \n",
    "    A=pd.crosstab(y_train_cat, Y_train_predict_cat, rownames=[\"Ground True\"], colnames=[\"Prediction\"])\n",
    "    print(A.divide(A.sum(axis=1),axis=0)*100, \"\\n \\n \\n\")"
   ]
  },
  {
   "cell_type": "markdown",
   "metadata": {},
   "source": [
    "### Comment :\n",
    "\n",
    "* On se rend compte que le taux de classification pour chaque catégorie est très très élevé, > 99,5%.\n",
    "* Cependant il ne reflète pas vraiment l'efficacité de l'algo :\n",
    "\n",
    "Il arrive que le taux de Vrai positif soit inférieur à 95%. Ce qui veut dire que le taux de Faux négatif (des vrai qui ont été classé comme Faux) est supérieur à 5%. Ce n'est donc pas du tout représentatif du score !\n",
    "* En revanche, le taux de Faux positif (Faux classé dans Faux) est toujours très très bon. Ce qui signifie que l'algo est très performant pour dire que tel élément n'appartient PAS à la catégorie en question. \n",
    "\n",
    "* +l'indicateur True/True est élevé, + la précision de l'algo est bonne\n",
    "* +l'indicateur False/True est bas, + la performance de l'algo est bonne (car il est capable de ne pas oublier des éléments vrais)\n",
    "\n",
    "\n",
    "__Paul__ : je ne trouve pas de corrélation entre le nb de données et la valeur de True/True ou False/True ... je sais pas si t'arrive à tirer qqlch ? \n",
    "J'ai peut etre idée d'afficher aussi le nb de feature/catégorie et on va peut etre voir que - il y a de feature et + il y a de data d'apprentissage, le True/True est > à 99% et donc le False/True est < à 1% ? (= algo performant + précis) ??? Fin jsp ce que t'en pense ?"
   ]
  },
  {
   "cell_type": "markdown",
   "metadata": {},
   "source": [
    "# Plot"
   ]
  },
  {
   "cell_type": "code",
   "execution_count": 24,
   "metadata": {},
   "outputs": [],
   "source": [
    "TP=[0] #chiffres bruts\n",
    "FN=[0]\n",
    "F=[0] #pourcentages\n",
    "nb_data=[0]\n",
    "\n",
    "for i in cat :\n",
    "    cat_name = str(i)\n",
    "    Y_train_predict_cat = Y_train_predict==cat_name\n",
    "    y_train_cat = y_train==cat_name\n",
    "    n_data = 0\n",
    "    for k in y_train_cat:\n",
    "        if k== True:\n",
    "            n_data +=1\n",
    "    nb_data += [n_data]\n",
    "    A=pd.crosstab(y_train_cat, Y_train_predict_cat, rownames=[\"Ground True\"], colnames=[\"Prediction\"])\n",
    "    AB = A.divide(A.sum(axis=1),axis=0)*100 #table avec pourcentages\n",
    "    TP += [A[1][1]]\n",
    "    FN += [A[0][1]]\n",
    "    F += [AB[0][1]]"
   ]
  },
  {
   "cell_type": "code",
   "execution_count": 25,
   "metadata": {},
   "outputs": [],
   "source": [
    "d = {'data':nb_data, 'True positive':TP, 'False negative':FN}"
   ]
  },
  {
   "cell_type": "code",
   "execution_count": 26,
   "metadata": {},
   "outputs": [
    {
     "data": {
      "text/html": [
       "<div>\n",
       "<style scoped>\n",
       "    .dataframe tbody tr th:only-of-type {\n",
       "        vertical-align: middle;\n",
       "    }\n",
       "\n",
       "    .dataframe tbody tr th {\n",
       "        vertical-align: top;\n",
       "    }\n",
       "\n",
       "    .dataframe thead th {\n",
       "        text-align: right;\n",
       "    }\n",
       "</style>\n",
       "<table border=\"1\" class=\"dataframe\">\n",
       "  <thead>\n",
       "    <tr style=\"text-align: right;\">\n",
       "      <th></th>\n",
       "      <th>0</th>\n",
       "      <th>1</th>\n",
       "      <th>2</th>\n",
       "      <th>3</th>\n",
       "      <th>4</th>\n",
       "      <th>5</th>\n",
       "      <th>6</th>\n",
       "      <th>7</th>\n",
       "      <th>8</th>\n",
       "      <th>9</th>\n",
       "      <th>...</th>\n",
       "      <th>35</th>\n",
       "      <th>36</th>\n",
       "      <th>37</th>\n",
       "      <th>38</th>\n",
       "      <th>39</th>\n",
       "      <th>40</th>\n",
       "      <th>41</th>\n",
       "      <th>42</th>\n",
       "      <th>43</th>\n",
       "      <th>44</th>\n",
       "    </tr>\n",
       "  </thead>\n",
       "  <tbody>\n",
       "    <tr>\n",
       "      <th>data</th>\n",
       "      <td>0</td>\n",
       "      <td>135</td>\n",
       "      <td>2302</td>\n",
       "      <td>854</td>\n",
       "      <td>331</td>\n",
       "      <td>4282</td>\n",
       "      <td>59</td>\n",
       "      <td>862</td>\n",
       "      <td>1221</td>\n",
       "      <td>1004</td>\n",
       "      <td>...</td>\n",
       "      <td>490</td>\n",
       "      <td>289</td>\n",
       "      <td>1732</td>\n",
       "      <td>19173</td>\n",
       "      <td>1647</td>\n",
       "      <td>13184</td>\n",
       "      <td>4</td>\n",
       "      <td>1919</td>\n",
       "      <td>5414</td>\n",
       "      <td>291</td>\n",
       "    </tr>\n",
       "    <tr>\n",
       "      <th>True positive</th>\n",
       "      <td>0</td>\n",
       "      <td>135</td>\n",
       "      <td>2240</td>\n",
       "      <td>786</td>\n",
       "      <td>322</td>\n",
       "      <td>4232</td>\n",
       "      <td>59</td>\n",
       "      <td>834</td>\n",
       "      <td>1200</td>\n",
       "      <td>982</td>\n",
       "      <td>...</td>\n",
       "      <td>483</td>\n",
       "      <td>281</td>\n",
       "      <td>1722</td>\n",
       "      <td>19079</td>\n",
       "      <td>1548</td>\n",
       "      <td>13025</td>\n",
       "      <td>3</td>\n",
       "      <td>1904</td>\n",
       "      <td>5405</td>\n",
       "      <td>289</td>\n",
       "    </tr>\n",
       "    <tr>\n",
       "      <th>False negative</th>\n",
       "      <td>0</td>\n",
       "      <td>0</td>\n",
       "      <td>62</td>\n",
       "      <td>68</td>\n",
       "      <td>9</td>\n",
       "      <td>50</td>\n",
       "      <td>0</td>\n",
       "      <td>28</td>\n",
       "      <td>21</td>\n",
       "      <td>22</td>\n",
       "      <td>...</td>\n",
       "      <td>7</td>\n",
       "      <td>8</td>\n",
       "      <td>10</td>\n",
       "      <td>94</td>\n",
       "      <td>99</td>\n",
       "      <td>159</td>\n",
       "      <td>1</td>\n",
       "      <td>15</td>\n",
       "      <td>9</td>\n",
       "      <td>2</td>\n",
       "    </tr>\n",
       "  </tbody>\n",
       "</table>\n",
       "<p>3 rows × 45 columns</p>\n",
       "</div>"
      ],
      "text/plain": [
       "                0    1     2    3    4     5   6    7     8     9   ...   35  \\\n",
       "data             0  135  2302  854  331  4282  59  862  1221  1004  ...  490   \n",
       "True positive    0  135  2240  786  322  4232  59  834  1200   982  ...  483   \n",
       "False negative   0    0    62   68    9    50   0   28    21    22  ...    7   \n",
       "\n",
       "                 36    37     38    39     40  41    42    43   44  \n",
       "data            289  1732  19173  1647  13184   4  1919  5414  291  \n",
       "True positive   281  1722  19079  1548  13025   3  1904  5405  289  \n",
       "False negative    8    10     94    99    159   1    15     9    2  \n",
       "\n",
       "[3 rows x 45 columns]"
      ]
     },
     "execution_count": 26,
     "metadata": {},
     "output_type": "execute_result"
    }
   ],
   "source": [
    "pd.DataFrame(d).T"
   ]
  },
  {
   "cell_type": "code",
   "execution_count": 62,
   "metadata": {},
   "outputs": [
    {
     "data": {
      "image/png": "[encoded data removed]",
      "text/plain": [
       "<Figure size 1440x360 with 1 Axes>"
      ]
     },
     "metadata": {
      "needs_background": "light"
     },
     "output_type": "display_data"
    }
   ],
   "source": [
    "fig=plt.figure(figsize=(20,5))\n",
    "plt.title(\"Nombre de vrai positif (bien classé) en fonction du nb de données d'apprentissage\")\n",
    "plt.plot(nb_data, TP, 'bo', label=\"True positive\")\n",
    "plt.xlabel('Data')\n",
    "plt.legend()\n",
    "plt.show()"
   ]
  },
  {
   "cell_type": "code",
   "execution_count": 63,
   "metadata": {},
   "outputs": [
    {
     "data": {
      "image/png": "[encoded data removed]",
      "text/plain": [
       "<Figure size 1440x360 with 1 Axes>"
      ]
     },
     "metadata": {
      "needs_background": "light"
     },
     "output_type": "display_data"
    }
   ],
   "source": [
    "fig=plt.figure(figsize=(20,5))\n",
    "plt.title(\"Nombre de faux negatif (vrai oublié) en fonction du nb de données d'apprentissage\")\n",
    "plt.plot(nb_data,FN, \"ro\", label=\"False negative\")\n",
    "plt.xlabel('Data')\n",
    "plt.legend()\n",
    "plt.show()"
   ]
  },
  {
   "cell_type": "code",
   "execution_count": 64,
   "metadata": {},
   "outputs": [
    {
     "data": {
      "image/png": "[encoded data removed]",
      "text/plain": [
       "<Figure size 1440x360 with 1 Axes>"
      ]
     },
     "metadata": {
      "needs_background": "light"
     },
     "output_type": "display_data"
    }
   ],
   "source": [
    "fig=plt.figure(figsize=(20,5))\n",
    "plt.title(\"Pourcentage de faux negatif (vrai oublié) en fonction du nb de données d'apprentissage\")\n",
    "plt.plot(nb_data, F, \"ro\", label=\"False negative\")\n",
    "plt.xlabel('Data')\n",
    "plt.legend()\n",
    "plt.show()"
   ]
  },
  {
   "cell_type": "markdown",
   "metadata": {},
   "source": [
    "__Paul__ :\n",
    "\n",
    "* Garder graphique1 qui explique que le nombre de True/True évolue propotionellement avec le nb de data. Ok mais ça apporte quoi de plus ?\n",
    "* Pour le graph des negative false (pts rouges), eu je sais pas si il vaut mieux celui avec les pourcentages ou celui avec les valeurs brutes ? Puis j'arrive rien à en tirer."
   ]
  },
  {
   "cell_type": "markdown",
   "metadata": {},
   "source": [
    "# Resultats avec mauvais nettoyage"
   ]
  },
  {
   "cell_type": "code",
   "execution_count": 30,
   "metadata": {},
   "outputs": [],
   "source": [
    "bad_data_cleaned = pd.read_csv(\"data/bad_data_cleaned.csv\")\n",
    "label = bad_data_cleaned[\"Categorie1\"].values\n",
    "bad_features = sc.sparse.load_npz(\"data/bad_feature_sparse.npz\")\n",
    "X_train, X_test, y_train, y_test = train_test_split(bad_features, label, test_size=0.1, random_state=42)\n",
    "lr_bad = LogisticRegression()"
   ]
  },
  {
   "cell_type": "code",
   "execution_count": 31,
   "metadata": {},
   "outputs": [
    {
     "name": "stdout",
     "output_type": "stream",
     "text": [
      "48.433146715164185\n"
     ]
    },
    {
     "name": "stderr",
     "output_type": "stream",
     "text": [
      "/Users/cecile/opt/anaconda3/envs/Projet4A/lib/python3.8/site-packages/sklearn/linear_model/_logistic.py:938: ConvergenceWarning: lbfgs failed to converge (status=1):\n",
      "STOP: TOTAL NO. of ITERATIONS REACHED LIMIT.\n",
      "\n",
      "Increase the number of iterations (max_iter) or scale the data as shown in:\n",
      "    https://scikit-learn.org/stable/modules/preprocessing.html\n",
      "Please also refer to the documentation for alternative solver options:\n",
      "    https://scikit-learn.org/stable/modules/linear_model.html#logistic-regression\n",
      "  n_iter_i = _check_optimize_result(\n"
     ]
    }
   ],
   "source": [
    "ts = time.time()\n",
    "lr_bad.fit(X_train, y_train)\n",
    "te = time.time()\n",
    "print(te-ts)"
   ]
  },
  {
   "cell_type": "code",
   "execution_count": 32,
   "metadata": {},
   "outputs": [
    {
     "data": {
      "text/plain": [
       "0.9879555555555556"
      ]
     },
     "execution_count": 32,
     "metadata": {},
     "output_type": "execute_result"
    }
   ],
   "source": [
    "Y_train_predict = lr_bad.predict(X_train)\n",
    "lr_bad.score(X_train,y_train)"
   ]
  },
  {
   "cell_type": "code",
   "execution_count": 65,
   "metadata": {},
   "outputs": [
    {
     "data": {
      "text/plain": [
       "0.9012"
      ]
     },
     "execution_count": 65,
     "metadata": {},
     "output_type": "execute_result"
    }
   ],
   "source": [
    "lr_bad.score(X_test,y_test)"
   ]
  },
  {
   "cell_type": "markdown",
   "metadata": {},
   "source": [
    "# Classification sur les catégories les plus représentatives"
   ]
  },
  {
   "cell_type": "code",
   "execution_count": 55,
   "metadata": {},
   "outputs": [
    {
     "name": "stdout",
     "output_type": "stream",
     "text": [
      "TELEPHONIE - GPS      19173 data\n",
      "Score :  0.9967333333333334 \n",
      "\n",
      "Prediction       False      True \n",
      "Ground True                      \n",
      "False        99.720446   0.279554\n",
      "True          0.500704  99.499296 \n",
      " \n",
      " \n",
      "\n",
      "INFORMATIQUE      13184 data\n",
      "Score :  0.9966444444444444 \n",
      "\n",
      "Prediction       False      True \n",
      "Ground True                      \n",
      "False        99.812539   0.187461\n",
      "True          1.198422  98.801578 \n",
      " \n",
      " \n",
      "\n",
      "LIBRAIRIE      10897 data\n",
      "Score :  0.9959 \n",
      "\n",
      "Prediction       False      True \n",
      "Ground True                      \n",
      "False        99.534784   0.465216\n",
      "True          0.009177  99.990823 \n",
      " \n",
      " \n",
      "\n",
      "ELECTRONIQUE      291 data\n",
      "Score :  0.9999777777777777 \n",
      "\n",
      "Prediction        False      True \n",
      "Ground True                       \n",
      "False        100.000000   0.000000\n",
      "True           0.687285  99.312715 \n",
      " \n",
      " \n",
      "\n"
     ]
    }
   ],
   "source": [
    "categorie = ['TELEPHONIE - GPS', 'INFORMATIQUE', 'LIBRAIRIE', 'ELECTRONIQUE']\n",
    "for i in categorie :\n",
    "    cat_name = str(i)\n",
    "    Y_train_predict_cat = Y_train_predict==cat_name\n",
    "    y_train_cat = y_train==cat_name\n",
    "    nb_good_prediction = sum(Y_train_predict_cat == y_train_cat)\n",
    "    n_data = 0\n",
    "    for k in y_train_cat:\n",
    "        if k== True:\n",
    "            n_data +=1\n",
    "    n_total = len(y_train_cat)\n",
    "    score = nb_good_prediction/n_total\n",
    "    print(cat_name, \"    \", n_data, \"data\") \n",
    "    print(\"Score : \", score, \"\\n\") \n",
    "    A=pd.crosstab(y_train_cat, Y_train_predict_cat, rownames=[\"Ground True\"], colnames=[\"Prediction\"])\n",
    "    print(A.divide(A.sum(axis=1),axis=0)*100, \"\\n \\n \\n\")"
   ]
  },
  {
   "cell_type": "code",
   "execution_count": 56,
   "metadata": {},
   "outputs": [],
   "source": [
    "nb = 10000\n",
    "X_small_train = X_train[0:nb]\n",
    "y_small_train = y_train[0:nb]"
   ]
  },
  {
   "cell_type": "code",
   "execution_count": 57,
   "metadata": {},
   "outputs": [],
   "source": [
    "lr_small = LogisticRegression()"
   ]
  },
  {
   "cell_type": "code",
   "execution_count": 58,
   "metadata": {},
   "outputs": [
    {
     "name": "stdout",
     "output_type": "stream",
     "text": [
      "28.397334098815918\n"
     ]
    },
    {
     "name": "stderr",
     "output_type": "stream",
     "text": [
      "/Users/cecile/opt/anaconda3/envs/Projet4A/lib/python3.8/site-packages/sklearn/linear_model/_logistic.py:938: ConvergenceWarning: lbfgs failed to converge (status=1):\n",
      "STOP: TOTAL NO. of ITERATIONS REACHED LIMIT.\n",
      "\n",
      "Increase the number of iterations (max_iter) or scale the data as shown in:\n",
      "    https://scikit-learn.org/stable/modules/preprocessing.html\n",
      "Please also refer to the documentation for alternative solver options:\n",
      "    https://scikit-learn.org/stable/modules/linear_model.html#logistic-regression\n",
      "  n_iter_i = _check_optimize_result(\n"
     ]
    }
   ],
   "source": [
    "ts = time.time()\n",
    "lr_small.fit(X_small_train, y_small_train)\n",
    "te = time.time()\n",
    "print(te-ts)"
   ]
  },
  {
   "cell_type": "code",
   "execution_count": 59,
   "metadata": {},
   "outputs": [],
   "source": [
    "Y_small_train_predict = lr_small.predict(X_small_train)"
   ]
  },
  {
   "cell_type": "code",
   "execution_count": 60,
   "metadata": {},
   "outputs": [
    {
     "name": "stdout",
     "output_type": "stream",
     "text": [
      "TELEPHONIE - GPS      2149 data\n",
      "Score :  0.9985 \n",
      "\n",
      "Prediction       False      True \n",
      "Ground True                      \n",
      "False        99.936314   0.063686\n",
      "True          0.465333  99.534667 \n",
      " \n",
      " \n",
      "\n",
      "INFORMATIQUE      1446 data\n",
      "Score :  0.9983 \n",
      "\n",
      "Prediction       False      True \n",
      "Ground True                      \n",
      "False        99.859715   0.140285\n",
      "True          0.345781  99.654219 \n",
      " \n",
      " \n",
      "\n",
      "LIBRAIRIE      1232 data\n",
      "Score :  0.9964 \n",
      "\n",
      "Prediction       False       True \n",
      "Ground True                       \n",
      "False        99.589416    0.410584\n",
      "True          0.000000  100.000000 \n",
      " \n",
      " \n",
      "\n",
      "ELECTRONIQUE      32 data\n",
      "Score :  1.0 \n",
      "\n",
      "Prediction   False  True \n",
      "Ground True              \n",
      "False        100.0    0.0\n",
      "True           0.0  100.0 \n",
      " \n",
      " \n",
      "\n"
     ]
    }
   ],
   "source": [
    "for i in categorie :\n",
    "    cat_name = str(i)\n",
    "    Y_train_predict_cat = Y_small_train_predict==cat_name\n",
    "    y_train_cat = y_small_train==cat_name\n",
    "    nb_good_prediction = sum(Y_train_predict_cat == y_train_cat)\n",
    "    n_data = 0\n",
    "    for k in y_train_cat:\n",
    "        if k== True:\n",
    "            n_data +=1\n",
    "    n_total = len(y_train_cat)\n",
    "    score = nb_good_prediction/n_total\n",
    "    print(cat_name, \"    \", n_data, \"data\") \n",
    "    print(\"Score : \", score, \"\\n\") \n",
    "    A=pd.crosstab(y_train_cat, Y_train_predict_cat, rownames=[\"Ground True\"], colnames=[\"Prediction\"])\n",
    "    print(A.divide(A.sum(axis=1),axis=0)*100, \"\\n \\n \\n\")"
   ]
  },
  {
   "cell_type": "markdown",
   "metadata": {},
   "source": [
    "### Comments :\n",
    "\n",
    "Bcp moins de data pour entrainer et résultats meilleurs de classification ?"
   ]
  },
  {
   "cell_type": "markdown",
   "metadata": {},
   "source": [
    "## Reduction de X train"
   ]
  },
  {
   "cell_type": "code",
   "execution_count": 41,
   "metadata": {},
   "outputs": [],
   "source": [
    "nb = 10000\n",
    "X_small_train = X_train[0:nb]\n",
    "y_small_train = y_train[0:nb]"
   ]
  },
  {
   "cell_type": "code",
   "execution_count": 42,
   "metadata": {},
   "outputs": [
    {
     "name": "stdout",
     "output_type": "stream",
     "text": [
      "29.06108593940735\n"
     ]
    },
    {
     "name": "stderr",
     "output_type": "stream",
     "text": [
      "/Users/cecile/opt/anaconda3/envs/Projet4A/lib/python3.8/site-packages/sklearn/linear_model/_logistic.py:938: ConvergenceWarning: lbfgs failed to converge (status=1):\n",
      "STOP: TOTAL NO. of ITERATIONS REACHED LIMIT.\n",
      "\n",
      "Increase the number of iterations (max_iter) or scale the data as shown in:\n",
      "    https://scikit-learn.org/stable/modules/preprocessing.html\n",
      "Please also refer to the documentation for alternative solver options:\n",
      "    https://scikit-learn.org/stable/modules/linear_model.html#logistic-regression\n",
      "  n_iter_i = _check_optimize_result(\n"
     ]
    }
   ],
   "source": [
    "ts = time.time()\n",
    "lr.fit(X_small_train, y_small_train)\n",
    "te = time.time()\n",
    "print(te-ts)"
   ]
  },
  {
   "cell_type": "code",
   "execution_count": 43,
   "metadata": {},
   "outputs": [
    {
     "data": {
      "text/plain": [
       "0.994"
      ]
     },
     "execution_count": 43,
     "metadata": {},
     "output_type": "execute_result"
    }
   ],
   "source": [
    "Y_small_train_predict = lr.predict(X_small_train)\n",
    "lr.score(X_small_train,y_small_train)"
   ]
  },
  {
   "cell_type": "code",
   "execution_count": 44,
   "metadata": {},
   "outputs": [
    {
     "data": {
      "text/plain": [
       "0.8298"
      ]
     },
     "execution_count": 44,
     "metadata": {},
     "output_type": "execute_result"
    }
   ],
   "source": [
    "lr.score(X_test,y_test)"
   ]
  },
  {
   "cell_type": "markdown",
   "metadata": {},
   "source": [
    "#index_gps = lbl_gps.loc[lbl_gps['Categorie1'] == 'TELEPHONIE - GPS'].index\n",
    "#features_gps = features[v,:]\n",
    "#lbl_gps = lbl_gps.reset_index(drop=True)\n",
    "\n",
    "\n",
    "    ### Grosse erreur: on voulait faire la regression logistique par catégorie au lieu d'obtenir le score par categorie"
   ]
  },
  {
   "cell_type": "markdown",
   "metadata": {},
   "source": [
    "## Comments:\n",
    " \n",
    "Observations : plus on réduit le nombre de produit dans X_train plus notre score de classification est bon sur ce même set. A l'inverse le taux de classification se dégrade sur l'ensemble test. Cohérent car il y a moins de données pour l'apprentissage. On obtient un score de 82,89% pour des set d'apprentissage et de test de 10 000 produits.\n",
    "\n",
    " "
   ]
  }
 ],
 "metadata": {
  "kernelspec": {
   "display_name": "Python 3",
   "language": "python",
   "name": "python3"
  },
  "language_info": {
   "codemirror_mode": {
    "name": "ipython",
    "version": 3
   },
   "file_extension": ".py",
   "mimetype": "text/x-python",
   "name": "python",
   "nbconvert_exporter": "python",
   "pygments_lexer": "ipython3",
   "version": "3.8.1"
  }
 },
 "nbformat": 4,
 "nbformat_minor": 4
}
