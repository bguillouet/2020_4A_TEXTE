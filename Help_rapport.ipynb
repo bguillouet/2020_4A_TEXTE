{
 "cells": [
  {
   "cell_type": "code",
   "execution_count": 3,
   "metadata": {},
   "outputs": [],
   "source": [
    "import os\n",
    "import re\n",
    "\n",
    "import pandas as pd\n",
    "import numpy as np\n",
    "import unicodedata\n",
    "import matplotlib.pyplot as plt\n",
    "\n",
    "import collections\n",
    "import wordcloud as wc\n",
    "\n",
    "import nltk\n",
    "\n",
    "from sklearn.feature_extraction.text import CountVectorizer"
   ]
  },
  {
   "cell_type": "markdown",
   "metadata": {},
   "source": [
    "### Dataset initial"
   ]
  },
  {
   "cell_type": "code",
   "execution_count": 4,
   "metadata": {},
   "outputs": [
    {
     "data": {
      "text/html": [
       "<div>\n",
       "<style scoped>\n",
       "    .dataframe tbody tr th:only-of-type {\n",
       "        vertical-align: middle;\n",
       "    }\n",
       "\n",
       "    .dataframe tbody tr th {\n",
       "        vertical-align: top;\n",
       "    }\n",
       "\n",
       "    .dataframe thead th {\n",
       "        text-align: right;\n",
       "    }\n",
       "</style>\n",
       "<table border=\"1\" class=\"dataframe\">\n",
       "  <thead>\n",
       "    <tr style=\"text-align: right;\">\n",
       "      <th></th>\n",
       "      <th>Categorie1</th>\n",
       "      <th>Categorie2</th>\n",
       "      <th>Categorie3</th>\n",
       "      <th>Description</th>\n",
       "      <th>Libelle</th>\n",
       "      <th>Marque</th>\n",
       "    </tr>\n",
       "  </thead>\n",
       "  <tbody>\n",
       "    <tr>\n",
       "      <th>0</th>\n",
       "      <td>INFORMATIQUE</td>\n",
       "      <td>CONNECTIQUE - ALIMENTATION</td>\n",
       "      <td>BATTERIE</td>\n",
       "      <td>Batterie Acer Aspire One 751H-52Yr - Li-Ion 11...</td>\n",
       "      <td>Batterie Acer Aspire One 751H-52Yr</td>\n",
       "      <td>AUCUNE</td>\n",
       "    </tr>\n",
       "    <tr>\n",
       "      <th>1</th>\n",
       "      <td>TELEPHONIE - GPS</td>\n",
       "      <td>ACCESSOIRE TELEPHONE</td>\n",
       "      <td>COQUE - BUMPER - FACADE TELEPHONE</td>\n",
       "      <td>Coque rigide Bleu lagon pour ALCATEL OT / 6033...</td>\n",
       "      <td>Coque rigide Bleu lagon pour ALCATEL OT / 6033 …</td>\n",
       "      <td>MUZZANO</td>\n",
       "    </tr>\n",
       "    <tr>\n",
       "      <th>2</th>\n",
       "      <td>TELEPHONIE - GPS</td>\n",
       "      <td>ACCESSOIRE TELEPHONE</td>\n",
       "      <td>COQUE - BUMPER - FACADE TELEPHONE</td>\n",
       "      <td>Facades et coques CELLULAR LINE SHCKGALS 3 MIN...</td>\n",
       "      <td>Facades et coques CELLULAR LINE SHCKGALS 3 MINIP</td>\n",
       "      <td>CELLULAR LINE</td>\n",
       "    </tr>\n",
       "    <tr>\n",
       "      <th>3</th>\n",
       "      <td>TELEPHONIE - GPS</td>\n",
       "      <td>ACCESSOIRE TELEPHONE</td>\n",
       "      <td>COQUE - BUMPER - FACADE TELEPHONE</td>\n",
       "      <td>Coque meteore TPU  LG Nexus 4 / E960</td>\n",
       "      <td>Coque meteore TPU  LG Nexus 4 / E960</td>\n",
       "      <td>AUCUNE</td>\n",
       "    </tr>\n",
       "    <tr>\n",
       "      <th>4</th>\n",
       "      <td>TELEPHONIE - GPS</td>\n",
       "      <td>ACCESSOIRE TELEPHONE</td>\n",
       "      <td>COQUE - BUMPER - FACADE TELEPHONE</td>\n",
       "      <td>Coque souple Transparente pour LG G FLEX D959 ...</td>\n",
       "      <td>Coque souple Transparente pour LG G FLEX D959 m…</td>\n",
       "      <td>MUZZANO</td>\n",
       "    </tr>\n",
       "  </tbody>\n",
       "</table>\n",
       "</div>"
      ],
      "text/plain": [
       "         Categorie1                  Categorie2  \\\n",
       "0      INFORMATIQUE  CONNECTIQUE - ALIMENTATION   \n",
       "1  TELEPHONIE - GPS        ACCESSOIRE TELEPHONE   \n",
       "2  TELEPHONIE - GPS        ACCESSOIRE TELEPHONE   \n",
       "3  TELEPHONIE - GPS        ACCESSOIRE TELEPHONE   \n",
       "4  TELEPHONIE - GPS        ACCESSOIRE TELEPHONE   \n",
       "\n",
       "                          Categorie3  \\\n",
       "0                           BATTERIE   \n",
       "1  COQUE - BUMPER - FACADE TELEPHONE   \n",
       "2  COQUE - BUMPER - FACADE TELEPHONE   \n",
       "3  COQUE - BUMPER - FACADE TELEPHONE   \n",
       "4  COQUE - BUMPER - FACADE TELEPHONE   \n",
       "\n",
       "                                         Description  \\\n",
       "0  Batterie Acer Aspire One 751H-52Yr - Li-Ion 11...   \n",
       "1  Coque rigide Bleu lagon pour ALCATEL OT / 6033...   \n",
       "2  Facades et coques CELLULAR LINE SHCKGALS 3 MIN...   \n",
       "3               Coque meteore TPU  LG Nexus 4 / E960   \n",
       "4  Coque souple Transparente pour LG G FLEX D959 ...   \n",
       "\n",
       "                                            Libelle         Marque  \n",
       "0                Batterie Acer Aspire One 751H-52Yr         AUCUNE  \n",
       "1  Coque rigide Bleu lagon pour ALCATEL OT / 6033 …        MUZZANO  \n",
       "2  Facades et coques CELLULAR LINE SHCKGALS 3 MINIP  CELLULAR LINE  \n",
       "3              Coque meteore TPU  LG Nexus 4 / E960         AUCUNE  \n",
       "4  Coque souple Transparente pour LG G FLEX D959 m…        MUZZANO  "
      ]
     },
     "execution_count": 4,
     "metadata": {},
     "output_type": "execute_result"
    }
   ],
   "source": [
    "input_path = \"data/cdiscount_train.csv.zip\"\n",
    "nb_line=100000\n",
    "data_all = pd.read_csv(input_path, sep=\",\", nrows=nb_line)\n",
    "data_all = data_all.fillna(\"\") # pour les valeurs nulles\n",
    "data_all.head()"
   ]
  },
  {
   "cell_type": "markdown",
   "metadata": {},
   "source": [
    "## Dataset utilisé"
   ]
  },
  {
   "cell_type": "code",
   "execution_count": 5,
   "metadata": {},
   "outputs": [
    {
     "name": "stdout",
     "output_type": "stream",
     "text": [
      "<class 'pandas.core.frame.DataFrame'>\n",
      "(100000, 2)\n"
     ]
    }
   ],
   "source": [
    "data = data_all[[\"Categorie1\",\"Description\"]]\n",
    "print(type(data))\n",
    "print(data.shape)"
   ]
  },
  {
   "cell_type": "code",
   "execution_count": 6,
   "metadata": {},
   "outputs": [
    {
     "data": {
      "text/html": [
       "<div>\n",
       "<style scoped>\n",
       "    .dataframe tbody tr th:only-of-type {\n",
       "        vertical-align: middle;\n",
       "    }\n",
       "\n",
       "    .dataframe tbody tr th {\n",
       "        vertical-align: top;\n",
       "    }\n",
       "\n",
       "    .dataframe thead th {\n",
       "        text-align: right;\n",
       "    }\n",
       "</style>\n",
       "<table border=\"1\" class=\"dataframe\">\n",
       "  <thead>\n",
       "    <tr style=\"text-align: right;\">\n",
       "      <th></th>\n",
       "      <th>Categorie1</th>\n",
       "      <th>Description</th>\n",
       "    </tr>\n",
       "  </thead>\n",
       "  <tbody>\n",
       "    <tr>\n",
       "      <th>0</th>\n",
       "      <td>INFORMATIQUE</td>\n",
       "      <td>Batterie Acer Aspire One 751H-52Yr - Li-Ion 11...</td>\n",
       "    </tr>\n",
       "    <tr>\n",
       "      <th>1</th>\n",
       "      <td>TELEPHONIE - GPS</td>\n",
       "      <td>Coque rigide Bleu lagon pour ALCATEL OT / 6033...</td>\n",
       "    </tr>\n",
       "    <tr>\n",
       "      <th>2</th>\n",
       "      <td>TELEPHONIE - GPS</td>\n",
       "      <td>Facades et coques CELLULAR LINE SHCKGALS 3 MIN...</td>\n",
       "    </tr>\n",
       "    <tr>\n",
       "      <th>3</th>\n",
       "      <td>TELEPHONIE - GPS</td>\n",
       "      <td>Coque meteore TPU  LG Nexus 4 / E960</td>\n",
       "    </tr>\n",
       "    <tr>\n",
       "      <th>4</th>\n",
       "      <td>TELEPHONIE - GPS</td>\n",
       "      <td>Coque souple Transparente pour LG G FLEX D959 ...</td>\n",
       "    </tr>\n",
       "  </tbody>\n",
       "</table>\n",
       "</div>"
      ],
      "text/plain": [
       "         Categorie1                                        Description\n",
       "0      INFORMATIQUE  Batterie Acer Aspire One 751H-52Yr - Li-Ion 11...\n",
       "1  TELEPHONIE - GPS  Coque rigide Bleu lagon pour ALCATEL OT / 6033...\n",
       "2  TELEPHONIE - GPS  Facades et coques CELLULAR LINE SHCKGALS 3 MIN...\n",
       "3  TELEPHONIE - GPS               Coque meteore TPU  LG Nexus 4 / E960\n",
       "4  TELEPHONIE - GPS  Coque souple Transparente pour LG G FLEX D959 ..."
      ]
     },
     "execution_count": 6,
     "metadata": {},
     "output_type": "execute_result"
    }
   ],
   "source": [
    "data.head()"
   ]
  },
  {
   "cell_type": "markdown",
   "metadata": {},
   "source": [
    "## Stats descriptives"
   ]
  },
  {
   "cell_type": "code",
   "execution_count": 7,
   "metadata": {},
   "outputs": [
    {
     "data": {
      "text/html": [
       "<div>\n",
       "<style scoped>\n",
       "    .dataframe tbody tr th:only-of-type {\n",
       "        vertical-align: middle;\n",
       "    }\n",
       "\n",
       "    .dataframe tbody tr th {\n",
       "        vertical-align: top;\n",
       "    }\n",
       "\n",
       "    .dataframe thead th {\n",
       "        text-align: right;\n",
       "    }\n",
       "</style>\n",
       "<table border=\"1\" class=\"dataframe\">\n",
       "  <thead>\n",
       "    <tr style=\"text-align: right;\">\n",
       "      <th></th>\n",
       "      <th>Categorie1</th>\n",
       "      <th>Description</th>\n",
       "    </tr>\n",
       "  </thead>\n",
       "  <tbody>\n",
       "    <tr>\n",
       "      <th>count</th>\n",
       "      <td>100000</td>\n",
       "      <td>100000</td>\n",
       "    </tr>\n",
       "    <tr>\n",
       "      <th>unique</th>\n",
       "      <td>44</td>\n",
       "      <td>96591</td>\n",
       "    </tr>\n",
       "    <tr>\n",
       "      <th>top</th>\n",
       "      <td>TELEPHONIE - GPS</td>\n",
       "      <td>4400mAh | 10.8V | Li-ion - 4400mAh | 10.8V | L...</td>\n",
       "    </tr>\n",
       "    <tr>\n",
       "      <th>freq</th>\n",
       "      <td>21325</td>\n",
       "      <td>97</td>\n",
       "    </tr>\n",
       "  </tbody>\n",
       "</table>\n",
       "</div>"
      ],
      "text/plain": [
       "              Categorie1                                        Description\n",
       "count             100000                                             100000\n",
       "unique                44                                              96591\n",
       "top     TELEPHONIE - GPS  4400mAh | 10.8V | Li-ion - 4400mAh | 10.8V | L...\n",
       "freq               21325                                                 97"
      ]
     },
     "execution_count": 7,
     "metadata": {},
     "output_type": "execute_result"
    }
   ],
   "source": [
    "data.describe(include='all')"
   ]
  },
  {
   "cell_type": "markdown",
   "metadata": {},
   "source": [
    "#### Comments :\n",
    "\n",
    "- Categorie avec le + de produits : Telephonie-GPS\n",
    "- 44 catégories au total\n",
    "- 100000 produits\n",
    "- 3500 decriptions sont identiques"
   ]
  },
  {
   "cell_type": "code",
   "execution_count": 8,
   "metadata": {},
   "outputs": [],
   "source": [
    "data['Categorie1'].value_counts()\n",
    "cat_list=data['Categorie1'].value_counts().index.tolist()"
   ]
  },
  {
   "cell_type": "code",
   "execution_count": 9,
   "metadata": {},
   "outputs": [
    {
     "data": {
      "text/html": [
       "<div>\n",
       "<style scoped>\n",
       "    .dataframe tbody tr th:only-of-type {\n",
       "        vertical-align: middle;\n",
       "    }\n",
       "\n",
       "    .dataframe tbody tr th {\n",
       "        vertical-align: top;\n",
       "    }\n",
       "\n",
       "    .dataframe thead th {\n",
       "        text-align: right;\n",
       "    }\n",
       "</style>\n",
       "<table border=\"1\" class=\"dataframe\">\n",
       "  <thead>\n",
       "    <tr style=\"text-align: right;\">\n",
       "      <th></th>\n",
       "      <th>Categorie1</th>\n",
       "      <th>Description</th>\n",
       "    </tr>\n",
       "  </thead>\n",
       "  <tbody>\n",
       "    <tr>\n",
       "      <th>52370</th>\n",
       "      <td>PRODUITS FRAIS</td>\n",
       "      <td>NATINE - Mes tartines au millet - SANS SEL - B...</td>\n",
       "    </tr>\n",
       "    <tr>\n",
       "      <th>65640</th>\n",
       "      <td>PRODUITS FRAIS</td>\n",
       "      <td>Pain au chocolat - PASQUIER - Pain au chocolat...</td>\n",
       "    </tr>\n",
       "    <tr>\n",
       "      <th>84471</th>\n",
       "      <td>PRODUITS FRAIS</td>\n",
       "      <td>Riz cantonais - Riz cuit 57,4% (riz - eau - br...</td>\n",
       "    </tr>\n",
       "    <tr>\n",
       "      <th>89657</th>\n",
       "      <td>PRODUITS FRAIS</td>\n",
       "      <td>Yaourt brassé nature - VELOUTE - Yaourt brassé...</td>\n",
       "    </tr>\n",
       "  </tbody>\n",
       "</table>\n",
       "</div>"
      ],
      "text/plain": [
       "           Categorie1                                        Description\n",
       "52370  PRODUITS FRAIS  NATINE - Mes tartines au millet - SANS SEL - B...\n",
       "65640  PRODUITS FRAIS  Pain au chocolat - PASQUIER - Pain au chocolat...\n",
       "84471  PRODUITS FRAIS  Riz cantonais - Riz cuit 57,4% (riz - eau - br...\n",
       "89657  PRODUITS FRAIS  Yaourt brassé nature - VELOUTE - Yaourt brassé..."
      ]
     },
     "execution_count": 9,
     "metadata": {},
     "output_type": "execute_result"
    }
   ],
   "source": [
    "data[data['Categorie1']==\"PRODUITS FRAIS\"] #recup une ligne spécifique"
   ]
  },
  {
   "cell_type": "code",
   "execution_count": 10,
   "metadata": {},
   "outputs": [
    {
     "data": {
      "text/plain": [
       "<pandas.core.groupby.generic.DataFrameGroupBy object at 0x121cc1700>"
      ]
     },
     "execution_count": 10,
     "metadata": {},
     "output_type": "execute_result"
    }
   ],
   "source": [
    "freq = data.groupby(\"Categorie1\")\n",
    "freq"
   ]
  },
  {
   "cell_type": "code",
   "execution_count": 11,
   "metadata": {},
   "outputs": [
    {
     "data": {
      "text/html": [
       "<div>\n",
       "<style scoped>\n",
       "    .dataframe tbody tr th:only-of-type {\n",
       "        vertical-align: middle;\n",
       "    }\n",
       "\n",
       "    .dataframe tbody tr th {\n",
       "        vertical-align: top;\n",
       "    }\n",
       "\n",
       "    .dataframe thead th {\n",
       "        text-align: right;\n",
       "    }\n",
       "</style>\n",
       "<table border=\"1\" class=\"dataframe\">\n",
       "  <thead>\n",
       "    <tr style=\"text-align: right;\">\n",
       "      <th></th>\n",
       "      <th>Description</th>\n",
       "    </tr>\n",
       "    <tr>\n",
       "      <th>Categorie1</th>\n",
       "      <th></th>\n",
       "    </tr>\n",
       "  </thead>\n",
       "  <tbody>\n",
       "    <tr>\n",
       "      <th>TELEPHONIE - GPS</th>\n",
       "      <td>21.325</td>\n",
       "    </tr>\n",
       "    <tr>\n",
       "      <th>INFORMATIQUE</th>\n",
       "      <td>14.597</td>\n",
       "    </tr>\n",
       "    <tr>\n",
       "      <th>LIBRAIRIE</th>\n",
       "      <td>12.121</td>\n",
       "    </tr>\n",
       "    <tr>\n",
       "      <th>VETEMENTS - LINGERIE</th>\n",
       "      <td>6.023</td>\n",
       "    </tr>\n",
       "    <tr>\n",
       "      <th>BIJOUX -  LUNETTES - MONTRES</th>\n",
       "      <td>6.014</td>\n",
       "    </tr>\n",
       "  </tbody>\n",
       "</table>\n",
       "</div>"
      ],
      "text/plain": [
       "                              Description\n",
       "Categorie1                               \n",
       "TELEPHONIE - GPS                   21.325\n",
       "INFORMATIQUE                       14.597\n",
       "LIBRAIRIE                          12.121\n",
       "VETEMENTS - LINGERIE                6.023\n",
       "BIJOUX -  LUNETTES - MONTRES        6.014"
      ]
     },
     "execution_count": 11,
     "metadata": {},
     "output_type": "execute_result"
    }
   ],
   "source": [
    "nb = freq.count()\n",
    "freq_cat = nb.sort_values(\"Description\", ascending=False)\n",
    "effectif= sum(freq_cat[\"Description\"])\n",
    "freq_cat[\"Description\"]=freq_cat[\"Description\"]*100/effectif\n",
    "freq_cat.head()"
   ]
  },
  {
   "cell_type": "code",
   "execution_count": 12,
   "metadata": {},
   "outputs": [
    {
     "data": {
      "text/plain": [
       "<Figure size 432x288 with 0 Axes>"
      ]
     },
     "metadata": {},
     "output_type": "display_data"
    },
    {
     "data": {
      "image/png": "[encoded data removed]",
      "text/plain": [
       "<Figure size 1296x432 with 1 Axes>"
      ]
     },
     "metadata": {
      "needs_background": "light"
     },
     "output_type": "display_data"
    }
   ],
   "source": [
    "\n",
    "\n",
    "fig=plt.figure()\n",
    "ax =freq_cat.plot(kind = \"bar\", figsize=(18,6), color='b')\n",
    "ax.set_xticklabels(cat_list, rotation=45, ha='right')\n",
    "#ax.set_xlabel(\"Categories\", fontsize=16)\n",
    "#plt.title(\"Number of products by categories\", fontsize=16)\n",
    "ax.legend().set_visible(False)  # supprime la légende\n"
   ]
  },
  {
   "cell_type": "code",
   "execution_count": 13,
   "metadata": {},
   "outputs": [
    {
     "name": "stdout",
     "output_type": "stream",
     "text": [
      "False    87879\n",
      "True     12121\n",
      "Name: Categorie1, dtype: int64\n"
     ]
    }
   ],
   "source": [
    "print((data['Categorie1']==\"LIBRAIRIE\").value_counts())"
   ]
  },
  {
   "cell_type": "markdown",
   "metadata": {},
   "source": [
    "## Création d'un dataframe du vocab / catégorie"
   ]
  },
  {
   "cell_type": "code",
   "execution_count": 14,
   "metadata": {},
   "outputs": [
    {
     "name": "stdout",
     "output_type": "stream",
     "text": [
      "['TELEPHONIE - GPS', 'INFORMATIQUE', 'LIBRAIRIE', 'VETEMENTS - LINGERIE ', 'BIJOUX -  LUNETTES - MONTRES', 'DECO - LINGE - LUMINAIRE', 'AUTO - MOTO (NEW)', 'BRICOLAGE - OUTILLAGE - QUINCAILLERIE', 'SPORT (NEW)', 'ELECTROMENAGER', 'JOUET (NEW)', 'BAGAGERIE', 'CULTURE / JEUX', 'PHOTO - OPTIQUE', 'CHAUSSURES - ACCESSOIRES', 'MEUBLE ', 'HYGIENE - BEAUTE - PARFUM', 'JARDIN - PISCINE', 'ART DE LA TABLE - ARTICLES CULINAIRES', 'LOISIRS CREATIFS - BEAUX ARTS - PAPETERIE', 'TV - VIDEO - SON', 'ADULTE - EROTIQUE ', 'ANIMALERIE - NEW', 'PUERICULTURE', 'LITERIE', 'ARTICLES POUR FUMEUR', 'INSTRUMENTS DE MUSIQUE', 'ELECTRONIQUE', 'MERCERIE', 'PARAPHARMACIE', 'EPICERIE', 'VIN - ALCOOL - LIQUIDES', 'POINT DE VENTE - COMMERCE - ADMINISTRATION', 'SONO - DJ', 'DROGUERIE (NEW)', 'TATOUAGE - PIERCING', 'MATERIEL DE BUREAU', 'ARME DE COMBAT - ARME DE SPORT', 'BATEAU MOTEUR - VOILIER', 'MATERIEL MEDICAL', 'CONDITIONNEMENT', 'TENUE PROFESSIONNELLE', 'MANUTENTION', 'PRODUITS FRAIS']\n"
     ]
    }
   ],
   "source": [
    "cat = data['Categorie1'].unique().tolist() #liste des categories \n",
    "print(cat_list)"
   ]
  },
  {
   "cell_type": "code",
   "execution_count": 15,
   "metadata": {},
   "outputs": [
    {
     "data": {
      "text/html": [
       "<div>\n",
       "<style scoped>\n",
       "    .dataframe tbody tr th:only-of-type {\n",
       "        vertical-align: middle;\n",
       "    }\n",
       "\n",
       "    .dataframe tbody tr th {\n",
       "        vertical-align: top;\n",
       "    }\n",
       "\n",
       "    .dataframe thead th {\n",
       "        text-align: right;\n",
       "    }\n",
       "</style>\n",
       "<table border=\"1\" class=\"dataframe\">\n",
       "  <thead>\n",
       "    <tr style=\"text-align: right;\">\n",
       "      <th></th>\n",
       "      <th>Categorie</th>\n",
       "      <th>Description</th>\n",
       "    </tr>\n",
       "  </thead>\n",
       "  <tbody>\n",
       "    <tr>\n",
       "      <th>0</th>\n",
       "      <td>TELEPHONIE - GPS</td>\n",
       "      <td>Coque rigide Bleu lagon pour ALCATEL OT / 6033...</td>\n",
       "    </tr>\n",
       "    <tr>\n",
       "      <th>1</th>\n",
       "      <td>INFORMATIQUE</td>\n",
       "      <td>Batterie Acer Aspire One 751H-52Yr - Li-Ion 11...</td>\n",
       "    </tr>\n",
       "    <tr>\n",
       "      <th>2</th>\n",
       "      <td>LIBRAIRIE</td>\n",
       "      <td>De Teo aux éditions EMMANUEL PROUST Saint Seiy...</td>\n",
       "    </tr>\n",
       "    <tr>\n",
       "      <th>3</th>\n",
       "      <td>VETEMENTS - LINGERIE</td>\n",
       "      <td>debardeur femme superman or - … Voir la présen...</td>\n",
       "    </tr>\n",
       "    <tr>\n",
       "      <th>4</th>\n",
       "      <td>BIJOUX -  LUNETTES - MONTRES</td>\n",
       "      <td>Seiko SFP599 Hommes Montre - Acheter Authentiq...</td>\n",
       "    </tr>\n",
       "  </tbody>\n",
       "</table>\n",
       "</div>"
      ],
      "text/plain": [
       "                      Categorie  \\\n",
       "0              TELEPHONIE - GPS   \n",
       "1                  INFORMATIQUE   \n",
       "2                     LIBRAIRIE   \n",
       "3         VETEMENTS - LINGERIE    \n",
       "4  BIJOUX -  LUNETTES - MONTRES   \n",
       "\n",
       "                                         Description  \n",
       "0  Coque rigide Bleu lagon pour ALCATEL OT / 6033...  \n",
       "1  Batterie Acer Aspire One 751H-52Yr - Li-Ion 11...  \n",
       "2  De Teo aux éditions EMMANUEL PROUST Saint Seiy...  \n",
       "3  debardeur femme superman or - … Voir la présen...  \n",
       "4  Seiko SFP599 Hommes Montre - Acheter Authentiq...  "
      ]
     },
     "execution_count": 15,
     "metadata": {},
     "output_type": "execute_result"
    }
   ],
   "source": [
    "## Creation d'un data frame par categories\n",
    "new = []\n",
    "for i in cat_list :    \n",
    "    voca = \"\"    \n",
    "    c = data[data['Categorie1']==i].index #selectionne les lignes correspondantes a la categorie\n",
    "    for index in c :\n",
    "        voca += data['Description'][index]\n",
    "        voca += \" \"\n",
    "    new.append([i,voca]) #nom categorie + voca associé\n",
    "\n",
    "df = pd.DataFrame(new,columns=['Categorie','Description'])\n",
    "df.head()"
   ]
  },
  {
   "cell_type": "code",
   "execution_count": 16,
   "metadata": {},
   "outputs": [
    {
     "name": "stdout",
     "output_type": "stream",
     "text": [
      "total :  102\n",
      "unique :  58\n"
     ]
    }
   ],
   "source": [
    "i_frai = df[df['Categorie']==\"PRODUITS FRAIS\"].index \n",
    "frai = df['Description'][i_frai[0]] #recup vocabulaire de categorie produits frais\n",
    "#print(frai.split(\" \"))\n",
    "print(\"total : \", len(frai.split(\" \"))) #compte nb de mots\n",
    "print(\"unique : \", len(set(frai.split(\" \")))) #compte nb mots uniques"
   ]
  },
  {
   "cell_type": "code",
   "execution_count": 17,
   "metadata": {},
   "outputs": [
    {
     "name": "stdout",
     "output_type": "stream",
     "text": [
      "52370    NATINE - Mes tartines au millet - SANS SEL - B...\n",
      "65640    Pain au chocolat - PASQUIER - Pain au chocolat...\n",
      "84471    Riz cantonais - Riz cuit 57,4% (riz - eau - br...\n",
      "89657    Yaourt brassé nature - VELOUTE - Yaourt brassé...\n",
      "Name: Description, dtype: object\n"
     ]
    }
   ],
   "source": [
    "# Verification avec les données initiales\n",
    "index_frai = data[data['Categorie1']==\"PRODUITS FRAIS\"].index \n",
    "for i in index_frai :\n",
    "    b = data['Description'][index_frai]\n",
    "    \n",
    "print(b)"
   ]
  },
  {
   "cell_type": "markdown",
   "metadata": {},
   "source": [
    "### Afficher nb de mots unique par categorie"
   ]
  },
  {
   "cell_type": "code",
   "execution_count": 18,
   "metadata": {},
   "outputs": [],
   "source": [
    "nb = []\n",
    "uniq = []\n",
    "\n",
    "for cat_i in range(44) :\n",
    "    voc_cat_i = df['Description'][cat_i]\n",
    "    nb.append(len(voc_cat_i.split(\" \")))\n",
    "    uniq.append(len(set(voc_cat_i.split(\" \"))))"
   ]
  },
  {
   "cell_type": "code",
   "execution_count": 19,
   "metadata": {},
   "outputs": [
    {
     "data": {
      "text/html": [
       "<div>\n",
       "<style scoped>\n",
       "    .dataframe tbody tr th:only-of-type {\n",
       "        vertical-align: middle;\n",
       "    }\n",
       "\n",
       "    .dataframe tbody tr th {\n",
       "        vertical-align: top;\n",
       "    }\n",
       "\n",
       "    .dataframe thead th {\n",
       "        text-align: right;\n",
       "    }\n",
       "</style>\n",
       "<table border=\"1\" class=\"dataframe\">\n",
       "  <thead>\n",
       "    <tr style=\"text-align: right;\">\n",
       "      <th></th>\n",
       "      <th>Categorie</th>\n",
       "      <th>Description</th>\n",
       "      <th>Total words</th>\n",
       "      <th>Uniq words</th>\n",
       "    </tr>\n",
       "  </thead>\n",
       "  <tbody>\n",
       "    <tr>\n",
       "      <th>0</th>\n",
       "      <td>TELEPHONIE - GPS</td>\n",
       "      <td>Coque rigide Bleu lagon pour ALCATEL OT / 6033...</td>\n",
       "      <td>666273</td>\n",
       "      <td>24823</td>\n",
       "    </tr>\n",
       "    <tr>\n",
       "      <th>1</th>\n",
       "      <td>INFORMATIQUE</td>\n",
       "      <td>Batterie Acer Aspire One 751H-52Yr - Li-Ion 11...</td>\n",
       "      <td>350279</td>\n",
       "      <td>34009</td>\n",
       "    </tr>\n",
       "    <tr>\n",
       "      <th>2</th>\n",
       "      <td>LIBRAIRIE</td>\n",
       "      <td>De Teo aux éditions EMMANUEL PROUST Saint Seiy...</td>\n",
       "      <td>104108</td>\n",
       "      <td>22468</td>\n",
       "    </tr>\n",
       "    <tr>\n",
       "      <th>3</th>\n",
       "      <td>VETEMENTS - LINGERIE</td>\n",
       "      <td>debardeur femme superman or - … Voir la présen...</td>\n",
       "      <td>155486</td>\n",
       "      <td>22869</td>\n",
       "    </tr>\n",
       "    <tr>\n",
       "      <th>4</th>\n",
       "      <td>BIJOUX -  LUNETTES - MONTRES</td>\n",
       "      <td>Seiko SFP599 Hommes Montre - Acheter Authentiq...</td>\n",
       "      <td>151162</td>\n",
       "      <td>19582</td>\n",
       "    </tr>\n",
       "  </tbody>\n",
       "</table>\n",
       "</div>"
      ],
      "text/plain": [
       "                      Categorie  \\\n",
       "0              TELEPHONIE - GPS   \n",
       "1                  INFORMATIQUE   \n",
       "2                     LIBRAIRIE   \n",
       "3         VETEMENTS - LINGERIE    \n",
       "4  BIJOUX -  LUNETTES - MONTRES   \n",
       "\n",
       "                                         Description  Total words  Uniq words  \n",
       "0  Coque rigide Bleu lagon pour ALCATEL OT / 6033...       666273       24823  \n",
       "1  Batterie Acer Aspire One 751H-52Yr - Li-Ion 11...       350279       34009  \n",
       "2  De Teo aux éditions EMMANUEL PROUST Saint Seiy...       104108       22468  \n",
       "3  debardeur femme superman or - … Voir la présen...       155486       22869  \n",
       "4  Seiko SFP599 Hommes Montre - Acheter Authentiq...       151162       19582  "
      ]
     },
     "execution_count": 19,
     "metadata": {},
     "output_type": "execute_result"
    }
   ],
   "source": [
    "df['Total words'] = nb\n",
    "df['Uniq words'] = uniq\n",
    "data_voc = df\n",
    "data_voc.head()"
   ]
  },
  {
   "cell_type": "markdown",
   "metadata": {},
   "source": [
    "Ajout de colonnes pour les step 1,2,3 du cleaning:"
   ]
  },
  {
   "cell_type": "code",
   "execution_count": 20,
   "metadata": {},
   "outputs": [],
   "source": [
    "\n",
    "step1 = []\n",
    "step2 =[]\n",
    "step3 = []\n",
    "\n",
    "for cat_i in range(44) :\n",
    "    voc_cat_i = data_voc['Description'][cat_i]\n",
    "    \n",
    "    #step1\n",
    "    cleaned_voc = voc_cat_i\n",
    "    cleaned_voc = cleaned_voc.lower()#put the vocabulary in lower\n",
    "    cleaned_voc = cleaned_voc.replace(u'\\u2026','.') #removing special character \n",
    "    cleaned_voc = cleaned_voc.replace(u'\\u00a0',' ') \n",
    "    cleaned_voc = cleaned_voc.replace(u'\\u005F',' ') # removing '_'\n",
    "    cleaned_voc = unicodedata.normalize('NFD', cleaned_voc).encode('ascii', 'ignore').decode(\"utf-8\") #takes off some punctuation\n",
    "    cleaned_voc = re.sub('[^a-z_]', ' ', cleaned_voc)\n",
    "    step1.append(len(set(cleaned_voc.split(\" \"))))\n",
    "    \n",
    "    \n",
    "    #STEP 2 : Removing french/english stopwords using NLTK\n",
    "    #stopwords = nltk.corpus.stopwords.words('french') \n",
    "    #stopwords = [unicodedata.normalize('NFD', sw).encode('ascii', 'ignore').decode(\"utf-8\") for sw in stopwords]\n",
    "    stopwords = []\n",
    "    stopwords += [\"voir\"]\n",
    "    stopwords += [\"presentation\"]\n",
    "    \n",
    "    #stopwordsenglish = nltk.corpus.stopwords.words('english')\n",
    "    #stopwordsenglish = [unicodedata.normalize('NFD', sw).encode('ascii', 'ignore').decode(\"utf-8\") for sw in stopwordsenglish]\n",
    "   \n",
    "    \n",
    "    tokens = [w for w in cleaned_voc.split(\" \") if (len(w)>=2) and (w not in stopwords)] #and (w not in stopwordsenglish)]\n",
    "    removed_words = [w for w in cleaned_voc.split(\" \") if (len(w)<2) or (w in stopwords)] #or (w in stopwordsenglish)]\n",
    "    step2.append(len(set(tokens)))\n",
    "    \n",
    "    #STEP 3 : Stemming\n",
    "    stemmer=nltk.stem.SnowballStemmer('french')\n",
    "    \n",
    "    tokens_stem = [stemmer.stem(token) for token in tokens]\n",
    "    step3.append(len(set(tokens_stem)))\n",
    "\n",
    "data_voc['Unique words first clean']=step1\n",
    "data_voc[\"Unique words without stop words\"]=step2\n",
    "data_voc[\"Unique and final tokens\"]=step3"
   ]
  },
  {
   "cell_type": "code",
   "execution_count": 21,
   "metadata": {},
   "outputs": [
    {
     "data": {
      "text/html": [
       "<div>\n",
       "<style scoped>\n",
       "    .dataframe tbody tr th:only-of-type {\n",
       "        vertical-align: middle;\n",
       "    }\n",
       "\n",
       "    .dataframe tbody tr th {\n",
       "        vertical-align: top;\n",
       "    }\n",
       "\n",
       "    .dataframe thead th {\n",
       "        text-align: right;\n",
       "    }\n",
       "</style>\n",
       "<table border=\"1\" class=\"dataframe\">\n",
       "  <thead>\n",
       "    <tr style=\"text-align: right;\">\n",
       "      <th></th>\n",
       "      <th>Categorie</th>\n",
       "      <th>Description</th>\n",
       "      <th>Total words</th>\n",
       "      <th>Uniq words</th>\n",
       "      <th>Unique words first clean</th>\n",
       "      <th>Unique words without stop words</th>\n",
       "      <th>Unique and final tokens</th>\n",
       "    </tr>\n",
       "  </thead>\n",
       "  <tbody>\n",
       "    <tr>\n",
       "      <th>0</th>\n",
       "      <td>TELEPHONIE - GPS</td>\n",
       "      <td>Coque rigide Bleu lagon pour ALCATEL OT / 6033...</td>\n",
       "      <td>666273</td>\n",
       "      <td>24823</td>\n",
       "      <td>10956</td>\n",
       "      <td>10927</td>\n",
       "      <td>8721</td>\n",
       "    </tr>\n",
       "    <tr>\n",
       "      <th>1</th>\n",
       "      <td>INFORMATIQUE</td>\n",
       "      <td>Batterie Acer Aspire One 751H-52Yr - Li-Ion 11...</td>\n",
       "      <td>350279</td>\n",
       "      <td>34009</td>\n",
       "      <td>8315</td>\n",
       "      <td>8286</td>\n",
       "      <td>6932</td>\n",
       "    </tr>\n",
       "    <tr>\n",
       "      <th>2</th>\n",
       "      <td>LIBRAIRIE</td>\n",
       "      <td>De Teo aux éditions EMMANUEL PROUST Saint Seiy...</td>\n",
       "      <td>104108</td>\n",
       "      <td>22468</td>\n",
       "      <td>17003</td>\n",
       "      <td>16974</td>\n",
       "      <td>14944</td>\n",
       "    </tr>\n",
       "    <tr>\n",
       "      <th>3</th>\n",
       "      <td>VETEMENTS - LINGERIE</td>\n",
       "      <td>debardeur femme superman or - … Voir la présen...</td>\n",
       "      <td>155486</td>\n",
       "      <td>22869</td>\n",
       "      <td>11424</td>\n",
       "      <td>11395</td>\n",
       "      <td>9255</td>\n",
       "    </tr>\n",
       "    <tr>\n",
       "      <th>4</th>\n",
       "      <td>BIJOUX -  LUNETTES - MONTRES</td>\n",
       "      <td>Seiko SFP599 Hommes Montre - Acheter Authentiq...</td>\n",
       "      <td>151162</td>\n",
       "      <td>19582</td>\n",
       "      <td>8680</td>\n",
       "      <td>8651</td>\n",
       "      <td>6952</td>\n",
       "    </tr>\n",
       "  </tbody>\n",
       "</table>\n",
       "</div>"
      ],
      "text/plain": [
       "                      Categorie  \\\n",
       "0              TELEPHONIE - GPS   \n",
       "1                  INFORMATIQUE   \n",
       "2                     LIBRAIRIE   \n",
       "3         VETEMENTS - LINGERIE    \n",
       "4  BIJOUX -  LUNETTES - MONTRES   \n",
       "\n",
       "                                         Description  Total words  Uniq words  \\\n",
       "0  Coque rigide Bleu lagon pour ALCATEL OT / 6033...       666273       24823   \n",
       "1  Batterie Acer Aspire One 751H-52Yr - Li-Ion 11...       350279       34009   \n",
       "2  De Teo aux éditions EMMANUEL PROUST Saint Seiy...       104108       22468   \n",
       "3  debardeur femme superman or - … Voir la présen...       155486       22869   \n",
       "4  Seiko SFP599 Hommes Montre - Acheter Authentiq...       151162       19582   \n",
       "\n",
       "   Unique words first clean  Unique words without stop words  \\\n",
       "0                     10956                            10927   \n",
       "1                      8315                             8286   \n",
       "2                     17003                            16974   \n",
       "3                     11424                            11395   \n",
       "4                      8680                             8651   \n",
       "\n",
       "   Unique and final tokens  \n",
       "0                     8721  \n",
       "1                     6932  \n",
       "2                    14944  \n",
       "3                     9255  \n",
       "4                     6952  "
      ]
     },
     "execution_count": 21,
     "metadata": {},
     "output_type": "execute_result"
    }
   ],
   "source": [
    "data_voc.head()"
   ]
  },
  {
   "cell_type": "code",
   "execution_count": 25,
   "metadata": {},
   "outputs": [],
   "source": [
    "main_cat = data_voc['Categorie'][0:4].tolist() #recup valeurs d'une colonne\n",
    "main_tot = data_voc['Total words'][0:4].tolist()\n",
    "main_uniq = data_voc['Uniq words'][0:4].tolist()"
   ]
  },
  {
   "cell_type": "code",
   "execution_count": 56,
   "metadata": {},
   "outputs": [
    {
     "data": {
      "image/png": "[encoded data removed]",
      "text/plain": [
       "<Figure size 360x360 with 1 Axes>"
      ]
     },
     "metadata": {
      "needs_background": "light"
     },
     "output_type": "display_data"
    },
    {
     "data": {
      "image/png": "[encoded data removed]",
      "text/plain": [
       "<Figure size 360x360 with 1 Axes>"
      ]
     },
     "metadata": {
      "needs_background": "light"
     },
     "output_type": "display_data"
    }
   ],
   "source": [
    "fig = plt.figure(figsize=(5,5))\n",
    "plt.bar(main_cat,main_tot,width = 0.4, color = 'orange', label=\"Total words\")\n",
    "plt.bar(main_cat,main_uniq,width = 0.4, color = 'green', label=\"Unique words\")\n",
    "#plt.title(\"Size of vocabulary for main categories\")\n",
    "plt.legend()\n",
    "fig.autofmt_xdate(rotation=45)\n",
    "\n",
    "\n",
    "fig = plt.figure(figsize=(5,5))\n",
    "plt.bar(main_cat,main_uniq,width = 0.4, color = 'green', label=\"Unique words\")\n",
    "#plt.title(\"Size of vocabulary for main categories\")\n",
    "plt.legend()\n",
    "fig.autofmt_xdate(rotation=45)"
   ]
  },
  {
   "cell_type": "markdown",
   "metadata": {},
   "source": [
    "## Cleaning"
   ]
  },
  {
   "cell_type": "markdown",
   "metadata": {},
   "source": [
    "### Clean sur un string"
   ]
  },
  {
   "cell_type": "code",
   "execution_count": 82,
   "metadata": {},
   "outputs": [],
   "source": [
    "#vocabulaire TOTAL, toutes catégories confondues\n",
    "\n",
    "voca = \"\" \n",
    "for k in range(nb_line):\n",
    "    des = data['Description'][k]\n",
    "    voca += \" \"\n",
    "    voca += des"
   ]
  },
  {
   "cell_type": "code",
   "execution_count": 5,
   "metadata": {},
   "outputs": [],
   "source": [
    "def cleaning(voca) :\n",
    "    #print(\"Cleaning function :\")\n",
    "    #print(\"Total words :\" ,len(voca.split(\" \")))\n",
    "    #print(\"Unique words :\" ,len(set(voca.split(\" \"))))\n",
    "    #print(\"Ratio words :\" , len(voca.split(\" \"))/len(set(voca.split(\" \"))), \"\\n \\n\")\n",
    "\n",
    "    \n",
    "    #STEP 1 : Standardization\n",
    "    cleaned_voc = voca\n",
    "    cleaned_voc = cleaned_voc.lower()\n",
    "    cleaned_voc = cleaned_voc.replace(u'\\u2026','.') #put the vocabulary in lower\n",
    "    cleaned_voc = cleaned_voc.replace(u'\\u00a0',' ') #removing special character \n",
    "    cleaned_voc = cleaned_voc.replace(u'\\u005F',' ')\n",
    "    cleaned_voc = unicodedata.normalize('NFD', cleaned_voc).encode('ascii', 'ignore').decode(\"utf-8\") #takes off some punctuation\n",
    "    cleaned_voc = re.sub('[^a-z_]', ' ', cleaned_voc) # keeps only alphabet letters\n",
    "    #print(\"Total after step 1 :\", len(cleaned_voc.split(\" \")))\n",
    "    # print(\"Uniq after step 1 :\", len(set(cleaned_voc.split(\" \"))) , \"\\n \\n\")\n",
    "\n",
    "    \n",
    "    #STEP 2 : Removing french stopwords using NLTK\n",
    "    stopwords = nltk.corpus.stopwords.words('french') \n",
    "    stopwords = [unicodedata.normalize('NFD', sw).encode('ascii', 'ignore').decode(\"utf-8\") for sw in stopwords]\n",
    "   \n",
    "    stopwords += [\"voir\"]\n",
    "    stopwords += [\"presentation\"]\n",
    "    \n",
    "    \n",
    "    #stopwordsenglish = nltk.corpus.stopwords.words('english')\n",
    "    #stopwordsenglish = [unicodedata.normalize('NFD', sw).encode('ascii', 'ignore').decode(\"utf-8\") for sw in stopwordsenglish]\n",
    "   \n",
    "    \n",
    "    tokens = [w for w in cleaned_voc.split(\" \") if (len(w)>=2) and (w not in stopwords)]\n",
    "    removed_words = [w for w in cleaned_voc.split(\" \") if (len(w)<2) or (w in stopwords)]\n",
    "    #print(\"Total after step 2 :\", len(tokens))\n",
    "    #print(\"Uniq after step 2 :\", len(set(tokens)) , \"\\n \\n\")\n",
    "    \n",
    "    #STEP 3 : Stemming\n",
    "    stemmer=nltk.stem.SnowballStemmer('french')\n",
    "    stemmer2=nltk.stem.SnowballStemmer('english')\n",
    "    tokens_stem = [stemmer2.stem(token) for token in tokens]\n",
    "    tokens_stem = [stemmer.stem(token) for token in tokens]\n",
    "    \n",
    "    #print(\"Total tokens after step 3 :\" , len(tokens_stem))\n",
    "    #print(\"Unique tokens after step 3 :\" ,len(set(tokens_stem)))\n",
    "    #print(\"Ratio tokens :\" , len(tokens_stem)/len(set(tokens_stem)))\n",
    "    \n",
    "    voca_cleaned = \"\"\n",
    "    \n",
    "    for t in tokens_stem :\n",
    "        voca_cleaned += t\n",
    "        voca_cleaned += \" \"\n",
    "    voca_cleaned=voca_cleaned[:-1]\n",
    "    return voca_cleaned"
   ]
  },
  {
   "cell_type": "code",
   "execution_count": 6,
   "metadata": {},
   "outputs": [],
   "source": [
    "def cleaning_wstop(voca) :\n",
    "    #print(\"Cleaning function :\")\n",
    "    #print(\"Total words :\" ,len(voca.split(\" \")))\n",
    "    #print(\"Unique words :\" ,len(set(voca.split(\" \"))))\n",
    "    #print(\"Ratio words :\" , len(voca.split(\" \"))/len(set(voca.split(\" \"))), \"\\n \\n\")\n",
    "\n",
    "    \n",
    "    #STEP 1 : Standardization\n",
    "    cleaned_voc = voca\n",
    "    cleaned_voc = cleaned_voc.lower()\n",
    "    cleaned_voc = cleaned_voc.replace(u'\\u2026','.') #put the vocabulary in lower\n",
    "    cleaned_voc = cleaned_voc.replace(u'\\u00a0',' ') #removing special character \n",
    "    cleaned_voc = cleaned_voc.replace(u'\\u005F',' ')\n",
    "    cleaned_voc = unicodedata.normalize('NFD', cleaned_voc).encode('ascii', 'ignore').decode(\"utf-8\") #takes off some punctuation\n",
    "    cleaned_voc = re.sub('[^a-z_]', ' ', cleaned_voc) # keeps only alphabet letters\n",
    "    #print(\"Total after step 1 :\", len(cleaned_voc.split(\" \")))\n",
    "    # print(\"Uniq after step 1 :\", len(set(cleaned_voc.split(\" \"))) , \"\\n \\n\")\n",
    "\n",
    "    \n",
    "    #STEP 2 : Removing french stopwords using NLTK\n",
    "    #stopwords = nltk.corpus.stopwords.words('french') \n",
    "    #stopwords = [unicodedata.normalize('NFD', sw).encode('ascii', 'ignore').decode(\"utf-8\") for sw in stopwords]\n",
    "    stopwords=[]\n",
    "    stopwords += [\"voir\"]\n",
    "    stopwords += [\"presentation\"]\n",
    "    \n",
    "    \n",
    "    #stopwordsenglish = nltk.corpus.stopwords.words('english')\n",
    "    #stopwordsenglish = [unicodedata.normalize('NFD', sw).encode('ascii', 'ignore').decode(\"utf-8\") for sw in stopwordsenglish]\n",
    "   \n",
    "    \n",
    "    tokens = [w for w in cleaned_voc.split(\" \") if (len(w)>=2) and (w not in stopwords)]# and (w not in stopwordsenglish)]\n",
    "    removed_words = [w for w in cleaned_voc.split(\" \") if (len(w)<2) or (w in stopwords)]# or (w in stopwordsenglish)]\n",
    "    #print(\"Total after step 2 :\", len(tokens))\n",
    "    #print(\"Uniq after step 2 :\", len(set(tokens)) , \"\\n \\n\")\n",
    "    \n",
    "    #STEP 3 : Stemming\n",
    "    stemmer=nltk.stem.SnowballStemmer('french')\n",
    "    stemmer2=nltk.stem.SnowballStemmer('english')\n",
    "    tokens_stem = [stemmer2.stem(token) for token in tokens]\n",
    "    tokens_stem = [stemmer.stem(token) for token in tokens]\n",
    "    \n",
    "    #print(\"Total tokens after step 3 :\" , len(tokens_stem))\n",
    "    #print(\"Unique tokens after step 3 :\" ,len(set(tokens_stem)))\n",
    "    #print(\"Ratio tokens :\" , len(tokens_stem)/len(set(tokens_stem)))\n",
    "    \n",
    "    voca_cleaned = \"\"\n",
    "    \n",
    "    for t in tokens_stem :\n",
    "        voca_cleaned += t\n",
    "        voca_cleaned += \" \"\n",
    "    voca_cleaned=voca_cleaned[:-1]\n",
    "    return voca_cleaned"
   ]
  },
  {
   "cell_type": "code",
   "execution_count": 111,
   "metadata": {},
   "outputs": [],
   "source": [
    "data = data_all[[\"Categorie1\",\"Description\"]]\n",
    "list_data = []\n",
    "list_data_wstop =[]\n",
    "for cat, desc in data.values:\n",
    "    list_data.append([cat, cleaning(desc)]) \n",
    "    list_data_wstop.append([cat,cleaning_wstop(desc)])"
   ]
  },
  {
   "cell_type": "code",
   "execution_count": 112,
   "metadata": {},
   "outputs": [
    {
     "name": "stdout",
     "output_type": "stream",
     "text": [
      "[['INFORMATIQUE', 'batter acer aspir one yr li ion mah wh noir compatibl batter'], ['TELEPHONIE - GPS', 'coqu rigid bleu lagon alcatel ot motif drapeau liberi film coqu rigid ultra fin bleu lagon original muzzano motif drapeau liberi alcatel'], ['TELEPHONIE - GPS', 'facad coqu cellular lin shckgal minip marqu agree samsungmobil compatibl galaxy minimatier caoutchouc soupl'], ['TELEPHONIE - GPS', 'coqu meteor tpu lg nexus'], ['TELEPHONIE - GPS', 'coqu soupl transparent lg flex motif keep calm and play football coqu soupl ultra fin transparent original muzzano motif keep calm and play footbal'], ['TELEPHONIE - GPS', 'compatibilit iphon iphon caracterist etuis corp enti styl couleur uni couleur blanc noir ros'], ['BIJOUX -  LUNETTES - MONTRES', 'seiko sfp homm montr achet authent seiko sfp regard lign prix reduit infiniteshopping'], ['ARTICLES POUR FUMEUR', 'pack fruit expert titanium bleu mixt mg ml mg ml quel dosag liquid mg ml san nicotin ancien fumeur sevr mg ml conseil'], ['SPORT (NEW)', 'huil rock shox deo brunox fourreau fourch ml montag piec detache doit etre effectu professionnel secur'], ['AUTO - MOTO (NEW)', 'tub fourch tarozz kymco citing mm cabl emb kawasak']]\n",
      "[['INFORMATIQUE', 'batter acer aspir one yr li ion mah wh noir compatibl batter la'], ['TELEPHONIE - GPS', 'coqu rigid bleu lagon pour alcatel ot motif drapeau liberi film coqu rigid ultra fin bleu lagon original de muzzano au motif drapeau liberi pour alcatel la'], ['TELEPHONIE - GPS', 'facad et coqu cellular lin shckgal minip marqu agree samsungmobil compatibl galaxy minimatier caoutchouc soupl la'], ['TELEPHONIE - GPS', 'coqu meteor tpu lg nexus'], ['TELEPHONIE - GPS', 'coqu soupl transparent pour lg flex motif keep calm and play football coqu soupl ultra fin transparent original de muzzano au motif keep calm and play footbal la'], ['TELEPHONIE - GPS', 'compatibilit iphon iphon caracterist etuis du corp enti styl couleur uni couleur blanc noir ros'], ['BIJOUX -  LUNETTES - MONTRES', 'seiko sfp homm montr achet authent seiko sfp regard en lign un prix reduit infiniteshopping la'], ['ARTICLES POUR FUMEUR', 'pack fruit expert titanium bleu mixt de mg ml et mg ml quel dosag pour mon liquid mg ml san nicotin ancien fumeur sevr mg ml conseil la'], ['SPORT (NEW)', 'huil rock shox deo brunox pour fourreau de fourch ml le montag de piec detache doit etre effectu par un professionnel pour votr secur'], ['AUTO - MOTO (NEW)', 'tub de fourch tarozz kymco citing mm cabl emb kawasak la']]\n"
     ]
    }
   ],
   "source": [
    "print(list_data[0:10])\n",
    "print(list_data_wstop[0:10])"
   ]
  },
  {
   "cell_type": "code",
   "execution_count": 89,
   "metadata": {},
   "outputs": [],
   "source": [
    "data_cleaned_100k = pd.DataFrame(list_data,columns= [\"Categorie1\",\"Description\"]) \n",
    "data_cleaned_100k_wstop= pd.DataFrame(list_data_wstop,columns=[\"Categorie1\",\"Description\"])\n",
    "data_cleaned_100k.to_csv(\"data/data_cleaned_100k.csv\", index=False)\n",
    "data_cleaned_100k_wstop.to_csv(\"data/data_cleaned_100k_wstop.csv\",index=False)"
   ]
  },
  {
   "cell_type": "markdown",
   "metadata": {},
   "source": [
    "## Fonction création dataframe"
   ]
  },
  {
   "cell_type": "code",
   "execution_count": 13,
   "metadata": {},
   "outputs": [],
   "source": [
    "def create_data(nb_lines,wstops):\n",
    "    #chargement dataset \n",
    "    input_path = \"data/cdiscount_train.csv.zip\"\n",
    "    data_all = pd.read_csv(input_path, sep=\",\", nrows=nb_lines)\n",
    "    data_all = data_all.fillna(\"\") # pour les valeurs nulles\n",
    "    data = data_all[[\"Categorie1\",\"Description\"]]\n",
    "    \n",
    "    #cleaning du data set\n",
    "    if not wstops:\n",
    "        list_data =[]\n",
    "        for cat, desc in data.values:\n",
    "            list_data.append([cat,cleaning(desc)])\n",
    "        data_cleaned = pd.DataFrame(list_data,columns= [\"Categorie1\",\"Description\"])\n",
    "        string=\"data/data_cleaned_\"\n",
    "        if nb_lines==1000000:\n",
    "            string+=\"1M\"\n",
    "        else:    \n",
    "            string+= str(nb_lines)[0:3]\n",
    "        string+=\".csv\"\n",
    "        data_cleaned.to_csv(string, index=False)\n",
    "        print(\"Saved in\",string)\n",
    "        return\n",
    "    else:\n",
    "        list_data_wstop =[]\n",
    "        for cat, desc in data.values:\n",
    "            list_data_wstop.append([cat, cleaning_wstop(desc)]) \n",
    "        data_cleaned_wstop= pd.DataFrame(list_data_wstop,columns=[\"Categorie1\",\"Description\"])\n",
    "        string=\"data/data_cleaned_wstop_\"\n",
    "        if nb_lines==1000000:\n",
    "            string+=\"1M\"\n",
    "        else:   \n",
    "            string+= str(nb_lines)[0:3]\n",
    "        string+=\"k.csv\"\n",
    "        data_cleaned_wstop.to_csv(string, index=False)\n",
    "        print(\"Saved in\",string)\n",
    "        return"
   ]
  },
  {
   "cell_type": "code",
   "execution_count": 14,
   "metadata": {},
   "outputs": [
    {
     "name": "stdout",
     "output_type": "stream",
     "text": [
      "Saved in data/data_cleaned_wstop_100k.csv\n",
      "Saved in data/data_cleaned_100.csv\n"
     ]
    }
   ],
   "source": [
    "create_data(100000,True)\n",
    "create_data(100000,False)"
   ]
  }
 ],
 "metadata": {
  "kernelspec": {
   "display_name": "Python 3",
   "language": "python",
   "name": "python3"
  },
  "language_info": {
   "codemirror_mode": {
    "name": "ipython",
    "version": 3
   },
   "file_extension": ".py",
   "mimetype": "text/x-python",
   "name": "python",
   "nbconvert_exporter": "python",
   "pygments_lexer": "ipython3",
   "version": "3.8.1"
  }
 },
 "nbformat": 4,
 "nbformat_minor": 4
}
