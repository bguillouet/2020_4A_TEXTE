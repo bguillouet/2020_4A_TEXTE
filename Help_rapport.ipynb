{
 "cells": [
  {
   "cell_type": "code",
   "execution_count": 1,
   "metadata": {},
   "outputs": [],
   "source": [
    "import os\n",
    "import re\n",
    "\n",
    "import pandas as pd\n",
    "import numpy as np\n",
    "import unicodedata\n",
    "import matplotlib.pyplot as plt\n",
    "\n",
    "import collections\n",
    "import wordcloud as wc\n",
    "\n",
    "import nltk\n",
    "\n",
    "from sklearn.feature_extraction.text import CountVectorizer"
   ]
  },
  {
   "cell_type": "markdown",
   "metadata": {},
   "source": [
    "### Dataset initial"
   ]
  },
  {
   "cell_type": "code",
   "execution_count": 2,
   "metadata": {},
   "outputs": [
    {
     "data": {
      "text/html": [
       "<div>\n",
       "<style scoped>\n",
       "    .dataframe tbody tr th:only-of-type {\n",
       "        vertical-align: middle;\n",
       "    }\n",
       "\n",
       "    .dataframe tbody tr th {\n",
       "        vertical-align: top;\n",
       "    }\n",
       "\n",
       "    .dataframe thead th {\n",
       "        text-align: right;\n",
       "    }\n",
       "</style>\n",
       "<table border=\"1\" class=\"dataframe\">\n",
       "  <thead>\n",
       "    <tr style=\"text-align: right;\">\n",
       "      <th></th>\n",
       "      <th>Categorie1</th>\n",
       "      <th>Categorie2</th>\n",
       "      <th>Categorie3</th>\n",
       "      <th>Description</th>\n",
       "      <th>Libelle</th>\n",
       "      <th>Marque</th>\n",
       "    </tr>\n",
       "  </thead>\n",
       "  <tbody>\n",
       "    <tr>\n",
       "      <th>0</th>\n",
       "      <td>INFORMATIQUE</td>\n",
       "      <td>CONNECTIQUE - ALIMENTATION</td>\n",
       "      <td>BATTERIE</td>\n",
       "      <td>Batterie Acer Aspire One 751H-52Yr - Li-Ion 11...</td>\n",
       "      <td>Batterie Acer Aspire One 751H-52Yr</td>\n",
       "      <td>AUCUNE</td>\n",
       "    </tr>\n",
       "    <tr>\n",
       "      <th>1</th>\n",
       "      <td>TELEPHONIE - GPS</td>\n",
       "      <td>ACCESSOIRE TELEPHONE</td>\n",
       "      <td>COQUE - BUMPER - FACADE TELEPHONE</td>\n",
       "      <td>Coque rigide Bleu lagon pour ALCATEL OT / 6033...</td>\n",
       "      <td>Coque rigide Bleu lagon pour ALCATEL OT / 6033 …</td>\n",
       "      <td>MUZZANO</td>\n",
       "    </tr>\n",
       "    <tr>\n",
       "      <th>2</th>\n",
       "      <td>TELEPHONIE - GPS</td>\n",
       "      <td>ACCESSOIRE TELEPHONE</td>\n",
       "      <td>COQUE - BUMPER - FACADE TELEPHONE</td>\n",
       "      <td>Facades et coques CELLULAR LINE SHCKGALS 3 MIN...</td>\n",
       "      <td>Facades et coques CELLULAR LINE SHCKGALS 3 MINIP</td>\n",
       "      <td>CELLULAR LINE</td>\n",
       "    </tr>\n",
       "    <tr>\n",
       "      <th>3</th>\n",
       "      <td>TELEPHONIE - GPS</td>\n",
       "      <td>ACCESSOIRE TELEPHONE</td>\n",
       "      <td>COQUE - BUMPER - FACADE TELEPHONE</td>\n",
       "      <td>Coque meteore TPU  LG Nexus 4 / E960</td>\n",
       "      <td>Coque meteore TPU  LG Nexus 4 / E960</td>\n",
       "      <td>AUCUNE</td>\n",
       "    </tr>\n",
       "    <tr>\n",
       "      <th>4</th>\n",
       "      <td>TELEPHONIE - GPS</td>\n",
       "      <td>ACCESSOIRE TELEPHONE</td>\n",
       "      <td>COQUE - BUMPER - FACADE TELEPHONE</td>\n",
       "      <td>Coque souple Transparente pour LG G FLEX D959 ...</td>\n",
       "      <td>Coque souple Transparente pour LG G FLEX D959 m…</td>\n",
       "      <td>MUZZANO</td>\n",
       "    </tr>\n",
       "  </tbody>\n",
       "</table>\n",
       "</div>"
      ],
      "text/plain": [
       "         Categorie1                  Categorie2  \\\n",
       "0      INFORMATIQUE  CONNECTIQUE - ALIMENTATION   \n",
       "1  TELEPHONIE - GPS        ACCESSOIRE TELEPHONE   \n",
       "2  TELEPHONIE - GPS        ACCESSOIRE TELEPHONE   \n",
       "3  TELEPHONIE - GPS        ACCESSOIRE TELEPHONE   \n",
       "4  TELEPHONIE - GPS        ACCESSOIRE TELEPHONE   \n",
       "\n",
       "                          Categorie3  \\\n",
       "0                           BATTERIE   \n",
       "1  COQUE - BUMPER - FACADE TELEPHONE   \n",
       "2  COQUE - BUMPER - FACADE TELEPHONE   \n",
       "3  COQUE - BUMPER - FACADE TELEPHONE   \n",
       "4  COQUE - BUMPER - FACADE TELEPHONE   \n",
       "\n",
       "                                         Description  \\\n",
       "0  Batterie Acer Aspire One 751H-52Yr - Li-Ion 11...   \n",
       "1  Coque rigide Bleu lagon pour ALCATEL OT / 6033...   \n",
       "2  Facades et coques CELLULAR LINE SHCKGALS 3 MIN...   \n",
       "3               Coque meteore TPU  LG Nexus 4 / E960   \n",
       "4  Coque souple Transparente pour LG G FLEX D959 ...   \n",
       "\n",
       "                                            Libelle         Marque  \n",
       "0                Batterie Acer Aspire One 751H-52Yr         AUCUNE  \n",
       "1  Coque rigide Bleu lagon pour ALCATEL OT / 6033 …        MUZZANO  \n",
       "2  Facades et coques CELLULAR LINE SHCKGALS 3 MINIP  CELLULAR LINE  \n",
       "3              Coque meteore TPU  LG Nexus 4 / E960         AUCUNE  \n",
       "4  Coque souple Transparente pour LG G FLEX D959 m…        MUZZANO  "
      ]
     },
     "execution_count": 2,
     "metadata": {},
     "output_type": "execute_result"
    }
   ],
   "source": [
    "input_path = \"data/cdiscount_train.csv.zip\"\n",
    "nb_line=100000\n",
    "data_all = pd.read_csv(input_path, sep=\",\", nrows=nb_line)\n",
    "data_all = data_all.fillna(\"\") # pour les valeurs nulles\n",
    "data_all.head()"
   ]
  },
  {
   "cell_type": "markdown",
   "metadata": {},
   "source": [
    "## Dataset utilisé"
   ]
  },
  {
   "cell_type": "code",
   "execution_count": 3,
   "metadata": {},
   "outputs": [
    {
     "name": "stdout",
     "output_type": "stream",
     "text": [
      "<class 'pandas.core.frame.DataFrame'>\n",
      "(100000, 2)\n"
     ]
    }
   ],
   "source": [
    "data = data_all[[\"Categorie1\",\"Description\"]]\n",
    "print(type(data))\n",
    "print(data.shape)"
   ]
  },
  {
   "cell_type": "code",
   "execution_count": 4,
   "metadata": {},
   "outputs": [
    {
     "data": {
      "text/html": [
       "<div>\n",
       "<style scoped>\n",
       "    .dataframe tbody tr th:only-of-type {\n",
       "        vertical-align: middle;\n",
       "    }\n",
       "\n",
       "    .dataframe tbody tr th {\n",
       "        vertical-align: top;\n",
       "    }\n",
       "\n",
       "    .dataframe thead th {\n",
       "        text-align: right;\n",
       "    }\n",
       "</style>\n",
       "<table border=\"1\" class=\"dataframe\">\n",
       "  <thead>\n",
       "    <tr style=\"text-align: right;\">\n",
       "      <th></th>\n",
       "      <th>Categorie1</th>\n",
       "      <th>Description</th>\n",
       "    </tr>\n",
       "  </thead>\n",
       "  <tbody>\n",
       "    <tr>\n",
       "      <th>0</th>\n",
       "      <td>INFORMATIQUE</td>\n",
       "      <td>Batterie Acer Aspire One 751H-52Yr - Li-Ion 11...</td>\n",
       "    </tr>\n",
       "    <tr>\n",
       "      <th>1</th>\n",
       "      <td>TELEPHONIE - GPS</td>\n",
       "      <td>Coque rigide Bleu lagon pour ALCATEL OT / 6033...</td>\n",
       "    </tr>\n",
       "    <tr>\n",
       "      <th>2</th>\n",
       "      <td>TELEPHONIE - GPS</td>\n",
       "      <td>Facades et coques CELLULAR LINE SHCKGALS 3 MIN...</td>\n",
       "    </tr>\n",
       "    <tr>\n",
       "      <th>3</th>\n",
       "      <td>TELEPHONIE - GPS</td>\n",
       "      <td>Coque meteore TPU  LG Nexus 4 / E960</td>\n",
       "    </tr>\n",
       "    <tr>\n",
       "      <th>4</th>\n",
       "      <td>TELEPHONIE - GPS</td>\n",
       "      <td>Coque souple Transparente pour LG G FLEX D959 ...</td>\n",
       "    </tr>\n",
       "  </tbody>\n",
       "</table>\n",
       "</div>"
      ],
      "text/plain": [
       "         Categorie1                                        Description\n",
       "0      INFORMATIQUE  Batterie Acer Aspire One 751H-52Yr - Li-Ion 11...\n",
       "1  TELEPHONIE - GPS  Coque rigide Bleu lagon pour ALCATEL OT / 6033...\n",
       "2  TELEPHONIE - GPS  Facades et coques CELLULAR LINE SHCKGALS 3 MIN...\n",
       "3  TELEPHONIE - GPS               Coque meteore TPU  LG Nexus 4 / E960\n",
       "4  TELEPHONIE - GPS  Coque souple Transparente pour LG G FLEX D959 ..."
      ]
     },
     "execution_count": 4,
     "metadata": {},
     "output_type": "execute_result"
    }
   ],
   "source": [
    "data.head()"
   ]
  },
  {
   "cell_type": "markdown",
   "metadata": {},
   "source": [
    "## Stats descriptives"
   ]
  },
  {
   "cell_type": "code",
   "execution_count": 5,
   "metadata": {},
   "outputs": [
    {
     "data": {
      "text/html": [
       "<div>\n",
       "<style scoped>\n",
       "    .dataframe tbody tr th:only-of-type {\n",
       "        vertical-align: middle;\n",
       "    }\n",
       "\n",
       "    .dataframe tbody tr th {\n",
       "        vertical-align: top;\n",
       "    }\n",
       "\n",
       "    .dataframe thead th {\n",
       "        text-align: right;\n",
       "    }\n",
       "</style>\n",
       "<table border=\"1\" class=\"dataframe\">\n",
       "  <thead>\n",
       "    <tr style=\"text-align: right;\">\n",
       "      <th></th>\n",
       "      <th>Categorie1</th>\n",
       "      <th>Description</th>\n",
       "    </tr>\n",
       "  </thead>\n",
       "  <tbody>\n",
       "    <tr>\n",
       "      <th>count</th>\n",
       "      <td>100000</td>\n",
       "      <td>100000</td>\n",
       "    </tr>\n",
       "    <tr>\n",
       "      <th>unique</th>\n",
       "      <td>44</td>\n",
       "      <td>96591</td>\n",
       "    </tr>\n",
       "    <tr>\n",
       "      <th>top</th>\n",
       "      <td>TELEPHONIE - GPS</td>\n",
       "      <td>4400mAh | 10.8V | Li-ion - 4400mAh | 10.8V | L...</td>\n",
       "    </tr>\n",
       "    <tr>\n",
       "      <th>freq</th>\n",
       "      <td>21325</td>\n",
       "      <td>97</td>\n",
       "    </tr>\n",
       "  </tbody>\n",
       "</table>\n",
       "</div>"
      ],
      "text/plain": [
       "              Categorie1                                        Description\n",
       "count             100000                                             100000\n",
       "unique                44                                              96591\n",
       "top     TELEPHONIE - GPS  4400mAh | 10.8V | Li-ion - 4400mAh | 10.8V | L...\n",
       "freq               21325                                                 97"
      ]
     },
     "execution_count": 5,
     "metadata": {},
     "output_type": "execute_result"
    }
   ],
   "source": [
    "data.describe(include='all')"
   ]
  },
  {
   "cell_type": "markdown",
   "metadata": {},
   "source": [
    "#### Comments :\n",
    "\n",
    "- Categorie avec le + de produits : Telephonie-GPS\n",
    "- 44 catégories au total\n",
    "- 100000 produits\n",
    "- 3500 decriptions sont identiques"
   ]
  },
  {
   "cell_type": "code",
   "execution_count": 6,
   "metadata": {},
   "outputs": [
    {
     "data": {
      "text/plain": [
       "TELEPHONIE - GPS                              21325\n",
       "INFORMATIQUE                                  14597\n",
       "LIBRAIRIE                                     12121\n",
       "VETEMENTS - LINGERIE                           6023\n",
       "BIJOUX -  LUNETTES - MONTRES                   6014\n",
       "DECO - LINGE - LUMINAIRE                       5866\n",
       "AUTO - MOTO (NEW)                              4714\n",
       "BRICOLAGE - OUTILLAGE - QUINCAILLERIE          3141\n",
       "SPORT (NEW)                                    2565\n",
       "ELECTROMENAGER                                 2152\n",
       "JOUET (NEW)                                    2038\n",
       "BAGAGERIE                                      1912\n",
       "CULTURE / JEUX                                 1819\n",
       "PHOTO - OPTIQUE                                1574\n",
       "CHAUSSURES - ACCESSOIRES                       1391\n",
       "MEUBLE                                         1383\n",
       "HYGIENE - BEAUTE - PARFUM                      1362\n",
       "JARDIN - PISCINE                               1358\n",
       "ART DE LA TABLE - ARTICLES CULINAIRES          1107\n",
       "LOISIRS CREATIFS - BEAUX ARTS - PAPETERIE       977\n",
       "TV - VIDEO - SON                                957\n",
       "ADULTE - EROTIQUE                               879\n",
       "ANIMALERIE - NEW                                634\n",
       "PUERICULTURE                                    543\n",
       "LITERIE                                         415\n",
       "ARTICLES POUR FUMEUR                            380\n",
       "INSTRUMENTS DE MUSIQUE                          366\n",
       "ELECTRONIQUE                                    330\n",
       "MERCERIE                                        312\n",
       "PARAPHARMACIE                                   285\n",
       "EPICERIE                                        267\n",
       "VIN - ALCOOL - LIQUIDES                         191\n",
       "POINT DE VENTE - COMMERCE - ADMINISTRATION      177\n",
       "SONO - DJ                                       169\n",
       "DROGUERIE (NEW)                                 166\n",
       "TATOUAGE - PIERCING                             149\n",
       "MATERIEL DE BUREAU                               89\n",
       "ARME DE COMBAT - ARME DE SPORT                   75\n",
       "BATEAU MOTEUR - VOILIER                          66\n",
       "MATERIEL MEDICAL                                 42\n",
       "CONDITIONNEMENT                                  27\n",
       "TENUE PROFESSIONNELLE                            25\n",
       "MANUTENTION                                      13\n",
       "PRODUITS FRAIS                                    4\n",
       "Name: Categorie1, dtype: int64"
      ]
     },
     "execution_count": 6,
     "metadata": {},
     "output_type": "execute_result"
    }
   ],
   "source": [
    "data['Categorie1'].value_counts()"
   ]
  },
  {
   "cell_type": "code",
   "execution_count": 7,
   "metadata": {},
   "outputs": [
    {
     "data": {
      "text/html": [
       "<div>\n",
       "<style scoped>\n",
       "    .dataframe tbody tr th:only-of-type {\n",
       "        vertical-align: middle;\n",
       "    }\n",
       "\n",
       "    .dataframe tbody tr th {\n",
       "        vertical-align: top;\n",
       "    }\n",
       "\n",
       "    .dataframe thead th {\n",
       "        text-align: right;\n",
       "    }\n",
       "</style>\n",
       "<table border=\"1\" class=\"dataframe\">\n",
       "  <thead>\n",
       "    <tr style=\"text-align: right;\">\n",
       "      <th></th>\n",
       "      <th>Categorie1</th>\n",
       "      <th>Description</th>\n",
       "    </tr>\n",
       "  </thead>\n",
       "  <tbody>\n",
       "    <tr>\n",
       "      <th>52370</th>\n",
       "      <td>PRODUITS FRAIS</td>\n",
       "      <td>NATINE - Mes tartines au millet - SANS SEL - B...</td>\n",
       "    </tr>\n",
       "    <tr>\n",
       "      <th>65640</th>\n",
       "      <td>PRODUITS FRAIS</td>\n",
       "      <td>Pain au chocolat - PASQUIER - Pain au chocolat...</td>\n",
       "    </tr>\n",
       "    <tr>\n",
       "      <th>84471</th>\n",
       "      <td>PRODUITS FRAIS</td>\n",
       "      <td>Riz cantonais - Riz cuit 57,4% (riz - eau - br...</td>\n",
       "    </tr>\n",
       "    <tr>\n",
       "      <th>89657</th>\n",
       "      <td>PRODUITS FRAIS</td>\n",
       "      <td>Yaourt brassé nature - VELOUTE - Yaourt brassé...</td>\n",
       "    </tr>\n",
       "  </tbody>\n",
       "</table>\n",
       "</div>"
      ],
      "text/plain": [
       "           Categorie1                                        Description\n",
       "52370  PRODUITS FRAIS  NATINE - Mes tartines au millet - SANS SEL - B...\n",
       "65640  PRODUITS FRAIS  Pain au chocolat - PASQUIER - Pain au chocolat...\n",
       "84471  PRODUITS FRAIS  Riz cantonais - Riz cuit 57,4% (riz - eau - br...\n",
       "89657  PRODUITS FRAIS  Yaourt brassé nature - VELOUTE - Yaourt brassé..."
      ]
     },
     "execution_count": 7,
     "metadata": {},
     "output_type": "execute_result"
    }
   ],
   "source": [
    "data[data['Categorie1']==\"PRODUITS FRAIS\"] #recup une ligne spécifique"
   ]
  },
  {
   "cell_type": "code",
   "execution_count": 8,
   "metadata": {},
   "outputs": [
    {
     "data": {
      "text/plain": [
       "<pandas.core.groupby.generic.DataFrameGroupBy object at 0x120d36760>"
      ]
     },
     "execution_count": 8,
     "metadata": {},
     "output_type": "execute_result"
    }
   ],
   "source": [
    "freq = data.groupby(\"Categorie1\")\n",
    "freq"
   ]
  },
  {
   "cell_type": "code",
   "execution_count": 9,
   "metadata": {},
   "outputs": [
    {
     "data": {
      "text/html": [
       "<div>\n",
       "<style scoped>\n",
       "    .dataframe tbody tr th:only-of-type {\n",
       "        vertical-align: middle;\n",
       "    }\n",
       "\n",
       "    .dataframe tbody tr th {\n",
       "        vertical-align: top;\n",
       "    }\n",
       "\n",
       "    .dataframe thead th {\n",
       "        text-align: right;\n",
       "    }\n",
       "</style>\n",
       "<table border=\"1\" class=\"dataframe\">\n",
       "  <thead>\n",
       "    <tr style=\"text-align: right;\">\n",
       "      <th></th>\n",
       "      <th>Description</th>\n",
       "    </tr>\n",
       "    <tr>\n",
       "      <th>Categorie1</th>\n",
       "      <th></th>\n",
       "    </tr>\n",
       "  </thead>\n",
       "  <tbody>\n",
       "    <tr>\n",
       "      <th>TELEPHONIE - GPS</th>\n",
       "      <td>21325</td>\n",
       "    </tr>\n",
       "    <tr>\n",
       "      <th>INFORMATIQUE</th>\n",
       "      <td>14597</td>\n",
       "    </tr>\n",
       "    <tr>\n",
       "      <th>LIBRAIRIE</th>\n",
       "      <td>12121</td>\n",
       "    </tr>\n",
       "    <tr>\n",
       "      <th>VETEMENTS - LINGERIE</th>\n",
       "      <td>6023</td>\n",
       "    </tr>\n",
       "    <tr>\n",
       "      <th>BIJOUX -  LUNETTES - MONTRES</th>\n",
       "      <td>6014</td>\n",
       "    </tr>\n",
       "  </tbody>\n",
       "</table>\n",
       "</div>"
      ],
      "text/plain": [
       "                              Description\n",
       "Categorie1                               \n",
       "TELEPHONIE - GPS                    21325\n",
       "INFORMATIQUE                        14597\n",
       "LIBRAIRIE                           12121\n",
       "VETEMENTS - LINGERIE                 6023\n",
       "BIJOUX -  LUNETTES - MONTRES         6014"
      ]
     },
     "execution_count": 9,
     "metadata": {},
     "output_type": "execute_result"
    }
   ],
   "source": [
    "nb = freq.count()\n",
    "freq_cat = nb.sort_values(\"Description\", ascending=False)\n",
    "freq_cat.head()"
   ]
  },
  {
   "cell_type": "code",
   "execution_count": 10,
   "metadata": {},
   "outputs": [
    {
     "data": {
      "text/plain": [
       "<Figure size 432x288 with 0 Axes>"
      ]
     },
     "metadata": {},
     "output_type": "display_data"
    },
    {
     "data": {
      "image/png": "[encoded data removed]",
      "text/plain": [
       "<Figure size 1296x432 with 1 Axes>"
      ]
     },
     "metadata": {
      "needs_background": "light"
     },
     "output_type": "display_data"
    }
   ],
   "source": [
    "##Je n'arrive pas à pencher l'écriture\n",
    "\n",
    "fig = plt.figure()\n",
    "ax = freq_cat.plot(kind = \"bar\", figsize=(18,6), color='b')\n",
    "#ax.set_xlabel(\"Categories\", fontsize=16)\n",
    "plt.title(\"Number of products by categories\", fontsize=16)\n",
    "ax.legend().set_visible(False)  # supprime la légende\n",
    "fig.autofmt_xdate(rotation=45)"
   ]
  },
  {
   "cell_type": "code",
   "execution_count": 11,
   "metadata": {},
   "outputs": [
    {
     "name": "stdout",
     "output_type": "stream",
     "text": [
      "False    87879\n",
      "True     12121\n",
      "Name: Categorie1, dtype: int64\n"
     ]
    }
   ],
   "source": [
    "print((data['Categorie1']==\"LIBRAIRIE\").value_counts())"
   ]
  },
  {
   "cell_type": "markdown",
   "metadata": {},
   "source": [
    "## Création d'un dataframe du vocab / catégorie"
   ]
  },
  {
   "cell_type": "code",
   "execution_count": 28,
   "metadata": {},
   "outputs": [
    {
     "name": "stdout",
     "output_type": "stream",
     "text": [
      "['INFORMATIQUE', 'TELEPHONIE - GPS', 'BIJOUX -  LUNETTES - MONTRES', 'ARTICLES POUR FUMEUR', 'SPORT (NEW)', 'AUTO - MOTO (NEW)', 'VETEMENTS - LINGERIE ', 'JOUET (NEW)', 'LIBRAIRIE', 'CULTURE / JEUX', 'LOISIRS CREATIFS - BEAUX ARTS - PAPETERIE', 'ANIMALERIE - NEW', 'DECO - LINGE - LUMINAIRE', 'BRICOLAGE - OUTILLAGE - QUINCAILLERIE', 'ELECTRONIQUE', 'JARDIN - PISCINE', 'HYGIENE - BEAUTE - PARFUM', 'ELECTROMENAGER', 'VIN - ALCOOL - LIQUIDES', 'PHOTO - OPTIQUE', 'MEUBLE ', 'ART DE LA TABLE - ARTICLES CULINAIRES', 'DROGUERIE (NEW)', 'EPICERIE', 'CHAUSSURES - ACCESSOIRES', 'PARAPHARMACIE', 'ADULTE - EROTIQUE ', 'INSTRUMENTS DE MUSIQUE', 'BAGAGERIE', 'PUERICULTURE', 'MERCERIE', 'TV - VIDEO - SON', 'LITERIE', 'TATOUAGE - PIERCING', 'POINT DE VENTE - COMMERCE - ADMINISTRATION', 'MATERIEL DE BUREAU', 'SONO - DJ', 'BATEAU MOTEUR - VOILIER', 'MATERIEL MEDICAL', 'ARME DE COMBAT - ARME DE SPORT', 'TENUE PROFESSIONNELLE', 'MANUTENTION', 'CONDITIONNEMENT', 'PRODUITS FRAIS']\n"
     ]
    }
   ],
   "source": [
    "cat = data['Categorie1'].unique().tolist() #liste des categories \n",
    "print(cat)"
   ]
  },
  {
   "cell_type": "code",
   "execution_count": 13,
   "metadata": {},
   "outputs": [
    {
     "data": {
      "text/html": [
       "<div>\n",
       "<style scoped>\n",
       "    .dataframe tbody tr th:only-of-type {\n",
       "        vertical-align: middle;\n",
       "    }\n",
       "\n",
       "    .dataframe tbody tr th {\n",
       "        vertical-align: top;\n",
       "    }\n",
       "\n",
       "    .dataframe thead th {\n",
       "        text-align: right;\n",
       "    }\n",
       "</style>\n",
       "<table border=\"1\" class=\"dataframe\">\n",
       "  <thead>\n",
       "    <tr style=\"text-align: right;\">\n",
       "      <th></th>\n",
       "      <th>Categorie</th>\n",
       "      <th>Description</th>\n",
       "    </tr>\n",
       "  </thead>\n",
       "  <tbody>\n",
       "    <tr>\n",
       "      <th>0</th>\n",
       "      <td>INFORMATIQUE</td>\n",
       "      <td>Batterie Acer Aspire One 751H-52Yr - Li-Ion 11...</td>\n",
       "    </tr>\n",
       "    <tr>\n",
       "      <th>1</th>\n",
       "      <td>TELEPHONIE - GPS</td>\n",
       "      <td>Coque rigide Bleu lagon pour ALCATEL OT / 6033...</td>\n",
       "    </tr>\n",
       "    <tr>\n",
       "      <th>2</th>\n",
       "      <td>BIJOUX -  LUNETTES - MONTRES</td>\n",
       "      <td>Seiko SFP599 Hommes Montre - Acheter Authentiq...</td>\n",
       "    </tr>\n",
       "    <tr>\n",
       "      <th>3</th>\n",
       "      <td>ARTICLES POUR FUMEUR</td>\n",
       "      <td>E-PACK FRUITÉ 'EXPERT' (Titanium bleu - Mixte ...</td>\n",
       "    </tr>\n",
       "    <tr>\n",
       "      <th>4</th>\n",
       "      <td>SPORT (NEW)</td>\n",
       "      <td>Huile Rock Shox Deo Brunox pour fourreaux de f...</td>\n",
       "    </tr>\n",
       "  </tbody>\n",
       "</table>\n",
       "</div>"
      ],
      "text/plain": [
       "                      Categorie  \\\n",
       "0                  INFORMATIQUE   \n",
       "1              TELEPHONIE - GPS   \n",
       "2  BIJOUX -  LUNETTES - MONTRES   \n",
       "3          ARTICLES POUR FUMEUR   \n",
       "4                   SPORT (NEW)   \n",
       "\n",
       "                                         Description  \n",
       "0  Batterie Acer Aspire One 751H-52Yr - Li-Ion 11...  \n",
       "1  Coque rigide Bleu lagon pour ALCATEL OT / 6033...  \n",
       "2  Seiko SFP599 Hommes Montre - Acheter Authentiq...  \n",
       "3  E-PACK FRUITÉ 'EXPERT' (Titanium bleu - Mixte ...  \n",
       "4  Huile Rock Shox Deo Brunox pour fourreaux de f...  "
      ]
     },
     "execution_count": 13,
     "metadata": {},
     "output_type": "execute_result"
    }
   ],
   "source": [
    "## Creation d'un data frame par categories\n",
    "new = []\n",
    "for i in cat :    \n",
    "    voca = \"\"    \n",
    "    c = data[data['Categorie1']==i].index #selectionne les lignes correspondantes a la categorie\n",
    "    for index in c :\n",
    "        voca += data['Description'][index]\n",
    "        voca += \" \"\n",
    "    new.append([i,voca]) #nom categorie + voca associé\n",
    "\n",
    "df = pd.DataFrame(new,columns=['Categorie','Description'])\n",
    "df.head()"
   ]
  },
  {
   "cell_type": "code",
   "execution_count": 14,
   "metadata": {},
   "outputs": [
    {
     "name": "stdout",
     "output_type": "stream",
     "text": [
      "total :  102\n",
      "unique :  58\n"
     ]
    }
   ],
   "source": [
    "i_frai = df[df['Categorie']==\"PRODUITS FRAIS\"].index \n",
    "frai = df['Description'][i_frai[0]] #recup vocabulaire de categorie produits frais\n",
    "#print(frai.split(\" \"))\n",
    "print(\"total : \", len(frai.split(\" \"))) #compte nb de mots\n",
    "print(\"unique : \", len(set(frai.split(\" \")))) #compte nb mots uniques"
   ]
  },
  {
   "cell_type": "code",
   "execution_count": 15,
   "metadata": {},
   "outputs": [
    {
     "name": "stdout",
     "output_type": "stream",
     "text": [
      "52370    NATINE - Mes tartines au millet - SANS SEL - B...\n",
      "65640    Pain au chocolat - PASQUIER - Pain au chocolat...\n",
      "84471    Riz cantonais - Riz cuit 57,4% (riz - eau - br...\n",
      "89657    Yaourt brassé nature - VELOUTE - Yaourt brassé...\n",
      "Name: Description, dtype: object\n"
     ]
    }
   ],
   "source": [
    "# Verification avec les données initiales\n",
    "index_frai = data[data['Categorie1']==\"PRODUITS FRAIS\"].index \n",
    "for i in index_frai :\n",
    "    b = data['Description'][index_frai]\n",
    "    \n",
    "print(b)"
   ]
  },
  {
   "cell_type": "markdown",
   "metadata": {},
   "source": [
    "### Afficher nb de mots unique par categorie"
   ]
  },
  {
   "cell_type": "code",
   "execution_count": 16,
   "metadata": {},
   "outputs": [],
   "source": [
    "nb = []\n",
    "uniq = []\n",
    "\n",
    "for cat_i in range(44) :\n",
    "    voc_cat_i = df['Description'][cat_i]\n",
    "    nb.append(len(voc_cat_i.split(\" \")))\n",
    "    uniq.append(len(set(voc_cat_i.split(\" \"))))"
   ]
  },
  {
   "cell_type": "code",
   "execution_count": 17,
   "metadata": {},
   "outputs": [
    {
     "data": {
      "text/html": [
       "<div>\n",
       "<style scoped>\n",
       "    .dataframe tbody tr th:only-of-type {\n",
       "        vertical-align: middle;\n",
       "    }\n",
       "\n",
       "    .dataframe tbody tr th {\n",
       "        vertical-align: top;\n",
       "    }\n",
       "\n",
       "    .dataframe thead th {\n",
       "        text-align: right;\n",
       "    }\n",
       "</style>\n",
       "<table border=\"1\" class=\"dataframe\">\n",
       "  <thead>\n",
       "    <tr style=\"text-align: right;\">\n",
       "      <th></th>\n",
       "      <th>Categorie</th>\n",
       "      <th>Description</th>\n",
       "      <th>Total words</th>\n",
       "      <th>Uniq words</th>\n",
       "    </tr>\n",
       "  </thead>\n",
       "  <tbody>\n",
       "    <tr>\n",
       "      <th>1</th>\n",
       "      <td>TELEPHONIE - GPS</td>\n",
       "      <td>Coque rigide Bleu lagon pour ALCATEL OT / 6033...</td>\n",
       "      <td>666273</td>\n",
       "      <td>24823</td>\n",
       "    </tr>\n",
       "    <tr>\n",
       "      <th>0</th>\n",
       "      <td>INFORMATIQUE</td>\n",
       "      <td>Batterie Acer Aspire One 751H-52Yr - Li-Ion 11...</td>\n",
       "      <td>350279</td>\n",
       "      <td>34009</td>\n",
       "    </tr>\n",
       "    <tr>\n",
       "      <th>12</th>\n",
       "      <td>DECO - LINGE - LUMINAIRE</td>\n",
       "      <td>Cars Poster Reproduction Sur Toile, Tendue Sur...</td>\n",
       "      <td>173110</td>\n",
       "      <td>22908</td>\n",
       "    </tr>\n",
       "    <tr>\n",
       "      <th>6</th>\n",
       "      <td>VETEMENTS - LINGERIE</td>\n",
       "      <td>debardeur femme superman or - … Voir la présen...</td>\n",
       "      <td>155486</td>\n",
       "      <td>22869</td>\n",
       "    </tr>\n",
       "    <tr>\n",
       "      <th>2</th>\n",
       "      <td>BIJOUX -  LUNETTES - MONTRES</td>\n",
       "      <td>Seiko SFP599 Hommes Montre - Acheter Authentiq...</td>\n",
       "      <td>151162</td>\n",
       "      <td>19582</td>\n",
       "    </tr>\n",
       "  </tbody>\n",
       "</table>\n",
       "</div>"
      ],
      "text/plain": [
       "                       Categorie  \\\n",
       "1               TELEPHONIE - GPS   \n",
       "0                   INFORMATIQUE   \n",
       "12      DECO - LINGE - LUMINAIRE   \n",
       "6          VETEMENTS - LINGERIE    \n",
       "2   BIJOUX -  LUNETTES - MONTRES   \n",
       "\n",
       "                                          Description  Total words  Uniq words  \n",
       "1   Coque rigide Bleu lagon pour ALCATEL OT / 6033...       666273       24823  \n",
       "0   Batterie Acer Aspire One 751H-52Yr - Li-Ion 11...       350279       34009  \n",
       "12  Cars Poster Reproduction Sur Toile, Tendue Sur...       173110       22908  \n",
       "6   debardeur femme superman or - … Voir la présen...       155486       22869  \n",
       "2   Seiko SFP599 Hommes Montre - Acheter Authentiq...       151162       19582  "
      ]
     },
     "execution_count": 17,
     "metadata": {},
     "output_type": "execute_result"
    }
   ],
   "source": [
    "df['Total words'] = nb\n",
    "df['Uniq words'] = uniq\n",
    "df = df.sort_values(by = 'Total words', ascending=False)\n",
    "df.head()"
   ]
  },
  {
   "cell_type": "code",
   "execution_count": 18,
   "metadata": {},
   "outputs": [],
   "source": [
    "main_cat = df['Categorie'][0:7].tolist() #recup valeurs d'une colonne\n",
    "main_tot = df['Total words'][0:7].tolist()\n",
    "main_uniq = df['Uniq words'][0:7].tolist()"
   ]
  },
  {
   "cell_type": "code",
   "execution_count": 19,
   "metadata": {},
   "outputs": [
    {
     "data": {
      "image/png": "[encoded data removed]",
      "text/plain": [
       "<Figure size 432x288 with 1 Axes>"
      ]
     },
     "metadata": {
      "needs_background": "light"
     },
     "output_type": "display_data"
    }
   ],
   "source": [
    "fig = plt.figure()\n",
    "plt.bar(main_cat,main_tot,width = 0.5, color = 'k', label=\"Total words\")\n",
    "plt.bar(main_cat,main_uniq,width = 0.5, color = 'm', label=\"Uniq words\")\n",
    "plt.title(\"Size of vocabulary for main categories\")\n",
    "plt.legend()\n",
    "fig.autofmt_xdate(rotation=45)"
   ]
  },
  {
   "cell_type": "markdown",
   "metadata": {},
   "source": [
    "## Cleaning"
   ]
  },
  {
   "cell_type": "code",
   "execution_count": 20,
   "metadata": {},
   "outputs": [
    {
     "name": "stderr",
     "output_type": "stream",
     "text": [
      "[nltk_data] Downloading package stopwords to\n",
      "[nltk_data]     /Users/cecile/nltk_data...\n",
      "[nltk_data]   Package stopwords is already up-to-date!\n"
     ]
    },
    {
     "data": {
      "text/plain": [
       "True"
      ]
     },
     "execution_count": 20,
     "metadata": {},
     "output_type": "execute_result"
    }
   ],
   "source": [
    "nltk.download(\"stopwords\") #chargement des stop words"
   ]
  },
  {
   "cell_type": "markdown",
   "metadata": {},
   "source": [
    "### Clean sur un string"
   ]
  },
  {
   "cell_type": "code",
   "execution_count": 21,
   "metadata": {},
   "outputs": [],
   "source": [
    "#vocabulaire TOTAL, toutes catégories confondues\n",
    "\n",
    "voca = \"\" \n",
    "for k in range(nb_line):\n",
    "    des = data['Description'][k]\n",
    "    voca += \" \"\n",
    "    voca += des"
   ]
  },
  {
   "cell_type": "code",
   "execution_count": 22,
   "metadata": {},
   "outputs": [],
   "source": [
    "def cleaning(voca) :\n",
    "\n",
    "    print(\"Total words :\" ,len(voca.split(\" \")))\n",
    "    print(\"Unique words :\" ,len(set(voca.split(\" \"))), \"\\n \\n\")\n",
    "\n",
    "    \n",
    "    #STEP 1 : Standardization\n",
    "    cleaned_voc = voca\n",
    "    cleaned_voc = cleaned_voc.lower()\n",
    "    cleaned_voc = cleaned_voc.replace(u'\\u2026','.') #put the vocabulary in lower\n",
    "    cleaned_voc = cleaned_voc.replace(u'\\u00a0',' ') #removing special character \n",
    "    cleaned_voc = unicodedata.normalize('NFD', cleaned_voc).encode('ascii', 'ignore').decode(\"utf-8\") #takes off some punctuation\n",
    "    cleaned_voc = re.sub('[^a-z_]', ' ', cleaned_voc) # keeps only alphabet letters\n",
    "\n",
    "    \n",
    "    #STEP 2 : Removing french stopwords using NLTK\n",
    "    stopwords = nltk.corpus.stopwords.words('french') \n",
    "    stopwords = [unicodedata.normalize('NFD', sw).encode('ascii', 'ignore').decode(\"utf-8\") for sw in stopwords]\n",
    "    stopwords += [\"voir\"]\n",
    "    stopwords += [\"presentation\"]\n",
    "    #voir en ajoutant english stopwords\n",
    "    \n",
    "    tokens = [w for w in cleaned_voc.split(\" \") if (len(w)>2) and (w not in stopwords)]\n",
    "    removed_words = [w for w in cleaned_voc.split(\" \") if (len(w)<2) or (w in stopwords)]\n",
    "    \n",
    "    \n",
    "    #STEP 3 : Stemming\n",
    "    stemmer=nltk.stem.SnowballStemmer('french')\n",
    "    tokens_stem = [stemmer.stem(token) for token in tokens]\n",
    "    \n",
    "    print(\"Total words AFTER cleaning : \" , len(tokens_stem))\n",
    "    print(\"Unique words AFTER cleaning : \" ,len(set(tokens_stem)))\n",
    "    \n",
    "    return tokens_stem"
   ]
  },
  {
   "cell_type": "code",
   "execution_count": 23,
   "metadata": {},
   "outputs": [
    {
     "name": "stdout",
     "output_type": "stream",
     "text": [
      "Total words : 2514812\n",
      "Unique words : 219119 \n",
      " \n",
      "\n",
      "Total words AFTER cleaning :  1376044\n",
      "Unique words AFTER cleaning :  58219\n"
     ]
    }
   ],
   "source": [
    "cleaned_voc = cleaning(voca)"
   ]
  },
  {
   "cell_type": "code",
   "execution_count": 29,
   "metadata": {},
   "outputs": [
    {
     "name": "stdout",
     "output_type": "stream",
     "text": [
      "Nb of total words :  2514855\n",
      "Nb of unique words :  357853\n"
     ]
    }
   ],
   "source": [
    "row_sum = df.sum() \n",
    "\n",
    "print(\"Nb of total words : \", row_sum[2])\n",
    "print(\"Nb of unique words : \", row_sum[3]) \n",
    "\n",
    "# ICI PROBLEME : unique 357 853, ça correspond pas à 219 119 ????"
   ]
  },
  {
   "cell_type": "markdown",
   "metadata": {},
   "source": [
    "### Clean à partir d'un dataframe"
   ]
  },
  {
   "cell_type": "code",
   "execution_count": 25,
   "metadata": {},
   "outputs": [],
   "source": [
    "a = df['Description'][0] #recup la description d'une cat"
   ]
  },
  {
   "cell_type": "code",
   "execution_count": 26,
   "metadata": {},
   "outputs": [],
   "source": [
    "# a la fin j'ai pas encore trouvé comment modifier la description du dataset et mettre celle nettoyé à la place\n",
    "# Je voulais comparé les résultats avec la fonction précédente voir ce qu'il en est au niveau du comptage de mots\n",
    "\n",
    "\n",
    "def cleaning_df(df) :\n",
    "\n",
    "    row_sum = df.sum() \n",
    "    print(\"Total words :\" , row_sum[2])\n",
    "    print(\"Unique words :\" ,row_sum[3], \"\\n \\n\")\n",
    "    \n",
    "    for i in range(44) : \n",
    "        voca = df['Description'][i]\n",
    "        #STEP 1 : Standardization\n",
    "        cleaned_voc = voca\n",
    "        cleaned_voc = cleaned_voc.lower()\n",
    "        cleaned_voc = cleaned_voc.replace(u'\\u2026','.') #put the vocabulary in lower\n",
    "        cleaned_voc = cleaned_voc.replace(u'\\u00a0',' ') #removing special character \n",
    "        cleaned_voc = unicodedata.normalize('NFD', cleaned_voc).encode('ascii', 'ignore').decode(\"utf-8\") #takes off some punctuation\n",
    "        cleaned_voc = re.sub('[^a-z_]', ' ', cleaned_voc) # keeps only alphabet letters\n",
    "\n",
    "\n",
    "        #STEP 2 : Removing french stopwords using NLTK\n",
    "        stopwords = nltk.corpus.stopwords.words('french') \n",
    "        stopwords = [unicodedata.normalize('NFD', sw).encode('ascii', 'ignore').decode(\"utf-8\") for sw in stopwords]\n",
    "        stopwords += [\"voir\"]\n",
    "        stopwords += [\"presentation\"]\n",
    "\n",
    "        tokens = [w for w in cleaned_voc.split(\" \") if (len(w)>2) and (w not in stopwords)]\n",
    "        removed_words = [w for w in cleaned_voc.split(\" \") if (len(w)<2) or (w in stopwords)]\n",
    "\n",
    "\n",
    "        #STEP 3 : Stemming\n",
    "        stemmer=nltk.stem.SnowballStemmer('french')\n",
    "        tokens_stem = [stemmer.stem(token) for token in tokens]\n",
    "        \n",
    "        # df['Description'][i] = tokens_stem\n",
    "        \n",
    "    return df"
   ]
  },
  {
   "cell_type": "code",
   "execution_count": 27,
   "metadata": {},
   "outputs": [
    {
     "name": "stdout",
     "output_type": "stream",
     "text": [
      "Total words : 2514855\n",
      "Unique words : 357853 \n",
      " \n",
      "\n"
     ]
    },
    {
     "name": "stderr",
     "output_type": "stream",
     "text": [
      "<ipython-input-26-9fc2b5689720>:32: SettingWithCopyWarning: \n",
      "A value is trying to be set on a copy of a slice from a DataFrame\n",
      "\n",
      "See the caveats in the documentation: https://pandas.pydata.org/pandas-docs/stable/user_guide/indexing.html#returning-a-view-versus-a-copy\n",
      "  df['Description'][i] = tokens_stem\n"
     ]
    }
   ],
   "source": [
    "df_cleaned = cleaning_df(df)"
   ]
  },
  {
   "cell_type": "code",
   "execution_count": null,
   "metadata": {},
   "outputs": [],
   "source": []
  },
  {
   "cell_type": "code",
   "execution_count": null,
   "metadata": {},
   "outputs": [],
   "source": []
  },
  {
   "cell_type": "code",
   "execution_count": null,
   "metadata": {},
   "outputs": [],
   "source": []
  },
  {
   "cell_type": "code",
   "execution_count": null,
   "metadata": {},
   "outputs": [],
   "source": []
  },
  {
   "cell_type": "code",
   "execution_count": null,
   "metadata": {},
   "outputs": [],
   "source": []
  },
  {
   "cell_type": "code",
   "execution_count": null,
   "metadata": {},
   "outputs": [],
   "source": []
  },
  {
   "cell_type": "code",
   "execution_count": null,
   "metadata": {},
   "outputs": [],
   "source": []
  }
 ],
 "metadata": {
  "kernelspec": {
   "display_name": "Python 3",
   "language": "python",
   "name": "python3"
  },
  "language_info": {
   "codemirror_mode": {
    "name": "ipython",
    "version": 3
   },
   "file_extension": ".py",
   "mimetype": "text/x-python",
   "name": "python",
   "nbconvert_exporter": "python",
   "pygments_lexer": "ipython3",
   "version": "3.8.1"
  }
 },
 "nbformat": 4,
 "nbformat_minor": 4
}
