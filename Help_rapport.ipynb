{
 "cells": [
  {
   "cell_type": "code",
   "execution_count": 1,
   "metadata": {},
   "outputs": [],
   "source": [
    "import os\n",
    "import re\n",
    "\n",
    "import pandas as pd\n",
    "import numpy as np\n",
    "import unicodedata\n",
    "import matplotlib.pyplot as plt\n",
    "\n",
    "import collections\n",
    "import wordcloud as wc\n",
    "\n",
    "import nltk\n",
    "\n",
    "from sklearn.feature_extraction.text import CountVectorizer"
   ]
  },
  {
   "cell_type": "markdown",
   "metadata": {},
   "source": [
    "### Dataset initial"
   ]
  },
  {
   "cell_type": "code",
   "execution_count": 3,
   "metadata": {},
   "outputs": [
    {
     "data": {
      "text/html": [
       "<div>\n",
       "<style scoped>\n",
       "    .dataframe tbody tr th:only-of-type {\n",
       "        vertical-align: middle;\n",
       "    }\n",
       "\n",
       "    .dataframe tbody tr th {\n",
       "        vertical-align: top;\n",
       "    }\n",
       "\n",
       "    .dataframe thead th {\n",
       "        text-align: right;\n",
       "    }\n",
       "</style>\n",
       "<table border=\"1\" class=\"dataframe\">\n",
       "  <thead>\n",
       "    <tr style=\"text-align: right;\">\n",
       "      <th></th>\n",
       "      <th>Categorie1</th>\n",
       "      <th>Categorie2</th>\n",
       "      <th>Categorie3</th>\n",
       "      <th>Description</th>\n",
       "      <th>Libelle</th>\n",
       "      <th>Marque</th>\n",
       "    </tr>\n",
       "  </thead>\n",
       "  <tbody>\n",
       "    <tr>\n",
       "      <th>0</th>\n",
       "      <td>INFORMATIQUE</td>\n",
       "      <td>CONNECTIQUE - ALIMENTATION</td>\n",
       "      <td>BATTERIE</td>\n",
       "      <td>Batterie Acer Aspire One 751H-52Yr - Li-Ion 11...</td>\n",
       "      <td>Batterie Acer Aspire One 751H-52Yr</td>\n",
       "      <td>AUCUNE</td>\n",
       "    </tr>\n",
       "    <tr>\n",
       "      <th>1</th>\n",
       "      <td>TELEPHONIE - GPS</td>\n",
       "      <td>ACCESSOIRE TELEPHONE</td>\n",
       "      <td>COQUE - BUMPER - FACADE TELEPHONE</td>\n",
       "      <td>Coque rigide Bleu lagon pour ALCATEL OT / 6033...</td>\n",
       "      <td>Coque rigide Bleu lagon pour ALCATEL OT / 6033 …</td>\n",
       "      <td>MUZZANO</td>\n",
       "    </tr>\n",
       "    <tr>\n",
       "      <th>2</th>\n",
       "      <td>TELEPHONIE - GPS</td>\n",
       "      <td>ACCESSOIRE TELEPHONE</td>\n",
       "      <td>COQUE - BUMPER - FACADE TELEPHONE</td>\n",
       "      <td>Facades et coques CELLULAR LINE SHCKGALS 3 MIN...</td>\n",
       "      <td>Facades et coques CELLULAR LINE SHCKGALS 3 MINIP</td>\n",
       "      <td>CELLULAR LINE</td>\n",
       "    </tr>\n",
       "    <tr>\n",
       "      <th>3</th>\n",
       "      <td>TELEPHONIE - GPS</td>\n",
       "      <td>ACCESSOIRE TELEPHONE</td>\n",
       "      <td>COQUE - BUMPER - FACADE TELEPHONE</td>\n",
       "      <td>Coque meteore TPU  LG Nexus 4 / E960</td>\n",
       "      <td>Coque meteore TPU  LG Nexus 4 / E960</td>\n",
       "      <td>AUCUNE</td>\n",
       "    </tr>\n",
       "    <tr>\n",
       "      <th>4</th>\n",
       "      <td>TELEPHONIE - GPS</td>\n",
       "      <td>ACCESSOIRE TELEPHONE</td>\n",
       "      <td>COQUE - BUMPER - FACADE TELEPHONE</td>\n",
       "      <td>Coque souple Transparente pour LG G FLEX D959 ...</td>\n",
       "      <td>Coque souple Transparente pour LG G FLEX D959 m…</td>\n",
       "      <td>MUZZANO</td>\n",
       "    </tr>\n",
       "  </tbody>\n",
       "</table>\n",
       "</div>"
      ],
      "text/plain": [
       "         Categorie1                  Categorie2  \\\n",
       "0      INFORMATIQUE  CONNECTIQUE - ALIMENTATION   \n",
       "1  TELEPHONIE - GPS        ACCESSOIRE TELEPHONE   \n",
       "2  TELEPHONIE - GPS        ACCESSOIRE TELEPHONE   \n",
       "3  TELEPHONIE - GPS        ACCESSOIRE TELEPHONE   \n",
       "4  TELEPHONIE - GPS        ACCESSOIRE TELEPHONE   \n",
       "\n",
       "                          Categorie3  \\\n",
       "0                           BATTERIE   \n",
       "1  COQUE - BUMPER - FACADE TELEPHONE   \n",
       "2  COQUE - BUMPER - FACADE TELEPHONE   \n",
       "3  COQUE - BUMPER - FACADE TELEPHONE   \n",
       "4  COQUE - BUMPER - FACADE TELEPHONE   \n",
       "\n",
       "                                         Description  \\\n",
       "0  Batterie Acer Aspire One 751H-52Yr - Li-Ion 11...   \n",
       "1  Coque rigide Bleu lagon pour ALCATEL OT / 6033...   \n",
       "2  Facades et coques CELLULAR LINE SHCKGALS 3 MIN...   \n",
       "3               Coque meteore TPU  LG Nexus 4 / E960   \n",
       "4  Coque souple Transparente pour LG G FLEX D959 ...   \n",
       "\n",
       "                                            Libelle         Marque  \n",
       "0                Batterie Acer Aspire One 751H-52Yr         AUCUNE  \n",
       "1  Coque rigide Bleu lagon pour ALCATEL OT / 6033 …        MUZZANO  \n",
       "2  Facades et coques CELLULAR LINE SHCKGALS 3 MINIP  CELLULAR LINE  \n",
       "3              Coque meteore TPU  LG Nexus 4 / E960         AUCUNE  \n",
       "4  Coque souple Transparente pour LG G FLEX D959 m…        MUZZANO  "
      ]
     },
     "execution_count": 3,
     "metadata": {},
     "output_type": "execute_result"
    }
   ],
   "source": [
    "input_path = \"data/cdiscount_train.csv.zip\"\n",
    "nb_line=100000\n",
    "data_all = pd.read_csv(input_path, sep=\",\", nrows=nb_line)\n",
    "data_all = data_all.fillna(\"\") # pour les valeurs nulles\n",
    "data_all.head()"
   ]
  },
  {
   "cell_type": "markdown",
   "metadata": {},
   "source": [
    "## Dataset utilisé"
   ]
  },
  {
   "cell_type": "code",
   "execution_count": 4,
   "metadata": {},
   "outputs": [
    {
     "name": "stdout",
     "output_type": "stream",
     "text": [
      "<class 'pandas.core.frame.DataFrame'>\n",
      "(100000, 2)\n"
     ]
    }
   ],
   "source": [
    "data = data_all[[\"Categorie1\",\"Description\"]]\n",
    "print(type(data))\n",
    "print(data.shape)"
   ]
  },
  {
   "cell_type": "code",
   "execution_count": 5,
   "metadata": {},
   "outputs": [
    {
     "data": {
      "text/html": [
       "<div>\n",
       "<style scoped>\n",
       "    .dataframe tbody tr th:only-of-type {\n",
       "        vertical-align: middle;\n",
       "    }\n",
       "\n",
       "    .dataframe tbody tr th {\n",
       "        vertical-align: top;\n",
       "    }\n",
       "\n",
       "    .dataframe thead th {\n",
       "        text-align: right;\n",
       "    }\n",
       "</style>\n",
       "<table border=\"1\" class=\"dataframe\">\n",
       "  <thead>\n",
       "    <tr style=\"text-align: right;\">\n",
       "      <th></th>\n",
       "      <th>Categorie1</th>\n",
       "      <th>Description</th>\n",
       "    </tr>\n",
       "  </thead>\n",
       "  <tbody>\n",
       "    <tr>\n",
       "      <th>0</th>\n",
       "      <td>INFORMATIQUE</td>\n",
       "      <td>Batterie Acer Aspire One 751H-52Yr - Li-Ion 11...</td>\n",
       "    </tr>\n",
       "    <tr>\n",
       "      <th>1</th>\n",
       "      <td>TELEPHONIE - GPS</td>\n",
       "      <td>Coque rigide Bleu lagon pour ALCATEL OT / 6033...</td>\n",
       "    </tr>\n",
       "    <tr>\n",
       "      <th>2</th>\n",
       "      <td>TELEPHONIE - GPS</td>\n",
       "      <td>Facades et coques CELLULAR LINE SHCKGALS 3 MIN...</td>\n",
       "    </tr>\n",
       "    <tr>\n",
       "      <th>3</th>\n",
       "      <td>TELEPHONIE - GPS</td>\n",
       "      <td>Coque meteore TPU  LG Nexus 4 / E960</td>\n",
       "    </tr>\n",
       "    <tr>\n",
       "      <th>4</th>\n",
       "      <td>TELEPHONIE - GPS</td>\n",
       "      <td>Coque souple Transparente pour LG G FLEX D959 ...</td>\n",
       "    </tr>\n",
       "  </tbody>\n",
       "</table>\n",
       "</div>"
      ],
      "text/plain": [
       "         Categorie1                                        Description\n",
       "0      INFORMATIQUE  Batterie Acer Aspire One 751H-52Yr - Li-Ion 11...\n",
       "1  TELEPHONIE - GPS  Coque rigide Bleu lagon pour ALCATEL OT / 6033...\n",
       "2  TELEPHONIE - GPS  Facades et coques CELLULAR LINE SHCKGALS 3 MIN...\n",
       "3  TELEPHONIE - GPS               Coque meteore TPU  LG Nexus 4 / E960\n",
       "4  TELEPHONIE - GPS  Coque souple Transparente pour LG G FLEX D959 ..."
      ]
     },
     "execution_count": 5,
     "metadata": {},
     "output_type": "execute_result"
    }
   ],
   "source": [
    "data.head()"
   ]
  },
  {
   "cell_type": "markdown",
   "metadata": {},
   "source": [
    "## Stats descriptives"
   ]
  },
  {
   "cell_type": "code",
   "execution_count": 6,
   "metadata": {},
   "outputs": [
    {
     "data": {
      "text/html": [
       "<div>\n",
       "<style scoped>\n",
       "    .dataframe tbody tr th:only-of-type {\n",
       "        vertical-align: middle;\n",
       "    }\n",
       "\n",
       "    .dataframe tbody tr th {\n",
       "        vertical-align: top;\n",
       "    }\n",
       "\n",
       "    .dataframe thead th {\n",
       "        text-align: right;\n",
       "    }\n",
       "</style>\n",
       "<table border=\"1\" class=\"dataframe\">\n",
       "  <thead>\n",
       "    <tr style=\"text-align: right;\">\n",
       "      <th></th>\n",
       "      <th>Categorie1</th>\n",
       "      <th>Description</th>\n",
       "    </tr>\n",
       "  </thead>\n",
       "  <tbody>\n",
       "    <tr>\n",
       "      <th>count</th>\n",
       "      <td>100000</td>\n",
       "      <td>100000</td>\n",
       "    </tr>\n",
       "    <tr>\n",
       "      <th>unique</th>\n",
       "      <td>44</td>\n",
       "      <td>96591</td>\n",
       "    </tr>\n",
       "    <tr>\n",
       "      <th>top</th>\n",
       "      <td>TELEPHONIE - GPS</td>\n",
       "      <td>4400mAh | 10.8V | Li-ion - 4400mAh | 10.8V | L...</td>\n",
       "    </tr>\n",
       "    <tr>\n",
       "      <th>freq</th>\n",
       "      <td>21325</td>\n",
       "      <td>97</td>\n",
       "    </tr>\n",
       "  </tbody>\n",
       "</table>\n",
       "</div>"
      ],
      "text/plain": [
       "              Categorie1                                        Description\n",
       "count             100000                                             100000\n",
       "unique                44                                              96591\n",
       "top     TELEPHONIE - GPS  4400mAh | 10.8V | Li-ion - 4400mAh | 10.8V | L...\n",
       "freq               21325                                                 97"
      ]
     },
     "execution_count": 6,
     "metadata": {},
     "output_type": "execute_result"
    }
   ],
   "source": [
    "data.describe(include='all')"
   ]
  },
  {
   "cell_type": "markdown",
   "metadata": {},
   "source": [
    "#### Comments :\n",
    "\n",
    "- Categorie avec le + de produits : Telephonie-GPS\n",
    "- 44 catégories au total\n",
    "- 100000 produits\n",
    "- 3500 decriptions sont identiques"
   ]
  },
  {
   "cell_type": "code",
   "execution_count": 136,
   "metadata": {},
   "outputs": [],
   "source": [
    "data['Categorie1'].value_counts()\n",
    "cat_list=data['Categorie1'].value_counts().index.tolist()"
   ]
  },
  {
   "cell_type": "code",
   "execution_count": 137,
   "metadata": {},
   "outputs": [
    {
     "data": {
      "text/html": [
       "<div>\n",
       "<style scoped>\n",
       "    .dataframe tbody tr th:only-of-type {\n",
       "        vertical-align: middle;\n",
       "    }\n",
       "\n",
       "    .dataframe tbody tr th {\n",
       "        vertical-align: top;\n",
       "    }\n",
       "\n",
       "    .dataframe thead th {\n",
       "        text-align: right;\n",
       "    }\n",
       "</style>\n",
       "<table border=\"1\" class=\"dataframe\">\n",
       "  <thead>\n",
       "    <tr style=\"text-align: right;\">\n",
       "      <th></th>\n",
       "      <th>Categorie1</th>\n",
       "      <th>Description</th>\n",
       "    </tr>\n",
       "  </thead>\n",
       "  <tbody>\n",
       "    <tr>\n",
       "      <th>52370</th>\n",
       "      <td>PRODUITS FRAIS</td>\n",
       "      <td>NATINE - Mes tartines au millet - SANS SEL - B...</td>\n",
       "    </tr>\n",
       "    <tr>\n",
       "      <th>65640</th>\n",
       "      <td>PRODUITS FRAIS</td>\n",
       "      <td>Pain au chocolat - PASQUIER - Pain au chocolat...</td>\n",
       "    </tr>\n",
       "    <tr>\n",
       "      <th>84471</th>\n",
       "      <td>PRODUITS FRAIS</td>\n",
       "      <td>Riz cantonais - Riz cuit 57,4% (riz - eau - br...</td>\n",
       "    </tr>\n",
       "    <tr>\n",
       "      <th>89657</th>\n",
       "      <td>PRODUITS FRAIS</td>\n",
       "      <td>Yaourt brassé nature - VELOUTE - Yaourt brassé...</td>\n",
       "    </tr>\n",
       "  </tbody>\n",
       "</table>\n",
       "</div>"
      ],
      "text/plain": [
       "           Categorie1                                        Description\n",
       "52370  PRODUITS FRAIS  NATINE - Mes tartines au millet - SANS SEL - B...\n",
       "65640  PRODUITS FRAIS  Pain au chocolat - PASQUIER - Pain au chocolat...\n",
       "84471  PRODUITS FRAIS  Riz cantonais - Riz cuit 57,4% (riz - eau - br...\n",
       "89657  PRODUITS FRAIS  Yaourt brassé nature - VELOUTE - Yaourt brassé..."
      ]
     },
     "execution_count": 137,
     "metadata": {},
     "output_type": "execute_result"
    }
   ],
   "source": [
    "data[data['Categorie1']==\"PRODUITS FRAIS\"] #recup une ligne spécifique"
   ]
  },
  {
   "cell_type": "code",
   "execution_count": 138,
   "metadata": {},
   "outputs": [
    {
     "data": {
      "text/plain": [
       "<pandas.core.groupby.generic.DataFrameGroupBy object at 0x1a2a720a90>"
      ]
     },
     "execution_count": 138,
     "metadata": {},
     "output_type": "execute_result"
    }
   ],
   "source": [
    "freq = data.groupby(\"Categorie1\")\n",
    "freq"
   ]
  },
  {
   "cell_type": "code",
   "execution_count": 139,
   "metadata": {},
   "outputs": [
    {
     "data": {
      "text/html": [
       "<div>\n",
       "<style scoped>\n",
       "    .dataframe tbody tr th:only-of-type {\n",
       "        vertical-align: middle;\n",
       "    }\n",
       "\n",
       "    .dataframe tbody tr th {\n",
       "        vertical-align: top;\n",
       "    }\n",
       "\n",
       "    .dataframe thead th {\n",
       "        text-align: right;\n",
       "    }\n",
       "</style>\n",
       "<table border=\"1\" class=\"dataframe\">\n",
       "  <thead>\n",
       "    <tr style=\"text-align: right;\">\n",
       "      <th></th>\n",
       "      <th>Description</th>\n",
       "    </tr>\n",
       "    <tr>\n",
       "      <th>Categorie1</th>\n",
       "      <th></th>\n",
       "    </tr>\n",
       "  </thead>\n",
       "  <tbody>\n",
       "    <tr>\n",
       "      <th>TELEPHONIE - GPS</th>\n",
       "      <td>21325</td>\n",
       "    </tr>\n",
       "    <tr>\n",
       "      <th>INFORMATIQUE</th>\n",
       "      <td>14597</td>\n",
       "    </tr>\n",
       "    <tr>\n",
       "      <th>LIBRAIRIE</th>\n",
       "      <td>12121</td>\n",
       "    </tr>\n",
       "    <tr>\n",
       "      <th>VETEMENTS - LINGERIE</th>\n",
       "      <td>6023</td>\n",
       "    </tr>\n",
       "    <tr>\n",
       "      <th>BIJOUX -  LUNETTES - MONTRES</th>\n",
       "      <td>6014</td>\n",
       "    </tr>\n",
       "  </tbody>\n",
       "</table>\n",
       "</div>"
      ],
      "text/plain": [
       "                              Description\n",
       "Categorie1                               \n",
       "TELEPHONIE - GPS                    21325\n",
       "INFORMATIQUE                        14597\n",
       "LIBRAIRIE                           12121\n",
       "VETEMENTS - LINGERIE                 6023\n",
       "BIJOUX -  LUNETTES - MONTRES         6014"
      ]
     },
     "execution_count": 139,
     "metadata": {},
     "output_type": "execute_result"
    }
   ],
   "source": [
    "nb = freq.count()\n",
    "freq_cat = nb.sort_values(\"Description\", ascending=False)\n",
    "freq_cat.head()"
   ]
  },
  {
   "cell_type": "code",
   "execution_count": 142,
   "metadata": {},
   "outputs": [
    {
     "data": {
      "text/plain": [
       "<Figure size 432x288 with 0 Axes>"
      ]
     },
     "metadata": {},
     "output_type": "display_data"
    },
    {
     "data": {
      "image/png": "[encoded data removed]",
      "text/plain": [
       "<Figure size 1296x432 with 1 Axes>"
      ]
     },
     "metadata": {
      "needs_background": "light"
     },
     "output_type": "display_data"
    }
   ],
   "source": [
    "\n",
    "\n",
    "fig=plt.figure()\n",
    "ax =freq_cat.plot(kind = \"bar\", figsize=(18,6), color='b')\n",
    "ax.set_xticklabels(cat_list, rotation=45, ha='right')\n",
    "#ax.set_xlabel(\"Categories\", fontsize=16)\n",
    "plt.title(\"Number of products by categories\", fontsize=16)\n",
    "ax.legend().set_visible(False)  # supprime la légende\n"
   ]
  },
  {
   "cell_type": "code",
   "execution_count": 143,
   "metadata": {},
   "outputs": [
    {
     "name": "stdout",
     "output_type": "stream",
     "text": [
      "False    87879\n",
      "True     12121\n",
      "Name: Categorie1, dtype: int64\n"
     ]
    }
   ],
   "source": [
    "print((data['Categorie1']==\"LIBRAIRIE\").value_counts())"
   ]
  },
  {
   "cell_type": "markdown",
   "metadata": {},
   "source": [
    "## Création d'un dataframe du vocab / catégorie"
   ]
  },
  {
   "cell_type": "code",
   "execution_count": 150,
   "metadata": {},
   "outputs": [
    {
     "name": "stdout",
     "output_type": "stream",
     "text": [
      "['TELEPHONIE - GPS', 'INFORMATIQUE', 'LIBRAIRIE', 'VETEMENTS - LINGERIE ', 'BIJOUX -  LUNETTES - MONTRES', 'DECO - LINGE - LUMINAIRE', 'AUTO - MOTO (NEW)', 'BRICOLAGE - OUTILLAGE - QUINCAILLERIE', 'SPORT (NEW)', 'ELECTROMENAGER', 'JOUET (NEW)', 'BAGAGERIE', 'CULTURE / JEUX', 'PHOTO - OPTIQUE', 'CHAUSSURES - ACCESSOIRES', 'MEUBLE ', 'HYGIENE - BEAUTE - PARFUM', 'JARDIN - PISCINE', 'ART DE LA TABLE - ARTICLES CULINAIRES', 'LOISIRS CREATIFS - BEAUX ARTS - PAPETERIE', 'TV - VIDEO - SON', 'ADULTE - EROTIQUE ', 'ANIMALERIE - NEW', 'PUERICULTURE', 'LITERIE', 'ARTICLES POUR FUMEUR', 'INSTRUMENTS DE MUSIQUE', 'ELECTRONIQUE', 'MERCERIE', 'PARAPHARMACIE', 'EPICERIE', 'VIN - ALCOOL - LIQUIDES', 'POINT DE VENTE - COMMERCE - ADMINISTRATION', 'SONO - DJ', 'DROGUERIE (NEW)', 'TATOUAGE - PIERCING', 'MATERIEL DE BUREAU', 'ARME DE COMBAT - ARME DE SPORT', 'BATEAU MOTEUR - VOILIER', 'MATERIEL MEDICAL', 'CONDITIONNEMENT', 'TENUE PROFESSIONNELLE', 'MANUTENTION', 'PRODUITS FRAIS']\n"
     ]
    }
   ],
   "source": [
    "cat = data['Categorie1'].unique().tolist() #liste des categories \n",
    "print(cat_list)"
   ]
  },
  {
   "cell_type": "code",
   "execution_count": 202,
   "metadata": {},
   "outputs": [
    {
     "data": {
      "text/html": [
       "<div>\n",
       "<style scoped>\n",
       "    .dataframe tbody tr th:only-of-type {\n",
       "        vertical-align: middle;\n",
       "    }\n",
       "\n",
       "    .dataframe tbody tr th {\n",
       "        vertical-align: top;\n",
       "    }\n",
       "\n",
       "    .dataframe thead th {\n",
       "        text-align: right;\n",
       "    }\n",
       "</style>\n",
       "<table border=\"1\" class=\"dataframe\">\n",
       "  <thead>\n",
       "    <tr style=\"text-align: right;\">\n",
       "      <th></th>\n",
       "      <th>Categorie</th>\n",
       "      <th>Description</th>\n",
       "    </tr>\n",
       "  </thead>\n",
       "  <tbody>\n",
       "    <tr>\n",
       "      <th>0</th>\n",
       "      <td>TELEPHONIE - GPS</td>\n",
       "      <td>Coque rigide Bleu lagon pour ALCATEL OT / 6033...</td>\n",
       "    </tr>\n",
       "    <tr>\n",
       "      <th>1</th>\n",
       "      <td>INFORMATIQUE</td>\n",
       "      <td>Batterie Acer Aspire One 751H-52Yr - Li-Ion 11...</td>\n",
       "    </tr>\n",
       "    <tr>\n",
       "      <th>2</th>\n",
       "      <td>LIBRAIRIE</td>\n",
       "      <td>De Teo aux éditions EMMANUEL PROUST Saint Seiy...</td>\n",
       "    </tr>\n",
       "    <tr>\n",
       "      <th>3</th>\n",
       "      <td>VETEMENTS - LINGERIE</td>\n",
       "      <td>debardeur femme superman or - … Voir la présen...</td>\n",
       "    </tr>\n",
       "    <tr>\n",
       "      <th>4</th>\n",
       "      <td>BIJOUX -  LUNETTES - MONTRES</td>\n",
       "      <td>Seiko SFP599 Hommes Montre - Acheter Authentiq...</td>\n",
       "    </tr>\n",
       "  </tbody>\n",
       "</table>\n",
       "</div>"
      ],
      "text/plain": [
       "                      Categorie  \\\n",
       "0              TELEPHONIE - GPS   \n",
       "1                  INFORMATIQUE   \n",
       "2                     LIBRAIRIE   \n",
       "3         VETEMENTS - LINGERIE    \n",
       "4  BIJOUX -  LUNETTES - MONTRES   \n",
       "\n",
       "                                         Description  \n",
       "0  Coque rigide Bleu lagon pour ALCATEL OT / 6033...  \n",
       "1  Batterie Acer Aspire One 751H-52Yr - Li-Ion 11...  \n",
       "2  De Teo aux éditions EMMANUEL PROUST Saint Seiy...  \n",
       "3  debardeur femme superman or - … Voir la présen...  \n",
       "4  Seiko SFP599 Hommes Montre - Acheter Authentiq...  "
      ]
     },
     "execution_count": 202,
     "metadata": {},
     "output_type": "execute_result"
    }
   ],
   "source": [
    "## Creation d'un data frame par categories\n",
    "new = []\n",
    "for i in cat_list :    \n",
    "    voca = \"\"    \n",
    "    c = data[data['Categorie1']==i].index #selectionne les lignes correspondantes a la categorie\n",
    "    for index in c :\n",
    "        voca += data['Description'][index]\n",
    "        voca += \" \"\n",
    "    new.append([i,voca]) #nom categorie + voca associé\n",
    "\n",
    "df = pd.DataFrame(new,columns=['Categorie','Description'])\n",
    "df.head()"
   ]
  },
  {
   "cell_type": "code",
   "execution_count": 155,
   "metadata": {},
   "outputs": [
    {
     "name": "stdout",
     "output_type": "stream",
     "text": [
      "total :  102\n",
      "unique :  58\n"
     ]
    }
   ],
   "source": [
    "i_frai = df[df['Categorie']==\"PRODUITS FRAIS\"].index \n",
    "frai = df['Description'][i_frai[0]] #recup vocabulaire de categorie produits frais\n",
    "#print(frai.split(\" \"))\n",
    "print(\"total : \", len(frai.split(\" \"))) #compte nb de mots\n",
    "print(\"unique : \", len(set(frai.split(\" \")))) #compte nb mots uniques"
   ]
  },
  {
   "cell_type": "code",
   "execution_count": 156,
   "metadata": {},
   "outputs": [
    {
     "name": "stdout",
     "output_type": "stream",
     "text": [
      "52370    NATINE - Mes tartines au millet - SANS SEL - B...\n",
      "65640    Pain au chocolat - PASQUIER - Pain au chocolat...\n",
      "84471    Riz cantonais - Riz cuit 57,4% (riz - eau - br...\n",
      "89657    Yaourt brassé nature - VELOUTE - Yaourt brassé...\n",
      "Name: Description, dtype: object\n"
     ]
    }
   ],
   "source": [
    "# Verification avec les données initiales\n",
    "index_frai = data[data['Categorie1']==\"PRODUITS FRAIS\"].index \n",
    "for i in index_frai :\n",
    "    b = data['Description'][index_frai]\n",
    "    \n",
    "print(b)"
   ]
  },
  {
   "cell_type": "markdown",
   "metadata": {},
   "source": [
    "### Afficher nb de mots unique par categorie"
   ]
  },
  {
   "cell_type": "code",
   "execution_count": 203,
   "metadata": {},
   "outputs": [],
   "source": [
    "nb = []\n",
    "uniq = []\n",
    "\n",
    "for cat_i in range(44) :\n",
    "    voc_cat_i = df['Description'][cat_i]\n",
    "    nb.append(len(voc_cat_i.split(\" \")))\n",
    "    uniq.append(len(set(voc_cat_i.split(\" \"))))"
   ]
  },
  {
   "cell_type": "code",
   "execution_count": 206,
   "metadata": {},
   "outputs": [
    {
     "data": {
      "text/html": [
       "<div>\n",
       "<style scoped>\n",
       "    .dataframe tbody tr th:only-of-type {\n",
       "        vertical-align: middle;\n",
       "    }\n",
       "\n",
       "    .dataframe tbody tr th {\n",
       "        vertical-align: top;\n",
       "    }\n",
       "\n",
       "    .dataframe thead th {\n",
       "        text-align: right;\n",
       "    }\n",
       "</style>\n",
       "<table border=\"1\" class=\"dataframe\">\n",
       "  <thead>\n",
       "    <tr style=\"text-align: right;\">\n",
       "      <th></th>\n",
       "      <th>Categorie</th>\n",
       "      <th>Description</th>\n",
       "      <th>Total words</th>\n",
       "      <th>Uniq words</th>\n",
       "    </tr>\n",
       "  </thead>\n",
       "  <tbody>\n",
       "    <tr>\n",
       "      <th>0</th>\n",
       "      <td>TELEPHONIE - GPS</td>\n",
       "      <td>Coque rigide Bleu lagon pour ALCATEL OT / 6033...</td>\n",
       "      <td>666273</td>\n",
       "      <td>24823</td>\n",
       "    </tr>\n",
       "    <tr>\n",
       "      <th>1</th>\n",
       "      <td>INFORMATIQUE</td>\n",
       "      <td>Batterie Acer Aspire One 751H-52Yr - Li-Ion 11...</td>\n",
       "      <td>350279</td>\n",
       "      <td>34009</td>\n",
       "    </tr>\n",
       "    <tr>\n",
       "      <th>5</th>\n",
       "      <td>DECO - LINGE - LUMINAIRE</td>\n",
       "      <td>Cars Poster Reproduction Sur Toile, Tendue Sur...</td>\n",
       "      <td>173110</td>\n",
       "      <td>22908</td>\n",
       "    </tr>\n",
       "    <tr>\n",
       "      <th>3</th>\n",
       "      <td>VETEMENTS - LINGERIE</td>\n",
       "      <td>debardeur femme superman or - … Voir la présen...</td>\n",
       "      <td>155486</td>\n",
       "      <td>22869</td>\n",
       "    </tr>\n",
       "    <tr>\n",
       "      <th>4</th>\n",
       "      <td>BIJOUX -  LUNETTES - MONTRES</td>\n",
       "      <td>Seiko SFP599 Hommes Montre - Acheter Authentiq...</td>\n",
       "      <td>151162</td>\n",
       "      <td>19582</td>\n",
       "    </tr>\n",
       "    <tr>\n",
       "      <th>6</th>\n",
       "      <td>AUTO - MOTO (NEW)</td>\n",
       "      <td>Tube de fourche Tarozzi KYMCO X-CITING 500 - 0...</td>\n",
       "      <td>130557</td>\n",
       "      <td>18455</td>\n",
       "    </tr>\n",
       "    <tr>\n",
       "      <th>2</th>\n",
       "      <td>LIBRAIRIE</td>\n",
       "      <td>De Teo aux éditions EMMANUEL PROUST Saint Seiy...</td>\n",
       "      <td>104108</td>\n",
       "      <td>22468</td>\n",
       "    </tr>\n",
       "    <tr>\n",
       "      <th>7</th>\n",
       "      <td>BRICOLAGE - OUTILLAGE - QUINCAILLERIE</td>\n",
       "      <td>Clé polygonale double contre-coudée - 20x22 - ...</td>\n",
       "      <td>81829</td>\n",
       "      <td>18792</td>\n",
       "    </tr>\n",
       "    <tr>\n",
       "      <th>8</th>\n",
       "      <td>SPORT (NEW)</td>\n",
       "      <td>Huile Rock Shox Deo Brunox pour fourreaux de f...</td>\n",
       "      <td>69917</td>\n",
       "      <td>16815</td>\n",
       "    </tr>\n",
       "    <tr>\n",
       "      <th>11</th>\n",
       "      <td>BAGAGERIE</td>\n",
       "      <td>portefeuille porte cartes billets compagnon fe...</td>\n",
       "      <td>55178</td>\n",
       "      <td>9791</td>\n",
       "    </tr>\n",
       "    <tr>\n",
       "      <th>10</th>\n",
       "      <td>JOUET (NEW)</td>\n",
       "      <td>PLAYMOBIL - PLAYMOBIL - superset aire de stock...</td>\n",
       "      <td>52296</td>\n",
       "      <td>13541</td>\n",
       "    </tr>\n",
       "    <tr>\n",
       "      <th>9</th>\n",
       "      <td>ELECTROMENAGER</td>\n",
       "      <td>Filtre metal antigraisse (x1) AD546BE11 AD546W...</td>\n",
       "      <td>52090</td>\n",
       "      <td>9540</td>\n",
       "    </tr>\n",
       "    <tr>\n",
       "      <th>12</th>\n",
       "      <td>CULTURE / JEUX</td>\n",
       "      <td>De Keenen Ivory Wayans avec Shannon Elizabeth,...</td>\n",
       "      <td>45158</td>\n",
       "      <td>11562</td>\n",
       "    </tr>\n",
       "    <tr>\n",
       "      <th>15</th>\n",
       "      <td>MEUBLE</td>\n",
       "      <td>Dynamisez le coté classique de votre salon grâ...</td>\n",
       "      <td>41027</td>\n",
       "      <td>8131</td>\n",
       "    </tr>\n",
       "    <tr>\n",
       "      <th>17</th>\n",
       "      <td>JARDIN - PISCINE</td>\n",
       "      <td>n°9 - Molette de serrage pour collier R3930280...</td>\n",
       "      <td>39209</td>\n",
       "      <td>9126</td>\n",
       "    </tr>\n",
       "    <tr>\n",
       "      <th>13</th>\n",
       "      <td>PHOTO - OPTIQUE</td>\n",
       "      <td>Batterie pour Panasonic SDR-S15 - &lt;p&gt;Batterie ...</td>\n",
       "      <td>38310</td>\n",
       "      <td>7386</td>\n",
       "    </tr>\n",
       "    <tr>\n",
       "      <th>16</th>\n",
       "      <td>HYGIENE - BEAUTE - PARFUM</td>\n",
       "      <td>Uriage AquaPRÉCIS Crème Confort 40 ml - Les mi...</td>\n",
       "      <td>37311</td>\n",
       "      <td>9946</td>\n",
       "    </tr>\n",
       "    <tr>\n",
       "      <th>14</th>\n",
       "      <td>CHAUSSURES - ACCESSOIRES</td>\n",
       "      <td>Bottes bi-matière à talons bleu - Zaza Pata  -...</td>\n",
       "      <td>36085</td>\n",
       "      <td>7364</td>\n",
       "    </tr>\n",
       "    <tr>\n",
       "      <th>18</th>\n",
       "      <td>ART DE LA TABLE - ARTICLES CULINAIRES</td>\n",
       "      <td>Mugs Alchemy (king 13) (Taille unique)  - Mugs...</td>\n",
       "      <td>30268</td>\n",
       "      <td>8162</td>\n",
       "    </tr>\n",
       "    <tr>\n",
       "      <th>19</th>\n",
       "      <td>LOISIRS CREATIFS - BEAUX ARTS - PAPETERIE</td>\n",
       "      <td>Vinyle autocollant Pink Floyd Dark Side of the...</td>\n",
       "      <td>26940</td>\n",
       "      <td>7292</td>\n",
       "    </tr>\n",
       "    <tr>\n",
       "      <th>20</th>\n",
       "      <td>TV - VIDEO - SON</td>\n",
       "      <td>Enceinte JBL Micro Wireless Bleu - Les points ...</td>\n",
       "      <td>25693</td>\n",
       "      <td>7060</td>\n",
       "    </tr>\n",
       "    <tr>\n",
       "      <th>21</th>\n",
       "      <td>ADULTE - EROTIQUE</td>\n",
       "      <td>Les interdits Shorty dentelle-Seven Til Midnig...</td>\n",
       "      <td>23264</td>\n",
       "      <td>6618</td>\n",
       "    </tr>\n",
       "    <tr>\n",
       "      <th>22</th>\n",
       "      <td>ANIMALERIE - NEW</td>\n",
       "      <td>Lit Mijou, 48 × 37 Pouces, Crème - -imitation ...</td>\n",
       "      <td>16365</td>\n",
       "      <td>4976</td>\n",
       "    </tr>\n",
       "    <tr>\n",
       "      <th>23</th>\n",
       "      <td>PUERICULTURE</td>\n",
       "      <td>AUTOSITZSCHALE MIT ADAPTER - AUTOSITZSCHALE MI...</td>\n",
       "      <td>14560</td>\n",
       "      <td>4674</td>\n",
       "    </tr>\n",
       "    <tr>\n",
       "      <th>24</th>\n",
       "      <td>LITERIE</td>\n",
       "      <td>Sommier à Lattes  ROMEO- MOD 2 - Sommier Romeo...</td>\n",
       "      <td>12449</td>\n",
       "      <td>2833</td>\n",
       "    </tr>\n",
       "    <tr>\n",
       "      <th>28</th>\n",
       "      <td>MERCERIE</td>\n",
       "      <td>couleur : blanc - Fil polyester à repriser ,co...</td>\n",
       "      <td>10571</td>\n",
       "      <td>1947</td>\n",
       "    </tr>\n",
       "    <tr>\n",
       "      <th>25</th>\n",
       "      <td>ARTICLES POUR FUMEUR</td>\n",
       "      <td>E-PACK FRUITÉ 'EXPERT' (Titanium bleu - Mixte ...</td>\n",
       "      <td>10167</td>\n",
       "      <td>3099</td>\n",
       "    </tr>\n",
       "    <tr>\n",
       "      <th>27</th>\n",
       "      <td>ELECTRONIQUE</td>\n",
       "      <td>Bloc de jonction à fusible Contenu: 20 pc(s) p...</td>\n",
       "      <td>10092</td>\n",
       "      <td>2562</td>\n",
       "    </tr>\n",
       "    <tr>\n",
       "      <th>26</th>\n",
       "      <td>INSTRUMENTS DE MUSIQUE</td>\n",
       "      <td>BAGUETTES ZILDJIAN JOHN OTTO SIGNATURE SOLDES ...</td>\n",
       "      <td>8641</td>\n",
       "      <td>3791</td>\n",
       "    </tr>\n",
       "    <tr>\n",
       "      <th>29</th>\n",
       "      <td>PARAPHARMACIE</td>\n",
       "      <td>CHLORURE DE MAGNESIUM paquet de 500 grs. - Com...</td>\n",
       "      <td>7752</td>\n",
       "      <td>3031</td>\n",
       "    </tr>\n",
       "    <tr>\n",
       "      <th>30</th>\n",
       "      <td>EPICERIE</td>\n",
       "      <td>Sel de Guérande aux épices, Verrine 150 gr - S...</td>\n",
       "      <td>6945</td>\n",
       "      <td>2909</td>\n",
       "    </tr>\n",
       "    <tr>\n",
       "      <th>32</th>\n",
       "      <td>POINT DE VENTE - COMMERCE - ADMINISTRATION</td>\n",
       "      <td>Vikuiti MySunshadeDisplay Film de protection é...</td>\n",
       "      <td>4881</td>\n",
       "      <td>949</td>\n",
       "    </tr>\n",
       "    <tr>\n",
       "      <th>31</th>\n",
       "      <td>VIN - ALCOOL - LIQUIDES</td>\n",
       "      <td>La cuvée Springtime de la maison Pommery  est ...</td>\n",
       "      <td>4721</td>\n",
       "      <td>1687</td>\n",
       "    </tr>\n",
       "    <tr>\n",
       "      <th>34</th>\n",
       "      <td>DROGUERIE (NEW)</td>\n",
       "      <td>PERCHE TELESCOPIQUE SECURITY LOCK 3X2M - PERCH...</td>\n",
       "      <td>4385</td>\n",
       "      <td>1843</td>\n",
       "    </tr>\n",
       "    <tr>\n",
       "      <th>33</th>\n",
       "      <td>SONO - DJ</td>\n",
       "      <td>SHURE MX395AL-BI - Micro pour installation - L...</td>\n",
       "      <td>4374</td>\n",
       "      <td>1935</td>\n",
       "    </tr>\n",
       "    <tr>\n",
       "      <th>35</th>\n",
       "      <td>TATOUAGE - PIERCING</td>\n",
       "      <td>piercing nombril florence coeur rose - piercin...</td>\n",
       "      <td>3889</td>\n",
       "      <td>927</td>\n",
       "    </tr>\n",
       "    <tr>\n",
       "      <th>36</th>\n",
       "      <td>MATERIEL DE BUREAU</td>\n",
       "      <td>Ruban Dymo Hyper-Jaune - Contenu : 1 pc(s)Coul...</td>\n",
       "      <td>2515</td>\n",
       "      <td>1094</td>\n",
       "    </tr>\n",
       "    <tr>\n",
       "      <th>37</th>\n",
       "      <td>ARME DE COMBAT - ARME DE SPORT</td>\n",
       "      <td>Réplique chargeur STI DUTY ONE (CPG1945) - Rép...</td>\n",
       "      <td>2335</td>\n",
       "      <td>950</td>\n",
       "    </tr>\n",
       "    <tr>\n",
       "      <th>38</th>\n",
       "      <td>BATEAU MOTEUR - VOILIER</td>\n",
       "      <td>Echelle pour plateforme70086 -  Fabrication i...</td>\n",
       "      <td>1801</td>\n",
       "      <td>816</td>\n",
       "    </tr>\n",
       "    <tr>\n",
       "      <th>39</th>\n",
       "      <td>MATERIEL MEDICAL</td>\n",
       "      <td>Tensiometre Electronique au Bras CR4 - Tensiom...</td>\n",
       "      <td>1086</td>\n",
       "      <td>602</td>\n",
       "    </tr>\n",
       "    <tr>\n",
       "      <th>40</th>\n",
       "      <td>CONDITIONNEMENT</td>\n",
       "      <td>EMBALLAGE Ruban adhésif d'emballage PVC colle ...</td>\n",
       "      <td>727</td>\n",
       "      <td>391</td>\n",
       "    </tr>\n",
       "    <tr>\n",
       "      <th>41</th>\n",
       "      <td>TENUE PROFESSIONNELLE</td>\n",
       "      <td>JANNY Chaussure de Sécurité  Beige Jeans Femme...</td>\n",
       "      <td>587</td>\n",
       "      <td>344</td>\n",
       "    </tr>\n",
       "    <tr>\n",
       "      <th>42</th>\n",
       "      <td>MANUTENTION</td>\n",
       "      <td>Kit porte plaque Apache - Cet accessoire très ...</td>\n",
       "      <td>360</td>\n",
       "      <td>195</td>\n",
       "    </tr>\n",
       "    <tr>\n",
       "      <th>43</th>\n",
       "      <td>PRODUITS FRAIS</td>\n",
       "      <td>NATINE - Mes tartines au millet - SANS SEL - B...</td>\n",
       "      <td>102</td>\n",
       "      <td>58</td>\n",
       "    </tr>\n",
       "  </tbody>\n",
       "</table>\n",
       "</div>"
      ],
      "text/plain": [
       "                                     Categorie  \\\n",
       "0                             TELEPHONIE - GPS   \n",
       "1                                 INFORMATIQUE   \n",
       "5                     DECO - LINGE - LUMINAIRE   \n",
       "3                        VETEMENTS - LINGERIE    \n",
       "4                 BIJOUX -  LUNETTES - MONTRES   \n",
       "6                            AUTO - MOTO (NEW)   \n",
       "2                                    LIBRAIRIE   \n",
       "7        BRICOLAGE - OUTILLAGE - QUINCAILLERIE   \n",
       "8                                  SPORT (NEW)   \n",
       "11                                   BAGAGERIE   \n",
       "10                                 JOUET (NEW)   \n",
       "9                               ELECTROMENAGER   \n",
       "12                              CULTURE / JEUX   \n",
       "15                                     MEUBLE    \n",
       "17                            JARDIN - PISCINE   \n",
       "13                             PHOTO - OPTIQUE   \n",
       "16                   HYGIENE - BEAUTE - PARFUM   \n",
       "14                    CHAUSSURES - ACCESSOIRES   \n",
       "18       ART DE LA TABLE - ARTICLES CULINAIRES   \n",
       "19   LOISIRS CREATIFS - BEAUX ARTS - PAPETERIE   \n",
       "20                            TV - VIDEO - SON   \n",
       "21                          ADULTE - EROTIQUE    \n",
       "22                            ANIMALERIE - NEW   \n",
       "23                                PUERICULTURE   \n",
       "24                                     LITERIE   \n",
       "28                                    MERCERIE   \n",
       "25                        ARTICLES POUR FUMEUR   \n",
       "27                                ELECTRONIQUE   \n",
       "26                      INSTRUMENTS DE MUSIQUE   \n",
       "29                               PARAPHARMACIE   \n",
       "30                                    EPICERIE   \n",
       "32  POINT DE VENTE - COMMERCE - ADMINISTRATION   \n",
       "31                     VIN - ALCOOL - LIQUIDES   \n",
       "34                             DROGUERIE (NEW)   \n",
       "33                                   SONO - DJ   \n",
       "35                         TATOUAGE - PIERCING   \n",
       "36                          MATERIEL DE BUREAU   \n",
       "37              ARME DE COMBAT - ARME DE SPORT   \n",
       "38                     BATEAU MOTEUR - VOILIER   \n",
       "39                            MATERIEL MEDICAL   \n",
       "40                             CONDITIONNEMENT   \n",
       "41                       TENUE PROFESSIONNELLE   \n",
       "42                                 MANUTENTION   \n",
       "43                              PRODUITS FRAIS   \n",
       "\n",
       "                                          Description  Total words  Uniq words  \n",
       "0   Coque rigide Bleu lagon pour ALCATEL OT / 6033...       666273       24823  \n",
       "1   Batterie Acer Aspire One 751H-52Yr - Li-Ion 11...       350279       34009  \n",
       "5   Cars Poster Reproduction Sur Toile, Tendue Sur...       173110       22908  \n",
       "3   debardeur femme superman or - … Voir la présen...       155486       22869  \n",
       "4   Seiko SFP599 Hommes Montre - Acheter Authentiq...       151162       19582  \n",
       "6   Tube de fourche Tarozzi KYMCO X-CITING 500 - 0...       130557       18455  \n",
       "2   De Teo aux éditions EMMANUEL PROUST Saint Seiy...       104108       22468  \n",
       "7   Clé polygonale double contre-coudée - 20x22 - ...        81829       18792  \n",
       "8   Huile Rock Shox Deo Brunox pour fourreaux de f...        69917       16815  \n",
       "11  portefeuille porte cartes billets compagnon fe...        55178        9791  \n",
       "10  PLAYMOBIL - PLAYMOBIL - superset aire de stock...        52296       13541  \n",
       "9   Filtre metal antigraisse (x1) AD546BE11 AD546W...        52090        9540  \n",
       "12  De Keenen Ivory Wayans avec Shannon Elizabeth,...        45158       11562  \n",
       "15  Dynamisez le coté classique de votre salon grâ...        41027        8131  \n",
       "17  n°9 - Molette de serrage pour collier R3930280...        39209        9126  \n",
       "13  Batterie pour Panasonic SDR-S15 - <p>Batterie ...        38310        7386  \n",
       "16  Uriage AquaPRÉCIS Crème Confort 40 ml - Les mi...        37311        9946  \n",
       "14  Bottes bi-matière à talons bleu - Zaza Pata  -...        36085        7364  \n",
       "18  Mugs Alchemy (king 13) (Taille unique)  - Mugs...        30268        8162  \n",
       "19  Vinyle autocollant Pink Floyd Dark Side of the...        26940        7292  \n",
       "20  Enceinte JBL Micro Wireless Bleu - Les points ...        25693        7060  \n",
       "21  Les interdits Shorty dentelle-Seven Til Midnig...        23264        6618  \n",
       "22  Lit Mijou, 48 × 37 Pouces, Crème - -imitation ...        16365        4976  \n",
       "23  AUTOSITZSCHALE MIT ADAPTER - AUTOSITZSCHALE MI...        14560        4674  \n",
       "24  Sommier à Lattes  ROMEO- MOD 2 - Sommier Romeo...        12449        2833  \n",
       "28  couleur : blanc - Fil polyester à repriser ,co...        10571        1947  \n",
       "25  E-PACK FRUITÉ 'EXPERT' (Titanium bleu - Mixte ...        10167        3099  \n",
       "27  Bloc de jonction à fusible Contenu: 20 pc(s) p...        10092        2562  \n",
       "26  BAGUETTES ZILDJIAN JOHN OTTO SIGNATURE SOLDES ...         8641        3791  \n",
       "29  CHLORURE DE MAGNESIUM paquet de 500 grs. - Com...         7752        3031  \n",
       "30  Sel de Guérande aux épices, Verrine 150 gr - S...         6945        2909  \n",
       "32  Vikuiti MySunshadeDisplay Film de protection é...         4881         949  \n",
       "31  La cuvée Springtime de la maison Pommery  est ...         4721        1687  \n",
       "34  PERCHE TELESCOPIQUE SECURITY LOCK 3X2M - PERCH...         4385        1843  \n",
       "33  SHURE MX395AL-BI - Micro pour installation - L...         4374        1935  \n",
       "35  piercing nombril florence coeur rose - piercin...         3889         927  \n",
       "36  Ruban Dymo Hyper-Jaune - Contenu : 1 pc(s)Coul...         2515        1094  \n",
       "37  Réplique chargeur STI DUTY ONE (CPG1945) - Rép...         2335         950  \n",
       "38   Echelle pour plateforme70086 -  Fabrication i...         1801         816  \n",
       "39  Tensiometre Electronique au Bras CR4 - Tensiom...         1086         602  \n",
       "40  EMBALLAGE Ruban adhésif d'emballage PVC colle ...          727         391  \n",
       "41  JANNY Chaussure de Sécurité  Beige Jeans Femme...          587         344  \n",
       "42  Kit porte plaque Apache - Cet accessoire très ...          360         195  \n",
       "43  NATINE - Mes tartines au millet - SANS SEL - B...          102          58  "
      ]
     },
     "execution_count": 206,
     "metadata": {},
     "output_type": "execute_result"
    }
   ],
   "source": [
    "df['Total words'] = nb\n",
    "df['Uniq words'] = uniq\n",
    "data_voc = df.sort_values(by = 'Total words', ascending=False)\n",
    "data_voc"
   ]
  },
  {
   "cell_type": "code",
   "execution_count": 199,
   "metadata": {},
   "outputs": [
    {
     "name": "stdout",
     "output_type": "stream",
     "text": [
      "…\n",
      " \n",
      "_\n"
     ]
    }
   ],
   "source": [
    "print(u'\\u2026')\n",
    "print(u'\\u00a0')\n",
    "print(u'\\u005F')"
   ]
  },
  {
   "cell_type": "code",
   "execution_count": 209,
   "metadata": {},
   "outputs": [],
   "source": [
    "main_cat = data_voc['Categorie'][0:7].tolist() #recup valeurs d'une colonne\n",
    "main_tot = data_voc['Total words'][0:7].tolist()\n",
    "main_uniq = data_voc['Uniq words'][0:7].tolist()"
   ]
  },
  {
   "cell_type": "code",
   "execution_count": 224,
   "metadata": {},
   "outputs": [
    {
     "data": {
      "image/png": "[encoded data removed]",
      "text/plain": [
       "<Figure size 720x720 with 1 Axes>"
      ]
     },
     "metadata": {
      "needs_background": "light"
     },
     "output_type": "display_data"
    },
    {
     "data": {
      "image/png": "[encoded data removed]",
      "text/plain": [
       "<Figure size 720x720 with 1 Axes>"
      ]
     },
     "metadata": {
      "needs_background": "light"
     },
     "output_type": "display_data"
    }
   ],
   "source": [
    "fig = plt.figure(figsize=(10,10))\n",
    "plt.bar(main_cat,main_tot,width = 0.5, color = 'orange', label=\"Total words\")\n",
    "plt.bar(main_cat,main_uniq,width = 0.5, color = 'green', label=\"Uniq words\")\n",
    "plt.title(\"Size of vocabulary for main categories\")\n",
    "plt.legend()\n",
    "fig.autofmt_xdate(rotation=45)\n",
    "\n",
    "\n",
    "fig = plt.figure(figsize=(10,10))\n",
    "plt.bar(main_cat,main_uniq,width = 0.5, color = 'green', label=\"Uniq words\")\n",
    "plt.title(\"Size of vocabulary for main categories\")\n",
    "plt.legend()\n",
    "fig.autofmt_xdate(rotation=45)"
   ]
  },
  {
   "cell_type": "markdown",
   "metadata": {},
   "source": [
    "## Cleaning"
   ]
  },
  {
   "cell_type": "code",
   "execution_count": 225,
   "metadata": {},
   "outputs": [
    {
     "name": "stderr",
     "output_type": "stream",
     "text": [
      "[nltk_data] Downloading package stopwords to\n",
      "[nltk_data]     /Users/paulbrunet/nltk_data...\n",
      "[nltk_data]   Package stopwords is already up-to-date!\n"
     ]
    },
    {
     "data": {
      "text/plain": [
       "True"
      ]
     },
     "execution_count": 225,
     "metadata": {},
     "output_type": "execute_result"
    }
   ],
   "source": [
    "nltk.download(\"stopwords\") #chargement des stop words"
   ]
  },
  {
   "cell_type": "markdown",
   "metadata": {},
   "source": [
    "### Clean sur un string"
   ]
  },
  {
   "cell_type": "code",
   "execution_count": 226,
   "metadata": {},
   "outputs": [],
   "source": [
    "#vocabulaire TOTAL, toutes catégories confondues\n",
    "\n",
    "voca = \"\" \n",
    "for k in range(nb_line):\n",
    "    des = data['Description'][k]\n",
    "    voca += \" \"\n",
    "    voca += des"
   ]
  },
  {
   "cell_type": "code",
   "execution_count": 249,
   "metadata": {},
   "outputs": [],
   "source": [
    "def cleaning(voca) :\n",
    "    print(\"Cleaning function :\")\n",
    "    print(\"Total words :\" ,len(voca.split(\" \")))\n",
    "    print(\"Unique words :\" ,len(set(voca.split(\" \"))))\n",
    "    print(\"Ratio words :\" , len(voca.split(\" \"))/len(set(voca.split(\" \"))), \"\\n \\n\")\n",
    "\n",
    "    \n",
    "    #STEP 1 : Standardization\n",
    "    cleaned_voc = voca\n",
    "    cleaned_voc = cleaned_voc.lower()\n",
    "    cleaned_voc = cleaned_voc.replace(u'\\u2026','.') #put the vocabulary in lower\n",
    "    cleaned_voc = cleaned_voc.replace(u'\\u00a0',' ') #removing special character \n",
    "    cleaned_voc = cleaned_voc.replace(u'\\u005F',' ')\n",
    "    cleaned_voc = unicodedata.normalize('NFD', cleaned_voc).encode('ascii', 'ignore').decode(\"utf-8\") #takes off some punctuation\n",
    "    cleaned_voc = re.sub('[^a-z_]', ' ', cleaned_voc) # keeps only alphabet letters\n",
    "    print(\"Total after step 1 :\", len(cleaned_voc.split(\" \")))\n",
    "    print(\"Uniq after step 1 :\", len(set(cleaned_voc.split(\" \"))) , \"\\n \\n\")\n",
    "\n",
    "    \n",
    "    #STEP 2 : Removing french stopwords using NLTK\n",
    "    stopwords = nltk.corpus.stopwords.words('french') \n",
    "    stopwords = [unicodedata.normalize('NFD', sw).encode('ascii', 'ignore').decode(\"utf-8\") for sw in stopwords]\n",
    "    stopwords += [\"voir\"]\n",
    "    stopwords += [\"presentation\"]\n",
    "    \n",
    "    stopwordsenglish = nltk.corpus.stopwords.words('english')\n",
    "    stopwordsenglish = [unicodedata.normalize('NFD', sw).encode('ascii', 'ignore').decode(\"utf-8\") for sw in stopwordsenglish]\n",
    "   \n",
    "    \n",
    "    tokens = [w for w in cleaned_voc.split(\" \") if (len(w)>2) and (w not in stopwords) and (w not in stopwordsenglish)]\n",
    "    removed_words = [w for w in cleaned_voc.split(\" \") if (len(w)<2) or (w in stopwords) or (w in stopwordsenglish)]\n",
    "    print(\"Total after step 2 :\", len(tokens))\n",
    "    print(\"Uniq after step 2 :\", len(set(tokens)) , \"\\n \\n\")\n",
    "    \n",
    "    #STEP 3 : Stemming\n",
    "    stemmer=nltk.stem.SnowballStemmer('french')\n",
    "    stemmer2=nltk.stem.SnowballStemmer('english')\n",
    "    tokens_stem = [stemmer2.stem(token) for token in tokens]\n",
    "    tokens_stem = [stemmer.stem(token) for token in tokens]\n",
    "    \n",
    "    print(\"Total tokens after step 3 :\" , len(tokens_stem))\n",
    "    print(\"Unique tokens after step 3 :\" ,len(set(tokens_stem)))\n",
    "    print(\"Ratio tokens :\" , len(tokens_stem)/len(set(tokens_stem)))\n",
    "    \n",
    "    return tokens_stem"
   ]
  },
  {
   "cell_type": "code",
   "execution_count": 250,
   "metadata": {},
   "outputs": [
    {
     "name": "stdout",
     "output_type": "stream",
     "text": [
      "Cleaning function :\n",
      "Total words : 2514812\n",
      "Unique words : 219119\n",
      "Ratio words : 11.47692349819048 \n",
      " \n",
      "\n",
      "Total after step 1 : 3794485\n",
      "Uniq after step 1 : 75361 \n",
      " \n",
      "\n",
      "Total after step 2 : 1368185\n",
      "Uniq after step 2 : 74498 \n",
      " \n",
      "\n",
      "Total tokens after step 3 : 1368185\n",
      "Unique tokens after step 3 : 57871\n",
      "Ratio tokens : 23.641979575262223\n"
     ]
    }
   ],
   "source": [
    "cleaned_voc = cleaning(voca)"
   ]
  },
  {
   "cell_type": "code",
   "execution_count": 245,
   "metadata": {},
   "outputs": [
    {
     "name": "stdout",
     "output_type": "stream",
     "text": [
      "Nb of total words :  2514855\n"
     ]
    }
   ],
   "source": [
    "row_sum = df.sum() \n",
    "\n",
    "print(\"Nb of total words : \", row_sum[2]) \n",
    "\n",
    "# ICI PROBLEME : unique 357 853, ça correspond pas à 219 119 ????\n",
    "# mots dans plusieurs catégories \n",
    "\n",
    "# Le delta est du au caractère '_'"
   ]
  },
  {
   "cell_type": "markdown",
   "metadata": {},
   "source": [
    "### Clean à partir d'un dataframe"
   ]
  },
  {
   "cell_type": "code",
   "execution_count": 25,
   "metadata": {},
   "outputs": [],
   "source": [
    "a = df['Description'][0] #recup la description d'une cat"
   ]
  },
  {
   "cell_type": "code",
   "execution_count": 26,
   "metadata": {},
   "outputs": [],
   "source": [
    "# a la fin j'ai pas encore trouvé comment modifier la description du dataset et mettre celle nettoyé à la place\n",
    "# Je voulais comparé les résultats avec la fonction précédente voir ce qu'il en est au niveau du comptage de mots\n",
    "\n",
    "\n",
    "def cleaning_df(df) :\n",
    "\n",
    "    row_sum = df.sum() \n",
    "    print(\"Total words :\" , row_sum[2])\n",
    "    print(\"Unique words :\" ,row_sum[3], \"\\n \\n\")\n",
    "    \n",
    "    for i in range(44) : \n",
    "        voca = df['Description'][i]\n",
    "        #STEP 1 : Standardization\n",
    "        cleaned_voc = voca\n",
    "        cleaned_voc = cleaned_voc.lower()\n",
    "        cleaned_voc = cleaned_voc.replace(u'\\u2026','.') #put the vocabulary in lower\n",
    "        cleaned_voc = cleaned_voc.replace(u'\\u00a0',' ') #removing special character \n",
    "        cleaned_voc = unicodedata.normalize('NFD', cleaned_voc).encode('ascii', 'ignore').decode(\"utf-8\") #takes off some punctuation\n",
    "        cleaned_voc = re.sub('[^a-z_]', ' ', cleaned_voc) # keeps only alphabet letters\n",
    "\n",
    "\n",
    "        #STEP 2 : Removing french stopwords using NLTK\n",
    "        stopwords = nltk.corpus.stopwords.words('french') \n",
    "        stopwords = [unicodedata.normalize('NFD', sw).encode('ascii', 'ignore').decode(\"utf-8\") for sw in stopwords]\n",
    "        stopwords += [\"voir\"]\n",
    "        stopwords += [\"presentation\"]\n",
    "\n",
    "        tokens = [w for w in cleaned_voc.split(\" \") if (len(w)>2) and (w not in stopwords)]\n",
    "        removed_words = [w for w in cleaned_voc.split(\" \") if (len(w)<2) or (w in stopwords)]\n",
    "\n",
    "\n",
    "        #STEP 3 : Stemming\n",
    "        stemmer=nltk.stem.SnowballStemmer('french')\n",
    "        tokens_stem = [stemmer.stem(token) for token in tokens]\n",
    "        \n",
    "        # df['Description'][i] = tokens_stem\n",
    "        \n",
    "    return df"
   ]
  },
  {
   "cell_type": "code",
   "execution_count": 27,
   "metadata": {},
   "outputs": [
    {
     "name": "stdout",
     "output_type": "stream",
     "text": [
      "Total words : 2514855\n",
      "Unique words : 357853 \n",
      " \n",
      "\n"
     ]
    },
    {
     "name": "stderr",
     "output_type": "stream",
     "text": [
      "<ipython-input-26-9fc2b5689720>:32: SettingWithCopyWarning: \n",
      "A value is trying to be set on a copy of a slice from a DataFrame\n",
      "\n",
      "See the caveats in the documentation: https://pandas.pydata.org/pandas-docs/stable/user_guide/indexing.html#returning-a-view-versus-a-copy\n",
      "  df['Description'][i] = tokens_stem\n"
     ]
    }
   ],
   "source": [
    "df_cleaned = cleaning_df(df)"
   ]
  },
  {
   "cell_type": "code",
   "execution_count": null,
   "metadata": {},
   "outputs": [],
   "source": []
  },
  {
   "cell_type": "code",
   "execution_count": null,
   "metadata": {},
   "outputs": [],
   "source": []
  },
  {
   "cell_type": "code",
   "execution_count": null,
   "metadata": {},
   "outputs": [],
   "source": []
  },
  {
   "cell_type": "code",
   "execution_count": null,
   "metadata": {},
   "outputs": [],
   "source": []
  },
  {
   "cell_type": "code",
   "execution_count": null,
   "metadata": {},
   "outputs": [],
   "source": []
  },
  {
   "cell_type": "code",
   "execution_count": null,
   "metadata": {},
   "outputs": [],
   "source": []
  },
  {
   "cell_type": "code",
   "execution_count": null,
   "metadata": {},
   "outputs": [],
   "source": []
  }
 ],
 "metadata": {
  "kernelspec": {
   "display_name": "Python 3",
   "language": "python",
   "name": "python3"
  },
  "language_info": {
   "codemirror_mode": {
    "name": "ipython",
    "version": 3
   },
   "file_extension": ".py",
   "mimetype": "text/x-python",
   "name": "python",
   "nbconvert_exporter": "python",
   "pygments_lexer": "ipython3",
   "version": "3.7.6"
  }
 },
 "nbformat": 4,
 "nbformat_minor": 4
}
