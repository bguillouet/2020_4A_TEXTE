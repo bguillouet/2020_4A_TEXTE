{
 "cells": [
  {
   "cell_type": "code",
   "execution_count": 3,
   "metadata": {},
   "outputs": [],
   "source": [
    "import os\n",
    "import re\n",
    "\n",
    "import pandas as pd\n",
    "import numpy as np\n",
    "import unicodedata\n",
    "import matplotlib.pyplot as plt\n",
    "\n",
    "import nltk"
   ]
  },
  {
   "cell_type": "markdown",
   "metadata": {},
   "source": [
    "# Resume"
   ]
  },
  {
   "cell_type": "code",
   "execution_count": 4,
   "metadata": {},
   "outputs": [
    {
     "data": {
      "text/html": [
       "<div>\n",
       "<style scoped>\n",
       "    .dataframe tbody tr th:only-of-type {\n",
       "        vertical-align: middle;\n",
       "    }\n",
       "\n",
       "    .dataframe tbody tr th {\n",
       "        vertical-align: top;\n",
       "    }\n",
       "\n",
       "    .dataframe thead th {\n",
       "        text-align: right;\n",
       "    }\n",
       "</style>\n",
       "<table border=\"1\" class=\"dataframe\">\n",
       "  <thead>\n",
       "    <tr style=\"text-align: right;\">\n",
       "      <th></th>\n",
       "      <th>Categorie1</th>\n",
       "      <th>Categorie2</th>\n",
       "      <th>Categorie3</th>\n",
       "      <th>Description</th>\n",
       "      <th>Libelle</th>\n",
       "      <th>Marque</th>\n",
       "    </tr>\n",
       "  </thead>\n",
       "  <tbody>\n",
       "    <tr>\n",
       "      <th>0</th>\n",
       "      <td>INFORMATIQUE</td>\n",
       "      <td>CONNECTIQUE - ALIMENTATION</td>\n",
       "      <td>BATTERIE</td>\n",
       "      <td>Batterie Acer Aspire One 751H-52Yr - Li-Ion 11...</td>\n",
       "      <td>Batterie Acer Aspire One 751H-52Yr</td>\n",
       "      <td>AUCUNE</td>\n",
       "    </tr>\n",
       "    <tr>\n",
       "      <th>1</th>\n",
       "      <td>TELEPHONIE - GPS</td>\n",
       "      <td>ACCESSOIRE TELEPHONE</td>\n",
       "      <td>COQUE - BUMPER - FACADE TELEPHONE</td>\n",
       "      <td>Coque rigide Bleu lagon pour ALCATEL OT / 6033...</td>\n",
       "      <td>Coque rigide Bleu lagon pour ALCATEL OT / 6033 …</td>\n",
       "      <td>MUZZANO</td>\n",
       "    </tr>\n",
       "    <tr>\n",
       "      <th>2</th>\n",
       "      <td>TELEPHONIE - GPS</td>\n",
       "      <td>ACCESSOIRE TELEPHONE</td>\n",
       "      <td>COQUE - BUMPER - FACADE TELEPHONE</td>\n",
       "      <td>Facades et coques CELLULAR LINE SHCKGALS 3 MIN...</td>\n",
       "      <td>Facades et coques CELLULAR LINE SHCKGALS 3 MINIP</td>\n",
       "      <td>CELLULAR LINE</td>\n",
       "    </tr>\n",
       "    <tr>\n",
       "      <th>3</th>\n",
       "      <td>TELEPHONIE - GPS</td>\n",
       "      <td>ACCESSOIRE TELEPHONE</td>\n",
       "      <td>COQUE - BUMPER - FACADE TELEPHONE</td>\n",
       "      <td>Coque meteore TPU  LG Nexus 4 / E960</td>\n",
       "      <td>Coque meteore TPU  LG Nexus 4 / E960</td>\n",
       "      <td>AUCUNE</td>\n",
       "    </tr>\n",
       "    <tr>\n",
       "      <th>4</th>\n",
       "      <td>TELEPHONIE - GPS</td>\n",
       "      <td>ACCESSOIRE TELEPHONE</td>\n",
       "      <td>COQUE - BUMPER - FACADE TELEPHONE</td>\n",
       "      <td>Coque souple Transparente pour LG G FLEX D959 ...</td>\n",
       "      <td>Coque souple Transparente pour LG G FLEX D959 m…</td>\n",
       "      <td>MUZZANO</td>\n",
       "    </tr>\n",
       "  </tbody>\n",
       "</table>\n",
       "</div>"
      ],
      "text/plain": [
       "         Categorie1                  Categorie2  \\\n",
       "0      INFORMATIQUE  CONNECTIQUE - ALIMENTATION   \n",
       "1  TELEPHONIE - GPS        ACCESSOIRE TELEPHONE   \n",
       "2  TELEPHONIE - GPS        ACCESSOIRE TELEPHONE   \n",
       "3  TELEPHONIE - GPS        ACCESSOIRE TELEPHONE   \n",
       "4  TELEPHONIE - GPS        ACCESSOIRE TELEPHONE   \n",
       "\n",
       "                          Categorie3  \\\n",
       "0                           BATTERIE   \n",
       "1  COQUE - BUMPER - FACADE TELEPHONE   \n",
       "2  COQUE - BUMPER - FACADE TELEPHONE   \n",
       "3  COQUE - BUMPER - FACADE TELEPHONE   \n",
       "4  COQUE - BUMPER - FACADE TELEPHONE   \n",
       "\n",
       "                                         Description  \\\n",
       "0  Batterie Acer Aspire One 751H-52Yr - Li-Ion 11...   \n",
       "1  Coque rigide Bleu lagon pour ALCATEL OT / 6033...   \n",
       "2  Facades et coques CELLULAR LINE SHCKGALS 3 MIN...   \n",
       "3               Coque meteore TPU  LG Nexus 4 / E960   \n",
       "4  Coque souple Transparente pour LG G FLEX D959 ...   \n",
       "\n",
       "                                            Libelle         Marque  \n",
       "0                Batterie Acer Aspire One 751H-52Yr         AUCUNE  \n",
       "1  Coque rigide Bleu lagon pour ALCATEL OT / 6033 …        MUZZANO  \n",
       "2  Facades et coques CELLULAR LINE SHCKGALS 3 MINIP  CELLULAR LINE  \n",
       "3              Coque meteore TPU  LG Nexus 4 / E960         AUCUNE  \n",
       "4  Coque souple Transparente pour LG G FLEX D959 m…        MUZZANO  "
      ]
     },
     "execution_count": 4,
     "metadata": {},
     "output_type": "execute_result"
    }
   ],
   "source": [
    "input_path = \"data/cdiscount_train.csv.zip\"\n",
    "nb_line=100000  # part totale extraite du fichier initial ici déjà réduit\n",
    "data_all = pd.read_csv(input_path, sep=\",\", nrows=nb_line)\n",
    "data_all = data_all.fillna(\"\") # pour les valeurs nulles\n",
    "data_all.head()"
   ]
  },
  {
   "cell_type": "code",
   "execution_count": 5,
   "metadata": {},
   "outputs": [
    {
     "data": {
      "text/html": [
       "<div>\n",
       "<style scoped>\n",
       "    .dataframe tbody tr th:only-of-type {\n",
       "        vertical-align: middle;\n",
       "    }\n",
       "\n",
       "    .dataframe tbody tr th {\n",
       "        vertical-align: top;\n",
       "    }\n",
       "\n",
       "    .dataframe thead th {\n",
       "        text-align: right;\n",
       "    }\n",
       "</style>\n",
       "<table border=\"1\" class=\"dataframe\">\n",
       "  <thead>\n",
       "    <tr style=\"text-align: right;\">\n",
       "      <th></th>\n",
       "      <th>Categorie1</th>\n",
       "      <th>Description</th>\n",
       "    </tr>\n",
       "  </thead>\n",
       "  <tbody>\n",
       "    <tr>\n",
       "      <th>0</th>\n",
       "      <td>INFORMATIQUE</td>\n",
       "      <td>Batterie Acer Aspire One 751H-52Yr - Li-Ion 11...</td>\n",
       "    </tr>\n",
       "    <tr>\n",
       "      <th>1</th>\n",
       "      <td>TELEPHONIE - GPS</td>\n",
       "      <td>Coque rigide Bleu lagon pour ALCATEL OT / 6033...</td>\n",
       "    </tr>\n",
       "    <tr>\n",
       "      <th>2</th>\n",
       "      <td>TELEPHONIE - GPS</td>\n",
       "      <td>Facades et coques CELLULAR LINE SHCKGALS 3 MIN...</td>\n",
       "    </tr>\n",
       "    <tr>\n",
       "      <th>3</th>\n",
       "      <td>TELEPHONIE - GPS</td>\n",
       "      <td>Coque meteore TPU  LG Nexus 4 / E960</td>\n",
       "    </tr>\n",
       "    <tr>\n",
       "      <th>4</th>\n",
       "      <td>TELEPHONIE - GPS</td>\n",
       "      <td>Coque souple Transparente pour LG G FLEX D959 ...</td>\n",
       "    </tr>\n",
       "    <tr>\n",
       "      <th>...</th>\n",
       "      <td>...</td>\n",
       "      <td>...</td>\n",
       "    </tr>\n",
       "    <tr>\n",
       "      <th>99995</th>\n",
       "      <td>DECO - LINGE - LUMINAIRE</td>\n",
       "      <td>Souvenirs de France - Tour Eiffel Miniature 'P...</td>\n",
       "    </tr>\n",
       "    <tr>\n",
       "      <th>99996</th>\n",
       "      <td>LIBRAIRIE</td>\n",
       "      <td>Fast Track to Waste-Free Manufacturing - John ...</td>\n",
       "    </tr>\n",
       "    <tr>\n",
       "      <th>99997</th>\n",
       "      <td>TELEPHONIE - GPS</td>\n",
       "      <td>fitBAG Bonga Girafe housse pochette pour télép...</td>\n",
       "    </tr>\n",
       "    <tr>\n",
       "      <th>99998</th>\n",
       "      <td>DECO - LINGE - LUMINAIRE</td>\n",
       "      <td>grand tableau minnie T 50x50 cm</td>\n",
       "    </tr>\n",
       "    <tr>\n",
       "      <th>99999</th>\n",
       "      <td>TELEPHONIE - GPS</td>\n",
       "      <td>Étui en cuir avec emplacements pour carte &amp; su...</td>\n",
       "    </tr>\n",
       "  </tbody>\n",
       "</table>\n",
       "<p>100000 rows × 2 columns</p>\n",
       "</div>"
      ],
      "text/plain": [
       "                     Categorie1  \\\n",
       "0                  INFORMATIQUE   \n",
       "1              TELEPHONIE - GPS   \n",
       "2              TELEPHONIE - GPS   \n",
       "3              TELEPHONIE - GPS   \n",
       "4              TELEPHONIE - GPS   \n",
       "...                         ...   \n",
       "99995  DECO - LINGE - LUMINAIRE   \n",
       "99996                 LIBRAIRIE   \n",
       "99997          TELEPHONIE - GPS   \n",
       "99998  DECO - LINGE - LUMINAIRE   \n",
       "99999          TELEPHONIE - GPS   \n",
       "\n",
       "                                             Description  \n",
       "0      Batterie Acer Aspire One 751H-52Yr - Li-Ion 11...  \n",
       "1      Coque rigide Bleu lagon pour ALCATEL OT / 6033...  \n",
       "2      Facades et coques CELLULAR LINE SHCKGALS 3 MIN...  \n",
       "3                   Coque meteore TPU  LG Nexus 4 / E960  \n",
       "4      Coque souple Transparente pour LG G FLEX D959 ...  \n",
       "...                                                  ...  \n",
       "99995  Souvenirs de France - Tour Eiffel Miniature 'P...  \n",
       "99996  Fast Track to Waste-Free Manufacturing - John ...  \n",
       "99997  fitBAG Bonga Girafe housse pochette pour télép...  \n",
       "99998                    grand tableau minnie T 50x50 cm  \n",
       "99999  Étui en cuir avec emplacements pour carte & su...  \n",
       "\n",
       "[100000 rows x 2 columns]"
      ]
     },
     "execution_count": 5,
     "metadata": {},
     "output_type": "execute_result"
    }
   ],
   "source": [
    "data = data_all[[\"Categorie1\",\"Description\"]]\n",
    "data"
   ]
  },
  {
   "cell_type": "code",
   "execution_count": 6,
   "metadata": {},
   "outputs": [
    {
     "name": "stdout",
     "output_type": "stream",
     "text": [
      "count               100000\n",
      "unique                  44\n",
      "top       TELEPHONIE - GPS\n",
      "freq                 21325\n",
      "Name: Categorie1, dtype: object\n",
      "TELEPHONIE - GPS                              21325\n",
      "INFORMATIQUE                                  14597\n",
      "LIBRAIRIE                                     12121\n",
      "VETEMENTS - LINGERIE                           6023\n",
      "BIJOUX -  LUNETTES - MONTRES                   6014\n",
      "DECO - LINGE - LUMINAIRE                       5866\n",
      "AUTO - MOTO (NEW)                              4714\n",
      "BRICOLAGE - OUTILLAGE - QUINCAILLERIE          3141\n",
      "SPORT (NEW)                                    2565\n",
      "ELECTROMENAGER                                 2152\n",
      "JOUET (NEW)                                    2038\n",
      "BAGAGERIE                                      1912\n",
      "CULTURE / JEUX                                 1819\n",
      "PHOTO - OPTIQUE                                1574\n",
      "CHAUSSURES - ACCESSOIRES                       1391\n",
      "MEUBLE                                         1383\n",
      "HYGIENE - BEAUTE - PARFUM                      1362\n",
      "JARDIN - PISCINE                               1358\n",
      "ART DE LA TABLE - ARTICLES CULINAIRES          1107\n",
      "LOISIRS CREATIFS - BEAUX ARTS - PAPETERIE       977\n",
      "TV - VIDEO - SON                                957\n",
      "ADULTE - EROTIQUE                               879\n",
      "ANIMALERIE - NEW                                634\n",
      "PUERICULTURE                                    543\n",
      "LITERIE                                         415\n",
      "ARTICLES POUR FUMEUR                            380\n",
      "INSTRUMENTS DE MUSIQUE                          366\n",
      "ELECTRONIQUE                                    330\n",
      "MERCERIE                                        312\n",
      "PARAPHARMACIE                                   285\n",
      "EPICERIE                                        267\n",
      "VIN - ALCOOL - LIQUIDES                         191\n",
      "POINT DE VENTE - COMMERCE - ADMINISTRATION      177\n",
      "SONO - DJ                                       169\n",
      "DROGUERIE (NEW)                                 166\n",
      "TATOUAGE - PIERCING                             149\n",
      "MATERIEL DE BUREAU                               89\n",
      "ARME DE COMBAT - ARME DE SPORT                   75\n",
      "BATEAU MOTEUR - VOILIER                          66\n",
      "MATERIEL MEDICAL                                 42\n",
      "CONDITIONNEMENT                                  27\n",
      "TENUE PROFESSIONNELLE                            25\n",
      "MANUTENTION                                      13\n",
      "PRODUITS FRAIS                                    4\n",
      "Name: Categorie1, dtype: int64\n"
     ]
    }
   ],
   "source": [
    "#Mardi 4 fevrier\n",
    "\n",
    "print(data['Categorie1'].describe())\n",
    "print(data['Categorie1'].value_counts()) #comptage des valeurs"
   ]
  },
  {
   "cell_type": "code",
   "execution_count": 7,
   "metadata": {},
   "outputs": [
    {
     "data": {
      "image/png": "[encoded data removed]",
      "text/plain": [
       "<Figure size 1440x720 with 1 Axes>"
      ]
     },
     "metadata": {
      "needs_background": "light"
     },
     "output_type": "display_data"
    }
   ],
   "source": [
    "counts=data['Categorie1'].value_counts().tolist() #nb occurence\n",
    "category=data['Categorie1'].value_counts().keys().tolist() #nom des categories\n",
    "\n",
    "\n",
    "fig=plt.figure(figsize=(20,10))\n",
    "data['Categorie1'].hist(bins=44)\n",
    "fig.autofmt_xdate()"
   ]
  },
  {
   "cell_type": "code",
   "execution_count": 8,
   "metadata": {},
   "outputs": [],
   "source": [
    "nbv=[]\n",
    "mean=0\n",
    "for k in range(nb_line):\n",
    "    nbv+=[data['Description'][k].count(' ')+1]\n",
    "    mean+=data['Description'][k].count(' ')+1\n",
    "    "
   ]
  },
  {
   "cell_type": "markdown",
   "metadata": {},
   "source": [
    "###  Question : print(data.['Description'].describe() / par catégorie ??"
   ]
  },
  {
   "cell_type": "code",
   "execution_count": 9,
   "metadata": {},
   "outputs": [
    {
     "data": {
      "text/html": [
       "<div>\n",
       "<style scoped>\n",
       "    .dataframe tbody tr th:only-of-type {\n",
       "        vertical-align: middle;\n",
       "    }\n",
       "\n",
       "    .dataframe tbody tr th {\n",
       "        vertical-align: top;\n",
       "    }\n",
       "\n",
       "    .dataframe thead th {\n",
       "        text-align: right;\n",
       "    }\n",
       "</style>\n",
       "<table border=\"1\" class=\"dataframe\">\n",
       "  <thead>\n",
       "    <tr style=\"text-align: right;\">\n",
       "      <th></th>\n",
       "      <th>Categorie1</th>\n",
       "      <th>Description</th>\n",
       "    </tr>\n",
       "  </thead>\n",
       "  <tbody>\n",
       "    <tr>\n",
       "      <th>count</th>\n",
       "      <td>21325</td>\n",
       "      <td>21325</td>\n",
       "    </tr>\n",
       "    <tr>\n",
       "      <th>unique</th>\n",
       "      <td>1</td>\n",
       "      <td>20455</td>\n",
       "    </tr>\n",
       "    <tr>\n",
       "      <th>top</th>\n",
       "      <td>TELEPHONIE - GPS</td>\n",
       "      <td>Câble USB 2.0 charge et synchronisation pour t...</td>\n",
       "    </tr>\n",
       "    <tr>\n",
       "      <th>freq</th>\n",
       "      <td>21325</td>\n",
       "      <td>39</td>\n",
       "    </tr>\n",
       "  </tbody>\n",
       "</table>\n",
       "</div>"
      ],
      "text/plain": [
       "              Categorie1                                        Description\n",
       "count              21325                                              21325\n",
       "unique                 1                                              20455\n",
       "top     TELEPHONIE - GPS  Câble USB 2.0 charge et synchronisation pour t...\n",
       "freq               21325                                                 39"
      ]
     },
     "execution_count": 9,
     "metadata": {},
     "output_type": "execute_result"
    }
   ],
   "source": [
    "data[data[\"Categorie1\"]==\"TELEPHONIE - GPS\"].describe()"
   ]
  },
  {
   "cell_type": "code",
   "execution_count": 13,
   "metadata": {},
   "outputs": [
    {
     "name": "stdout",
     "output_type": "stream",
     "text": [
      "16\n",
      "35\n",
      "25\n",
      "9\n",
      "33\n",
      "17\n",
      "21\n",
      "39\n",
      "26\n",
      "20\n",
      "Taille moyenne du voc : 25.14811  mots\n"
     ]
    }
   ],
   "source": [
    "#print(data['Description'][0])\n",
    "#nb0=data['Description'][0].count(' ')\n",
    "#print(nb0+1)\n",
    "\n",
    "for k in range(10):\n",
    "    print(nbv[k])\n",
    "\n",
    "print(\"Taille moyenne du voc :\", int(mean)/100000 , \" mots\")"
   ]
  },
  {
   "cell_type": "markdown",
   "metadata": {},
   "source": [
    "### Exemple du Set pour trier et enlever les doublons"
   ]
  },
  {
   "cell_type": "code",
   "execution_count": 14,
   "metadata": {},
   "outputs": [
    {
     "data": {
      "text/plain": [
       "{1, 2, 3}"
      ]
     },
     "execution_count": 14,
     "metadata": {},
     "output_type": "execute_result"
    }
   ],
   "source": [
    "l = [2,2,1,3,2]\n",
    "set(l)"
   ]
  },
  {
   "cell_type": "markdown",
   "metadata": {},
   "source": [
    "### Attraper le voca d'une fiche produit"
   ]
  },
  {
   "cell_type": "code",
   "execution_count": 15,
   "metadata": {},
   "outputs": [
    {
     "name": "stdout",
     "output_type": "stream",
     "text": [
      "Nombre d'occurences dans la fiche produit 0 : 16 mots\n"
     ]
    }
   ],
   "source": [
    "des = data['Description'][0]\n",
    "desc = des.split(' ')\n",
    "print(\"Nombre d'occurences dans la fiche produit 0 :\", len(desc) ,\"mots\")    "
   ]
  },
  {
   "cell_type": "code",
   "execution_count": 122,
   "metadata": {
    "scrolled": false
   },
   "outputs": [],
   "source": [
    "voca = \"\" \n",
    "for k in range(10):\n",
    "    des = data['Description'][k]\n",
    "    voca += des"
   ]
  },
  {
   "cell_type": "markdown",
   "metadata": {},
   "source": [
    "### Le vocabulaire total: ensemble du vocabulaire, x occurrences uniques"
   ]
  },
  {
   "cell_type": "code",
   "execution_count": 123,
   "metadata": {},
   "outputs": [
    {
     "name": "stdout",
     "output_type": "stream",
     "text": [
      "Batterie Acer Aspire One 751H-52Yr - Li-Ion 11.1V 5200mAh, 54Wh Noir, compatible batterie… Voir la présentationCoque rigide Bleu lagon pour ALCATEL OT / 6033 motif Drapeau Liberia + 3 Films - Coque rigide Ultra Fine Bleu lagon ORIGINALE de MUZZANO au motif Drapeau Liberia pour ALCATEL … Voir la présentationFacades et coques CELLULAR LINE SHCKGALS 3 MINIP - Marque agréée : SamsungMobile compatible : Galaxy S 3 miniMatière : Caoutchouc souple… Voir la présentationCoque meteore TPU  LG Nexus 4 / E960Coque souple Transparente pour LG G FLEX D959 motif Keep Calm And Play Football - Coque souple Ultra Fine Transparente ORIGINALE de MUZZANO au motif Keep Calm And Play Footbal… Voir la présentationCompatibilité iPhone 4, iPhone 4/4S, Caractéristiques Etuis du corps entier, Style Couleur unie, Couleur Blanc, Noir, RoseSeiko SFP599 Hommes Montre - Acheter Authentique Seiko SFP599 Regarder en ligne à un prix réduit - InfiniteShopping… Voir la présentationE-PACK FRUITÉ 'EXPERT' (Titanium bleu - Mixte de 8mg/ml et 9mg/ml) - Quel dosage pour mon e-liquide ? •   0 mg/ml (sans nicotine) -> ancien fumeur sevré •   8 mg/ml -> conseil… Voir la présentationHuile Rock Shox Deo Brunox pour fourreaux de fourche 125 ml - Le montage des pièces détachées doit être effectué par un professionnel pour votre sécurTube de fourche Tarozzi KYMCO X-CITING 500 - 05-07 - Ø40  L:613MM - CABLE EMB KAWASAKI… Voir la présentation\n",
      "Nb de mots :  232\n"
     ]
    }
   ],
   "source": [
    "print(voca)\n",
    "voca_nb = len(voca.split(' '))\n",
    "print(\"Nb de mots : \", voca_nb)"
   ]
  },
  {
   "cell_type": "markdown",
   "metadata": {},
   "source": [
    "### Nettoyage"
   ]
  },
  {
   "cell_type": "code",
   "execution_count": 134,
   "metadata": {},
   "outputs": [
    {
     "name": "stdout",
     "output_type": "stream",
     "text": [
      "batterie acer aspire one 751h-52yr - li-ion 11.1v 5200mah, 54wh noir, compatible batterie. voir la présentationcoque rigide bleu lagon pour alcatel ot / 6033 motif drapeau liberia + 3 films - coque rigide ultra fine bleu lagon originale de muzzano au motif drapeau liberia pour alcatel . voir la présentationfacades et coques cellular line shckgals 3 minip - marque agréée : samsungmobile compatible : galaxy s 3 minimatière : caoutchouc souple. voir la présentationcoque meteore tpu  lg nexus 4 / e960coque souple transparente pour lg g flex d959 motif keep calm and play football - coque souple ultra fine transparente originale de muzzano au motif keep calm and play footbal. voir la présentationcompatibilité iphone 4, iphone 4/4s, caractéristiques etuis du corps entier, style couleur unie, couleur blanc, noir, roseseiko sfp599 hommes montre - acheter authentique seiko sfp599 regarder en ligne à un prix réduit - infiniteshopping. voir la présentatione-pack fruité 'expert' (titanium bleu - mixte de 8mg/ml et 9mg/ml) - quel dosage pour mon e-liquide ? •   0 mg/ml (sans nicotine) -> ancien fumeur sevré •   8 mg/ml -> conseil. voir la présentationhuile rock shox deo brunox pour fourreaux de fourche 125 ml - le montage des pièces détachées doit être effectué par un professionnel pour votre sécurtube de fourche tarozzi kymco x-citing 500 - 05-07 - ø40  l:613mm - cable emb kawasaki. voir la présentation\n"
     ]
    }
   ],
   "source": [
    "voca_n = voca\n",
    "voca_n = voca_n.lower()\n",
    "voca_n = voca_n.replace(u'\\u2026','.')\n",
    "voca_n = voca_n.replace(u'\\u00a0',' ')\n",
    "print(voca_n)\n"
   ]
  },
  {
   "cell_type": "code",
   "execution_count": 135,
   "metadata": {},
   "outputs": [
    {
     "name": "stdout",
     "output_type": "stream",
     "text": [
      "batterie acer aspire one 751h-52yr - li-ion 11.1v 5200mah, 54wh noir, compatible batterie. voir la presentationcoque rigide bleu lagon pour alcatel ot / 6033 motif drapeau liberia + 3 films - coque rigide ultra fine bleu lagon originale de muzzano au motif drapeau liberia pour alcatel . voir la presentationfacades et coques cellular line shckgals 3 minip - marque agreee : samsungmobile compatible : galaxy s 3 minimatiere : caoutchouc souple. voir la presentationcoque meteore tpu  lg nexus 4 / e960coque souple transparente pour lg g flex d959 motif keep calm and play football - coque souple ultra fine transparente originale de muzzano au motif keep calm and play footbal. voir la presentationcompatibilite iphone 4, iphone 4/4s, caracteristiques etuis du corps entier, style couleur unie, couleur blanc, noir, roseseiko sfp599 hommes montre - acheter authentique seiko sfp599 regarder en ligne a un prix reduit - infiniteshopping. voir la presentatione-pack fruite 'expert' (titanium bleu - mixte de 8mg/ml et 9mg/ml) - quel dosage pour mon e-liquide ?    0 mg/ml (sans nicotine) -> ancien fumeur sevre    8 mg/ml -> conseil. voir la presentationhuile rock shox deo brunox pour fourreaux de fourche 125 ml - le montage des pieces detachees doit etre effectue par un professionnel pour votre securtube de fourche tarozzi kymco x-citing 500 - 05-07 - 40  l:613mm - cable emb kawasaki. voir la presentation\n"
     ]
    }
   ],
   "source": [
    "voca_n= unicodedata.normalize('NFD', voca_n).encode('ascii', 'ignore').decode(\"utf-8\")\n",
    "print(voca_n)"
   ]
  },
  {
   "cell_type": "code",
   "execution_count": 136,
   "metadata": {},
   "outputs": [
    {
     "name": "stdout",
     "output_type": "stream",
     "text": [
      "batterie acer aspire one    h   yr   li ion     v     mah    wh noir  compatible batterie  voir la presentationcoque rigide bleu lagon pour alcatel ot        motif drapeau liberia     films   coque rigide ultra fine bleu lagon originale de muzzano au motif drapeau liberia pour alcatel   voir la presentationfacades et coques cellular line shckgals   minip   marque agreee   samsungmobile compatible   galaxy s   minimatiere   caoutchouc souple  voir la presentationcoque meteore tpu  lg nexus     e   coque souple transparente pour lg g flex d    motif keep calm and play football   coque souple ultra fine transparente originale de muzzano au motif keep calm and play footbal  voir la presentationcompatibilite iphone    iphone    s  caracteristiques etuis du corps entier  style couleur unie  couleur blanc  noir  roseseiko sfp    hommes montre   acheter authentique seiko sfp    regarder en ligne a un prix reduit   infiniteshopping  voir la presentatione pack fruite  expert   titanium bleu   mixte de  mg ml et  mg ml    quel dosage pour mon e liquide        mg ml  sans nicotine     ancien fumeur sevre      mg ml    conseil  voir la presentationhuile rock shox deo brunox pour fourreaux de fourche     ml   le montage des pieces detachees doit etre effectue par un professionnel pour votre securtube de fourche tarozzi kymco x citing                   l    mm   cable emb kawasaki  voir la presentation\n"
     ]
    }
   ],
   "source": [
    "voca_n = re.sub('[^a-z_]', ' ', voca_n)\n",
    "print(voca_n)"
   ]
  },
  {
   "cell_type": "markdown",
   "metadata": {},
   "source": [
    "### Questions \n",
    "- trouver les doubles dans chaque produit\n",
    "- pondération des occurences en fonction de leur fréquence par catégorie\n",
    "- ordre alphabétique ?\n",
    "- trouver le nb moyen d'occurences par catégorie "
   ]
  },
  {
   "cell_type": "code",
   "execution_count": 55,
   "metadata": {},
   "outputs": [
    {
     "name": "stdout",
     "output_type": "stream",
     "text": [
      "0        Original Description : Batterie Acer Aspire On...\n",
      "1        Original Description : Coque rigide Bleu lagon...\n",
      "2        Original Description : Facades et coques CELLU...\n",
      "3        Original Description : Coque meteore TPU  LG N...\n",
      "4        Original Description : Coque souple Transparen...\n",
      "                               ...                        \n",
      "99995    Original Description : Souvenirs de France - T...\n",
      "99996    Original Description : Fast Track to Waste-Fre...\n",
      "99997    Original Description : fitBAG Bonga Girafe hou...\n",
      "99998    Original Description : grand tableau minnie T ...\n",
      "99999    Original Description : Étui en cuir avec empla...\n",
      "Name: Description, Length: 100000, dtype: object\n"
     ]
    }
   ],
   "source": [
    "i = 0\n",
    "txt = data['Description'].values[i]\n",
    "print(\"Original Description : \" + data['Description'])"
   ]
  },
  {
   "cell_type": "code",
   "execution_count": 59,
   "metadata": {},
   "outputs": [
    {
     "name": "stdout",
     "output_type": "stream",
     "text": [
      "batterie acer aspire one 751h-52yr - li-ion 11.1v 5200mah, 54wh noir, compatible batterie… voir la présentation\n"
     ]
    },
    {
     "data": {
      "text/plain": [
       "16"
      ]
     },
     "execution_count": 59,
     "metadata": {},
     "output_type": "execute_result"
    }
   ],
   "source": [
    "txt = txt.lower()\n",
    "print(txt)\n",
    "len(set(txt.split(\" \")))"
   ]
  },
  {
   "cell_type": "code",
   "execution_count": 23,
   "metadata": {},
   "outputs": [
    {
     "name": "stdout",
     "output_type": "stream",
     "text": [
      "batterie acer aspire one    h   yr   li ion     v     mah    wh noir  compatible batterie  voir la presentation\n"
     ]
    }
   ],
   "source": [
    "txt = txt.replace(u'\\u2026','.')    \n",
    "txt = txt.replace(u'\\u00a0',' ')\n",
    "print(txt)"
   ]
  },
  {
   "cell_type": "code",
   "execution_count": 12,
   "metadata": {},
   "outputs": [
    {
     "name": "stdout",
     "output_type": "stream",
     "text": [
      "batterie acer aspire one 751h-52yr - li-ion 11.1v 5200mah, 54wh noir, compatible batterie. voir la presentation\n"
     ]
    }
   ],
   "source": [
    "txt = unicodedata.normalize('NFD', txt).encode('ascii', 'ignore').decode(\"utf-8\")\n",
    "print(txt)"
   ]
  },
  {
   "cell_type": "code",
   "execution_count": 13,
   "metadata": {},
   "outputs": [
    {
     "name": "stdout",
     "output_type": "stream",
     "text": [
      "batterie acer aspire one    h   yr   li ion     v     mah    wh noir  compatible batterie  voir la presentation\n"
     ]
    }
   ],
   "source": [
    "txt = re.sub('[^a-z_]', ' ', txt)\n",
    "print(txt)"
   ]
  },
  {
   "cell_type": "code",
   "execution_count": 16,
   "metadata": {},
   "outputs": [
    {
     "name": "stderr",
     "output_type": "stream",
     "text": [
      "[nltk_data] Downloading package stopwords to\n",
      "[nltk_data]     /Users/cecile/nltk_data...\n",
      "[nltk_data]   Unzipping corpora/stopwords.zip.\n"
     ]
    },
    {
     "data": {
      "text/plain": [
       "['au', 'aux', 'avec', 'ce', 'ces', 'dans', 'de', 'des', 'du', 'elle']"
      ]
     },
     "execution_count": 16,
     "metadata": {},
     "output_type": "execute_result"
    }
   ],
   "source": [
    "## listes de mots à supprimer dans la description des produits\n",
    "## Depuis NLTK\n",
    "nltk.download(\"stopwords\")\n",
    "stopwords = nltk.corpus.stopwords.words('french') \n",
    "\n",
    "stopwords[:10]"
   ]
  },
  {
   "cell_type": "code",
   "execution_count": 17,
   "metadata": {},
   "outputs": [
    {
     "data": {
      "text/plain": [
       "['au', 'aux', 'avec', 'ce', 'ces', 'dans', 'de', 'des', 'du', 'elle']"
      ]
     },
     "execution_count": 17,
     "metadata": {},
     "output_type": "execute_result"
    }
   ],
   "source": [
    "stopwords = [unicodedata.normalize('NFD', sw).encode('ascii', 'ignore').decode(\"utf-8\") for sw in stopwords]\n",
    "stopwords[:10]"
   ]
  },
  {
   "cell_type": "code",
   "execution_count": 18,
   "metadata": {},
   "outputs": [
    {
     "name": "stdout",
     "output_type": "stream",
     "text": [
      "['batterie', 'acer', 'aspire', 'one', 'ion', 'mah', 'noir', 'compatible', 'batterie', 'voir', 'presentation']\n",
      "['h', 'v', 'la']\n"
     ]
    }
   ],
   "source": [
    "tokens = [w for w in txt.split() if (len(w)>2) and (w not in stopwords)]\n",
    "removed_words = [w for w in txt.split() if (len(w)<2) or (w in stopwords)]\n",
    "\n",
    "print(tokens)\n",
    "print(removed_words)"
   ]
  },
  {
   "cell_type": "code",
   "execution_count": 19,
   "metadata": {},
   "outputs": [
    {
     "name": "stdout",
     "output_type": "stream",
     "text": [
      "['batter', 'acer', 'aspir', 'one', 'ion', 'mah', 'noir', 'compatibl', 'batter', 'voir', 'present']\n"
     ]
    }
   ],
   "source": [
    "## Fonction de setmming de stemming permettant la racinisation\n",
    "stemmer=nltk.stem.SnowballStemmer('french')\n",
    "tokens_stem = [stemmer.stem(token) for token in tokens]\n",
    "print(tokens_stem)"
   ]
  },
  {
   "cell_type": "code",
   "execution_count": 22,
   "metadata": {},
   "outputs": [
    {
     "data": {
      "text/plain": [
       "{'acer',\n",
       " 'aspir',\n",
       " 'batter',\n",
       " 'compatibl',\n",
       " 'ion',\n",
       " 'mah',\n",
       " 'noir',\n",
       " 'one',\n",
       " 'present',\n",
       " 'voir'}"
      ]
     },
     "execution_count": 22,
     "metadata": {},
     "output_type": "execute_result"
    }
   ],
   "source": [
    "set(tokens_stem)"
   ]
  },
  {
   "cell_type": "code",
   "execution_count": null,
   "metadata": {},
   "outputs": [],
   "source": []
  }
 ],
 "metadata": {
  "kernelspec": {
   "display_name": "Python 3",
   "language": "python",
   "name": "python3"
  },
  "language_info": {
   "codemirror_mode": {
    "name": "ipython",
    "version": 3
   },
   "file_extension": ".py",
   "mimetype": "text/x-python",
   "name": "python",
   "nbconvert_exporter": "python",
   "pygments_lexer": "ipython3",
   "version": "3.7.6"
  }
 },
 "nbformat": 4,
 "nbformat_minor": 4
}
