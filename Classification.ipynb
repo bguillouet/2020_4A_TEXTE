{
 "cells": [
  {
   "cell_type": "code",
   "execution_count": 1,
   "metadata": {},
   "outputs": [],
   "source": [
    "import pandas as pd\n",
    "import scipy as sc\n",
    "import time\n",
    "from sklearn.model_selection import train_test_split\n",
    "from sklearn.linear_model import LogisticRegression"
   ]
  },
  {
   "cell_type": "code",
   "execution_count": 2,
   "metadata": {},
   "outputs": [],
   "source": [
    "data_cleaned = pd.read_csv(\"data/data_cleaned.csv\")\n",
    "label = data_cleaned[\"Categorie1\"].values"
   ]
  },
  {
   "cell_type": "code",
   "execution_count": 3,
   "metadata": {},
   "outputs": [
    {
     "data": {
      "text/html": [
       "<div>\n",
       "<style scoped>\n",
       "    .dataframe tbody tr th:only-of-type {\n",
       "        vertical-align: middle;\n",
       "    }\n",
       "\n",
       "    .dataframe tbody tr th {\n",
       "        vertical-align: top;\n",
       "    }\n",
       "\n",
       "    .dataframe thead th {\n",
       "        text-align: right;\n",
       "    }\n",
       "</style>\n",
       "<table border=\"1\" class=\"dataframe\">\n",
       "  <thead>\n",
       "    <tr style=\"text-align: right;\">\n",
       "      <th></th>\n",
       "      <th>Categorie1</th>\n",
       "      <th>Description</th>\n",
       "    </tr>\n",
       "  </thead>\n",
       "  <tbody>\n",
       "    <tr>\n",
       "      <th>0</th>\n",
       "      <td>INFORMATIQUE</td>\n",
       "      <td>batter acer aspir one ion mah noir compatibl b...</td>\n",
       "    </tr>\n",
       "    <tr>\n",
       "      <th>1</th>\n",
       "      <td>TELEPHONIE - GPS</td>\n",
       "      <td>coqu rigid bleu lagon alcatel motif drapeau li...</td>\n",
       "    </tr>\n",
       "    <tr>\n",
       "      <th>2</th>\n",
       "      <td>TELEPHONIE - GPS</td>\n",
       "      <td>facad coqu cellular lin shckgal minip marqu ag...</td>\n",
       "    </tr>\n",
       "    <tr>\n",
       "      <th>3</th>\n",
       "      <td>TELEPHONIE - GPS</td>\n",
       "      <td>coqu meteor tpu nexus</td>\n",
       "    </tr>\n",
       "    <tr>\n",
       "      <th>4</th>\n",
       "      <td>TELEPHONIE - GPS</td>\n",
       "      <td>coqu soupl transparent flex motif keep calm an...</td>\n",
       "    </tr>\n",
       "  </tbody>\n",
       "</table>\n",
       "</div>"
      ],
      "text/plain": [
       "         Categorie1                                        Description\n",
       "0      INFORMATIQUE  batter acer aspir one ion mah noir compatibl b...\n",
       "1  TELEPHONIE - GPS  coqu rigid bleu lagon alcatel motif drapeau li...\n",
       "2  TELEPHONIE - GPS  facad coqu cellular lin shckgal minip marqu ag...\n",
       "3  TELEPHONIE - GPS                             coqu meteor tpu nexus \n",
       "4  TELEPHONIE - GPS  coqu soupl transparent flex motif keep calm an..."
      ]
     },
     "execution_count": 3,
     "metadata": {},
     "output_type": "execute_result"
    }
   ],
   "source": [
    "data_cleaned.head()"
   ]
  },
  {
   "cell_type": "code",
   "execution_count": 4,
   "metadata": {},
   "outputs": [],
   "source": [
    "features = sc.sparse.load_npz(\"data/feature_sparse.npz\")"
   ]
  },
  {
   "cell_type": "code",
   "execution_count": 5,
   "metadata": {},
   "outputs": [
    {
     "data": {
      "text/plain": [
       "array([  314,  3258,  4798, 11521, 27233, 32322, 37207, 38199],\n",
       "      dtype=int32)"
      ]
     },
     "execution_count": 5,
     "metadata": {},
     "output_type": "execute_result"
    }
   ],
   "source": [
    "features.getrow(0).indices"
   ]
  },
  {
   "cell_type": "markdown",
   "metadata": {},
   "source": [
    "\n",
    "## Train test split "
   ]
  },
  {
   "cell_type": "code",
   "execution_count": 6,
   "metadata": {},
   "outputs": [],
   "source": [
    "# X:descriptions, Y:categories\n",
    "X_train, X_test, y_train, y_test = train_test_split(features, label, test_size=0.1, random_state=42)"
   ]
  },
  {
   "cell_type": "code",
   "execution_count": 7,
   "metadata": {},
   "outputs": [
    {
     "data": {
      "text/plain": [
       "<90000x57925 sparse matrix of type '<class 'numpy.int64'>'\n",
       "\twith 955069 stored elements in Compressed Sparse Row format>"
      ]
     },
     "execution_count": 7,
     "metadata": {},
     "output_type": "execute_result"
    }
   ],
   "source": [
    "X_train"
   ]
  },
  {
   "cell_type": "code",
   "execution_count": 8,
   "metadata": {},
   "outputs": [
    {
     "data": {
      "text/plain": [
       "<10000x57925 sparse matrix of type '<class 'numpy.int64'>'\n",
       "\twith 106031 stored elements in Compressed Sparse Row format>"
      ]
     },
     "execution_count": 8,
     "metadata": {},
     "output_type": "execute_result"
    }
   ],
   "source": [
    "X_test"
   ]
  },
  {
   "cell_type": "code",
   "execution_count": 9,
   "metadata": {},
   "outputs": [
    {
     "data": {
      "text/plain": [
       "array(['BIJOUX -  LUNETTES - MONTRES', 'MEUBLE ', 'ELECTROMENAGER', ...,\n",
       "       'INFORMATIQUE', 'TELEPHONIE - GPS', 'INFORMATIQUE'], dtype=object)"
      ]
     },
     "execution_count": 9,
     "metadata": {},
     "output_type": "execute_result"
    }
   ],
   "source": [
    "y_train"
   ]
  },
  {
   "cell_type": "code",
   "execution_count": 10,
   "metadata": {},
   "outputs": [
    {
     "data": {
      "text/plain": [
       "array(['JOUET (NEW)', 'TELEPHONIE - GPS', 'TELEPHONIE - GPS', ...,\n",
       "       'TV - VIDEO - SON', 'ADULTE - EROTIQUE ', 'TELEPHONIE - GPS'],\n",
       "      dtype=object)"
      ]
     },
     "execution_count": 10,
     "metadata": {},
     "output_type": "execute_result"
    }
   ],
   "source": [
    "y_test"
   ]
  },
  {
   "cell_type": "markdown",
   "metadata": {},
   "source": [
    "## Regression Logistique"
   ]
  },
  {
   "cell_type": "code",
   "execution_count": 11,
   "metadata": {},
   "outputs": [],
   "source": [
    "lr = LogisticRegression()"
   ]
  },
  {
   "cell_type": "code",
   "execution_count": 12,
   "metadata": {},
   "outputs": [
    {
     "name": "stdout",
     "output_type": "stream",
     "text": [
      "66.8657579421997\n"
     ]
    },
    {
     "name": "stderr",
     "output_type": "stream",
     "text": [
      "/Users/cecile/opt/anaconda3/envs/Projet4A/lib/python3.8/site-packages/sklearn/linear_model/_logistic.py:938: ConvergenceWarning: lbfgs failed to converge (status=1):\n",
      "STOP: TOTAL NO. of ITERATIONS REACHED LIMIT.\n",
      "\n",
      "Increase the number of iterations (max_iter) or scale the data as shown in:\n",
      "    https://scikit-learn.org/stable/modules/preprocessing.html\n",
      "Please also refer to the documentation for alternative solver options:\n",
      "    https://scikit-learn.org/stable/modules/linear_model.html#logistic-regression\n",
      "  n_iter_i = _check_optimize_result(\n"
     ]
    }
   ],
   "source": [
    "ts = time.time()\n",
    "lr.fit(X_train, y_train)\n",
    "te = time.time()\n",
    "print(te-ts)"
   ]
  },
  {
   "cell_type": "code",
   "execution_count": 13,
   "metadata": {},
   "outputs": [
    {
     "data": {
      "text/plain": [
       "0.9869777777777777"
      ]
     },
     "execution_count": 13,
     "metadata": {},
     "output_type": "execute_result"
    }
   ],
   "source": [
    "Y_train_predict = lr.predict(X_train)\n",
    "lr.score(X_train,y_train)"
   ]
  },
  {
   "cell_type": "markdown",
   "metadata": {},
   "source": [
    "# Explications"
   ]
  },
  {
   "cell_type": "markdown",
   "metadata": {},
   "source": [
    "Y_train predict contient les prédictions description par description\n",
    "ici on voit les prédictions des 3 premiers fichiers."
   ]
  },
  {
   "cell_type": "code",
   "execution_count": 14,
   "metadata": {},
   "outputs": [
    {
     "data": {
      "text/plain": [
       "array(['BIJOUX -  LUNETTES - MONTRES', 'MEUBLE ', 'ELECTROMENAGER'],\n",
       "      dtype=object)"
      ]
     },
     "execution_count": 14,
     "metadata": {},
     "output_type": "execute_result"
    }
   ],
   "source": [
    "Y_train_predict[:3]"
   ]
  },
  {
   "cell_type": "markdown",
   "metadata": {},
   "source": [
    "Vous pouvez retrouver le score a partir de cette prédiction en faisant:\n",
    "Nombre de descriptions dont la prédiction est juste/Nombre de descriptions total.\n",
    "\n",
    "Vous voyez que le score est identique à celui calculé par lr.score (qui fait la même chose)."
   ]
  },
  {
   "cell_type": "code",
   "execution_count": 15,
   "metadata": {},
   "outputs": [
    {
     "name": "stdout",
     "output_type": "stream",
     "text": [
      "0.9869777777777777\n"
     ]
    }
   ],
   "source": [
    "nb_good_prediction = sum(Y_train_predict == y_train)\n",
    "n_total = len(y_train)\n",
    "score = nb_good_prediction/n_total\n",
    "print(score)"
   ]
  },
  {
   "cell_type": "markdown",
   "metadata": {},
   "source": [
    "Vous pouvez maintenant faire la même chose mais par catégorie seulement. \n",
    "Pour cela on se ramène a une prédiction de une catégorie par exemple pour cette catégorie:"
   ]
  },
  {
   "cell_type": "code",
   "execution_count": 16,
   "metadata": {},
   "outputs": [],
   "source": [
    "#Liste de catégorie unique\n",
    "unique_catégorie = list(set(y_train))"
   ]
  },
  {
   "cell_type": "code",
   "execution_count": 171,
   "metadata": {},
   "outputs": [
    {
     "name": "stdout",
     "output_type": "stream",
     "text": [
      "0.9991444444444444\n"
     ]
    }
   ],
   "source": [
    "cat_name = 'JARDIN - PISCINE'\n",
    "Y_train_predict_cat = Y_train_predict==cat_name #P\n",
    "y_train_cat = y_train==cat_name\n",
    "\n",
    "nb_good_prediction = sum(Y_train_predict_cat == y_train_cat)\n",
    "n_total = len(y_train_cat)\n",
    "score = nb_good_prediction/n_total\n",
    "print(score)"
   ]
  },
  {
   "cell_type": "markdown",
   "metadata": {},
   "source": [
    "Le score (accuracy) est très bon mais il est trompeur. Car finalement nous avons beaucoup d'éléments qui ne sont PAS de cette catégorie. \n",
    "Il faut donc regarder un peu plus en détails d'autre score à partir de la table des éléments croisé.s\n",
    "\n",
    "Vous pouvez voir qu'il y a énormément de VRAI NEGATIF (element prédit faux qui sont effectivement faux) c'est ce qui permet d'avoir un bon score."
   ]
  },
  {
   "cell_type": "code",
   "execution_count": 18,
   "metadata": {},
   "outputs": [],
   "source": [
    "A=pd.crosstab(y_train_cat, Y_train_predict_cat, rownames=[\"Ground True\"], colnames=[\"Prediction\"])"
   ]
  },
  {
   "cell_type": "markdown",
   "metadata": {},
   "source": [
    "Pour avoir une meilleur idée on peut combiner ces quatres score:\n",
    "* TRUE NEGATIVE : élément faux prédit faux / tout les élement faux\n",
    "* TRUE POSITIVE : élément vrai prédit vrai / tout les élement vrai\n",
    "* FALSE NEGATIVE : élément vrai prédit faux / tout les élement vrai\n",
    "* FALSE POSITIVE :  élément faux prédit vrai/ tout les élement faux\n",
    "\n",
    "(https://en.wikipedia.org/wiki/F1_score#diagnostic_testing (Partie diagnostic testing)\n",
    "\n",
    "Le code en bas permet de les calculer (je vous laisse regarder ça)"
   ]
  },
  {
   "cell_type": "code",
   "execution_count": 19,
   "metadata": {},
   "outputs": [
    {
     "data": {
      "text/html": [
       "<div>\n",
       "<style scoped>\n",
       "    .dataframe tbody tr th:only-of-type {\n",
       "        vertical-align: middle;\n",
       "    }\n",
       "\n",
       "    .dataframe tbody tr th {\n",
       "        vertical-align: top;\n",
       "    }\n",
       "\n",
       "    .dataframe thead th {\n",
       "        text-align: right;\n",
       "    }\n",
       "</style>\n",
       "<table border=\"1\" class=\"dataframe\">\n",
       "  <thead>\n",
       "    <tr style=\"text-align: right;\">\n",
       "      <th>Prediction</th>\n",
       "      <th>False</th>\n",
       "      <th>True</th>\n",
       "    </tr>\n",
       "    <tr>\n",
       "      <th>Ground True</th>\n",
       "      <th></th>\n",
       "      <th></th>\n",
       "    </tr>\n",
       "  </thead>\n",
       "  <tbody>\n",
       "    <tr>\n",
       "      <th>False</th>\n",
       "      <td>88771</td>\n",
       "      <td>6</td>\n",
       "    </tr>\n",
       "    <tr>\n",
       "      <th>True</th>\n",
       "      <td>46</td>\n",
       "      <td>1177</td>\n",
       "    </tr>\n",
       "  </tbody>\n",
       "</table>\n",
       "</div>"
      ],
      "text/plain": [
       "Prediction   False  True \n",
       "Ground True              \n",
       "False        88771      6\n",
       "True            46   1177"
      ]
     },
     "execution_count": 19,
     "metadata": {},
     "output_type": "execute_result"
    }
   ],
   "source": [
    "A"
   ]
  },
  {
   "cell_type": "code",
   "execution_count": 20,
   "metadata": {},
   "outputs": [
    {
     "data": {
      "text/html": [
       "<div>\n",
       "<style scoped>\n",
       "    .dataframe tbody tr th:only-of-type {\n",
       "        vertical-align: middle;\n",
       "    }\n",
       "\n",
       "    .dataframe tbody tr th {\n",
       "        vertical-align: top;\n",
       "    }\n",
       "\n",
       "    .dataframe thead th {\n",
       "        text-align: right;\n",
       "    }\n",
       "</style>\n",
       "<table border=\"1\" class=\"dataframe\">\n",
       "  <thead>\n",
       "    <tr style=\"text-align: right;\">\n",
       "      <th>Prediction</th>\n",
       "      <th>False</th>\n",
       "      <th>True</th>\n",
       "    </tr>\n",
       "    <tr>\n",
       "      <th>Ground True</th>\n",
       "      <th></th>\n",
       "      <th></th>\n",
       "    </tr>\n",
       "  </thead>\n",
       "  <tbody>\n",
       "    <tr>\n",
       "      <th>False</th>\n",
       "      <td>99.993241</td>\n",
       "      <td>0.490597</td>\n",
       "    </tr>\n",
       "    <tr>\n",
       "      <th>True</th>\n",
       "      <td>0.051815</td>\n",
       "      <td>96.238757</td>\n",
       "    </tr>\n",
       "  </tbody>\n",
       "</table>\n",
       "</div>"
      ],
      "text/plain": [
       "Prediction       False      True \n",
       "Ground True                      \n",
       "False        99.993241   0.490597\n",
       "True          0.051815  96.238757"
      ]
     },
     "execution_count": 20,
     "metadata": {},
     "output_type": "execute_result"
    }
   ],
   "source": [
    "A/A.sum(axis=1)*100"
   ]
  },
  {
   "cell_type": "code",
   "execution_count": 21,
   "metadata": {},
   "outputs": [
    {
     "name": "stdout",
     "output_type": "stream",
     "text": [
      "Taux de classification :  0.9994222222222222\n"
     ]
    }
   ],
   "source": [
    "print('Taux de classification : ', (88771+1177)/(88771+1177+6+46)) \n",
    "#idem que score"
   ]
  },
  {
   "cell_type": "markdown",
   "metadata": {},
   "source": [
    "### Comment :\n",
    "\n",
    "* On se rend compte que l'algo a un taux de classification à 99,94%. \n",
    "* Lorsqu'il s'agit de dire que l'élément n'appartient pas à la catégorie Jardin-Piscine, l'algo a 99,99% de chance de ne pas se tromper.\n",
    "* En revanche, l'algo a 5% de chance de dire que la description n'appartient pas à la catégorie Jardin-Piscine alors que si elle était dans cette catégorie."
   ]
  },
  {
   "cell_type": "markdown",
   "metadata": {},
   "source": [
    "## Score par catégorie"
   ]
  },
  {
   "cell_type": "code",
   "execution_count": 182,
   "metadata": {},
   "outputs": [
    {
     "name": "stdout",
     "output_type": "stream",
     "text": [
      "PHOTO - OPTIQUE      1408 data\n",
      "Score :  0.9988222222222222 \n",
      "\n",
      "Prediction       False      True \n",
      "Ground True                      \n",
      "False        99.959364   2.556818\n",
      "True          0.079014  95.028409 \n",
      " \n",
      " \n",
      "\n",
      "TATOUAGE - PIERCING      135 data\n",
      "Score :  0.9999777777777777 \n",
      "\n",
      "Prediction        False      True \n",
      "Ground True                       \n",
      "False        100.000000   0.000000\n",
      "True           0.002226  98.518519 \n",
      " \n",
      " \n",
      "\n",
      "INSTRUMENTS DE MUSIQUE      331 data\n",
      "Score :  0.9998444444444444 \n",
      "\n",
      "Prediction       False      True \n",
      "Ground True                      \n",
      "False        99.997770   0.604230\n",
      "True          0.013383  96.374622 \n",
      " \n",
      " \n",
      "\n",
      "ADULTE - EROTIQUE       798 data\n",
      "Score :  0.9988888888888889 \n",
      "\n",
      "Prediction       False      True \n",
      "Ground True                      \n",
      "False        99.976458   2.631579\n",
      "True          0.088563  90.100251 \n",
      " \n",
      " \n",
      "\n",
      "ELECTROMENAGER      1919 data\n",
      "Score :  0.9995333333333334 \n",
      "\n",
      "Prediction       False      True \n",
      "Ground True                      \n",
      "False        99.980700   0.885878\n",
      "True          0.028383  98.697238 \n",
      " \n",
      " \n",
      "\n",
      "ARME DE COMBAT - ARME DE SPORT      71 data\n",
      "Score :  0.9999222222222223 \n",
      "\n",
      "Prediction        False      True \n",
      "Ground True                       \n",
      "False        100.000000   0.000000\n",
      "True           0.007784  90.140845 \n",
      " \n",
      " \n",
      "\n",
      "BIJOUX -  LUNETTES - MONTRES      5414 data\n",
      "Score :  0.9992555555555556 \n",
      "\n",
      "Prediction       False      True \n",
      "Ground True                      \n",
      "False        99.942071   0.905061\n",
      "True          0.021280  99.667529 \n",
      " \n",
      " \n",
      "\n",
      "VETEMENTS - LINGERIE       5399 data\n",
      "Score :  0.9979333333333333 \n",
      "\n",
      "Prediction       False      True \n",
      "Ground True                      \n",
      "False        99.860522   2.185590\n",
      "True          0.080377  98.740508 \n",
      " \n",
      " \n",
      "\n",
      "MERCERIE      289 data\n",
      "Score :  0.9998222222222222 \n",
      "\n",
      "Prediction       False      True \n",
      "Ground True                      \n",
      "False        99.995541   1.384083\n",
      "True          0.013376  95.847751 \n",
      " \n",
      " \n",
      "\n",
      "LITERIE      370 data\n",
      "Score :  0.9998888888888889 \n",
      "\n",
      "Prediction       False      True \n",
      "Ground True                      \n",
      "False        99.996653   0.810811\n",
      "True          0.007810  98.108108 \n",
      " \n",
      " \n",
      "\n",
      "SONO - DJ      144 data\n",
      "Score :  0.9998666666666667 \n",
      "\n",
      "Prediction        False      True \n",
      "Ground True                       \n",
      "False        100.000000   0.000000\n",
      "True           0.013355  91.666667 \n",
      " \n",
      " \n",
      "\n",
      "TELEPHONIE - GPS      19173 data\n",
      "Score :  0.9953666666666666 \n",
      "\n",
      "Prediction       False      True \n",
      "Ground True                      \n",
      "False        99.596199   1.491681\n",
      "True          0.184958  99.316748 \n",
      " \n",
      " \n",
      "\n",
      "ARTICLES POUR FUMEUR      351 data\n",
      "Score :  0.9999111111111111 \n",
      "\n",
      "Prediction        False      True \n",
      "Ground True                       \n",
      "False        100.000000   0.000000\n",
      "True           0.008924  97.720798 \n",
      " \n",
      " \n",
      "\n",
      "BATEAU MOTEUR - VOILIER      59 data\n",
      "Score :  0.9999888888888889 \n",
      "\n",
      "Prediction        False      True \n",
      "Ground True                       \n",
      "False        100.000000   0.000000\n",
      "True           0.001112  98.305085 \n",
      " \n",
      " \n",
      "\n",
      "LIBRAIRIE      10897 data\n",
      "Score :  0.9921777777777778 \n",
      "\n",
      "Prediction       False      True \n",
      "Ground True                      \n",
      "False        99.111285   6.451317\n",
      "True          0.001264  99.990823 \n",
      " \n",
      " \n",
      "\n",
      "TV - VIDEO - SON      854 data\n",
      "Score :  0.9983666666666666 \n",
      "\n",
      "Prediction       False      True \n",
      "Ground True                      \n",
      "False        99.968591   3.278689\n",
      "True          0.133489  86.065574 \n",
      " \n",
      " \n",
      "\n",
      "DROGUERIE (NEW)      152 data\n",
      "Score :  0.9998888888888889 \n",
      "\n",
      "Prediction       False      True \n",
      "Ground True                      \n",
      "False        100.00000   0.000000\n",
      "True           0.01113  93.421053 \n",
      " \n",
      " \n",
      "\n",
      "ANIMALERIE - NEW      562 data\n",
      "Score :  0.9992555555555556 \n",
      "\n",
      "Prediction       False      True \n",
      "Ground True                      \n",
      "False        99.993291   1.067616\n",
      "True          0.068204  89.145907 \n",
      " \n",
      " \n",
      "\n",
      "TENUE PROFESSIONNELLE      21 data\n",
      "Score :  0.9999555555555556 \n",
      "\n",
      "Prediction        False      True \n",
      "Ground True                       \n",
      "False        100.000000   0.000000\n",
      "True           0.004445  80.952381 \n",
      " \n",
      " \n",
      "\n",
      "PRODUITS FRAIS      4 data\n",
      "Score :  0.9999888888888889 \n",
      "\n",
      "Prediction        False  True \n",
      "Ground True                   \n",
      "False        100.000000    0.0\n",
      "True           0.001111   75.0 \n",
      " \n",
      " \n",
      "\n",
      "ART DE LA TABLE - ARTICLES CULINAIRES      1004 data\n",
      "Score :  0.9994555555555555 \n",
      "\n",
      "Prediction       False      True \n",
      "Ground True                      \n",
      "False        99.983145   1.494024\n",
      "True          0.038204  96.613546 \n",
      " \n",
      " \n",
      "\n",
      "CULTURE / JEUX      1647 data\n",
      "Score :  0.9981555555555556 \n",
      "\n",
      "Prediction       False      True \n",
      "Ground True                      \n",
      "False        99.997736   0.121433\n",
      "True          0.185619  90.042502 \n",
      " \n",
      " \n",
      "\n",
      "SPORT (NEW)      2302 data\n",
      "Score :  0.9985111111111111 \n",
      "\n",
      "Prediction       False      True \n",
      "Ground True                      \n",
      "False        99.962371   1.433536\n",
      "True          0.115168  95.612511 \n",
      " \n",
      " \n",
      "\n",
      "VIN - ALCOOL - LIQUIDES      180 data\n",
      "Score :  0.9999222222222223 \n",
      "\n",
      "Prediction        False      True \n",
      "Ground True                       \n",
      "False        100.000000   0.000000\n",
      "True           0.007793  96.111111 \n",
      " \n",
      " \n",
      "\n",
      "CHAUSSURES - ACCESSOIRES      1247 data\n",
      "Score :  0.9997888888888888 \n",
      "\n",
      "Prediction       False      True \n",
      "Ground True                      \n",
      "False        99.994366   0.400962\n",
      "True          0.015774  98.877306 \n",
      " \n",
      " \n",
      "\n",
      "PUERICULTURE      490 data\n",
      "Score :  0.9996666666666667 \n",
      "\n",
      "Prediction       False      True \n",
      "Ground True                      \n",
      "False        99.995531   0.816327\n",
      "True          0.029047  94.693878 \n",
      " \n",
      " \n",
      "\n",
      "LOISIRS CREATIFS - BEAUX ARTS - PAPETERIE      862 data\n",
      "Score :  0.9993333333333333 \n",
      "\n",
      "Prediction       False      True \n",
      "Ground True                      \n",
      "False        99.991025   0.928074\n",
      "True          0.058337  93.967517 \n",
      " \n",
      " \n",
      "\n",
      "JOUET (NEW)      1826 data\n",
      "Score :  0.9985555555555555 \n",
      "\n",
      "Prediction       False      True \n",
      "Ground True                      \n",
      "False        99.964842   1.697700\n",
      "True          0.112278  94.578313 \n",
      " \n",
      " \n",
      "\n",
      "CONDITIONNEMENT      23 data\n",
      "Score :  0.9999888888888889 \n",
      "\n",
      "Prediction        False      True \n",
      "Ground True                       \n",
      "False        100.000000   0.000000\n",
      "True           0.001111  95.652174 \n",
      " \n",
      " \n",
      "\n",
      "JARDIN - PISCINE      1223 data\n",
      "Score :  0.9991444444444444 \n",
      "\n",
      "Prediction       False      True \n",
      "Ground True                      \n",
      "False        99.987609   0.899428\n",
      "True          0.074344  94.603434 \n",
      " \n",
      " \n",
      "\n",
      "MANUTENTION      10 data\n",
      "Score :  0.9999888888888889 \n",
      "\n",
      "Prediction        False  True \n",
      "Ground True                   \n",
      "False        100.000000    0.0\n",
      "True           0.001111   90.0 \n",
      " \n",
      " \n",
      "\n",
      "POINT DE VENTE - COMMERCE - ADMINISTRATION      164 data\n",
      "Score :  0.9995 \n",
      "\n",
      "Prediction       False      True \n",
      "Ground True                      \n",
      "False        99.983303   9.146341\n",
      "True          0.033394  81.707317 \n",
      " \n",
      " \n",
      "\n",
      "BAGAGERIE      1732 data\n",
      "Score :  0.9995444444444445 \n",
      "\n",
      "Prediction       False      True \n",
      "Ground True                      \n",
      "False        99.975076   1.270208\n",
      "True          0.021525  98.903002 \n",
      " \n",
      " \n",
      "\n",
      "MATERIEL MEDICAL      36 data\n",
      "Score :  0.9999666666666667 \n",
      "\n",
      "Prediction        False      True \n",
      "Ground True                       \n",
      "False        100.000000   0.000000\n",
      "True           0.003335  91.666667 \n",
      " \n",
      " \n",
      "\n",
      "AUTO - MOTO (NEW)      4282 data\n",
      "Score :  0.9987222222222222 \n",
      "\n",
      "Prediction       False      True \n",
      "Ground True                      \n",
      "False        99.962668   0.747314\n",
      "True          0.096829  98.061653 \n",
      " \n",
      " \n",
      "\n",
      "ELECTRONIQUE      291 data\n",
      "Score :  0.9999444444444444 \n",
      "\n",
      "Prediction       False      True \n",
      "Ground True                      \n",
      "False        99.998885   0.343643\n",
      "True          0.004459  98.625430 \n",
      " \n",
      " \n",
      "\n",
      "BRICOLAGE - OUTILLAGE - QUINCAILLERIE      2850 data\n",
      "Score :  0.9977222222222222 \n",
      "\n",
      "Prediction       False      True \n",
      "Ground True                      \n",
      "False        99.885255   3.508772\n",
      "True          0.120482  96.315789 \n",
      " \n",
      " \n",
      "\n",
      "EPICERIE      235 data\n",
      "Score :  0.9998666666666667 \n",
      "\n",
      "Prediction       False      True \n",
      "Ground True                      \n",
      "False        99.998886   0.425532\n",
      "True          0.012254  95.319149 \n",
      " \n",
      " \n",
      "\n",
      "PARAPHARMACIE      257 data\n",
      "Score :  0.9999 \n",
      "\n",
      "Prediction        False      True \n",
      "Ground True                       \n",
      "False        100.000000   0.000000\n",
      "True           0.010029  96.498054 \n",
      " \n",
      " \n",
      "\n",
      "INFORMATIQUE      13184 data\n",
      "Score :  0.9951666666666666 \n",
      "\n",
      "Prediction       False      True \n",
      "Ground True                      \n",
      "False        99.724016   1.608010\n",
      "True          0.290304  98.308556 \n",
      " \n",
      " \n",
      "\n"
     ]
    },
    {
     "name": "stdout",
     "output_type": "stream",
     "text": [
      "DECO - LINGE - LUMINAIRE      5272 data\n",
      "Score :  0.9972888888888889 \n",
      "\n",
      "Prediction       False      True \n",
      "Ground True                      \n",
      "False        99.879615   1.934750\n",
      "True          0.167595  97.306525 \n",
      " \n",
      " \n",
      "\n",
      "MEUBLE       1234 data\n",
      "Score :  0.9996777777777778 \n",
      "\n",
      "Prediction       False      True \n",
      "Ground True                      \n",
      "False        99.985355   1.053485\n",
      "True          0.018025  98.703404 \n",
      " \n",
      " \n",
      "\n",
      "HYGIENE - BEAUTE - PARFUM      1221 data\n",
      "Score :  0.9994777777777778 \n",
      "\n",
      "Prediction       False      True \n",
      "Ground True                      \n",
      "False        99.983104   1.228501\n",
      "True          0.036045  97.379197 \n",
      " \n",
      " \n",
      "\n",
      "MATERIEL DE BUREAU      77 data\n",
      "Score :  0.9999444444444444 \n",
      "\n",
      "Prediction       False      True \n",
      "Ground True                      \n",
      "False        100.00000   0.000000\n",
      "True           0.00556  93.506494 \n",
      " \n",
      " \n",
      "\n"
     ]
    }
   ],
   "source": [
    "cat = list(set(y_train)) #recup toutes les categories\n",
    "\n",
    "for i in cat :\n",
    "    cat_name = str(i)\n",
    "    Y_train_predict_cat = Y_train_predict==cat_name\n",
    "    y_train_cat = y_train==cat_name\n",
    "    nb_good_prediction = sum(Y_train_predict_cat == y_train_cat)\n",
    "    n_data = 0\n",
    "    for k in y_train_cat:\n",
    "        if k== True:\n",
    "            n_data +=1\n",
    "    n_total = len(y_train_cat)\n",
    "    score = nb_good_prediction/n_total\n",
    "    print(cat_name, \"    \", n_data, \"data\") \n",
    "    print(\"Score : \", score, \"\\n\") \n",
    "    A=pd.crosstab(y_train_cat, Y_train_predict_cat, rownames=[\"Ground True\"], colnames=[\"Prediction\"])\n",
    "    print(A/A.sum(axis=1)*100, \"\\n \\n \\n\")"
   ]
  },
  {
   "cell_type": "markdown",
   "metadata": {},
   "source": [
    "### Comment :\n",
    "\n",
    "* On se rend compte que le taux de classification pour chaque catégorie est très très élevé, > 99,5%.\n",
    "* Plus il y a de produit dans une catégorie au sein du set d'apprentissage plus le True - True de cette catégorie est élevé. "
   ]
  },
  {
   "cell_type": "markdown",
   "metadata": {},
   "source": [
    "## Reduction de X train"
   ]
  },
  {
   "cell_type": "code",
   "execution_count": 24,
   "metadata": {},
   "outputs": [],
   "source": [
    "nb = 10000\n",
    "X_small_train = X_train[0:nb]\n",
    "y_small_train = y_train[0:nb]"
   ]
  },
  {
   "cell_type": "code",
   "execution_count": 25,
   "metadata": {},
   "outputs": [
    {
     "name": "stdout",
     "output_type": "stream",
     "text": [
      "35.03369116783142\n"
     ]
    }
   ],
   "source": [
    "ts = time.time()\n",
    "lr.fit(X_small_train, y_small_train)\n",
    "te = time.time()\n",
    "print(te-ts)"
   ]
  },
  {
   "cell_type": "code",
   "execution_count": 26,
   "metadata": {},
   "outputs": [
    {
     "data": {
      "text/plain": [
       "0.9926"
      ]
     },
     "execution_count": 26,
     "metadata": {},
     "output_type": "execute_result"
    }
   ],
   "source": [
    "Y_small_train_predict = lr.predict(X_small_train)\n",
    "lr.score(X_small_train,y_small_train)"
   ]
  },
  {
   "cell_type": "code",
   "execution_count": 27,
   "metadata": {},
   "outputs": [
    {
     "data": {
      "text/plain": [
       "0.826"
      ]
     },
     "execution_count": 27,
     "metadata": {},
     "output_type": "execute_result"
    }
   ],
   "source": [
    "lr.score(X_test,y_test)"
   ]
  },
  {
   "cell_type": "markdown",
   "metadata": {},
   "source": [
    "#index_gps = lbl_gps.loc[lbl_gps['Categorie1'] == 'TELEPHONIE - GPS'].index\n",
    "#features_gps = features[v,:]\n",
    "#lbl_gps = lbl_gps.reset_index(drop=True)\n",
    "\n",
    "\n",
    "    ### Grosse erreur: on voulait faire la regression logistique par catégorie au lieu d'obtenir le score par categorie"
   ]
  },
  {
   "cell_type": "markdown",
   "metadata": {},
   "source": [
    "## Comments:\n",
    " \n",
    "Observations : plus on réduit le nombre de produit dans X_train plus notre score de classification est bon sur ce même set. A l'inverse le taux de classification se dégrade sur l'ensemble test. Cohérent car il y a moins de données pour l'apprentissage. On obtient un score de 82,89% pour des set d'apprentissage et de test de 10 000 produits.\n",
    "\n",
    " "
   ]
  }
 ],
 "metadata": {
  "kernelspec": {
   "display_name": "Python 3",
   "language": "python",
   "name": "python3"
  },
  "language_info": {
   "codemirror_mode": {
    "name": "ipython",
    "version": 3
   },
   "file_extension": ".py",
   "mimetype": "text/x-python",
   "name": "python",
   "nbconvert_exporter": "python",
   "pygments_lexer": "ipython3",
   "version": "3.7.4"
  }
 },
 "nbformat": 4,
 "nbformat_minor": 4
}
