{
 "cells": [
  {
   "cell_type": "code",
   "execution_count": 1,
   "metadata": {},
   "outputs": [],
   "source": [
    "import pandas as pd\n",
    "import scipy as sc\n",
    "import time\n",
    "from sklearn.model_selection import train_test_split\n",
    "from sklearn.linear_model import LogisticRegression"
   ]
  },
  {
   "cell_type": "code",
   "execution_count": 2,
   "metadata": {},
   "outputs": [],
   "source": [
    "data_cleaned = pd.read_csv(\"data/data_cleaned.csv\")\n",
    "label = data_cleaned[\"Categorie1\"].values"
   ]
  },
  {
   "cell_type": "code",
   "execution_count": 3,
   "metadata": {},
   "outputs": [
    {
     "data": {
      "text/html": [
       "<div>\n",
       "<style scoped>\n",
       "    .dataframe tbody tr th:only-of-type {\n",
       "        vertical-align: middle;\n",
       "    }\n",
       "\n",
       "    .dataframe tbody tr th {\n",
       "        vertical-align: top;\n",
       "    }\n",
       "\n",
       "    .dataframe thead th {\n",
       "        text-align: right;\n",
       "    }\n",
       "</style>\n",
       "<table border=\"1\" class=\"dataframe\">\n",
       "  <thead>\n",
       "    <tr style=\"text-align: right;\">\n",
       "      <th></th>\n",
       "      <th>Categorie1</th>\n",
       "      <th>Description</th>\n",
       "    </tr>\n",
       "  </thead>\n",
       "  <tbody>\n",
       "    <tr>\n",
       "      <th>0</th>\n",
       "      <td>INFORMATIQUE</td>\n",
       "      <td>batter acer aspir one ion mah noir compatibl b...</td>\n",
       "    </tr>\n",
       "    <tr>\n",
       "      <th>1</th>\n",
       "      <td>TELEPHONIE - GPS</td>\n",
       "      <td>coqu rigid bleu lagon alcatel motif drapeau li...</td>\n",
       "    </tr>\n",
       "    <tr>\n",
       "      <th>2</th>\n",
       "      <td>TELEPHONIE - GPS</td>\n",
       "      <td>facad coqu cellular lin shckgal minip marqu ag...</td>\n",
       "    </tr>\n",
       "    <tr>\n",
       "      <th>3</th>\n",
       "      <td>TELEPHONIE - GPS</td>\n",
       "      <td>coqu meteor tpu nexus</td>\n",
       "    </tr>\n",
       "    <tr>\n",
       "      <th>4</th>\n",
       "      <td>TELEPHONIE - GPS</td>\n",
       "      <td>coqu soupl transparent flex motif keep calm an...</td>\n",
       "    </tr>\n",
       "  </tbody>\n",
       "</table>\n",
       "</div>"
      ],
      "text/plain": [
       "         Categorie1                                        Description\n",
       "0      INFORMATIQUE  batter acer aspir one ion mah noir compatibl b...\n",
       "1  TELEPHONIE - GPS  coqu rigid bleu lagon alcatel motif drapeau li...\n",
       "2  TELEPHONIE - GPS  facad coqu cellular lin shckgal minip marqu ag...\n",
       "3  TELEPHONIE - GPS                             coqu meteor tpu nexus \n",
       "4  TELEPHONIE - GPS  coqu soupl transparent flex motif keep calm an..."
      ]
     },
     "execution_count": 3,
     "metadata": {},
     "output_type": "execute_result"
    }
   ],
   "source": [
    "data_cleaned.head()"
   ]
  },
  {
   "cell_type": "code",
   "execution_count": 4,
   "metadata": {},
   "outputs": [],
   "source": [
    "features = sc.sparse.load_npz(\"data/feature_sparse.npz\")"
   ]
  },
  {
   "cell_type": "code",
   "execution_count": 5,
   "metadata": {},
   "outputs": [
    {
     "data": {
      "text/plain": [
       "array([  314,  3258,  4798, 11521, 27233, 32322, 37207, 38199],\n",
       "      dtype=int32)"
      ]
     },
     "execution_count": 5,
     "metadata": {},
     "output_type": "execute_result"
    }
   ],
   "source": [
    "features.getrow(0).indices"
   ]
  },
  {
   "cell_type": "markdown",
   "metadata": {},
   "source": [
    "\n",
    "## Train test split "
   ]
  },
  {
   "cell_type": "code",
   "execution_count": 6,
   "metadata": {},
   "outputs": [],
   "source": [
    "# X:descriptions, Y:categories\n",
    "X_train, X_test, y_train, y_test = train_test_split(features, label, test_size=0.1, random_state=42)"
   ]
  },
  {
   "cell_type": "code",
   "execution_count": 7,
   "metadata": {},
   "outputs": [
    {
     "data": {
      "text/plain": [
       "<90000x57925 sparse matrix of type '<class 'numpy.int64'>'\n",
       "\twith 955069 stored elements in Compressed Sparse Row format>"
      ]
     },
     "execution_count": 7,
     "metadata": {},
     "output_type": "execute_result"
    }
   ],
   "source": [
    "X_train"
   ]
  },
  {
   "cell_type": "code",
   "execution_count": 8,
   "metadata": {},
   "outputs": [
    {
     "data": {
      "text/plain": [
       "<10000x57925 sparse matrix of type '<class 'numpy.int64'>'\n",
       "\twith 106031 stored elements in Compressed Sparse Row format>"
      ]
     },
     "execution_count": 8,
     "metadata": {},
     "output_type": "execute_result"
    }
   ],
   "source": [
    "X_test"
   ]
  },
  {
   "cell_type": "code",
   "execution_count": 9,
   "metadata": {},
   "outputs": [
    {
     "data": {
      "text/plain": [
       "array(['BIJOUX -  LUNETTES - MONTRES', 'MEUBLE ', 'ELECTROMENAGER', ...,\n",
       "       'INFORMATIQUE', 'TELEPHONIE - GPS', 'INFORMATIQUE'], dtype=object)"
      ]
     },
     "execution_count": 9,
     "metadata": {},
     "output_type": "execute_result"
    }
   ],
   "source": [
    "y_train"
   ]
  },
  {
   "cell_type": "code",
   "execution_count": 10,
   "metadata": {},
   "outputs": [
    {
     "data": {
      "text/plain": [
       "array(['JOUET (NEW)', 'TELEPHONIE - GPS', 'TELEPHONIE - GPS', ...,\n",
       "       'TV - VIDEO - SON', 'ADULTE - EROTIQUE ', 'TELEPHONIE - GPS'],\n",
       "      dtype=object)"
      ]
     },
     "execution_count": 10,
     "metadata": {},
     "output_type": "execute_result"
    }
   ],
   "source": [
    "y_test"
   ]
  },
  {
   "cell_type": "markdown",
   "metadata": {},
   "source": [
    "## Regression Logistique"
   ]
  },
  {
   "cell_type": "code",
   "execution_count": 11,
   "metadata": {},
   "outputs": [],
   "source": [
    "lr = LogisticRegression()"
   ]
  },
  {
   "cell_type": "code",
   "execution_count": 12,
   "metadata": {},
   "outputs": [
    {
     "name": "stdout",
     "output_type": "stream",
     "text": [
      "66.8657579421997\n"
     ]
    },
    {
     "name": "stderr",
     "output_type": "stream",
     "text": [
      "/Users/cecile/opt/anaconda3/envs/Projet4A/lib/python3.8/site-packages/sklearn/linear_model/_logistic.py:938: ConvergenceWarning: lbfgs failed to converge (status=1):\n",
      "STOP: TOTAL NO. of ITERATIONS REACHED LIMIT.\n",
      "\n",
      "Increase the number of iterations (max_iter) or scale the data as shown in:\n",
      "    https://scikit-learn.org/stable/modules/preprocessing.html\n",
      "Please also refer to the documentation for alternative solver options:\n",
      "    https://scikit-learn.org/stable/modules/linear_model.html#logistic-regression\n",
      "  n_iter_i = _check_optimize_result(\n"
     ]
    }
   ],
   "source": [
    "ts = time.time()\n",
    "lr.fit(X_train, y_train)\n",
    "te = time.time()\n",
    "print(te-ts)"
   ]
  },
  {
   "cell_type": "code",
   "execution_count": 13,
   "metadata": {},
   "outputs": [
    {
     "data": {
      "text/plain": [
       "0.9869777777777777"
      ]
     },
     "execution_count": 13,
     "metadata": {},
     "output_type": "execute_result"
    }
   ],
   "source": [
    "Y_train_predict = lr.predict(X_train)\n",
    "lr.score(X_train,y_train)"
   ]
  },
  {
   "cell_type": "markdown",
   "metadata": {},
   "source": [
    "# Explications"
   ]
  },
  {
   "cell_type": "markdown",
   "metadata": {},
   "source": [
    "Y_train predict contient les prédictions description par description\n",
    "ici on voit les prédictions des 3 premiers fichiers."
   ]
  },
  {
   "cell_type": "code",
   "execution_count": 14,
   "metadata": {},
   "outputs": [
    {
     "data": {
      "text/plain": [
       "array(['BIJOUX -  LUNETTES - MONTRES', 'MEUBLE ', 'ELECTROMENAGER'],\n",
       "      dtype=object)"
      ]
     },
     "execution_count": 14,
     "metadata": {},
     "output_type": "execute_result"
    }
   ],
   "source": [
    "Y_train_predict[:3]"
   ]
  },
  {
   "cell_type": "markdown",
   "metadata": {},
   "source": [
    "Vous pouvez retrouver le score a partir de cette prédiction en faisant:\n",
    "Nombre de descriptions dont la prédiction est juste/Nombre de descriptions total.\n",
    "\n",
    "Vous voyez que le score est identique à celui calculé par lr.score (qui fait la même chose)."
   ]
  },
  {
   "cell_type": "code",
   "execution_count": 15,
   "metadata": {},
   "outputs": [
    {
     "name": "stdout",
     "output_type": "stream",
     "text": [
      "0.9869777777777777\n"
     ]
    }
   ],
   "source": [
    "nb_good_prediction = sum(Y_train_predict == y_train)\n",
    "n_total = len(y_train)\n",
    "score = nb_good_prediction/n_total\n",
    "print(score)"
   ]
  },
  {
   "cell_type": "markdown",
   "metadata": {},
   "source": [
    "Vous pouvez maintenant faire la même chose mais par catégorie seulement. \n",
    "Pour cela on se ramène a une prédiction de une catégorie par exemple pour cette catégorie:"
   ]
  },
  {
   "cell_type": "code",
   "execution_count": 16,
   "metadata": {},
   "outputs": [],
   "source": [
    "#Liste de catégorie unique\n",
    "unique_catégorie = list(set(y_train))"
   ]
  },
  {
   "cell_type": "code",
   "execution_count": 17,
   "metadata": {},
   "outputs": [
    {
     "name": "stdout",
     "output_type": "stream",
     "text": [
      "0.9994222222222222\n"
     ]
    }
   ],
   "source": [
    "cat_name = 'JARDIN - PISCINE'\n",
    "Y_train_predict_cat = Y_train_predict==cat_name #P\n",
    "y_train_cat = y_train==cat_name\n",
    "\n",
    "nb_good_prediction = sum(Y_train_predict_cat == y_train_cat)\n",
    "n_total = len(y_train_cat)\n",
    "score = nb_good_prediction/n_total\n",
    "print(score)"
   ]
  },
  {
   "cell_type": "markdown",
   "metadata": {},
   "source": [
    "Le score (accuracy) est très bon mais il est trompeur. Car finalement nous avons beaucoup d'éléments qui ne sont PAS de cette catégorie. \n",
    "Il faut donc regarder un peu plus en détails d'autre score à partir de la table des éléments croisé.s\n",
    "\n",
    "Vous pouvez voir qu'il y a énormément de VRAI NEGATIF (element prédit faux qui sont effectivement faux) c'est ce qui permet d'avoir un bon score."
   ]
  },
  {
   "cell_type": "code",
   "execution_count": 18,
   "metadata": {},
   "outputs": [],
   "source": [
    "A=pd.crosstab(y_train_cat, Y_train_predict_cat, rownames=[\"Ground True\"], colnames=[\"Prediction\"])"
   ]
  },
  {
   "cell_type": "markdown",
   "metadata": {},
   "source": [
    "Pour avoir une meilleur idée on peut combiner ces quatres score:\n",
    "* TRUE NEGATIVE : élément faux prédit faux / tout les élement faux\n",
    "* TRUE POSITIVE : élément vrai prédit vrai / tout les élement vrai\n",
    "* FALSE NEGATIVE : élément vrai prédit faux / tout les élement vrai\n",
    "* FALSE POSITIVE :  élément faux prédit vrai/ tout les élement faux\n",
    "\n",
    "(https://en.wikipedia.org/wiki/F1_score#diagnostic_testing (Partie diagnostic testing)\n",
    "\n",
    "Le code en bas permet de les calculer (je vous laisse regarder ça)"
   ]
  },
  {
   "cell_type": "code",
   "execution_count": 19,
   "metadata": {},
   "outputs": [
    {
     "data": {
      "text/html": [
       "<div>\n",
       "<style scoped>\n",
       "    .dataframe tbody tr th:only-of-type {\n",
       "        vertical-align: middle;\n",
       "    }\n",
       "\n",
       "    .dataframe tbody tr th {\n",
       "        vertical-align: top;\n",
       "    }\n",
       "\n",
       "    .dataframe thead th {\n",
       "        text-align: right;\n",
       "    }\n",
       "</style>\n",
       "<table border=\"1\" class=\"dataframe\">\n",
       "  <thead>\n",
       "    <tr style=\"text-align: right;\">\n",
       "      <th>Prediction</th>\n",
       "      <th>False</th>\n",
       "      <th>True</th>\n",
       "    </tr>\n",
       "    <tr>\n",
       "      <th>Ground True</th>\n",
       "      <th></th>\n",
       "      <th></th>\n",
       "    </tr>\n",
       "  </thead>\n",
       "  <tbody>\n",
       "    <tr>\n",
       "      <th>False</th>\n",
       "      <td>88771</td>\n",
       "      <td>6</td>\n",
       "    </tr>\n",
       "    <tr>\n",
       "      <th>True</th>\n",
       "      <td>46</td>\n",
       "      <td>1177</td>\n",
       "    </tr>\n",
       "  </tbody>\n",
       "</table>\n",
       "</div>"
      ],
      "text/plain": [
       "Prediction   False  True \n",
       "Ground True              \n",
       "False        88771      6\n",
       "True            46   1177"
      ]
     },
     "execution_count": 19,
     "metadata": {},
     "output_type": "execute_result"
    }
   ],
   "source": [
    "A"
   ]
  },
  {
   "cell_type": "code",
   "execution_count": 20,
   "metadata": {},
   "outputs": [
    {
     "data": {
      "text/html": [
       "<div>\n",
       "<style scoped>\n",
       "    .dataframe tbody tr th:only-of-type {\n",
       "        vertical-align: middle;\n",
       "    }\n",
       "\n",
       "    .dataframe tbody tr th {\n",
       "        vertical-align: top;\n",
       "    }\n",
       "\n",
       "    .dataframe thead th {\n",
       "        text-align: right;\n",
       "    }\n",
       "</style>\n",
       "<table border=\"1\" class=\"dataframe\">\n",
       "  <thead>\n",
       "    <tr style=\"text-align: right;\">\n",
       "      <th>Prediction</th>\n",
       "      <th>False</th>\n",
       "      <th>True</th>\n",
       "    </tr>\n",
       "    <tr>\n",
       "      <th>Ground True</th>\n",
       "      <th></th>\n",
       "      <th></th>\n",
       "    </tr>\n",
       "  </thead>\n",
       "  <tbody>\n",
       "    <tr>\n",
       "      <th>False</th>\n",
       "      <td>99.993241</td>\n",
       "      <td>0.490597</td>\n",
       "    </tr>\n",
       "    <tr>\n",
       "      <th>True</th>\n",
       "      <td>0.051815</td>\n",
       "      <td>96.238757</td>\n",
       "    </tr>\n",
       "  </tbody>\n",
       "</table>\n",
       "</div>"
      ],
      "text/plain": [
       "Prediction       False      True \n",
       "Ground True                      \n",
       "False        99.993241   0.490597\n",
       "True          0.051815  96.238757"
      ]
     },
     "execution_count": 20,
     "metadata": {},
     "output_type": "execute_result"
    }
   ],
   "source": [
    "A/A.sum(axis=1)*100"
   ]
  },
  {
   "cell_type": "code",
   "execution_count": 21,
   "metadata": {},
   "outputs": [
    {
     "name": "stdout",
     "output_type": "stream",
     "text": [
      "Taux de classification :  0.9994222222222222\n"
     ]
    }
   ],
   "source": [
    "print('Taux de classification : ', (88771+1177)/(88771+1177+6+46)) \n",
    "#idem que score"
   ]
  },
  {
   "cell_type": "markdown",
   "metadata": {},
   "source": [
    "### Comment :\n",
    "\n",
    "* On se rend compte que l'algo a un taux de classification à 99,94%. \n",
    "* Lorsqu'il s'agit de dire que l'élément n'appartient pas à la catégorie Jardin-Piscine, l'algo a 99,99% de chance de ne pas se tromper.\n",
    "* En revanche, l'algo a 5% de chance de dire que la description n'appartient pas à la catégorie Jardin-Piscine alors que si elle était dans cette catégorie."
   ]
  },
  {
   "cell_type": "markdown",
   "metadata": {},
   "source": [
    "## Score par catégorie"
   ]
  },
  {
   "cell_type": "code",
   "execution_count": 22,
   "metadata": {},
   "outputs": [
    {
     "name": "stdout",
     "output_type": "stream",
     "text": [
      "ANIMALERIE - NEW      90000 data\n",
      "Score :  0.9995555555555555 \n",
      "\n",
      "Prediction       False      True \n",
      "Ground True                      \n",
      "False        99.993291   1.067616\n",
      "True          0.038015  93.950178 \n",
      " \n",
      " \n",
      "\n",
      "TATOUAGE - PIERCING      90000 data\n",
      "Score :  1.0 \n",
      "\n",
      "Prediction   False  True \n",
      "Ground True              \n",
      "False        100.0    0.0\n",
      "True           0.0  100.0 \n",
      " \n",
      " \n",
      "\n",
      "TELEPHONIE - GPS      90000 data\n",
      "Score :  0.9967333333333334 \n",
      "\n",
      "Prediction       False      True \n",
      "Ground True                      \n",
      "False        99.717622   1.043134\n",
      "True          0.132718  99.509727 \n",
      " \n",
      " \n",
      "\n",
      "MEUBLE       90000 data\n",
      "Score :  0.9998666666666667 \n",
      "\n",
      "Prediction       False      True \n",
      "Ground True                      \n",
      "False        99.994367   0.405186\n",
      "True          0.007886  99.432739 \n",
      " \n",
      " \n",
      "\n",
      "ART DE LA TABLE - ARTICLES CULINAIRES      90000 data\n",
      "Score :  0.9996777777777778 \n",
      "\n",
      "Prediction       False      True \n",
      "Ground True                      \n",
      "False        99.992134   0.697211\n",
      "True          0.024720  97.808765 \n",
      " \n",
      " \n",
      "\n",
      "DECO - LINGE - LUMINAIRE      90000 data\n",
      "Score :  0.9985222222222222 \n",
      "\n",
      "Prediction       False      True \n",
      "Ground True                      \n",
      "False        99.956331   0.701821\n",
      "True          0.113304  98.179059 \n",
      " \n",
      " \n",
      "\n",
      "TENUE PROFESSIONNELLE      90000 data\n",
      "Score :  0.9999888888888889 \n",
      "\n",
      "Prediction        False      True \n",
      "Ground True                       \n",
      "False        100.000000   0.000000\n",
      "True           0.001111  95.238095 \n",
      " \n",
      " \n",
      "\n",
      "INSTRUMENTS DE MUSIQUE      90000 data\n",
      "Score :  0.9999 \n",
      "\n",
      "Prediction        False      True \n",
      "Ground True                       \n",
      "False        100.000000   0.000000\n",
      "True           0.010037  97.280967 \n",
      " \n",
      " \n",
      "\n",
      "PRODUITS FRAIS      90000 data\n",
      "Score :  0.9999888888888889 \n",
      "\n",
      "Prediction        False  True \n",
      "Ground True                   \n",
      "False        100.000000    0.0\n",
      "True           0.001111   75.0 \n",
      " \n",
      " \n",
      "\n",
      "EPICERIE      90000 data\n",
      "Score :  0.9999111111111111 \n",
      "\n",
      "Prediction       False      True \n",
      "Ground True                      \n",
      "False        99.998886   0.425532\n",
      "True          0.007798  97.021277 \n",
      " \n",
      " \n",
      "\n",
      "ADULTE - EROTIQUE       90000 data\n",
      "Score :  0.9993444444444445 \n",
      "\n",
      "Prediction       False      True \n",
      "Ground True                      \n",
      "False        99.987668   1.378446\n",
      "True          0.053810  93.984962 \n",
      " \n",
      " \n",
      "\n",
      "CHAUSSURES - ACCESSOIRES      90000 data\n",
      "Score :  0.9998888888888889 \n",
      "\n",
      "Prediction       False      True \n",
      "Ground True                      \n",
      "False        99.996620   0.240577\n",
      "True          0.007887  99.438653 \n",
      " \n",
      " \n",
      "\n",
      "TV - VIDEO - SON      90000 data\n",
      "Score :  0.9989888888888889 \n",
      "\n",
      "Prediction       False      True \n",
      "Ground True                      \n",
      "False        99.974200   2.693208\n",
      "True          0.076279  92.037471 \n",
      " \n",
      " \n",
      "\n",
      "CONDITIONNEMENT      90000 data\n",
      "Score :  1.0 \n",
      "\n",
      "Prediction   False  True \n",
      "Ground True              \n",
      "False        100.0    0.0\n",
      "True           0.0  100.0 \n",
      " \n",
      " \n",
      "\n",
      "MATERIEL MEDICAL      90000 data\n",
      "Score :  0.9999666666666667 \n",
      "\n",
      "Prediction        False      True \n",
      "Ground True                       \n",
      "False        100.000000   0.000000\n",
      "True           0.003335  91.666667 \n",
      " \n",
      " \n",
      "\n",
      "SPORT (NEW)      90000 data\n",
      "Score :  0.9991111111111111 \n",
      "\n",
      "Prediction       False      True \n",
      "Ground True                      \n",
      "False        99.979475   0.781929\n",
      "True          0.070697  97.306690 \n",
      " \n",
      " \n",
      "\n",
      "HYGIENE - BEAUTE - PARFUM      90000 data\n",
      "Score :  0.9997111111111111 \n",
      "\n",
      "Prediction       False      True \n",
      "Ground True                      \n",
      "False        99.994368   0.409500\n",
      "True          0.023654  98.280098 \n",
      " \n",
      " \n",
      "\n",
      "JOUET (NEW)      90000 data\n",
      "Score :  0.9992333333333333 \n",
      "\n",
      "Prediction       False      True \n",
      "Ground True                      \n",
      "False        99.982988   0.821468\n",
      "True          0.061243  97.042716 \n",
      " \n",
      " \n",
      "\n",
      "BATEAU MOTEUR - VOILIER      90000 data\n",
      "Score :  1.0 \n",
      "\n",
      "Prediction   False  True \n",
      "Ground True              \n",
      "False        100.0    0.0\n",
      "True           0.0  100.0 \n",
      " \n",
      " \n",
      "\n",
      "VIN - ALCOOL - LIQUIDES      90000 data\n",
      "Score :  0.9999666666666667 \n",
      "\n",
      "Prediction       False      True \n",
      "Ground True                      \n",
      "False        100.00000   0.000000\n",
      "True           0.00334  98.333333 \n",
      " \n",
      " \n",
      "\n",
      "LOISIRS CREATIFS - BEAUX ARTS - PAPETERIE      90000 data\n",
      "Score :  0.9996333333333334 \n",
      "\n",
      "Prediction       False      True \n",
      "Ground True                      \n",
      "False        99.994391   0.580046\n",
      "True          0.031412  96.751740 \n",
      " \n",
      " \n",
      "\n",
      "ARTICLES POUR FUMEUR      90000 data\n",
      "Score :  0.9999333333333333 \n",
      "\n",
      "Prediction        False      True \n",
      "Ground True                       \n",
      "False        100.000000   0.000000\n",
      "True           0.006693  98.290598 \n",
      " \n",
      " \n",
      "\n",
      "DROGUERIE (NEW)      90000 data\n",
      "Score :  0.9999555555555556 \n",
      "\n",
      "Prediction        False      True \n",
      "Ground True                       \n",
      "False        100.000000   0.000000\n",
      "True           0.004452  97.368421 \n",
      " \n",
      " \n",
      "\n",
      "VETEMENTS - LINGERIE       90000 data\n",
      "Score :  0.9989666666666667 \n",
      "\n",
      "Prediction       False      True \n",
      "Ground True                      \n",
      "False        99.936171   1.000185\n",
      "True          0.046099  99.277644 \n",
      " \n",
      " \n",
      "\n",
      "LIBRAIRIE      90000 data\n",
      "Score :  0.9947333333333334 \n",
      "\n",
      "Prediction       False       True \n",
      "Ground True                       \n",
      "False        99.400781    4.349821\n",
      "True          0.000000  100.000000 \n",
      " \n",
      " \n",
      "\n",
      "ELECTRONIQUE      90000 data\n",
      "Score :  0.9999777777777777 \n",
      "\n",
      "Prediction        False      True \n",
      "Ground True                       \n",
      "False        100.000000   0.000000\n",
      "True           0.002229  99.312715 \n",
      " \n",
      " \n",
      "\n",
      "PARAPHARMACIE      90000 data\n",
      "Score :  0.9999444444444444 \n",
      "\n",
      "Prediction        False      True \n",
      "Ground True                       \n",
      "False        100.000000   0.000000\n",
      "True           0.005571  98.054475 \n",
      " \n",
      " \n",
      "\n",
      "PUERICULTURE      90000 data\n",
      "Score :  0.9999 \n",
      "\n",
      "Prediction       False      True \n",
      "Ground True                      \n",
      "False        99.997766   0.408163\n",
      "True          0.007820  98.571429 \n",
      " \n",
      " \n",
      "\n",
      "INFORMATIQUE      90000 data\n",
      "Score :  0.9967222222222222 \n",
      "\n",
      "Prediction       False      True \n",
      "Ground True                      \n",
      "False        99.822954   1.031553\n",
      "True          0.206988  98.793993 \n",
      " \n",
      " \n",
      "\n",
      "ELECTROMENAGER      90000 data\n",
      "Score :  0.9997333333333334 \n",
      "\n",
      "Prediction       False      True \n",
      "Ground True                      \n",
      "False        99.989782   0.468994\n",
      "True          0.017030  99.218343 \n",
      " \n",
      " \n",
      "\n",
      "AUTO - MOTO (NEW)      90000 data\n",
      "Score :  0.9992666666666666 \n",
      "\n",
      "Prediction       False      True \n",
      "Ground True                      \n",
      "False        99.981334   0.373657\n",
      "True          0.058331  98.832321 \n",
      " \n",
      " \n",
      "\n",
      "BRICOLAGE - OUTILLAGE - QUINCAILLERIE      90000 data\n",
      "Score :  0.9986666666666667 \n",
      "\n",
      "Prediction       False      True \n",
      "Ground True                      \n",
      "False        99.932301   2.070175\n",
      "True          0.069994  97.859649 \n",
      " \n",
      " \n",
      "\n",
      "MATERIEL DE BUREAU      90000 data\n",
      "Score :  0.9999888888888889 \n",
      "\n",
      "Prediction        False      True \n",
      "Ground True                       \n",
      "False        100.000000   0.000000\n",
      "True           0.001112  98.701299 \n",
      " \n",
      " \n",
      "\n",
      "SONO - DJ      90000 data\n",
      "Score :  0.9999444444444444 \n",
      "\n",
      "Prediction        False      True \n",
      "Ground True                       \n",
      "False        100.000000   0.000000\n",
      "True           0.005564  96.527778 \n",
      " \n",
      " \n",
      "\n",
      "BAGAGERIE      90000 data\n",
      "Score :  0.9997888888888888 \n",
      "\n",
      "Prediction       False      True \n",
      "Ground True                      \n",
      "False        99.989804   0.519630\n",
      "True          0.011329  99.422633 \n",
      " \n",
      " \n",
      "\n",
      "PHOTO - OPTIQUE      90000 data\n",
      "Score :  0.9991333333333333 \n",
      "\n",
      "Prediction       False      True \n",
      "Ground True                      \n",
      "False        99.969523   1.917614\n",
      "True          0.057567  96.377841 \n",
      " \n",
      " \n",
      "\n",
      "JARDIN - PISCINE      90000 data\n",
      "Score :  0.9994222222222222 \n",
      "\n",
      "Prediction       False      True \n",
      "Ground True                      \n",
      "False        99.993241   0.490597\n",
      "True          0.051815  96.238757 \n",
      " \n",
      " \n",
      "\n",
      "POINT DE VENTE - COMMERCE - ADMINISTRATION      90000 data\n",
      "Score :  0.9996333333333334 \n",
      "\n",
      "Prediction       False      True \n",
      "Ground True                      \n",
      "False        99.984416   8.536585\n",
      "True          0.021150  88.414634 \n",
      " \n",
      " \n",
      "\n",
      "BIJOUX -  LUNETTES - MONTRES      90000 data\n",
      "Score :  0.9996888888888888 \n",
      "\n",
      "Prediction       False      True \n",
      "Ground True                      \n",
      "False        99.977538   0.350942\n",
      "True          0.010640  99.833764 \n",
      " \n",
      " \n",
      "\n",
      "CULTURE / JEUX      90000 data\n",
      "Score :  0.9988111111111111 \n",
      "\n",
      "Prediction       False      True \n",
      "Ground True                      \n",
      "False        99.990945   0.485732\n",
      "True          0.112051  93.989071 \n",
      " \n",
      " \n",
      "\n",
      "MANUTENTION      90000 data\n",
      "Score :  1.0 \n",
      "\n",
      "Prediction   False  True \n",
      "Ground True              \n",
      "False        100.0    0.0\n",
      "True           0.0  100.0 \n",
      " \n",
      " \n",
      "\n"
     ]
    },
    {
     "name": "stdout",
     "output_type": "stream",
     "text": [
      "MERCERIE      90000 data\n",
      "Score :  0.9998888888888889 \n",
      "\n",
      "Prediction       False      True \n",
      "Ground True                      \n",
      "False        99.997771   0.692042\n",
      "True          0.008918  97.231834 \n",
      " \n",
      " \n",
      "\n",
      "LITERIE      90000 data\n",
      "Score :  0.9999222222222223 \n",
      "\n",
      "Prediction       False      True \n",
      "Ground True                      \n",
      "False        99.998884   0.270270\n",
      "True          0.006694  98.378378 \n",
      " \n",
      " \n",
      "\n",
      "ARME DE COMBAT - ARME DE SPORT      90000 data\n",
      "Score :  0.9999444444444444 \n",
      "\n",
      "Prediction       False      True \n",
      "Ground True                      \n",
      "False        100.00000   0.000000\n",
      "True           0.00556  92.957746 \n",
      " \n",
      " \n",
      "\n"
     ]
    }
   ],
   "source": [
    "cat = list(set(y_train)) #recup toutes les categories\n",
    "\n",
    "for i in cat :\n",
    "    cat_name = str(i)\n",
    "    Y_train_predict_cat = Y_train_predict==cat_name\n",
    "    y_train_cat = y_train==cat_name\n",
    "    nb_good_prediction = sum(Y_train_predict_cat == y_train_cat)\n",
    "    n_total = len(y_train_cat)\n",
    "    score = nb_good_prediction/n_total\n",
    "    print(cat_name, \"    \", n_total, \"data\") #oula pb\n",
    "    print(\"Score : \", score, \"\\n\") \n",
    "    A=pd.crosstab(y_train_cat, Y_train_predict_cat, rownames=[\"Ground True\"], colnames=[\"Prediction\"])\n",
    "    print(A/A.sum(axis=1)*100, \"\\n \\n \\n\")"
   ]
  },
  {
   "cell_type": "markdown",
   "metadata": {},
   "source": [
    "### Comment :\n",
    "\n",
    "* On se rend compte que le taux de classification pour chaque catégorie est très très élevé, > 99,5%.\n",
    "* Faire une analyse plus détaillée. "
   ]
  },
  {
   "cell_type": "code",
   "execution_count": 23,
   "metadata": {},
   "outputs": [],
   "source": [
    "# Bon j'arrete la pour mtn j'ai pas le temps de faire plus"
   ]
  },
  {
   "cell_type": "markdown",
   "metadata": {},
   "source": [
    "## Reduction de X train"
   ]
  },
  {
   "cell_type": "code",
   "execution_count": 24,
   "metadata": {},
   "outputs": [],
   "source": [
    "nb = 10000\n",
    "X_small_train = X_train[0:nb]\n",
    "y_small_train = y_train[0:nb]"
   ]
  },
  {
   "cell_type": "code",
   "execution_count": 25,
   "metadata": {},
   "outputs": [
    {
     "name": "stdout",
     "output_type": "stream",
     "text": [
      "35.03369116783142\n"
     ]
    }
   ],
   "source": [
    "ts = time.time()\n",
    "lr.fit(X_small_train, y_small_train)\n",
    "te = time.time()\n",
    "print(te-ts)"
   ]
  },
  {
   "cell_type": "code",
   "execution_count": 26,
   "metadata": {},
   "outputs": [
    {
     "data": {
      "text/plain": [
       "0.9926"
      ]
     },
     "execution_count": 26,
     "metadata": {},
     "output_type": "execute_result"
    }
   ],
   "source": [
    "Y_small_train_predict = lr.predict(X_small_train)\n",
    "lr.score(X_small_train,y_small_train)"
   ]
  },
  {
   "cell_type": "code",
   "execution_count": 27,
   "metadata": {},
   "outputs": [
    {
     "data": {
      "text/plain": [
       "0.826"
      ]
     },
     "execution_count": 27,
     "metadata": {},
     "output_type": "execute_result"
    }
   ],
   "source": [
    "lr.score(X_test,y_test)"
   ]
  },
  {
   "cell_type": "markdown",
   "metadata": {},
   "source": [
    "#index_gps = lbl_gps.loc[lbl_gps['Categorie1'] == 'TELEPHONIE - GPS'].index\n",
    "#features_gps = features[v,:]\n",
    "#lbl_gps = lbl_gps.reset_index(drop=True)\n",
    "\n",
    "\n",
    "    ### Grosse erreur: on voulait faire la regression logistique par catégorie au lieu d'obtenir le score par categorie"
   ]
  },
  {
   "cell_type": "markdown",
   "metadata": {},
   "source": [
    "## Comments:\n",
    " \n",
    "Observations : plus on réduit le nombre de produit dans X_train plus notre score de classification est bon sur ce même set. A l'inverse le taux de classification se dégrade sur l'ensemble test. Cohérent car il y a moins de données pour l'apprentissage. On obtient un score de 82,89% pour des set d'apprentissage et de test de 10 000 produits.\n",
    "\n",
    "\n",
    "\n",
    " - explorer nb features / ???\n",
    " - reg log à recalculer -- done\n",
    " - par catégorie ? erreur Ni déséquilibrés, précision par classe\n",
    " - accuracy pas la meilleure métrique -- done\n",
    " - voir a quelle vitesse on perd l'accuracy -- done\n",
    " - réduire X train -- done\n",
    " - pas toucher à random_state et test_size / test -- done\n",
    " \n",
    " "
   ]
  }
 ],
 "metadata": {
  "kernelspec": {
   "display_name": "Python 3",
   "language": "python",
   "name": "python3"
  },
  "language_info": {
   "codemirror_mode": {
    "name": "ipython",
    "version": 3
   },
   "file_extension": ".py",
   "mimetype": "text/x-python",
   "name": "python",
   "nbconvert_exporter": "python",
   "pygments_lexer": "ipython3",
   "version": "3.8.1"
  }
 },
 "nbformat": 4,
 "nbformat_minor": 4
}
