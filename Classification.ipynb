{
 "cells": [
  {
   "cell_type": "code",
   "execution_count": 65,
   "metadata": {},
   "outputs": [],
   "source": [
    "import pandas as pd\n",
    "import scipy as sc\n",
    "import time\n",
    "import numpy as np\n",
    "import matplotlib.pyplot as plt\n",
    "from sklearn.model_selection import train_test_split\n",
    "from sklearn.linear_model import LogisticRegression\n",
    "\n",
    "from operator import truediv, mul"
   ]
  },
  {
   "cell_type": "markdown",
   "metadata": {},
   "source": [
    "# Data_cleaned"
   ]
  },
  {
   "cell_type": "code",
   "execution_count": 66,
   "metadata": {},
   "outputs": [],
   "source": [
    "data_cleaned = pd.read_csv(\"data/data_cleaned.csv\")\n",
    "label = data_cleaned[\"Categorie1\"].values\n",
    "label_1=[]\n",
    "label_2=[]\n",
    "label_3=[]\n",
    "for k in label:\n",
    "    if k==\"TELEPHONIE - GPS\":\n",
    "        label_1+=[1]\n",
    "        label_2+=[0]\n",
    "        label_3+=[0]\n",
    "    elif k==\"INFORMATIQUE\":\n",
    "        label_1+=[0]\n",
    "        label_2+=[1]\n",
    "        label_3+=[0]\n",
    "    elif k==\"LIBRAIRIE\":\n",
    "        label_1+=[0]\n",
    "        label_2+=[0]\n",
    "        label_3+=[1]\n",
    "    else:\n",
    "        label_1+=[0]\n",
    "        label_2+=[0]\n",
    "        label_3+=[0]\n",
    "        \n",
    "features = sc.sparse.load_npz(\"data/feature_sparse.npz\")"
   ]
  },
  {
   "cell_type": "markdown",
   "metadata": {},
   "source": [
    "## Comments:\n",
    "\n",
    "On crée différents labels pour observer différents types de régression. Les labels 1,2,3 permettent ainsi de faire des regression binaires resp. sur les catégories TELEPHONIE - GPS , INFORMATIQUE, LIBRAIRIE. \n",
    "\n",
    "Question: faire des regressions binaire en jouant sur le paramètre \"multi_class\" de LR"
   ]
  },
  {
   "cell_type": "code",
   "execution_count": 67,
   "metadata": {},
   "outputs": [],
   "source": [
    "X_train, X_test, y_train, y_test = train_test_split(features, label, test_size=0.1, random_state=42)"
   ]
  },
  {
   "cell_type": "code",
   "execution_count": 68,
   "metadata": {},
   "outputs": [],
   "source": [
    "X_train_1, X_test_1, y_train_1, y_test_1 = train_test_split(features, label_1, test_size=0.1, random_state=42)\n",
    "X_train_2, X_test_2, y_train_2, y_test_2 = train_test_split(features, label_2, test_size=0.1, random_state=42)\n",
    "X_train_3, X_test_3, y_train_3, y_test_3 = train_test_split(features, label_3, test_size=0.1, random_state=42)"
   ]
  },
  {
   "cell_type": "markdown",
   "metadata": {},
   "source": [
    "### Apprentissage par classe:"
   ]
  },
  {
   "cell_type": "code",
   "execution_count": 69,
   "metadata": {},
   "outputs": [
    {
     "name": "stdout",
     "output_type": "stream",
     "text": [
      "0.9934111111111111\n"
     ]
    },
    {
     "name": "stderr",
     "output_type": "stream",
     "text": [
      "/Users/paulbrunet/anaconda3/envs/Projet4A/lib/python3.7/site-packages/sklearn/linear_model/_logistic.py:940: ConvergenceWarning: lbfgs failed to converge (status=1):\n",
      "STOP: TOTAL NO. of ITERATIONS REACHED LIMIT.\n",
      "\n",
      "Increase the number of iterations (max_iter) or scale the data as shown in:\n",
      "    https://scikit-learn.org/stable/modules/preprocessing.html\n",
      "Please also refer to the documentation for alternative solver options:\n",
      "    https://scikit-learn.org/stable/modules/linear_model.html#logistic-regression\n",
      "  extra_warning_msg=_LOGISTIC_SOLVER_CONVERGENCE_MSG)\n"
     ]
    }
   ],
   "source": [
    "lr_1= LogisticRegression()\n",
    "lr_1.fit(X_train_1,y_train_1)\n",
    "train_score_1 = lr_1.score(X_train_1,y_train_1)\n",
    "print(train_score_1)"
   ]
  },
  {
   "cell_type": "code",
   "execution_count": 71,
   "metadata": {},
   "outputs": [
    {
     "name": "stdout",
     "output_type": "stream",
     "text": [
      "0.9930333333333333\n"
     ]
    },
    {
     "name": "stderr",
     "output_type": "stream",
     "text": [
      "/Users/paulbrunet/anaconda3/envs/Projet4A/lib/python3.7/site-packages/sklearn/linear_model/_logistic.py:940: ConvergenceWarning: lbfgs failed to converge (status=1):\n",
      "STOP: TOTAL NO. of ITERATIONS REACHED LIMIT.\n",
      "\n",
      "Increase the number of iterations (max_iter) or scale the data as shown in:\n",
      "    https://scikit-learn.org/stable/modules/preprocessing.html\n",
      "Please also refer to the documentation for alternative solver options:\n",
      "    https://scikit-learn.org/stable/modules/linear_model.html#logistic-regression\n",
      "  extra_warning_msg=_LOGISTIC_SOLVER_CONVERGENCE_MSG)\n"
     ]
    }
   ],
   "source": [
    "lr_2= LogisticRegression()\n",
    "lr_2.fit(X_train_2,y_train_2)\n",
    "train_score_2 = lr_2.score(X_train_2,y_train_2)\n",
    "print(train_score_2)"
   ]
  },
  {
   "cell_type": "code",
   "execution_count": 72,
   "metadata": {},
   "outputs": [
    {
     "name": "stdout",
     "output_type": "stream",
     "text": [
      "0.9973222222222222\n"
     ]
    }
   ],
   "source": [
    "lr_3= LogisticRegression()\n",
    "lr_3.fit(X_train_3,y_train_3)\n",
    "train_score_3 = lr_3.score(X_train_3,y_train_3)\n",
    "print(train_score_3)"
   ]
  },
  {
   "cell_type": "markdown",
   "metadata": {},
   "source": [
    "### Apprentissage mutliclasse"
   ]
  },
  {
   "cell_type": "code",
   "execution_count": 73,
   "metadata": {},
   "outputs": [
    {
     "name": "stderr",
     "output_type": "stream",
     "text": [
      "/Users/paulbrunet/anaconda3/envs/Projet4A/lib/python3.7/site-packages/sklearn/linear_model/_logistic.py:940: ConvergenceWarning: lbfgs failed to converge (status=1):\n",
      "STOP: TOTAL NO. of ITERATIONS REACHED LIMIT.\n",
      "\n",
      "Increase the number of iterations (max_iter) or scale the data as shown in:\n",
      "    https://scikit-learn.org/stable/modules/preprocessing.html\n",
      "Please also refer to the documentation for alternative solver options:\n",
      "    https://scikit-learn.org/stable/modules/linear_model.html#logistic-regression\n",
      "  extra_warning_msg=_LOGISTIC_SOLVER_CONVERGENCE_MSG)\n"
     ]
    },
    {
     "name": "stdout",
     "output_type": "stream",
     "text": [
      "59.098938941955566 sec\n",
      "0.9869777777777777\n"
     ]
    }
   ],
   "source": [
    "ts = time.time()\n",
    "lr = LogisticRegression()\n",
    "lr.fit(X_train, y_train)\n",
    "te = time.time()\n",
    "print(te-ts, \"sec\")\n",
    "train_score = lr.score(X_train,y_train) \n",
    "print(train_score) #Nombre de descriptions dont la prédiction est juste/Nombre de descriptions total"
   ]
  },
  {
   "cell_type": "markdown",
   "metadata": {},
   "source": [
    "### Prediction"
   ]
  },
  {
   "cell_type": "code",
   "execution_count": 74,
   "metadata": {},
   "outputs": [],
   "source": [
    "predict_1 = lr_1.predict(X_train_1)"
   ]
  },
  {
   "cell_type": "code",
   "execution_count": 75,
   "metadata": {},
   "outputs": [],
   "source": [
    "predict_2 = lr_2.predict(X_train_2)"
   ]
  },
  {
   "cell_type": "code",
   "execution_count": 76,
   "metadata": {},
   "outputs": [],
   "source": [
    "predict_3 = lr_3.predict(X_train_3)"
   ]
  },
  {
   "cell_type": "code",
   "execution_count": 77,
   "metadata": {},
   "outputs": [],
   "source": [
    "predict = lr.predict(X_train)"
   ]
  },
  {
   "cell_type": "code",
   "execution_count": 78,
   "metadata": {},
   "outputs": [
    {
     "name": "stdout",
     "output_type": "stream",
     "text": [
      "Score multi : 0.9011 \n",
      "\n",
      "Scores pour les regressions log binaires : \n",
      "\n",
      "  Score GPS : 0.9876 \n",
      "\n",
      "  Score INFO : 0.9862 \n",
      "\n",
      "  Score LIB : 0.9867 \n",
      "\n"
     ]
    }
   ],
   "source": [
    "test_score = lr.score(X_test,y_test)\n",
    "print(\"Score multi :\",test_score, \"\\n\")\n",
    "\n",
    "print(\"Scores pour les regressions log binaires : \\n\")\n",
    "test_score_1 = lr_1.score(X_test_1,y_test_1)\n",
    "print(\"  Score GPS :\",test_score_1, \"\\n\")\n",
    "test_score_2 = lr_2.score(X_test_2,y_test_2)\n",
    "print(\"  Score INFO :\",test_score_2, \"\\n\")\n",
    "test_score_3 = lr_3.score(X_test_3,y_test_3)\n",
    "print(\"  Score LIB :\",test_score_3, \"\\n\")"
   ]
  },
  {
   "cell_type": "code",
   "execution_count": 79,
   "metadata": {},
   "outputs": [],
   "source": [
    "def cross_cat(predictee,trainee):\n",
    "    pred_cat = predictee==1\n",
    "    \n",
    "    train_cat = np.array(trainee)==1\n",
    "    PTP=0\n",
    "    PFN=0\n",
    "    PFP=0\n",
    "    PTN=0\n",
    "    A= pd.crosstab(train_cat, pred_cat, rownames=[\"Ground True\"], colnames=[\"Prediction\"])\n",
    "    cross_tab = A.divide(A.sum(axis=1),axis=0)*100\n",
    "   \n",
    "    PTP=cross_tab[1][1]\n",
    "    PFN=cross_tab[1][0]\n",
    "    PFP=cross_tab[0][1]\n",
    "    PTN=cross_tab[0][0]\n",
    "    return len(trainee),PTP,PFN,PFP,PTN"
   ]
  },
  {
   "cell_type": "code",
   "execution_count": 127,
   "metadata": {},
   "outputs": [],
   "source": [
    "nb_data_1,PTP_1,PFN_1,PFP_1,PTN_1=cross_cat(predict_1,y_train_1)\n",
    "nb_data_2,PTP_2,PFN_2,PFP_2,PTN_2=cross_cat(predict_2,y_train_2)\n",
    "nb_data_3,PTP_3,PFN_3,PFP_3,PTN_3=cross_cat(predict_3,y_train_3)\n",
    "\n",
    "cat= [\"TELEPHONIE - GPS\",\"INFORMATIQUE\",\"LIBRAIRIE\"]\n",
    "PTP =[PTP_1,PTP_2,PTP_3]"
   ]
  },
  {
   "cell_type": "code",
   "execution_count": 128,
   "metadata": {},
   "outputs": [
    {
     "name": "stdout",
     "output_type": "stream",
     "text": [
      "Prediction       False      True \n",
      "Ground True                      \n",
      "False        99.717622   0.282378\n",
      "True          0.490273  99.509727 \n",
      "\n",
      "Prediction       False      True \n",
      "Ground True                      \n",
      "False        99.822954   0.177046\n",
      "True          1.206007  98.793993 \n",
      "\n",
      "Prediction       False       True \n",
      "Ground True                       \n",
      "False        99.400781    0.599219\n",
      "True          0.000000  100.000000 \n",
      "\n"
     ]
    },
    {
     "data": {
      "text/plain": [
       "[97.87200751056173,\n",
       " 96.45782766990291,\n",
       " 99.30256033770762,\n",
       " 99.5097272205706,\n",
       " 98.7939927184466,\n",
       " 100.0]"
      ]
     },
     "execution_count": 128,
     "metadata": {},
     "output_type": "execute_result"
    }
   ],
   "source": [
    "for cat_name in cat:    \n",
    "    predict_cat = predict==cat_name\n",
    "    y_train_cat = np.array(y_train)==cat_name\n",
    "    A= pd.crosstab(y_train_cat, predict_cat, rownames=[\"Ground True\"], colnames=[\"Prediction\"])\n",
    "    cross_tab = A.divide(A.sum(axis=1),axis=0)*100\n",
    "    print(cross_tab, '\\n')\n",
    "    PTP += [cross_tab[1][1]]\n",
    "\n",
    "    \n",
    "cat = [\"TELEPHONIE - GPS\",\"INFORMATIQUE\",\"LIBRAIRIE\",\"GPS_mul\",\"INFO_mul\",\"LIB_mul\"]\n",
    "PTP"
   ]
  },
  {
   "cell_type": "code",
   "execution_count": 130,
   "metadata": {},
   "outputs": [],
   "source": [
    "def bar_plot(cat,PTP):\n",
    "    fig = plt.figure(figsize=(10,10))\n",
    "    plt.bar(cat,100,width = 0.5,color = 'orange', label=\"Positive\")\n",
    "    plt.bar(cat,PTP,width = 0.5, color = 'green', label=\"True positive rate\")\n",
    "    plt.title(\"Bar plot \")\n",
    "    plt.legend()\n",
    "    fig.autofmt_xdate(rotation=45)"
   ]
  },
  {
   "cell_type": "code",
   "execution_count": 131,
   "metadata": {},
   "outputs": [
    {
     "data": {
      "image/png": "[encoded data removed]",
      "text/plain": [
       "<Figure size 720x720 with 1 Axes>"
      ]
     },
     "metadata": {
      "needs_background": "light"
     },
     "output_type": "display_data"
    }
   ],
   "source": [
    "bar_plot(cat,PTP)"
   ]
  },
  {
   "cell_type": "markdown",
   "metadata": {},
   "source": [
    "### Plot"
   ]
  },
  {
   "cell_type": "code",
   "execution_count": 78,
   "metadata": {},
   "outputs": [
    {
     "name": "stderr",
     "output_type": "stream",
     "text": [
      "/Users/paulbrunet/anaconda3/envs/Projet4A/lib/python3.7/site-packages/ipykernel_launcher.py:9: FutureWarning: elementwise comparison failed; returning scalar instead, but in the future will perform elementwise comparison\n",
      "  if __name__ == '__main__':\n"
     ]
    },
    {
     "ename": "KeyError",
     "evalue": "1",
     "output_type": "error",
     "traceback": [
      "\u001b[0;31m---------------------------------------------------------------------------\u001b[0m",
      "\u001b[0;31mKeyError\u001b[0m                                  Traceback (most recent call last)",
      "\u001b[0;32m~/anaconda3/envs/Projet4A/lib/python3.7/site-packages/pandas/core/indexes/base.py\u001b[0m in \u001b[0;36mget_loc\u001b[0;34m(self, key, method, tolerance)\u001b[0m\n\u001b[1;32m   2645\u001b[0m             \u001b[0;32mtry\u001b[0m\u001b[0;34m:\u001b[0m\u001b[0;34m\u001b[0m\u001b[0;34m\u001b[0m\u001b[0m\n\u001b[0;32m-> 2646\u001b[0;31m                 \u001b[0;32mreturn\u001b[0m \u001b[0mself\u001b[0m\u001b[0;34m.\u001b[0m\u001b[0m_engine\u001b[0m\u001b[0;34m.\u001b[0m\u001b[0mget_loc\u001b[0m\u001b[0;34m(\u001b[0m\u001b[0mkey\u001b[0m\u001b[0;34m)\u001b[0m\u001b[0;34m\u001b[0m\u001b[0;34m\u001b[0m\u001b[0m\n\u001b[0m\u001b[1;32m   2647\u001b[0m             \u001b[0;32mexcept\u001b[0m \u001b[0mKeyError\u001b[0m\u001b[0;34m:\u001b[0m\u001b[0;34m\u001b[0m\u001b[0;34m\u001b[0m\u001b[0m\n",
      "\u001b[0;32mpandas/_libs/index.pyx\u001b[0m in \u001b[0;36mpandas._libs.index.IndexEngine.get_loc\u001b[0;34m()\u001b[0m\n",
      "\u001b[0;32mpandas/_libs/index.pyx\u001b[0m in \u001b[0;36mpandas._libs.index.IndexEngine.get_loc\u001b[0;34m()\u001b[0m\n",
      "\u001b[0;32mpandas/_libs/hashtable_class_helper.pxi\u001b[0m in \u001b[0;36mpandas._libs.hashtable.PyObjectHashTable.get_item\u001b[0;34m()\u001b[0m\n",
      "\u001b[0;32mpandas/_libs/hashtable_class_helper.pxi\u001b[0m in \u001b[0;36mpandas._libs.hashtable.PyObjectHashTable.get_item\u001b[0;34m()\u001b[0m\n",
      "\u001b[0;31mKeyError\u001b[0m: 1",
      "\nDuring handling of the above exception, another exception occurred:\n",
      "\u001b[0;31mKeyError\u001b[0m                                  Traceback (most recent call last)",
      "\u001b[0;32m<ipython-input-78-889a421783c4>\u001b[0m in \u001b[0;36m<module>\u001b[0;34m\u001b[0m\n\u001b[1;32m     15\u001b[0m     \u001b[0mnb_data\u001b[0m \u001b[0;34m+=\u001b[0m \u001b[0;34m[\u001b[0m\u001b[0mn_data\u001b[0m\u001b[0;34m]\u001b[0m\u001b[0;34m\u001b[0m\u001b[0;34m\u001b[0m\u001b[0m\n\u001b[1;32m     16\u001b[0m     \u001b[0mA\u001b[0m\u001b[0;34m=\u001b[0m\u001b[0mpd\u001b[0m\u001b[0;34m.\u001b[0m\u001b[0mcrosstab\u001b[0m\u001b[0;34m(\u001b[0m\u001b[0my_train_cat\u001b[0m\u001b[0;34m,\u001b[0m \u001b[0mY_train_predict_cat\u001b[0m\u001b[0;34m,\u001b[0m \u001b[0mrownames\u001b[0m\u001b[0;34m=\u001b[0m\u001b[0;34m[\u001b[0m\u001b[0;34m\"Ground True\"\u001b[0m\u001b[0;34m]\u001b[0m\u001b[0;34m,\u001b[0m \u001b[0mcolnames\u001b[0m\u001b[0;34m=\u001b[0m\u001b[0;34m[\u001b[0m\u001b[0;34m\"Prediction\"\u001b[0m\u001b[0;34m]\u001b[0m\u001b[0;34m)\u001b[0m\u001b[0;34m\u001b[0m\u001b[0;34m\u001b[0m\u001b[0m\n\u001b[0;32m---> 17\u001b[0;31m     \u001b[0mTP\u001b[0m \u001b[0;34m+=\u001b[0m \u001b[0;34m[\u001b[0m\u001b[0mA\u001b[0m\u001b[0;34m[\u001b[0m\u001b[0;36m1\u001b[0m\u001b[0;34m]\u001b[0m\u001b[0;34m[\u001b[0m\u001b[0;36m1\u001b[0m\u001b[0;34m]\u001b[0m\u001b[0;34m]\u001b[0m\u001b[0;34m\u001b[0m\u001b[0;34m\u001b[0m\u001b[0m\n\u001b[0m\u001b[1;32m     18\u001b[0m     \u001b[0mFN\u001b[0m \u001b[0;34m+=\u001b[0m \u001b[0;34m[\u001b[0m\u001b[0mA\u001b[0m\u001b[0;34m[\u001b[0m\u001b[0;36m0\u001b[0m\u001b[0;34m]\u001b[0m\u001b[0;34m[\u001b[0m\u001b[0;36m1\u001b[0m\u001b[0;34m]\u001b[0m\u001b[0;34m]\u001b[0m\u001b[0;34m\u001b[0m\u001b[0;34m\u001b[0m\u001b[0m\n",
      "\u001b[0;32m~/anaconda3/envs/Projet4A/lib/python3.7/site-packages/pandas/core/frame.py\u001b[0m in \u001b[0;36m__getitem__\u001b[0;34m(self, key)\u001b[0m\n\u001b[1;32m   2798\u001b[0m             \u001b[0;32mif\u001b[0m \u001b[0mself\u001b[0m\u001b[0;34m.\u001b[0m\u001b[0mcolumns\u001b[0m\u001b[0;34m.\u001b[0m\u001b[0mnlevels\u001b[0m \u001b[0;34m>\u001b[0m \u001b[0;36m1\u001b[0m\u001b[0;34m:\u001b[0m\u001b[0;34m\u001b[0m\u001b[0;34m\u001b[0m\u001b[0m\n\u001b[1;32m   2799\u001b[0m                 \u001b[0;32mreturn\u001b[0m \u001b[0mself\u001b[0m\u001b[0;34m.\u001b[0m\u001b[0m_getitem_multilevel\u001b[0m\u001b[0;34m(\u001b[0m\u001b[0mkey\u001b[0m\u001b[0;34m)\u001b[0m\u001b[0;34m\u001b[0m\u001b[0;34m\u001b[0m\u001b[0m\n\u001b[0;32m-> 2800\u001b[0;31m             \u001b[0mindexer\u001b[0m \u001b[0;34m=\u001b[0m \u001b[0mself\u001b[0m\u001b[0;34m.\u001b[0m\u001b[0mcolumns\u001b[0m\u001b[0;34m.\u001b[0m\u001b[0mget_loc\u001b[0m\u001b[0;34m(\u001b[0m\u001b[0mkey\u001b[0m\u001b[0;34m)\u001b[0m\u001b[0;34m\u001b[0m\u001b[0;34m\u001b[0m\u001b[0m\n\u001b[0m\u001b[1;32m   2801\u001b[0m             \u001b[0;32mif\u001b[0m \u001b[0mis_integer\u001b[0m\u001b[0;34m(\u001b[0m\u001b[0mindexer\u001b[0m\u001b[0;34m)\u001b[0m\u001b[0;34m:\u001b[0m\u001b[0;34m\u001b[0m\u001b[0;34m\u001b[0m\u001b[0m\n\u001b[1;32m   2802\u001b[0m                 \u001b[0mindexer\u001b[0m \u001b[0;34m=\u001b[0m \u001b[0;34m[\u001b[0m\u001b[0mindexer\u001b[0m\u001b[0;34m]\u001b[0m\u001b[0;34m\u001b[0m\u001b[0;34m\u001b[0m\u001b[0m\n",
      "\u001b[0;32m~/anaconda3/envs/Projet4A/lib/python3.7/site-packages/pandas/core/indexes/base.py\u001b[0m in \u001b[0;36mget_loc\u001b[0;34m(self, key, method, tolerance)\u001b[0m\n\u001b[1;32m   2646\u001b[0m                 \u001b[0;32mreturn\u001b[0m \u001b[0mself\u001b[0m\u001b[0;34m.\u001b[0m\u001b[0m_engine\u001b[0m\u001b[0;34m.\u001b[0m\u001b[0mget_loc\u001b[0m\u001b[0;34m(\u001b[0m\u001b[0mkey\u001b[0m\u001b[0;34m)\u001b[0m\u001b[0;34m\u001b[0m\u001b[0;34m\u001b[0m\u001b[0m\n\u001b[1;32m   2647\u001b[0m             \u001b[0;32mexcept\u001b[0m \u001b[0mKeyError\u001b[0m\u001b[0;34m:\u001b[0m\u001b[0;34m\u001b[0m\u001b[0;34m\u001b[0m\u001b[0m\n\u001b[0;32m-> 2648\u001b[0;31m                 \u001b[0;32mreturn\u001b[0m \u001b[0mself\u001b[0m\u001b[0;34m.\u001b[0m\u001b[0m_engine\u001b[0m\u001b[0;34m.\u001b[0m\u001b[0mget_loc\u001b[0m\u001b[0;34m(\u001b[0m\u001b[0mself\u001b[0m\u001b[0;34m.\u001b[0m\u001b[0m_maybe_cast_indexer\u001b[0m\u001b[0;34m(\u001b[0m\u001b[0mkey\u001b[0m\u001b[0;34m)\u001b[0m\u001b[0;34m)\u001b[0m\u001b[0;34m\u001b[0m\u001b[0;34m\u001b[0m\u001b[0m\n\u001b[0m\u001b[1;32m   2649\u001b[0m         \u001b[0mindexer\u001b[0m \u001b[0;34m=\u001b[0m \u001b[0mself\u001b[0m\u001b[0;34m.\u001b[0m\u001b[0mget_indexer\u001b[0m\u001b[0;34m(\u001b[0m\u001b[0;34m[\u001b[0m\u001b[0mkey\u001b[0m\u001b[0;34m]\u001b[0m\u001b[0;34m,\u001b[0m \u001b[0mmethod\u001b[0m\u001b[0;34m=\u001b[0m\u001b[0mmethod\u001b[0m\u001b[0;34m,\u001b[0m \u001b[0mtolerance\u001b[0m\u001b[0;34m=\u001b[0m\u001b[0mtolerance\u001b[0m\u001b[0;34m)\u001b[0m\u001b[0;34m\u001b[0m\u001b[0;34m\u001b[0m\u001b[0m\n\u001b[1;32m   2650\u001b[0m         \u001b[0;32mif\u001b[0m \u001b[0mindexer\u001b[0m\u001b[0;34m.\u001b[0m\u001b[0mndim\u001b[0m \u001b[0;34m>\u001b[0m \u001b[0;36m1\u001b[0m \u001b[0;32mor\u001b[0m \u001b[0mindexer\u001b[0m\u001b[0;34m.\u001b[0m\u001b[0msize\u001b[0m \u001b[0;34m>\u001b[0m \u001b[0;36m1\u001b[0m\u001b[0;34m:\u001b[0m\u001b[0;34m\u001b[0m\u001b[0;34m\u001b[0m\u001b[0m\n",
      "\u001b[0;32mpandas/_libs/index.pyx\u001b[0m in \u001b[0;36mpandas._libs.index.IndexEngine.get_loc\u001b[0;34m()\u001b[0m\n",
      "\u001b[0;32mpandas/_libs/index.pyx\u001b[0m in \u001b[0;36mpandas._libs.index.IndexEngine.get_loc\u001b[0;34m()\u001b[0m\n",
      "\u001b[0;32mpandas/_libs/hashtable_class_helper.pxi\u001b[0m in \u001b[0;36mpandas._libs.hashtable.PyObjectHashTable.get_item\u001b[0;34m()\u001b[0m\n",
      "\u001b[0;32mpandas/_libs/hashtable_class_helper.pxi\u001b[0m in \u001b[0;36mpandas._libs.hashtable.PyObjectHashTable.get_item\u001b[0;34m()\u001b[0m\n",
      "\u001b[0;31mKeyError\u001b[0m: 1"
     ]
    }
   ],
   "source": [
    "cat = list(set(y_train)) #recup toutes les categories\n",
    "\n",
    "TP=[] #effectif\n",
    "FN=[]\n",
    "nb_data=[]\n",
    "\n",
    "for i in cat :\n",
    "    cat_name = str(i)\n",
    "    Y_train_predict_cat = Y_train_predict==cat_name\n",
    "    y_train_cat = y_train==cat_name\n",
    "    n_data = 0\n",
    "    for k in y_train_cat:\n",
    "        if k== True:\n",
    "            n_data +=1\n",
    "    nb_data += [n_data]\n",
    "    A=pd.crosstab(y_train_cat, Y_train_predict_cat, rownames=[\"Ground True\"], colnames=[\"Prediction\"])\n",
    "    TP += [A[1][1]]\n",
    "    FN += [A[0][1]]"
   ]
  },
  {
   "cell_type": "code",
   "execution_count": 12,
   "metadata": {},
   "outputs": [
    {
     "data": {
      "text/html": [
       "<div>\n",
       "<style scoped>\n",
       "    .dataframe tbody tr th:only-of-type {\n",
       "        vertical-align: middle;\n",
       "    }\n",
       "\n",
       "    .dataframe tbody tr th {\n",
       "        vertical-align: top;\n",
       "    }\n",
       "\n",
       "    .dataframe thead th {\n",
       "        text-align: right;\n",
       "    }\n",
       "</style>\n",
       "<table border=\"1\" class=\"dataframe\">\n",
       "  <thead>\n",
       "    <tr style=\"text-align: right;\">\n",
       "      <th></th>\n",
       "      <th>0</th>\n",
       "      <th>1</th>\n",
       "      <th>2</th>\n",
       "      <th>3</th>\n",
       "      <th>4</th>\n",
       "      <th>5</th>\n",
       "      <th>6</th>\n",
       "      <th>7</th>\n",
       "      <th>8</th>\n",
       "      <th>9</th>\n",
       "      <th>...</th>\n",
       "      <th>35</th>\n",
       "      <th>36</th>\n",
       "      <th>37</th>\n",
       "      <th>38</th>\n",
       "      <th>39</th>\n",
       "      <th>40</th>\n",
       "      <th>41</th>\n",
       "      <th>42</th>\n",
       "      <th>43</th>\n",
       "      <th>44</th>\n",
       "    </tr>\n",
       "  </thead>\n",
       "  <tbody>\n",
       "    <tr>\n",
       "      <th>data</th>\n",
       "      <td>0</td>\n",
       "      <td>1919</td>\n",
       "      <td>2302</td>\n",
       "      <td>331</td>\n",
       "      <td>10</td>\n",
       "      <td>235</td>\n",
       "      <td>5414</td>\n",
       "      <td>180</td>\n",
       "      <td>4282</td>\n",
       "      <td>59</td>\n",
       "      <td>...</td>\n",
       "      <td>1732</td>\n",
       "      <td>2850</td>\n",
       "      <td>1223</td>\n",
       "      <td>152</td>\n",
       "      <td>1826</td>\n",
       "      <td>19173</td>\n",
       "      <td>144</td>\n",
       "      <td>289</td>\n",
       "      <td>135</td>\n",
       "      <td>4</td>\n",
       "    </tr>\n",
       "    <tr>\n",
       "      <th>True positive</th>\n",
       "      <td>0</td>\n",
       "      <td>1904</td>\n",
       "      <td>2240</td>\n",
       "      <td>322</td>\n",
       "      <td>10</td>\n",
       "      <td>228</td>\n",
       "      <td>5405</td>\n",
       "      <td>177</td>\n",
       "      <td>4232</td>\n",
       "      <td>59</td>\n",
       "      <td>...</td>\n",
       "      <td>1722</td>\n",
       "      <td>2789</td>\n",
       "      <td>1177</td>\n",
       "      <td>148</td>\n",
       "      <td>1772</td>\n",
       "      <td>19079</td>\n",
       "      <td>139</td>\n",
       "      <td>281</td>\n",
       "      <td>135</td>\n",
       "      <td>3</td>\n",
       "    </tr>\n",
       "    <tr>\n",
       "      <th>False negative</th>\n",
       "      <td>0</td>\n",
       "      <td>15</td>\n",
       "      <td>62</td>\n",
       "      <td>9</td>\n",
       "      <td>0</td>\n",
       "      <td>7</td>\n",
       "      <td>9</td>\n",
       "      <td>3</td>\n",
       "      <td>50</td>\n",
       "      <td>0</td>\n",
       "      <td>...</td>\n",
       "      <td>10</td>\n",
       "      <td>61</td>\n",
       "      <td>46</td>\n",
       "      <td>4</td>\n",
       "      <td>54</td>\n",
       "      <td>94</td>\n",
       "      <td>5</td>\n",
       "      <td>8</td>\n",
       "      <td>0</td>\n",
       "      <td>1</td>\n",
       "    </tr>\n",
       "  </tbody>\n",
       "</table>\n",
       "<p>3 rows × 45 columns</p>\n",
       "</div>"
      ],
      "text/plain": [
       "                0     1     2    3   4    5     6    7     8   9   ...    35  \\\n",
       "data             0  1919  2302  331  10  235  5414  180  4282  59  ...  1732   \n",
       "True positive    0  1904  2240  322  10  228  5405  177  4232  59  ...  1722   \n",
       "False negative   0    15    62    9   0    7     9    3    50   0  ...    10   \n",
       "\n",
       "                  36    37   38    39     40   41   42   43  44  \n",
       "data            2850  1223  152  1826  19173  144  289  135   4  \n",
       "True positive   2789  1177  148  1772  19079  139  281  135   3  \n",
       "False negative    61    46    4    54     94    5    8    0   1  \n",
       "\n",
       "[3 rows x 45 columns]"
      ]
     },
     "execution_count": 12,
     "metadata": {},
     "output_type": "execute_result"
    }
   ],
   "source": [
    "d = {'data':nb_data, 'True positive':TP, 'False negative':FN}\n",
    "pd.DataFrame(d).T"
   ]
  },
  {
   "cell_type": "code",
   "execution_count": 1,
   "metadata": {},
   "outputs": [
    {
     "ename": "NameError",
     "evalue": "name 'plt' is not defined",
     "output_type": "error",
     "traceback": [
      "\u001b[0;31m---------------------------------------------------------------------------\u001b[0m",
      "\u001b[0;31mNameError\u001b[0m                                 Traceback (most recent call last)",
      "\u001b[0;32m<ipython-input-1-2fbe4c2539e9>\u001b[0m in \u001b[0;36m<module>\u001b[0;34m\u001b[0m\n\u001b[0;32m----> 1\u001b[0;31m \u001b[0mfig\u001b[0m\u001b[0;34m=\u001b[0m\u001b[0mplt\u001b[0m\u001b[0;34m.\u001b[0m\u001b[0mfigure\u001b[0m\u001b[0;34m(\u001b[0m\u001b[0mfigsize\u001b[0m\u001b[0;34m=\u001b[0m\u001b[0;34m(\u001b[0m\u001b[0;36m20\u001b[0m\u001b[0;34m,\u001b[0m\u001b[0;36m10\u001b[0m\u001b[0;34m)\u001b[0m\u001b[0;34m)\u001b[0m\u001b[0;34m\u001b[0m\u001b[0;34m\u001b[0m\u001b[0m\n\u001b[0m\u001b[1;32m      2\u001b[0m \u001b[0mplt\u001b[0m\u001b[0;34m.\u001b[0m\u001b[0mtitle\u001b[0m\u001b[0;34m(\u001b[0m\u001b[0;34m\"Nombre de vrai positif (bien classé) en fonction du nb de données d'apprentissage\"\u001b[0m\u001b[0;34m)\u001b[0m\u001b[0;34m\u001b[0m\u001b[0;34m\u001b[0m\u001b[0m\n\u001b[1;32m      3\u001b[0m \u001b[0mplt\u001b[0m\u001b[0;34m.\u001b[0m\u001b[0mplot\u001b[0m\u001b[0;34m(\u001b[0m\u001b[0mnb_data\u001b[0m\u001b[0;34m,\u001b[0m \u001b[0mTP\u001b[0m\u001b[0;34m,\u001b[0m \u001b[0;34m'bo'\u001b[0m\u001b[0;34m,\u001b[0m \u001b[0mlabel\u001b[0m\u001b[0;34m=\u001b[0m\u001b[0;34m\"True positive\"\u001b[0m\u001b[0;34m)\u001b[0m\u001b[0;34m\u001b[0m\u001b[0;34m\u001b[0m\u001b[0m\n\u001b[1;32m      4\u001b[0m \u001b[0mplt\u001b[0m\u001b[0;34m.\u001b[0m\u001b[0mxlabel\u001b[0m\u001b[0;34m(\u001b[0m\u001b[0;34m'Data'\u001b[0m\u001b[0;34m)\u001b[0m\u001b[0;34m\u001b[0m\u001b[0;34m\u001b[0m\u001b[0m\n\u001b[1;32m      5\u001b[0m \u001b[0mplt\u001b[0m\u001b[0;34m.\u001b[0m\u001b[0mlegend\u001b[0m\u001b[0;34m(\u001b[0m\u001b[0;34m)\u001b[0m\u001b[0;34m\u001b[0m\u001b[0;34m\u001b[0m\u001b[0m\n",
      "\u001b[0;31mNameError\u001b[0m: name 'plt' is not defined"
     ]
    }
   ],
   "source": [
    "fig=plt.figure(figsize=(20,10))\n",
    "plt.title(\"Nombre de vrai positif (bien classé) en fonction du nb de données d'apprentissage\")\n",
    "plt.plot(nb_data, TP, 'bo', label=\"True positive\")\n",
    "plt.xlabel('Data')\n",
    "plt.legend()\n",
    "plt.show()"
   ]
  },
  {
   "cell_type": "markdown",
   "metadata": {},
   "source": [
    "Afficher en % pour voir clairement\n",
    "predit positif /positif\n",
    "\n",
    "Isoler les plots des calculs et mettre les set d'apprentissage en paramètre\n",
    "\n",
    "Faire varier l'apprentissage par catégorie"
   ]
  },
  {
   "cell_type": "code",
   "execution_count": 10,
   "metadata": {},
   "outputs": [
    {
     "data": {
      "image/png": "[encoded data removed]",
      "text/plain": [
       "<Figure size 1440x360 with 1 Axes>"
      ]
     },
     "metadata": {
      "needs_background": "light"
     },
     "output_type": "display_data"
    }
   ],
   "source": [
    "fig=plt.figure(figsize=(20,5))\n",
    "plt.title(\"Nombre de faux negatif (vrai oublié) en fonction du nb de données d'apprentissage\")\n",
    "plt.plot(nb_data,FN, \"ro\", label=\"False negative\")\n",
    "plt.xlabel('Data')\n",
    "plt.legend()\n",
    "plt.show()"
   ]
  },
  {
   "cell_type": "markdown",
   "metadata": {},
   "source": [
    "### Comments:\n",
    "\n",
    "Pas ouf, ca sert à rien de voir sur l'ensemble des catégories on veut voir l'évolution par catégorie"
   ]
  },
  {
   "cell_type": "code",
   "execution_count": 5,
   "metadata": {},
   "outputs": [],
   "source": [
    "def comput_plot_category(cat,datamin=10000,datamax=90000,measures=10):\n",
    "    TP = []\n",
    "    FN = []\n",
    "    nb_data=[]\n",
    "    PFN =[]\n",
    "    PFP =[]\n",
    "\n",
    "    cat_name=str(cat)\n",
    "    \n",
    "    scale =int((datamax-datamin)/measures)\n",
    "    for nb_used in range(datamin,datamax,scale): ## Regression en faisant varier notre nb données utilisé pr l'apprentissage\n",
    "        X_small_train = X_train[0:nb_used]\n",
    "        y_small_train = y_train[0:nb_used]\n",
    "        lr_small = LogisticRegression(n_jobs=-1)\n",
    "        lr_small.fit(X_small_train, y_small_train)\n",
    "        Y_small_train_predict = lr_small.predict(X_small_train)\n",
    "        Y_small_train_predict_cat = Y_small_train_predict==cat_name\n",
    "        y_small_train_cat = y_small_train==cat_name\n",
    "        n_data = 0\n",
    "        for k in y_small_train_cat:\n",
    "            if k == True:\n",
    "                n_data +=1\n",
    "        nb_data += [n_data]\n",
    "        A=pd.crosstab(y_small_train_cat, Y_small_train_predict_cat, rownames=[\"Ground True\"], colnames=[\"Prediction\"])\n",
    "        AB = A.divide(A.sum(axis=1),axis=0)*100\n",
    "        TP += [A[1][1]]\n",
    "        PTP += [AB[1][1]]\n",
    "        FN += [A[0][1]]\n",
    "        PFN += [AB[0][1]]\n",
    "        PFP += [AB[1][0]]\n",
    "    return nb_data,PFP,PFN,PTP  "
   ]
  },
  {
   "cell_type": "code",
   "execution_count": 68,
   "metadata": {},
   "outputs": [],
   "source": [
    "def plot_category(nb_data,PFP, PFN,PTP,PTN):\n",
    "    fig=plt.figure(figsize=(8,5))\n",
    "    plt.title(\"Evolution des faux positifs en fonction du nb de données d'apprentissage pour la catégorie\")\n",
    "    plt.plot(nb_data,PFP, \"ro\", label=\"Faux positifs\")\n",
    "    plt.xlabel(\"Data used for the training part\")\n",
    "    plt.legend()\n",
    "    plt.show()\n",
    "\n",
    "    fig=plt.figure(figsize=(8,5))\n",
    "    plt.title(\"Evolution des false negative en % en fonction du nb de données d'apprentissage pour la catégorie\")\n",
    "    plt.plot(nb_data,PFN, \"go\",label=\"False Negative %\")\n",
    "    plt.xlabel(\"Data used for the training part\")\n",
    "    plt.legend()\n",
    "    plt.show()\n",
    "\n",
    "    fig=plt.figure(figsize=(8,5))\n",
    "    plt.title(\"Evolution des vrai positifs en fonction du nb de données d'apprentissage pour la catégorie\")\n",
    "    plt.plot(nb_data,PTP, \"bo\",label=\"True Positive\")\n",
    "    plt.xlabel(\"Data used for the training part\")\n",
    "    plt.legend()\n",
    "    plt.show()\n",
    "    \n",
    "    fig=plt.figure(figsize=(8,5))\n",
    "    plt.title(\"Evolution des vrai positifs en fonction du nb de données d'apprentissage pour la catégorie\")\n",
    "    plt.plot(nb_data,PTN, \"bo\",label=\"True Positive\")\n",
    "    plt.xlabel(\"Data used for the training part\")\n",
    "    plt.legend()\n",
    "    plt.show()"
   ]
  },
  {
   "cell_type": "markdown",
   "metadata": {},
   "source": []
  },
  {
   "cell_type": "markdown",
   "metadata": {},
   "source": [
    "### Comments:\n",
    "\n",
    "Ce qu'on veut: tracer l'évoluion du True true d'une catégorie en fonction de la quantité de données d'apprentissage\n",
    "\n",
    "Asbtract : pas assez de données labelisés, compliquée, word embedding -> generer des features permmeette solution on va le montrer\n",
    "\n",
    "classification sur des données labélisés en utilisant des connaissancees sur des données non labélisés. \n",
    "\n",
    "casser le probleme de manque de données labélisés\n",
    "\n",
    "nouvel espace interpreter ces features"
   ]
  },
  {
   "cell_type": "markdown",
   "metadata": {},
   "source": [
    "## Reduction X train"
   ]
  },
  {
   "cell_type": "code",
   "execution_count": 11,
   "metadata": {},
   "outputs": [],
   "source": [
    "nb = 50000\n",
    "X_small_train = X_train[0:nb]\n",
    "y_small_train = y_train[0:nb]"
   ]
  },
  {
   "cell_type": "code",
   "execution_count": 12,
   "metadata": {},
   "outputs": [
    {
     "name": "stderr",
     "output_type": "stream",
     "text": [
      "/Users/cecile/opt/anaconda3/envs/Projet4A/lib/python3.8/site-packages/sklearn/linear_model/_logistic.py:938: ConvergenceWarning: lbfgs failed to converge (status=1):\n",
      "STOP: TOTAL NO. of ITERATIONS REACHED LIMIT.\n",
      "\n",
      "Increase the number of iterations (max_iter) or scale the data as shown in:\n",
      "    https://scikit-learn.org/stable/modules/preprocessing.html\n",
      "Please also refer to the documentation for alternative solver options:\n",
      "    https://scikit-learn.org/stable/modules/linear_model.html#logistic-regression\n",
      "  n_iter_i = _check_optimize_result(\n"
     ]
    },
    {
     "data": {
      "text/plain": [
       "0.98684"
      ]
     },
     "execution_count": 12,
     "metadata": {},
     "output_type": "execute_result"
    }
   ],
   "source": [
    "lr_small = LogisticRegression()\n",
    "lr_small.fit(X_small_train, y_small_train)\n",
    "lr.score(X_small_train,y_small_train)"
   ]
  },
  {
   "cell_type": "code",
   "execution_count": 13,
   "metadata": {},
   "outputs": [
    {
     "data": {
      "text/plain": [
       "0.8833"
      ]
     },
     "execution_count": 13,
     "metadata": {},
     "output_type": "execute_result"
    }
   ],
   "source": [
    "Y_small_train_predict = lr_small.predict(X_small_train)\n",
    "lr_small.score(X_test,y_test)"
   ]
  },
  {
   "cell_type": "code",
   "execution_count": 14,
   "metadata": {},
   "outputs": [
    {
     "name": "stdout",
     "output_type": "stream",
     "text": [
      "0.9869777777777777\n",
      "0.9011\n"
     ]
    }
   ],
   "source": [
    "print(train_score)\n",
    "print(test_score) "
   ]
  },
  {
   "cell_type": "markdown",
   "metadata": {},
   "source": [
    "### Comments :\n",
    "\n",
    "- Ok donc la prediction est moins bonne ce qui est logique car il y a moins de données d'apprentissage au préalable\n",
    "- Peut etre essayer que sur les 3 plus grandes catégories voir ce que ça donne ?"
   ]
  },
  {
   "cell_type": "markdown",
   "metadata": {},
   "source": [
    "# Bad_data_cleaned (cf fichier Vectorization)"
   ]
  },
  {
   "cell_type": "code",
   "execution_count": 15,
   "metadata": {},
   "outputs": [],
   "source": [
    "bad_data_cleaned = pd.read_csv(\"data/bad_data_cleaned.csv\") \n",
    "label = bad_data_cleaned[\"Categorie1\"].values\n",
    "bad_features = sc.sparse.load_npz(\"data/bad_feature_sparse.npz\")\n",
    "X_train, X_test, y_train, y_test = train_test_split(bad_features, label, test_size=0.1, random_state=42)\n",
    "lr_bad = LogisticRegression()"
   ]
  },
  {
   "cell_type": "code",
   "execution_count": 16,
   "metadata": {},
   "outputs": [
    {
     "name": "stdout",
     "output_type": "stream",
     "text": [
      "51.46840214729309 sec\n"
     ]
    },
    {
     "name": "stderr",
     "output_type": "stream",
     "text": [
      "/Users/cecile/opt/anaconda3/envs/Projet4A/lib/python3.8/site-packages/sklearn/linear_model/_logistic.py:938: ConvergenceWarning: lbfgs failed to converge (status=1):\n",
      "STOP: TOTAL NO. of ITERATIONS REACHED LIMIT.\n",
      "\n",
      "Increase the number of iterations (max_iter) or scale the data as shown in:\n",
      "    https://scikit-learn.org/stable/modules/preprocessing.html\n",
      "Please also refer to the documentation for alternative solver options:\n",
      "    https://scikit-learn.org/stable/modules/linear_model.html#logistic-regression\n",
      "  n_iter_i = _check_optimize_result(\n"
     ]
    }
   ],
   "source": [
    "ts = time.time()\n",
    "lr_bad.fit(X_train, y_train)\n",
    "te = time.time()\n",
    "print(te-ts, \"sec\")"
   ]
  },
  {
   "cell_type": "code",
   "execution_count": 17,
   "metadata": {},
   "outputs": [
    {
     "data": {
      "text/plain": [
       "0.9879555555555556"
      ]
     },
     "execution_count": 17,
     "metadata": {},
     "output_type": "execute_result"
    }
   ],
   "source": [
    "Y_train_predict = lr_bad.predict(X_train)\n",
    "lr_bad.score(X_train,y_train)"
   ]
  },
  {
   "cell_type": "code",
   "execution_count": 18,
   "metadata": {},
   "outputs": [
    {
     "data": {
      "text/plain": [
       "0.9012"
      ]
     },
     "execution_count": 18,
     "metadata": {},
     "output_type": "execute_result"
    }
   ],
   "source": [
    "lr_bad.score(X_test,y_test)"
   ]
  },
  {
   "cell_type": "markdown",
   "metadata": {},
   "source": [
    "### Comments :\n",
    "\n",
    "- Ok donc on est un peu meilleur en prédiction avec \"un bad_cleaning\" : sans enlever les stopwords dans les tokens\n",
    "- La raison ?\n",
    "- Par contre on met plus de temps lors de l'apprentissage mais logique"
   ]
  },
  {
   "cell_type": "code",
   "execution_count": null,
   "metadata": {},
   "outputs": [],
   "source": []
  }
 ],
 "metadata": {
  "kernelspec": {
   "display_name": "Python 3",
   "language": "python",
   "name": "python3"
  },
  "language_info": {
   "codemirror_mode": {
    "name": "ipython",
    "version": 3
   },
   "file_extension": ".py",
   "mimetype": "text/x-python",
   "name": "python",
   "nbconvert_exporter": "python",
   "pygments_lexer": "ipython3",
   "version": "3.7.6"
  }
 },
 "nbformat": 4,
 "nbformat_minor": 4
}
