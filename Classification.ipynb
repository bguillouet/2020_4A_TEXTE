{
 "cells": [
  {
   "cell_type": "code",
   "execution_count": 1,
   "metadata": {},
   "outputs": [],
   "source": [
    "import pandas as pd\n",
    "import scipy as sc\n",
    "import time\n",
    "import numpy as np\n",
    "import matplotlib.pyplot as plt\n",
    "from sklearn.model_selection import train_test_split\n",
    "from sklearn.linear_model import LogisticRegression\n",
    "\n",
    "from operator import truediv, mul"
   ]
  },
  {
   "cell_type": "markdown",
   "metadata": {},
   "source": [
    "# Data_cleaned"
   ]
  },
  {
   "cell_type": "code",
   "execution_count": 34,
   "metadata": {},
   "outputs": [],
   "source": [
    "data_cleaned = pd.read_csv(\"data/data_cleaned.csv\")\n",
    "label = data_cleaned[\"Categorie1\"].values\n",
    "label_1=[]\n",
    "label_2=[]\n",
    "label_3=[]\n",
    "label_4=[]\n",
    "label_multi=[]\n",
    "for k in label:\n",
    "    if k==\"TELEPHONIE - GPS\":\n",
    "        label_1+=[1]\n",
    "        label_2+=[0]\n",
    "        label_3+=[0]\n",
    "        label_4+=[0]\n",
    "        label_multi+=[k]\n",
    "    elif k==\"INFORMATIQUE\":\n",
    "        label_1+=[0]\n",
    "        label_2+=[1]\n",
    "        label_3+=[0]\n",
    "        label_4+=[0]\n",
    "        label_multi+=[k]\n",
    "    elif k==\"LIBRAIRIE\":\n",
    "        label_1+=[0]\n",
    "        label_2+=[0]\n",
    "        label_3+=[1]\n",
    "        label_4+=[0]\n",
    "        label_multi+=[k]\n",
    "    elif k==\"VETEMENTS - LINGERIE \" :\n",
    "        label_1+=[0]\n",
    "        label_2+=[0]\n",
    "        label_3+=[0]\n",
    "        label_4+=[1]\n",
    "        label_multi+=[k]\n",
    "    else:\n",
    "        label_1+=[0]\n",
    "        label_2+=[0]\n",
    "        label_3+=[0]\n",
    "        label_4+=[0]\n",
    "        label_multi+=[\"OTHER\"]\n",
    "        \n",
    "features = sc.sparse.load_npz(\"data/feature_sparse.npz\")"
   ]
  },
  {
   "cell_type": "code",
   "execution_count": null,
   "metadata": {},
   "outputs": [],
   "source": [
    "#X:descriptions, Y:categories\n",
    "X_train, X_test, y_train, y_test = train_test_split(features, label_multi, test_size=0.1, random_state=42)"
   ]
  },
  {
   "cell_type": "code",
   "execution_count": 36,
   "metadata": {},
   "outputs": [],
   "source": [
    "X_train_1, X_test_1, y_train_1, y_test_1 = train_test_split(features, label_1, test_size=0.1, random_state=42)\n",
    "X_train_2, X_test_2, y_train_2, y_test_2 = train_test_split(features, label_2, test_size=0.1, random_state=42)\n",
    "X_train_3, X_test_3, y_train_3, y_test_3 = train_test_split(features, label_3, test_size=0.1, random_state=42)\n",
    "X_train_4, X_test_4, y_train_4, y_test_4 = train_test_split(features, label_4, test_size=0.1, random_state=42)"
   ]
  },
  {
   "cell_type": "markdown",
   "metadata": {},
   "source": [
    "### Apprentissage par classe:"
   ]
  },
  {
   "cell_type": "code",
   "execution_count": 37,
   "metadata": {},
   "outputs": [
    {
     "name": "stdout",
     "output_type": "stream",
     "text": [
      "0.9934111111111111\n"
     ]
    },
    {
     "name": "stderr",
     "output_type": "stream",
     "text": [
      "/Users/cecile/opt/anaconda3/envs/Projet4A/lib/python3.8/site-packages/sklearn/linear_model/_logistic.py:938: ConvergenceWarning: lbfgs failed to converge (status=1):\n",
      "STOP: TOTAL NO. of ITERATIONS REACHED LIMIT.\n",
      "\n",
      "Increase the number of iterations (max_iter) or scale the data as shown in:\n",
      "    https://scikit-learn.org/stable/modules/preprocessing.html\n",
      "Please also refer to the documentation for alternative solver options:\n",
      "    https://scikit-learn.org/stable/modules/linear_model.html#logistic-regression\n",
      "  n_iter_i = _check_optimize_result(\n"
     ]
    }
   ],
   "source": [
    "lr_1= LogisticRegression()\n",
    "lr_1.fit(X_train_1,y_train_1)\n",
    "train_score_1 = lr_1.score(X_train_1,y_train_1)\n",
    "print(train_score_1)"
   ]
  },
  {
   "cell_type": "code",
   "execution_count": 38,
   "metadata": {},
   "outputs": [
    {
     "name": "stdout",
     "output_type": "stream",
     "text": [
      "0.9930333333333333\n"
     ]
    },
    {
     "name": "stderr",
     "output_type": "stream",
     "text": [
      "/Users/cecile/opt/anaconda3/envs/Projet4A/lib/python3.8/site-packages/sklearn/linear_model/_logistic.py:938: ConvergenceWarning: lbfgs failed to converge (status=1):\n",
      "STOP: TOTAL NO. of ITERATIONS REACHED LIMIT.\n",
      "\n",
      "Increase the number of iterations (max_iter) or scale the data as shown in:\n",
      "    https://scikit-learn.org/stable/modules/preprocessing.html\n",
      "Please also refer to the documentation for alternative solver options:\n",
      "    https://scikit-learn.org/stable/modules/linear_model.html#logistic-regression\n",
      "  n_iter_i = _check_optimize_result(\n"
     ]
    }
   ],
   "source": [
    "lr_2= LogisticRegression()\n",
    "lr_2.fit(X_train_2,y_train_2)\n",
    "train_score_2 = lr_2.score(X_train_2,y_train_2)\n",
    "print(train_score_2)"
   ]
  },
  {
   "cell_type": "code",
   "execution_count": 39,
   "metadata": {},
   "outputs": [
    {
     "name": "stdout",
     "output_type": "stream",
     "text": [
      "0.9973222222222222\n"
     ]
    }
   ],
   "source": [
    "lr_3= LogisticRegression()\n",
    "lr_3.fit(X_train_3,y_train_3)\n",
    "train_score_3 = lr_3.score(X_train_3,y_train_3)\n",
    "print(train_score_3)"
   ]
  },
  {
   "cell_type": "code",
   "execution_count": 40,
   "metadata": {},
   "outputs": [
    {
     "name": "stdout",
     "output_type": "stream",
     "text": [
      "0.9959222222222223\n"
     ]
    }
   ],
   "source": [
    "lr_4= LogisticRegression()\n",
    "lr_4.fit(X_train_4,y_train_4)\n",
    "train_score_4 = lr_4.score(X_train_4,y_train_4)\n",
    "print(train_score_4)"
   ]
  },
  {
   "cell_type": "markdown",
   "metadata": {},
   "source": [
    "### Apprentissage mutliclasse"
   ]
  },
  {
   "cell_type": "code",
   "execution_count": 41,
   "metadata": {},
   "outputs": [
    {
     "ename": "KeyboardInterrupt",
     "evalue": "",
     "output_type": "error",
     "traceback": [
      "\u001b[0;31m---------------------------------------------------------------------------\u001b[0m",
      "\u001b[0;31mKeyboardInterrupt\u001b[0m                         Traceback (most recent call last)",
      "\u001b[0;32m<ipython-input-41-243917873b0b>\u001b[0m in \u001b[0;36m<module>\u001b[0;34m\u001b[0m\n\u001b[1;32m      1\u001b[0m \u001b[0mts\u001b[0m \u001b[0;34m=\u001b[0m \u001b[0mtime\u001b[0m\u001b[0;34m.\u001b[0m\u001b[0mtime\u001b[0m\u001b[0;34m(\u001b[0m\u001b[0;34m)\u001b[0m\u001b[0;34m\u001b[0m\u001b[0;34m\u001b[0m\u001b[0m\n\u001b[1;32m      2\u001b[0m \u001b[0mlr\u001b[0m \u001b[0;34m=\u001b[0m \u001b[0mLogisticRegression\u001b[0m\u001b[0;34m(\u001b[0m\u001b[0;34m)\u001b[0m\u001b[0;34m\u001b[0m\u001b[0;34m\u001b[0m\u001b[0m\n\u001b[0;32m----> 3\u001b[0;31m \u001b[0mlr\u001b[0m\u001b[0;34m.\u001b[0m\u001b[0mfit\u001b[0m\u001b[0;34m(\u001b[0m\u001b[0mX_train\u001b[0m\u001b[0;34m,\u001b[0m \u001b[0my_train\u001b[0m\u001b[0;34m)\u001b[0m\u001b[0;34m\u001b[0m\u001b[0;34m\u001b[0m\u001b[0m\n\u001b[0m\u001b[1;32m      4\u001b[0m \u001b[0mte\u001b[0m \u001b[0;34m=\u001b[0m \u001b[0mtime\u001b[0m\u001b[0;34m.\u001b[0m\u001b[0mtime\u001b[0m\u001b[0;34m(\u001b[0m\u001b[0;34m)\u001b[0m\u001b[0;34m\u001b[0m\u001b[0;34m\u001b[0m\u001b[0m\n\u001b[1;32m      5\u001b[0m \u001b[0mprint\u001b[0m\u001b[0;34m(\u001b[0m\u001b[0mte\u001b[0m\u001b[0;34m-\u001b[0m\u001b[0mts\u001b[0m\u001b[0;34m,\u001b[0m \u001b[0;34m\"sec\"\u001b[0m\u001b[0;34m)\u001b[0m\u001b[0;34m\u001b[0m\u001b[0;34m\u001b[0m\u001b[0m\n",
      "\u001b[0;32m~/opt/anaconda3/envs/Projet4A/lib/python3.8/site-packages/sklearn/linear_model/_logistic.py\u001b[0m in \u001b[0;36mfit\u001b[0;34m(self, X, y, sample_weight)\u001b[0m\n\u001b[1;32m   1589\u001b[0m         \u001b[0;32melse\u001b[0m\u001b[0;34m:\u001b[0m\u001b[0;34m\u001b[0m\u001b[0;34m\u001b[0m\u001b[0m\n\u001b[1;32m   1590\u001b[0m             \u001b[0mprefer\u001b[0m \u001b[0;34m=\u001b[0m \u001b[0;34m'processes'\u001b[0m\u001b[0;34m\u001b[0m\u001b[0;34m\u001b[0m\u001b[0m\n\u001b[0;32m-> 1591\u001b[0;31m         fold_coefs_ = Parallel(n_jobs=self.n_jobs, verbose=self.verbose,\n\u001b[0m\u001b[1;32m   1592\u001b[0m                                \u001b[0;34m**\u001b[0m\u001b[0m_joblib_parallel_args\u001b[0m\u001b[0;34m(\u001b[0m\u001b[0mprefer\u001b[0m\u001b[0;34m=\u001b[0m\u001b[0mprefer\u001b[0m\u001b[0;34m)\u001b[0m\u001b[0;34m)\u001b[0m\u001b[0;34m(\u001b[0m\u001b[0;34m\u001b[0m\u001b[0;34m\u001b[0m\u001b[0m\n\u001b[1;32m   1593\u001b[0m             path_func(X, y, pos_class=class_, Cs=[C_],\n",
      "\u001b[0;32m~/opt/anaconda3/envs/Projet4A/lib/python3.8/site-packages/joblib/parallel.py\u001b[0m in \u001b[0;36m__call__\u001b[0;34m(self, iterable)\u001b[0m\n\u001b[1;32m   1002\u001b[0m             \u001b[0;31m# remaining jobs.\u001b[0m\u001b[0;34m\u001b[0m\u001b[0;34m\u001b[0m\u001b[0;34m\u001b[0m\u001b[0m\n\u001b[1;32m   1003\u001b[0m             \u001b[0mself\u001b[0m\u001b[0;34m.\u001b[0m\u001b[0m_iterating\u001b[0m \u001b[0;34m=\u001b[0m \u001b[0;32mFalse\u001b[0m\u001b[0;34m\u001b[0m\u001b[0;34m\u001b[0m\u001b[0m\n\u001b[0;32m-> 1004\u001b[0;31m             \u001b[0;32mif\u001b[0m \u001b[0mself\u001b[0m\u001b[0;34m.\u001b[0m\u001b[0mdispatch_one_batch\u001b[0m\u001b[0;34m(\u001b[0m\u001b[0miterator\u001b[0m\u001b[0;34m)\u001b[0m\u001b[0;34m:\u001b[0m\u001b[0;34m\u001b[0m\u001b[0;34m\u001b[0m\u001b[0m\n\u001b[0m\u001b[1;32m   1005\u001b[0m                 \u001b[0mself\u001b[0m\u001b[0;34m.\u001b[0m\u001b[0m_iterating\u001b[0m \u001b[0;34m=\u001b[0m \u001b[0mself\u001b[0m\u001b[0;34m.\u001b[0m\u001b[0m_original_iterator\u001b[0m \u001b[0;32mis\u001b[0m \u001b[0;32mnot\u001b[0m \u001b[0;32mNone\u001b[0m\u001b[0;34m\u001b[0m\u001b[0;34m\u001b[0m\u001b[0m\n\u001b[1;32m   1006\u001b[0m \u001b[0;34m\u001b[0m\u001b[0m\n",
      "\u001b[0;32m~/opt/anaconda3/envs/Projet4A/lib/python3.8/site-packages/joblib/parallel.py\u001b[0m in \u001b[0;36mdispatch_one_batch\u001b[0;34m(self, iterator)\u001b[0m\n\u001b[1;32m    833\u001b[0m                 \u001b[0;32mreturn\u001b[0m \u001b[0;32mFalse\u001b[0m\u001b[0;34m\u001b[0m\u001b[0;34m\u001b[0m\u001b[0m\n\u001b[1;32m    834\u001b[0m             \u001b[0;32melse\u001b[0m\u001b[0;34m:\u001b[0m\u001b[0;34m\u001b[0m\u001b[0;34m\u001b[0m\u001b[0m\n\u001b[0;32m--> 835\u001b[0;31m                 \u001b[0mself\u001b[0m\u001b[0;34m.\u001b[0m\u001b[0m_dispatch\u001b[0m\u001b[0;34m(\u001b[0m\u001b[0mtasks\u001b[0m\u001b[0;34m)\u001b[0m\u001b[0;34m\u001b[0m\u001b[0;34m\u001b[0m\u001b[0m\n\u001b[0m\u001b[1;32m    836\u001b[0m                 \u001b[0;32mreturn\u001b[0m \u001b[0;32mTrue\u001b[0m\u001b[0;34m\u001b[0m\u001b[0;34m\u001b[0m\u001b[0m\n\u001b[1;32m    837\u001b[0m \u001b[0;34m\u001b[0m\u001b[0m\n",
      "\u001b[0;32m~/opt/anaconda3/envs/Projet4A/lib/python3.8/site-packages/joblib/parallel.py\u001b[0m in \u001b[0;36m_dispatch\u001b[0;34m(self, batch)\u001b[0m\n\u001b[1;32m    752\u001b[0m         \u001b[0;32mwith\u001b[0m \u001b[0mself\u001b[0m\u001b[0;34m.\u001b[0m\u001b[0m_lock\u001b[0m\u001b[0;34m:\u001b[0m\u001b[0;34m\u001b[0m\u001b[0;34m\u001b[0m\u001b[0m\n\u001b[1;32m    753\u001b[0m             \u001b[0mjob_idx\u001b[0m \u001b[0;34m=\u001b[0m \u001b[0mlen\u001b[0m\u001b[0;34m(\u001b[0m\u001b[0mself\u001b[0m\u001b[0;34m.\u001b[0m\u001b[0m_jobs\u001b[0m\u001b[0;34m)\u001b[0m\u001b[0;34m\u001b[0m\u001b[0;34m\u001b[0m\u001b[0m\n\u001b[0;32m--> 754\u001b[0;31m             \u001b[0mjob\u001b[0m \u001b[0;34m=\u001b[0m \u001b[0mself\u001b[0m\u001b[0;34m.\u001b[0m\u001b[0m_backend\u001b[0m\u001b[0;34m.\u001b[0m\u001b[0mapply_async\u001b[0m\u001b[0;34m(\u001b[0m\u001b[0mbatch\u001b[0m\u001b[0;34m,\u001b[0m \u001b[0mcallback\u001b[0m\u001b[0;34m=\u001b[0m\u001b[0mcb\u001b[0m\u001b[0;34m)\u001b[0m\u001b[0;34m\u001b[0m\u001b[0;34m\u001b[0m\u001b[0m\n\u001b[0m\u001b[1;32m    755\u001b[0m             \u001b[0;31m# A job can complete so quickly than its callback is\u001b[0m\u001b[0;34m\u001b[0m\u001b[0;34m\u001b[0m\u001b[0;34m\u001b[0m\u001b[0m\n\u001b[1;32m    756\u001b[0m             \u001b[0;31m# called before we get here, causing self._jobs to\u001b[0m\u001b[0;34m\u001b[0m\u001b[0;34m\u001b[0m\u001b[0;34m\u001b[0m\u001b[0m\n",
      "\u001b[0;32m~/opt/anaconda3/envs/Projet4A/lib/python3.8/site-packages/joblib/_parallel_backends.py\u001b[0m in \u001b[0;36mapply_async\u001b[0;34m(self, func, callback)\u001b[0m\n\u001b[1;32m    207\u001b[0m     \u001b[0;32mdef\u001b[0m \u001b[0mapply_async\u001b[0m\u001b[0;34m(\u001b[0m\u001b[0mself\u001b[0m\u001b[0;34m,\u001b[0m \u001b[0mfunc\u001b[0m\u001b[0;34m,\u001b[0m \u001b[0mcallback\u001b[0m\u001b[0;34m=\u001b[0m\u001b[0;32mNone\u001b[0m\u001b[0;34m)\u001b[0m\u001b[0;34m:\u001b[0m\u001b[0;34m\u001b[0m\u001b[0;34m\u001b[0m\u001b[0m\n\u001b[1;32m    208\u001b[0m         \u001b[0;34m\"\"\"Schedule a func to be run\"\"\"\u001b[0m\u001b[0;34m\u001b[0m\u001b[0;34m\u001b[0m\u001b[0m\n\u001b[0;32m--> 209\u001b[0;31m         \u001b[0mresult\u001b[0m \u001b[0;34m=\u001b[0m \u001b[0mImmediateResult\u001b[0m\u001b[0;34m(\u001b[0m\u001b[0mfunc\u001b[0m\u001b[0;34m)\u001b[0m\u001b[0;34m\u001b[0m\u001b[0;34m\u001b[0m\u001b[0m\n\u001b[0m\u001b[1;32m    210\u001b[0m         \u001b[0;32mif\u001b[0m \u001b[0mcallback\u001b[0m\u001b[0;34m:\u001b[0m\u001b[0;34m\u001b[0m\u001b[0;34m\u001b[0m\u001b[0m\n\u001b[1;32m    211\u001b[0m             \u001b[0mcallback\u001b[0m\u001b[0;34m(\u001b[0m\u001b[0mresult\u001b[0m\u001b[0;34m)\u001b[0m\u001b[0;34m\u001b[0m\u001b[0;34m\u001b[0m\u001b[0m\n",
      "\u001b[0;32m~/opt/anaconda3/envs/Projet4A/lib/python3.8/site-packages/joblib/_parallel_backends.py\u001b[0m in \u001b[0;36m__init__\u001b[0;34m(self, batch)\u001b[0m\n\u001b[1;32m    588\u001b[0m         \u001b[0;31m# Don't delay the application, to avoid keeping the input\u001b[0m\u001b[0;34m\u001b[0m\u001b[0;34m\u001b[0m\u001b[0;34m\u001b[0m\u001b[0m\n\u001b[1;32m    589\u001b[0m         \u001b[0;31m# arguments in memory\u001b[0m\u001b[0;34m\u001b[0m\u001b[0;34m\u001b[0m\u001b[0;34m\u001b[0m\u001b[0m\n\u001b[0;32m--> 590\u001b[0;31m         \u001b[0mself\u001b[0m\u001b[0;34m.\u001b[0m\u001b[0mresults\u001b[0m \u001b[0;34m=\u001b[0m \u001b[0mbatch\u001b[0m\u001b[0;34m(\u001b[0m\u001b[0;34m)\u001b[0m\u001b[0;34m\u001b[0m\u001b[0;34m\u001b[0m\u001b[0m\n\u001b[0m\u001b[1;32m    591\u001b[0m \u001b[0;34m\u001b[0m\u001b[0m\n\u001b[1;32m    592\u001b[0m     \u001b[0;32mdef\u001b[0m \u001b[0mget\u001b[0m\u001b[0;34m(\u001b[0m\u001b[0mself\u001b[0m\u001b[0;34m)\u001b[0m\u001b[0;34m:\u001b[0m\u001b[0;34m\u001b[0m\u001b[0;34m\u001b[0m\u001b[0m\n",
      "\u001b[0;32m~/opt/anaconda3/envs/Projet4A/lib/python3.8/site-packages/joblib/parallel.py\u001b[0m in \u001b[0;36m__call__\u001b[0;34m(self)\u001b[0m\n\u001b[1;32m    253\u001b[0m         \u001b[0;31m# change the default number of processes to -1\u001b[0m\u001b[0;34m\u001b[0m\u001b[0;34m\u001b[0m\u001b[0;34m\u001b[0m\u001b[0m\n\u001b[1;32m    254\u001b[0m         \u001b[0;32mwith\u001b[0m \u001b[0mparallel_backend\u001b[0m\u001b[0;34m(\u001b[0m\u001b[0mself\u001b[0m\u001b[0;34m.\u001b[0m\u001b[0m_backend\u001b[0m\u001b[0;34m,\u001b[0m \u001b[0mn_jobs\u001b[0m\u001b[0;34m=\u001b[0m\u001b[0mself\u001b[0m\u001b[0;34m.\u001b[0m\u001b[0m_n_jobs\u001b[0m\u001b[0;34m)\u001b[0m\u001b[0;34m:\u001b[0m\u001b[0;34m\u001b[0m\u001b[0;34m\u001b[0m\u001b[0m\n\u001b[0;32m--> 255\u001b[0;31m             return [func(*args, **kwargs)\n\u001b[0m\u001b[1;32m    256\u001b[0m                     for func, args, kwargs in self.items]\n\u001b[1;32m    257\u001b[0m \u001b[0;34m\u001b[0m\u001b[0m\n",
      "\u001b[0;32m~/opt/anaconda3/envs/Projet4A/lib/python3.8/site-packages/joblib/parallel.py\u001b[0m in \u001b[0;36m<listcomp>\u001b[0;34m(.0)\u001b[0m\n\u001b[1;32m    253\u001b[0m         \u001b[0;31m# change the default number of processes to -1\u001b[0m\u001b[0;34m\u001b[0m\u001b[0;34m\u001b[0m\u001b[0;34m\u001b[0m\u001b[0m\n\u001b[1;32m    254\u001b[0m         \u001b[0;32mwith\u001b[0m \u001b[0mparallel_backend\u001b[0m\u001b[0;34m(\u001b[0m\u001b[0mself\u001b[0m\u001b[0;34m.\u001b[0m\u001b[0m_backend\u001b[0m\u001b[0;34m,\u001b[0m \u001b[0mn_jobs\u001b[0m\u001b[0;34m=\u001b[0m\u001b[0mself\u001b[0m\u001b[0;34m.\u001b[0m\u001b[0m_n_jobs\u001b[0m\u001b[0;34m)\u001b[0m\u001b[0;34m:\u001b[0m\u001b[0;34m\u001b[0m\u001b[0;34m\u001b[0m\u001b[0m\n\u001b[0;32m--> 255\u001b[0;31m             return [func(*args, **kwargs)\n\u001b[0m\u001b[1;32m    256\u001b[0m                     for func, args, kwargs in self.items]\n\u001b[1;32m    257\u001b[0m \u001b[0;34m\u001b[0m\u001b[0m\n",
      "\u001b[0;32m~/opt/anaconda3/envs/Projet4A/lib/python3.8/site-packages/sklearn/linear_model/_logistic.py\u001b[0m in \u001b[0;36m_logistic_regression_path\u001b[0;34m(X, y, pos_class, Cs, fit_intercept, max_iter, tol, verbose, solver, coef, class_weight, dual, penalty, intercept_scaling, multi_class, random_state, check_input, max_squared_sum, sample_weight, l1_ratio)\u001b[0m\n\u001b[1;32m    931\u001b[0m             iprint = [-1, 50, 1, 100, 101][\n\u001b[1;32m    932\u001b[0m                 np.searchsorted(np.array([0, 1, 2, 3]), verbose)]\n\u001b[0;32m--> 933\u001b[0;31m             opt_res = optimize.minimize(\n\u001b[0m\u001b[1;32m    934\u001b[0m                 \u001b[0mfunc\u001b[0m\u001b[0;34m,\u001b[0m \u001b[0mw0\u001b[0m\u001b[0;34m,\u001b[0m \u001b[0mmethod\u001b[0m\u001b[0;34m=\u001b[0m\u001b[0;34m\"L-BFGS-B\"\u001b[0m\u001b[0;34m,\u001b[0m \u001b[0mjac\u001b[0m\u001b[0;34m=\u001b[0m\u001b[0;32mTrue\u001b[0m\u001b[0;34m,\u001b[0m\u001b[0;34m\u001b[0m\u001b[0;34m\u001b[0m\u001b[0m\n\u001b[1;32m    935\u001b[0m                 \u001b[0margs\u001b[0m\u001b[0;34m=\u001b[0m\u001b[0;34m(\u001b[0m\u001b[0mX\u001b[0m\u001b[0;34m,\u001b[0m \u001b[0mtarget\u001b[0m\u001b[0;34m,\u001b[0m \u001b[0;36m1.\u001b[0m \u001b[0;34m/\u001b[0m \u001b[0mC\u001b[0m\u001b[0;34m,\u001b[0m \u001b[0msample_weight\u001b[0m\u001b[0;34m)\u001b[0m\u001b[0;34m,\u001b[0m\u001b[0;34m\u001b[0m\u001b[0;34m\u001b[0m\u001b[0m\n",
      "\u001b[0;32m~/opt/anaconda3/envs/Projet4A/lib/python3.8/site-packages/scipy/optimize/_minimize.py\u001b[0m in \u001b[0;36mminimize\u001b[0;34m(fun, x0, args, method, jac, hess, hessp, bounds, constraints, tol, callback, options)\u001b[0m\n\u001b[1;32m    607\u001b[0m                                   **options)\n\u001b[1;32m    608\u001b[0m     \u001b[0;32melif\u001b[0m \u001b[0mmeth\u001b[0m \u001b[0;34m==\u001b[0m \u001b[0;34m'l-bfgs-b'\u001b[0m\u001b[0;34m:\u001b[0m\u001b[0;34m\u001b[0m\u001b[0;34m\u001b[0m\u001b[0m\n\u001b[0;32m--> 609\u001b[0;31m         return _minimize_lbfgsb(fun, x0, args, jac, bounds,\n\u001b[0m\u001b[1;32m    610\u001b[0m                                 callback=callback, **options)\n\u001b[1;32m    611\u001b[0m     \u001b[0;32melif\u001b[0m \u001b[0mmeth\u001b[0m \u001b[0;34m==\u001b[0m \u001b[0;34m'tnc'\u001b[0m\u001b[0;34m:\u001b[0m\u001b[0;34m\u001b[0m\u001b[0;34m\u001b[0m\u001b[0m\n",
      "\u001b[0;32m~/opt/anaconda3/envs/Projet4A/lib/python3.8/site-packages/scipy/optimize/lbfgsb.py\u001b[0m in \u001b[0;36m_minimize_lbfgsb\u001b[0;34m(fun, x0, args, jac, bounds, disp, maxcor, ftol, gtol, eps, maxfun, maxiter, iprint, callback, maxls, **unknown_options)\u001b[0m\n\u001b[1;32m    334\u001b[0m     \u001b[0;32mwhile\u001b[0m \u001b[0;36m1\u001b[0m\u001b[0;34m:\u001b[0m\u001b[0;34m\u001b[0m\u001b[0;34m\u001b[0m\u001b[0m\n\u001b[1;32m    335\u001b[0m         \u001b[0;31m# x, f, g, wa, iwa, task, csave, lsave, isave, dsave = \\\u001b[0m\u001b[0;34m\u001b[0m\u001b[0;34m\u001b[0m\u001b[0;34m\u001b[0m\u001b[0m\n\u001b[0;32m--> 336\u001b[0;31m         _lbfgsb.setulb(m, x, low_bnd, upper_bnd, nbd, f, g, factr,\n\u001b[0m\u001b[1;32m    337\u001b[0m                        \u001b[0mpgtol\u001b[0m\u001b[0;34m,\u001b[0m \u001b[0mwa\u001b[0m\u001b[0;34m,\u001b[0m \u001b[0miwa\u001b[0m\u001b[0;34m,\u001b[0m \u001b[0mtask\u001b[0m\u001b[0;34m,\u001b[0m \u001b[0miprint\u001b[0m\u001b[0;34m,\u001b[0m \u001b[0mcsave\u001b[0m\u001b[0;34m,\u001b[0m \u001b[0mlsave\u001b[0m\u001b[0;34m,\u001b[0m\u001b[0;34m\u001b[0m\u001b[0;34m\u001b[0m\u001b[0m\n\u001b[1;32m    338\u001b[0m                        isave, dsave, maxls)\n",
      "\u001b[0;31mKeyboardInterrupt\u001b[0m: "
     ]
    }
   ],
   "source": [
    "ts = time.time()\n",
    "lr = LogisticRegression()\n",
    "lr.fit(X_train, y_train)\n",
    "te = time.time()\n",
    "print(te-ts, \"sec\")\n",
    "train_score = lr.score(X_train,y_train) \n",
    "print(train_score) #Nombre de descriptions dont la prédiction est juste/Nombre de descriptions total"
   ]
  },
  {
   "cell_type": "markdown",
   "metadata": {},
   "source": [
    "### Prediction"
   ]
  },
  {
   "cell_type": "code",
   "execution_count": null,
   "metadata": {},
   "outputs": [],
   "source": [
    "predict_1 = lr_1.predict(X_train_1)"
   ]
  },
  {
   "cell_type": "code",
   "execution_count": null,
   "metadata": {},
   "outputs": [],
   "source": [
    "predict_2 = lr_2.predict(X_train_2)"
   ]
  },
  {
   "cell_type": "code",
   "execution_count": null,
   "metadata": {},
   "outputs": [],
   "source": [
    "predict_3 = lr_3.predict(X_train_3)"
   ]
  },
  {
   "cell_type": "code",
   "execution_count": null,
   "metadata": {},
   "outputs": [],
   "source": [
    "predict_4 = lr_4.predict(X_train_4)"
   ]
  },
  {
   "cell_type": "code",
   "execution_count": null,
   "metadata": {},
   "outputs": [],
   "source": [
    "predict = lr.predict(X_train)"
   ]
  },
  {
   "cell_type": "code",
   "execution_count": null,
   "metadata": {},
   "outputs": [],
   "source": [
    "test_score = lr.score(X_test,y_test)\n",
    "print(\"Score multi-class :\",test_score, \"\\n\")\n",
    "\n",
    "print(\"Scores pour les regressions log binaires : \\n\")\n",
    "test_score_1 = lr_1.score(X_test_1,y_test_1)\n",
    "print(\"  Score TEL-GPS :\",test_score_1, \"\\n\")\n",
    "test_score_2 = lr_2.score(X_test_2,y_test_2)\n",
    "print(\"  Score INFO :\",test_score_2, \"\\n\")\n",
    "test_score_3 = lr_3.score(X_test_3,y_test_3)\n",
    "print(\"  Score LIB :\",test_score_3, \"\\n\")\n",
    "test_score_4 = lr_4.score(X_test_4,y_test_4)\n",
    "print(\"  Score VETEMENTS :\",test_score_4, \"\\n\")"
   ]
  },
  {
   "cell_type": "code",
   "execution_count": null,
   "metadata": {},
   "outputs": [],
   "source": [
    "def cross_cat(predictee,trainee):\n",
    "    pred_cat = predictee==1\n",
    "    train_cat = np.array(trainee)==1\n",
    "    TP=0\n",
    "    FN=0\n",
    "    FP=0\n",
    "    TN=0\n",
    "    cross_tab = pd.crosstab(train_cat, pred_cat, rownames=[\"Ground True\"], colnames=[\"Prediction\"])\n",
    "    #cross_tab = A.divide(A.sum(axis=1),axis=0)*100\n",
    "    print(cross_tab)\n",
    "    TP=cross_tab[1][1] #ok\n",
    "    FN=cross_tab[0][1]\n",
    "    FP=cross_tab[1][0]\n",
    "    TN=cross_tab[0][0] #ok\n",
    "    return len(trainee),TP,FN,FP,TN"
   ]
  },
  {
   "cell_type": "code",
   "execution_count": null,
   "metadata": {},
   "outputs": [],
   "source": [
    "nb_data_1,TP_1,FN_1,FP_1,TN_1=cross_cat(predict_1,y_train_1)\n",
    "nb_data_2,TP_2,FN_2,FP_2,TN_2=cross_cat(predict_2,y_train_2)\n",
    "nb_data_3,TP_3,FN_3,FP_3,TN_3=cross_cat(predict_3,y_train_3)\n",
    "nb_data_4,TP_4,FN_4,FP_4,TN_4=cross_cat(predict_4,y_train_4)\n",
    "\n",
    "cat= [\"TELEPHONIE - GPS\",\"INFORMATIQUE\",\"LIBRAIRIE\",\"VETEMENTS - LINGERIE \"]\n",
    "TP =[TP_1,TP_2,TP_3,TP_4]  #Vrai predit Vrai\n",
    "TN = [TN_1,TN_2,TN_3,TN_4] #Faux predit faux\n",
    "\n",
    "\n",
    "FP = [FP_1,FP_2,FP_3,FP_4] #Faux predit Vrai\n",
    "FN = [FN_1,FN_2,FN_3,FN_4] #Vrai predit faux"
   ]
  },
  {
   "cell_type": "code",
   "execution_count": 18,
   "metadata": {},
   "outputs": [
    {
     "name": "stdout",
     "output_type": "stream",
     "text": [
      "Prediction   False  True \n",
      "Ground True              \n",
      "False        70627    200\n",
      "True            94  19079 \n",
      "\n",
      "Prediction   False  True \n",
      "Ground True              \n",
      "False        76680    136\n",
      "True           159  13025 \n",
      "\n",
      "Prediction   False  True \n",
      "Ground True              \n",
      "False        78629    474\n",
      "True             0  10897 \n",
      "\n",
      "Prediction   False  True \n",
      "Ground True              \n",
      "False        84547     54\n",
      "True            39   5360 \n",
      "\n"
     ]
    }
   ],
   "source": [
    "#à comparer avec l'apprentissage sur toutes les classes !\n",
    "\n",
    "for cat_name in cat :\n",
    "    predict_cat = predict==cat_name\n",
    "    y_train_cat = np.array(y_train)==cat_name\n",
    "    cross_tab = pd.crosstab(y_train_cat, predict_cat, rownames=[\"Ground True\"], colnames=[\"Prediction\"])\n",
    "    #cross_tab = A.divide(A.sum(axis=1),axis=0)*100\n",
    "    print(cross_tab, '\\n')\n",
    "    TP += [cross_tab[1][1]]\n",
    "    FP += [cross_tab[1][0]]\n",
    "    TN += [cross_tab[0][0]]\n",
    "    FN += [cross_tab[0][1]]"
   ]
  },
  {
   "cell_type": "code",
   "execution_count": 30,
   "metadata": {},
   "outputs": [],
   "source": [
    "PFP=np.zeros(len(FP)) \n",
    "PFN=np.zeros(len(FN)) \n",
    "err=np.zeros(len(TP)) \n",
    "err2=np.zeros(len(TP)) \n",
    "for i in range(len(TP)) : \n",
    "    PFP[i] = FP[i]/(FP[i]+TN[i])*100\n",
    "    PFN[i] = FN[i]/(FN[i]+TP[i])*100 \n",
    "    err2[i] = (FN[i]+FP[i])/90000 * 100\n",
    "    \n",
    "cat = [\"TELEPHONIE - GPS\",\"INFORMATIQUE\",\"LIBRAIRIE\",\"VETEMENTS - LINGERIE \",\"GPS_mul\",\"INFO_mul\",\"LIB_mul\",\"VET_mul\"]"
   ]
  },
  {
   "cell_type": "code",
   "execution_count": 31,
   "metadata": {},
   "outputs": [
    {
     "name": "stdout",
     "output_type": "stream",
     "text": [
      "[0.65888889 0.69666667 0.26777778 0.40777778 0.32666667 0.32777778\n",
      " 0.52666667 0.10333333]\n"
     ]
    }
   ],
   "source": [
    "print(err2)"
   ]
  },
  {
   "cell_type": "code",
   "execution_count": 32,
   "metadata": {},
   "outputs": [],
   "source": [
    "def bar_plot_false(cat,PFN,PFP):\n",
    "    fig = plt.figure(figsize=(10,10))\n",
    "    plt.bar(cat,PFP,width = 0.5, color = 'blue', label=\"% faux positif\")\n",
    "    plt.bar(cat,PFN,width = 0.5, color = 'orange', label=\"% faux negatif\")\n",
    "    plt.title(\"Pourcentage de mauvaise prediction\")\n",
    "    plt.legend()\n",
    "    fig.autofmt_xdate(rotation=45)"
   ]
  },
  {
   "cell_type": "code",
   "execution_count": 33,
   "metadata": {},
   "outputs": [
    {
     "data": {
      "image/png": "[encoded data removed]",
      "text/plain": [
       "<Figure size 720x720 with 1 Axes>"
      ]
     },
     "metadata": {
      "needs_background": "light"
     },
     "output_type": "display_data"
    }
   ],
   "source": [
    "bar_plot_false(cat,PFP,PFN)"
   ]
  },
  {
   "cell_type": "code",
   "execution_count": 23,
   "metadata": {},
   "outputs": [],
   "source": [
    "def bar_plot_error(cat,err):\n",
    "    fig = plt.figure(figsize=(10,10))\n",
    "    plt.bar(cat,err,width = 0.5, color = 'green', label=\"% d'erreur\")\n",
    "    plt.title(\"Erreur de prediction\")\n",
    "    plt.legend()\n",
    "    fig.autofmt_xdate(rotation=45)"
   ]
  },
  {
   "cell_type": "code",
   "execution_count": 24,
   "metadata": {},
   "outputs": [
    {
     "data": {
      "image/png": "[encoded data removed]",
      "text/plain": [
       "<Figure size 720x720 with 1 Axes>"
      ]
     },
     "metadata": {
      "needs_background": "light"
     },
     "output_type": "display_data"
    },
    {
     "data": {
      "image/png": "[encoded data removed]",
      "text/plain": [
       "<Figure size 720x720 with 1 Axes>"
      ]
     },
     "metadata": {
      "needs_background": "light"
     },
     "output_type": "display_data"
    }
   ],
   "source": [
    "bar_plot_error(cat,err2)\n",
    "bar_plot_error(cat,err)"
   ]
  },
  {
   "cell_type": "markdown",
   "metadata": {},
   "source": [
    "### Comments : \n",
    "\n",
    "* Prediction meilleure en logistique multiclasse pour les catégorie Tel-GPS et Info par contre prediction meilleure pour librairie en logistique binaire.\n",
    "\n",
    "* La raison ? Librairie a bcp moins de données dans la data set que Tel-GPS et Info ce qui pourrait expliquer que lorsqu'on a fait un apprentissage en logistique multiclasse l'erreur est plus importante que lorsque qu'on apprend en log binaire.\n"
   ]
  },
  {
   "cell_type": "markdown",
   "metadata": {},
   "source": [
    "## Reduction X train"
   ]
  },
  {
   "cell_type": "code",
   "execution_count": 42,
   "metadata": {},
   "outputs": [],
   "source": [
    "#a mettre dans une fonction ! (arguments : nb et categorie)\n",
    "nb = [500,1000,10000,50000,70000]\n",
    "\n",
    "X_mul_1 = X_train[0:nb[0]] #multi sur 10k\n",
    "y_mul_1 = y_train[0:nb[0]]\n",
    "\n",
    "X_mul_2 = X_train[0:nb[1]] #multi sur 50k\n",
    "y_mul_2 = y_train[0:nb[1]]\n",
    "\n",
    "\n",
    "X_mul_3 = X_train[0:nb[2]] #multi sur 70k\n",
    "y_mul_3 = y_train[0:nb[2]]\n",
    "\n",
    "\n",
    "X_gps_1 = X_train_1[0:nb[0]] #binaire sur 10k\n",
    "y_gps_1 = y_train_1[0:nb[0]]\n",
    "\n",
    "X_gps_2 = X_train_1[0:nb[1]] #binaire sur 50k\n",
    "y_gps_2 = y_train_1[0:nb[1]]\n",
    "\n",
    "X_gps_3 = X_train_1[0:nb[2]] #binaire sur 70k\n",
    "y_gps_3 = y_train_1[0:nb[2]]"
   ]
  },
  {
   "cell_type": "code",
   "execution_count": 43,
   "metadata": {},
   "outputs": [
    {
     "data": {
      "text/plain": [
       "LogisticRegression(C=1.0, class_weight=None, dual=False, fit_intercept=True,\n",
       "                   intercept_scaling=1, l1_ratio=None, max_iter=100,\n",
       "                   multi_class='auto', n_jobs=None, penalty='l2',\n",
       "                   random_state=None, solver='lbfgs', tol=0.0001, verbose=0,\n",
       "                   warm_start=False)"
      ]
     },
     "execution_count": 43,
     "metadata": {},
     "output_type": "execute_result"
    }
   ],
   "source": [
    "#nos regresseurs \n",
    "lr_mul_1 = LogisticRegression()\n",
    "lr_mul_2 = LogisticRegression()\n",
    "lr_mul_3 = LogisticRegression()\n",
    "\n",
    "lr_gps_1 = LogisticRegression()\n",
    "lr_gps_2 = LogisticRegression()\n",
    "lr_gps_3 = LogisticRegression()\n",
    "\n",
    "#regression mul sur 10k, 50k, 70k\n",
    "lr_mul_1.fit(X_mul_1, y_mul_1)\n",
    "lr_mul_2.fit(X_mul_2, y_mul_2)\n",
    "lr_mul_3.fit(X_mul_3, y_mul_3)\n",
    "\n",
    "\n",
    "#regression binaire sur 10k, 50k, 70k\n",
    "lr_gps_1.fit(X_gps_1,y_gps_1)\n",
    "lr_gps_2.fit(X_gps_2,y_gps_2)\n",
    "lr_gps_3.fit(X_gps_3,y_gps_3)"
   ]
  },
  {
   "cell_type": "code",
   "execution_count": 44,
   "metadata": {},
   "outputs": [],
   "source": [
    "#predictions avec nos regresseurs multinomiales\n",
    "predict_mul_1=lr_mul_1.predict(X_test)\n",
    "predict_mul_2=lr_mul_2.predict(X_test)\n",
    "predict_mul_3=lr_mul_3.predict(X_test)"
   ]
  },
  {
   "cell_type": "code",
   "execution_count": 45,
   "metadata": {},
   "outputs": [],
   "source": [
    "#extraction des réponses predites GPS avec nos regresseurs mul\n",
    "predict_gps_1 = predict_mul_1==\"TELEPHONIE - GPS\" #valeurs predites\n",
    "predict_gps_2 = predict_mul_2==\"TELEPHONIE - GPS\"\n",
    "predict_gps_3 = predict_mul_3==\"TELEPHONIE - GPS\"\n",
    "\n",
    "y_test_gps = np.array(y_test)==\"TELEPHONIE - GPS\" #valeurs attendues\n",
    "\n",
    "\n",
    "cross_tab_1 = pd.crosstab(y_test_gps, predict_gps_1, rownames=[\"Ground True\"], colnames=[\"Prediction\"])\n",
    "cross_tab_2 = pd.crosstab(y_test_gps, predict_gps_2, rownames=[\"Ground True\"], colnames=[\"Prediction\"])\n",
    "cross_tab_3 = pd.crosstab(y_test_gps, predict_gps_3, rownames=[\"Ground True\"], colnames=[\"Prediction\"])\n",
    "\n",
    "#calcul des scores sur GPS avec les reg mul\n",
    "score_mul_1= sum(np.diag(cross_tab_1))/sum(cross_tab_1.sum())\n",
    "score_mul_2= sum(np.diag(cross_tab_2))/sum(cross_tab_2.sum())\n",
    "score_mul_3= sum(np.diag(cross_tab_3))/sum(cross_tab_3.sum())"
   ]
  },
  {
   "cell_type": "code",
   "execution_count": 46,
   "metadata": {},
   "outputs": [
    {
     "name": "stdout",
     "output_type": "stream",
     "text": [
      "Affichage des scores de test: \n",
      "\n",
      "   Données GPS issues de la regMultinomiale \n",
      "\n",
      "0.9396 pour  500 données d'apprentissage\n",
      "0.9431 pour  1000 données d'apprentissage\n",
      "0.9792 pour  10000 données d'apprentissage \n",
      "\n",
      "  Données GPS issues de la regBinaire \n",
      "\n",
      "0.9497 pour  500 données d'apprentissage\n",
      "0.9592 pour  1000 données d'apprentissage\n",
      "0.9777 pour  10000 données d'apprentissage \n",
      "\n"
     ]
    }
   ],
   "source": [
    "print(\"Affichage des scores de test: \\n\")\n",
    "print(\"   Données GPS issues de la regMultinomiale \\n\")\n",
    "print(score_mul_1, \"pour \", len(y_mul_1), \"données d'apprentissage\" )\n",
    "print(score_mul_2, \"pour \", len(y_mul_2), \"données d'apprentissage\" )\n",
    "print(score_mul_3, \"pour \", len(y_mul_3), \"données d'apprentissage \\n\")\n",
    "print(\"  Données GPS issues de la regBinaire \\n\")\n",
    "print(lr_gps_1.score(X_test_1,y_test_1), \"pour \", len(y_gps_1), \"données d'apprentissage\" )\n",
    "print(lr_gps_2.score(X_test_1,y_test_1), \"pour \", len(y_gps_2), \"données d'apprentissage\" )\n",
    "print(lr_gps_3.score(X_test_1,y_test_1), \"pour \", len(y_gps_3), \"données d'apprentissage \\n\" )"
   ]
  },
  {
   "cell_type": "code",
   "execution_count": null,
   "metadata": {},
   "outputs": [],
   "source": [
    "#tracer une courbe, a comparer après avec la sol word2vec"
   ]
  }
 ],
 "metadata": {
  "kernelspec": {
   "display_name": "Python 3",
   "language": "python",
   "name": "python3"
  },
  "language_info": {
   "codemirror_mode": {
    "name": "ipython",
    "version": 3
   },
   "file_extension": ".py",
   "mimetype": "text/x-python",
   "name": "python",
   "nbconvert_exporter": "python",
   "pygments_lexer": "ipython3",
   "version": "3.8.1"
  }
 },
 "nbformat": 4,
 "nbformat_minor": 4
}
